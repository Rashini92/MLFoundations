{
  "nbformat": 4,
  "nbformat_minor": 0,
  "metadata": {
    "colab": {
      "name": "8-SupervisedMachineLearning-Classification.ipynb",
      "provenance": []
    },
    "kernelspec": {
      "name": "python3",
      "display_name": "Python 3"
    },
    "language_info": {
      "name": "python"
    }
  },
  "cells": [
    {
      "cell_type": "markdown",
      "metadata": {
        "id": "6m7_lLtdlG3T"
      },
      "source": [
        "# Supervised Machine Learning - Classification\n",
        "Sumudu Tennakoon, PhD\n",
        "\n",
        "To learn more about Python, refeer to the following websites\n",
        "\n",
        "* Python : www.python.org\n",
        "* W3Schools : www.w3schools.com/python\n",
        "\n",
        "To learn more about the Python packages we explore in this notebook, refeer to the following websites\n",
        "\n",
        "* NumPy : www.numpy.org\n",
        "* Matplotlib : www.matplotlib.org\n",
        "* Pandas : https://pandas.pydata.org\n",
        "* Scikit-Learn : https://scikit-learn.org/\n",
        "* Seaborn: https://seaborn.pydata.org/\n",
        "* StatsModel : https://www.statsmodels.org"
      ]
    },
    {
      "cell_type": "markdown",
      "metadata": {
        "id": "2-_SlFx7kWEF"
      },
      "source": [
        "# Model Building Example"
      ]
    },
    {
      "cell_type": "code",
      "metadata": {
        "id": "jh5oi3qqWxJR"
      },
      "source": [
        "import numpy as np\n",
        "import pandas as pd\n",
        "\n",
        "# Data visualization\n",
        "import matplotlib.pyplot as plt\n",
        "from matplotlib import cm # Colomaps\n",
        "import seaborn as sns\n",
        "from sklearn import tree\n",
        "\n",
        "# Classifier algorithms\n",
        "from sklearn.linear_model import LogisticRegression\n",
        "from sklearn.tree import DecisionTreeClassifier\n",
        "from sklearn.ensemble import RandomForestClassifier\n",
        "from sklearn import svm\n",
        "\n",
        "#train test split\n",
        "from sklearn.model_selection import train_test_split\n",
        "\n",
        "# Model evaluation\n",
        "from sklearn import metrics"
      ],
      "execution_count": null,
      "outputs": []
    },
    {
      "cell_type": "code",
      "metadata": {
        "colab": {
          "base_uri": "https://localhost:8080/",
          "height": 206
        },
        "id": "0-6ZPJ0clB3k",
        "outputId": "63501f76-8e27-4bdd-f1d3-df5712fc34fc"
      },
      "source": [
        "file_name = 'https://archive.ics.uci.edu/ml/machine-learning-databases/iris/iris.data'\n",
        "\n",
        "# Load CSV File\n",
        "data = pd.read_csv(file_name, header=None)\n",
        "data.columns = ['sepal length', \n",
        "                'sepal width',\n",
        "                'petal length',\n",
        "                'petal width',\n",
        "                'class' ]\n",
        "data.describe(include='all').transpose()"
      ],
      "execution_count": null,
      "outputs": [
        {
          "output_type": "execute_result",
          "data": {
            "text/html": [
              "<div>\n",
              "<style scoped>\n",
              "    .dataframe tbody tr th:only-of-type {\n",
              "        vertical-align: middle;\n",
              "    }\n",
              "\n",
              "    .dataframe tbody tr th {\n",
              "        vertical-align: top;\n",
              "    }\n",
              "\n",
              "    .dataframe thead th {\n",
              "        text-align: right;\n",
              "    }\n",
              "</style>\n",
              "<table border=\"1\" class=\"dataframe\">\n",
              "  <thead>\n",
              "    <tr style=\"text-align: right;\">\n",
              "      <th></th>\n",
              "      <th>count</th>\n",
              "      <th>unique</th>\n",
              "      <th>top</th>\n",
              "      <th>freq</th>\n",
              "      <th>mean</th>\n",
              "      <th>std</th>\n",
              "      <th>min</th>\n",
              "      <th>25%</th>\n",
              "      <th>50%</th>\n",
              "      <th>75%</th>\n",
              "      <th>max</th>\n",
              "    </tr>\n",
              "  </thead>\n",
              "  <tbody>\n",
              "    <tr>\n",
              "      <th>sepal length</th>\n",
              "      <td>150</td>\n",
              "      <td>NaN</td>\n",
              "      <td>NaN</td>\n",
              "      <td>NaN</td>\n",
              "      <td>5.84333</td>\n",
              "      <td>0.828066</td>\n",
              "      <td>4.3</td>\n",
              "      <td>5.1</td>\n",
              "      <td>5.8</td>\n",
              "      <td>6.4</td>\n",
              "      <td>7.9</td>\n",
              "    </tr>\n",
              "    <tr>\n",
              "      <th>sepal width</th>\n",
              "      <td>150</td>\n",
              "      <td>NaN</td>\n",
              "      <td>NaN</td>\n",
              "      <td>NaN</td>\n",
              "      <td>3.054</td>\n",
              "      <td>0.433594</td>\n",
              "      <td>2</td>\n",
              "      <td>2.8</td>\n",
              "      <td>3</td>\n",
              "      <td>3.3</td>\n",
              "      <td>4.4</td>\n",
              "    </tr>\n",
              "    <tr>\n",
              "      <th>petal length</th>\n",
              "      <td>150</td>\n",
              "      <td>NaN</td>\n",
              "      <td>NaN</td>\n",
              "      <td>NaN</td>\n",
              "      <td>3.75867</td>\n",
              "      <td>1.76442</td>\n",
              "      <td>1</td>\n",
              "      <td>1.6</td>\n",
              "      <td>4.35</td>\n",
              "      <td>5.1</td>\n",
              "      <td>6.9</td>\n",
              "    </tr>\n",
              "    <tr>\n",
              "      <th>petal width</th>\n",
              "      <td>150</td>\n",
              "      <td>NaN</td>\n",
              "      <td>NaN</td>\n",
              "      <td>NaN</td>\n",
              "      <td>1.19867</td>\n",
              "      <td>0.763161</td>\n",
              "      <td>0.1</td>\n",
              "      <td>0.3</td>\n",
              "      <td>1.3</td>\n",
              "      <td>1.8</td>\n",
              "      <td>2.5</td>\n",
              "    </tr>\n",
              "    <tr>\n",
              "      <th>class</th>\n",
              "      <td>150</td>\n",
              "      <td>3</td>\n",
              "      <td>Iris-setosa</td>\n",
              "      <td>50</td>\n",
              "      <td>NaN</td>\n",
              "      <td>NaN</td>\n",
              "      <td>NaN</td>\n",
              "      <td>NaN</td>\n",
              "      <td>NaN</td>\n",
              "      <td>NaN</td>\n",
              "      <td>NaN</td>\n",
              "    </tr>\n",
              "  </tbody>\n",
              "</table>\n",
              "</div>"
            ],
            "text/plain": [
              "             count unique          top freq     mean  ...  min  25%   50%  75%  max\n",
              "sepal length   150    NaN          NaN  NaN  5.84333  ...  4.3  5.1   5.8  6.4  7.9\n",
              "sepal width    150    NaN          NaN  NaN    3.054  ...    2  2.8     3  3.3  4.4\n",
              "petal length   150    NaN          NaN  NaN  3.75867  ...    1  1.6  4.35  5.1  6.9\n",
              "petal width    150    NaN          NaN  NaN  1.19867  ...  0.1  0.3   1.3  1.8  2.5\n",
              "class          150      3  Iris-setosa   50      NaN  ...  NaN  NaN   NaN  NaN  NaN\n",
              "\n",
              "[5 rows x 11 columns]"
            ]
          },
          "metadata": {},
          "execution_count": 203
        }
      ]
    },
    {
      "cell_type": "code",
      "metadata": {
        "colab": {
          "base_uri": "https://localhost:8080/"
        },
        "id": "PONn_FbC1cdX",
        "outputId": "24baed89-d83b-4c35-fd7e-1fe60836c2b3"
      },
      "source": [
        "data['class'].value_counts()"
      ],
      "execution_count": null,
      "outputs": [
        {
          "output_type": "execute_result",
          "data": {
            "text/plain": [
              "Iris-setosa        50\n",
              "Iris-versicolor    50\n",
              "Iris-virginica     50\n",
              "Name: class, dtype: int64"
            ]
          },
          "metadata": {},
          "execution_count": 204
        }
      ]
    },
    {
      "cell_type": "code",
      "metadata": {
        "colab": {
          "base_uri": "https://localhost:8080/"
        },
        "id": "KYANi-ks2JC7",
        "outputId": "b33eadfd-8468-4151-ecfd-3621c11bebe9"
      },
      "source": [
        "class_names = data['class'].unique()\n",
        "class_names"
      ],
      "execution_count": null,
      "outputs": [
        {
          "output_type": "execute_result",
          "data": {
            "text/plain": [
              "array(['Iris-setosa', 'Iris-versicolor', 'Iris-virginica'], dtype=object)"
            ]
          },
          "metadata": {},
          "execution_count": 228
        }
      ]
    },
    {
      "cell_type": "code",
      "metadata": {
        "colab": {
          "base_uri": "https://localhost:8080/",
          "height": 363
        },
        "id": "4-n6_0Hzp3-_",
        "outputId": "d15c3503-0d13-4df2-c2e2-458a90f53cea"
      },
      "source": [
        "data['y_act'] = data['class']\n",
        "data['y_act'].replace('Iris-setosa', 0, inplace=True)\n",
        "data['y_act'].replace('Iris-versicolor', 1, inplace=True)\n",
        "data['y_act'].replace('Iris-virginica', 2, inplace=True)\n",
        "\n",
        "data.sample(10)"
      ],
      "execution_count": null,
      "outputs": [
        {
          "output_type": "execute_result",
          "data": {
            "text/html": [
              "<div>\n",
              "<style scoped>\n",
              "    .dataframe tbody tr th:only-of-type {\n",
              "        vertical-align: middle;\n",
              "    }\n",
              "\n",
              "    .dataframe tbody tr th {\n",
              "        vertical-align: top;\n",
              "    }\n",
              "\n",
              "    .dataframe thead th {\n",
              "        text-align: right;\n",
              "    }\n",
              "</style>\n",
              "<table border=\"1\" class=\"dataframe\">\n",
              "  <thead>\n",
              "    <tr style=\"text-align: right;\">\n",
              "      <th></th>\n",
              "      <th>sepal length</th>\n",
              "      <th>sepal width</th>\n",
              "      <th>petal length</th>\n",
              "      <th>petal width</th>\n",
              "      <th>class</th>\n",
              "      <th>y_act</th>\n",
              "    </tr>\n",
              "  </thead>\n",
              "  <tbody>\n",
              "    <tr>\n",
              "      <th>75</th>\n",
              "      <td>6.6</td>\n",
              "      <td>3.0</td>\n",
              "      <td>4.4</td>\n",
              "      <td>1.4</td>\n",
              "      <td>Iris-versicolor</td>\n",
              "      <td>1</td>\n",
              "    </tr>\n",
              "    <tr>\n",
              "      <th>90</th>\n",
              "      <td>5.5</td>\n",
              "      <td>2.6</td>\n",
              "      <td>4.4</td>\n",
              "      <td>1.2</td>\n",
              "      <td>Iris-versicolor</td>\n",
              "      <td>1</td>\n",
              "    </tr>\n",
              "    <tr>\n",
              "      <th>74</th>\n",
              "      <td>6.4</td>\n",
              "      <td>2.9</td>\n",
              "      <td>4.3</td>\n",
              "      <td>1.3</td>\n",
              "      <td>Iris-versicolor</td>\n",
              "      <td>1</td>\n",
              "    </tr>\n",
              "    <tr>\n",
              "      <th>50</th>\n",
              "      <td>7.0</td>\n",
              "      <td>3.2</td>\n",
              "      <td>4.7</td>\n",
              "      <td>1.4</td>\n",
              "      <td>Iris-versicolor</td>\n",
              "      <td>1</td>\n",
              "    </tr>\n",
              "    <tr>\n",
              "      <th>102</th>\n",
              "      <td>7.1</td>\n",
              "      <td>3.0</td>\n",
              "      <td>5.9</td>\n",
              "      <td>2.1</td>\n",
              "      <td>Iris-virginica</td>\n",
              "      <td>2</td>\n",
              "    </tr>\n",
              "    <tr>\n",
              "      <th>19</th>\n",
              "      <td>5.1</td>\n",
              "      <td>3.8</td>\n",
              "      <td>1.5</td>\n",
              "      <td>0.3</td>\n",
              "      <td>Iris-setosa</td>\n",
              "      <td>0</td>\n",
              "    </tr>\n",
              "    <tr>\n",
              "      <th>139</th>\n",
              "      <td>6.9</td>\n",
              "      <td>3.1</td>\n",
              "      <td>5.4</td>\n",
              "      <td>2.1</td>\n",
              "      <td>Iris-virginica</td>\n",
              "      <td>2</td>\n",
              "    </tr>\n",
              "    <tr>\n",
              "      <th>113</th>\n",
              "      <td>5.7</td>\n",
              "      <td>2.5</td>\n",
              "      <td>5.0</td>\n",
              "      <td>2.0</td>\n",
              "      <td>Iris-virginica</td>\n",
              "      <td>2</td>\n",
              "    </tr>\n",
              "    <tr>\n",
              "      <th>123</th>\n",
              "      <td>6.3</td>\n",
              "      <td>2.7</td>\n",
              "      <td>4.9</td>\n",
              "      <td>1.8</td>\n",
              "      <td>Iris-virginica</td>\n",
              "      <td>2</td>\n",
              "    </tr>\n",
              "    <tr>\n",
              "      <th>111</th>\n",
              "      <td>6.4</td>\n",
              "      <td>2.7</td>\n",
              "      <td>5.3</td>\n",
              "      <td>1.9</td>\n",
              "      <td>Iris-virginica</td>\n",
              "      <td>2</td>\n",
              "    </tr>\n",
              "  </tbody>\n",
              "</table>\n",
              "</div>"
            ],
            "text/plain": [
              "     sepal length  sepal width  ...            class  y_act\n",
              "75            6.6          3.0  ...  Iris-versicolor      1\n",
              "90            5.5          2.6  ...  Iris-versicolor      1\n",
              "74            6.4          2.9  ...  Iris-versicolor      1\n",
              "50            7.0          3.2  ...  Iris-versicolor      1\n",
              "102           7.1          3.0  ...   Iris-virginica      2\n",
              "19            5.1          3.8  ...      Iris-setosa      0\n",
              "139           6.9          3.1  ...   Iris-virginica      2\n",
              "113           5.7          2.5  ...   Iris-virginica      2\n",
              "123           6.3          2.7  ...   Iris-virginica      2\n",
              "111           6.4          2.7  ...   Iris-virginica      2\n",
              "\n",
              "[10 rows x 6 columns]"
            ]
          },
          "metadata": {},
          "execution_count": 206
        }
      ]
    },
    {
      "cell_type": "code",
      "metadata": {
        "colab": {
          "base_uri": "https://localhost:8080/"
        },
        "id": "lWJLeTiR2_yZ",
        "outputId": "9b2f4eb1-1096-406a-8ef4-d928154f9425"
      },
      "source": [
        "data.columns"
      ],
      "execution_count": null,
      "outputs": [
        {
          "output_type": "execute_result",
          "data": {
            "text/plain": [
              "Index(['sepal length', 'sepal width', 'petal length', 'petal width', 'class',\n",
              "       'y_act'],\n",
              "      dtype='object')"
            ]
          },
          "metadata": {},
          "execution_count": 207
        }
      ]
    },
    {
      "cell_type": "code",
      "metadata": {
        "colab": {
          "base_uri": "https://localhost:8080/",
          "height": 427
        },
        "id": "F1K2FDSu20VR",
        "outputId": "01258e8d-ab74-4d6c-f226-d36f8ad58bd4"
      },
      "source": [
        "correlation_matrix = data[['sepal length', 'sepal width', 'petal length', 'petal width', 'class']].corr()\n",
        "\n",
        "sns.heatmap(correlation_matrix)\n",
        "correlation_matrix"
      ],
      "execution_count": null,
      "outputs": [
        {
          "output_type": "execute_result",
          "data": {
            "text/html": [
              "<div>\n",
              "<style scoped>\n",
              "    .dataframe tbody tr th:only-of-type {\n",
              "        vertical-align: middle;\n",
              "    }\n",
              "\n",
              "    .dataframe tbody tr th {\n",
              "        vertical-align: top;\n",
              "    }\n",
              "\n",
              "    .dataframe thead th {\n",
              "        text-align: right;\n",
              "    }\n",
              "</style>\n",
              "<table border=\"1\" class=\"dataframe\">\n",
              "  <thead>\n",
              "    <tr style=\"text-align: right;\">\n",
              "      <th></th>\n",
              "      <th>sepal length</th>\n",
              "      <th>sepal width</th>\n",
              "      <th>petal length</th>\n",
              "      <th>petal width</th>\n",
              "    </tr>\n",
              "  </thead>\n",
              "  <tbody>\n",
              "    <tr>\n",
              "      <th>sepal length</th>\n",
              "      <td>1.000000</td>\n",
              "      <td>-0.109369</td>\n",
              "      <td>0.871754</td>\n",
              "      <td>0.817954</td>\n",
              "    </tr>\n",
              "    <tr>\n",
              "      <th>sepal width</th>\n",
              "      <td>-0.109369</td>\n",
              "      <td>1.000000</td>\n",
              "      <td>-0.420516</td>\n",
              "      <td>-0.356544</td>\n",
              "    </tr>\n",
              "    <tr>\n",
              "      <th>petal length</th>\n",
              "      <td>0.871754</td>\n",
              "      <td>-0.420516</td>\n",
              "      <td>1.000000</td>\n",
              "      <td>0.962757</td>\n",
              "    </tr>\n",
              "    <tr>\n",
              "      <th>petal width</th>\n",
              "      <td>0.817954</td>\n",
              "      <td>-0.356544</td>\n",
              "      <td>0.962757</td>\n",
              "      <td>1.000000</td>\n",
              "    </tr>\n",
              "  </tbody>\n",
              "</table>\n",
              "</div>"
            ],
            "text/plain": [
              "              sepal length  sepal width  petal length  petal width\n",
              "sepal length      1.000000    -0.109369      0.871754     0.817954\n",
              "sepal width      -0.109369     1.000000     -0.420516    -0.356544\n",
              "petal length      0.871754    -0.420516      1.000000     0.962757\n",
              "petal width       0.817954    -0.356544      0.962757     1.000000"
            ]
          },
          "metadata": {},
          "execution_count": 208
        },
        {
          "output_type": "display_data",
          "data": {
            "image/png": "[encoded data removed]",
            "text/plain": [
              "<Figure size 432x288 with 2 Axes>"
            ]
          },
          "metadata": {
            "needs_background": "light"
          }
        }
      ]
    },
    {
      "cell_type": "markdown",
      "metadata": {
        "id": "q75TQmAJX1TC"
      },
      "source": [
        "## Identify `X` and `y`"
      ]
    },
    {
      "cell_type": "code",
      "metadata": {
        "colab": {
          "base_uri": "https://localhost:8080/",
          "height": 206
        },
        "id": "70yCd_PUWvk9",
        "outputId": "3b439ae5-af8b-4ab9-eef2-7f18b66c52eb"
      },
      "source": [
        "X_variables = ['sepal length', 'sepal width', 'petal length', 'petal width']\n",
        "data[X_variables].head()"
      ],
      "execution_count": null,
      "outputs": [
        {
          "output_type": "execute_result",
          "data": {
            "text/html": [
              "<div>\n",
              "<style scoped>\n",
              "    .dataframe tbody tr th:only-of-type {\n",
              "        vertical-align: middle;\n",
              "    }\n",
              "\n",
              "    .dataframe tbody tr th {\n",
              "        vertical-align: top;\n",
              "    }\n",
              "\n",
              "    .dataframe thead th {\n",
              "        text-align: right;\n",
              "    }\n",
              "</style>\n",
              "<table border=\"1\" class=\"dataframe\">\n",
              "  <thead>\n",
              "    <tr style=\"text-align: right;\">\n",
              "      <th></th>\n",
              "      <th>sepal length</th>\n",
              "      <th>sepal width</th>\n",
              "      <th>petal length</th>\n",
              "      <th>petal width</th>\n",
              "    </tr>\n",
              "  </thead>\n",
              "  <tbody>\n",
              "    <tr>\n",
              "      <th>0</th>\n",
              "      <td>5.1</td>\n",
              "      <td>3.5</td>\n",
              "      <td>1.4</td>\n",
              "      <td>0.2</td>\n",
              "    </tr>\n",
              "    <tr>\n",
              "      <th>1</th>\n",
              "      <td>4.9</td>\n",
              "      <td>3.0</td>\n",
              "      <td>1.4</td>\n",
              "      <td>0.2</td>\n",
              "    </tr>\n",
              "    <tr>\n",
              "      <th>2</th>\n",
              "      <td>4.7</td>\n",
              "      <td>3.2</td>\n",
              "      <td>1.3</td>\n",
              "      <td>0.2</td>\n",
              "    </tr>\n",
              "    <tr>\n",
              "      <th>3</th>\n",
              "      <td>4.6</td>\n",
              "      <td>3.1</td>\n",
              "      <td>1.5</td>\n",
              "      <td>0.2</td>\n",
              "    </tr>\n",
              "    <tr>\n",
              "      <th>4</th>\n",
              "      <td>5.0</td>\n",
              "      <td>3.6</td>\n",
              "      <td>1.4</td>\n",
              "      <td>0.2</td>\n",
              "    </tr>\n",
              "  </tbody>\n",
              "</table>\n",
              "</div>"
            ],
            "text/plain": [
              "   sepal length  sepal width  petal length  petal width\n",
              "0           5.1          3.5           1.4          0.2\n",
              "1           4.9          3.0           1.4          0.2\n",
              "2           4.7          3.2           1.3          0.2\n",
              "3           4.6          3.1           1.5          0.2\n",
              "4           5.0          3.6           1.4          0.2"
            ]
          },
          "metadata": {},
          "execution_count": 209
        }
      ]
    },
    {
      "cell_type": "code",
      "metadata": {
        "colab": {
          "base_uri": "https://localhost:8080/"
        },
        "id": "gSNYSJTNkfON",
        "outputId": "55fdcfe1-ea1a-4cfb-e288-31e1d9c735cd"
      },
      "source": [
        "y_varibale = 'y_act'\n",
        "data[y_varibale].head()"
      ],
      "execution_count": null,
      "outputs": [
        {
          "output_type": "execute_result",
          "data": {
            "text/plain": [
              "0    0\n",
              "1    0\n",
              "2    0\n",
              "3    0\n",
              "4    0\n",
              "Name: y_act, dtype: int64"
            ]
          },
          "metadata": {},
          "execution_count": 210
        }
      ]
    },
    {
      "cell_type": "code",
      "metadata": {
        "colab": {
          "base_uri": "https://localhost:8080/"
        },
        "id": "Z9h2sbqml-QV",
        "outputId": "5cea9efe-fcaf-4f98-c71b-f43bf5bb2844"
      },
      "source": [
        "# Three classes\n",
        "data[y_varibale].unique()"
      ],
      "execution_count": null,
      "outputs": [
        {
          "output_type": "execute_result",
          "data": {
            "text/plain": [
              "array([0, 1, 2])"
            ]
          },
          "metadata": {},
          "execution_count": 213
        }
      ]
    },
    {
      "cell_type": "code",
      "metadata": {
        "colab": {
          "base_uri": "https://localhost:8080/"
        },
        "id": "09dpjHuVXOoY",
        "outputId": "e6a20e53-100f-4869-ca6c-b330de8ca497"
      },
      "source": [
        "X = data[X_variables].values\n",
        "X"
      ],
      "execution_count": null,
      "outputs": [
        {
          "output_type": "execute_result",
          "data": {
            "text/plain": [
              "array([[5.1, 3.5, 1.4, 0.2],\n",
              "       [4.9, 3. , 1.4, 0.2],\n",
              "       [4.7, 3.2, 1.3, 0.2],\n",
              "       [4.6, 3.1, 1.5, 0.2],\n",
              "       [5. , 3.6, 1.4, 0.2],\n",
              "       [5.4, 3.9, 1.7, 0.4],\n",
              "       [4.6, 3.4, 1.4, 0.3],\n",
              "       [5. , 3.4, 1.5, 0.2],\n",
              "       [4.4, 2.9, 1.4, 0.2],\n",
              "       [4.9, 3.1, 1.5, 0.1],\n",
              "       [5.4, 3.7, 1.5, 0.2],\n",
              "       [4.8, 3.4, 1.6, 0.2],\n",
              "       [4.8, 3. , 1.4, 0.1],\n",
              "       [4.3, 3. , 1.1, 0.1],\n",
              "       [5.8, 4. , 1.2, 0.2],\n",
              "       [5.7, 4.4, 1.5, 0.4],\n",
              "       [5.4, 3.9, 1.3, 0.4],\n",
              "       [5.1, 3.5, 1.4, 0.3],\n",
              "       [5.7, 3.8, 1.7, 0.3],\n",
              "       [5.1, 3.8, 1.5, 0.3],\n",
              "       [5.4, 3.4, 1.7, 0.2],\n",
              "       [5.1, 3.7, 1.5, 0.4],\n",
              "       [4.6, 3.6, 1. , 0.2],\n",
              "       [5.1, 3.3, 1.7, 0.5],\n",
              "       [4.8, 3.4, 1.9, 0.2],\n",
              "       [5. , 3. , 1.6, 0.2],\n",
              "       [5. , 3.4, 1.6, 0.4],\n",
              "       [5.2, 3.5, 1.5, 0.2],\n",
              "       [5.2, 3.4, 1.4, 0.2],\n",
              "       [4.7, 3.2, 1.6, 0.2],\n",
              "       [4.8, 3.1, 1.6, 0.2],\n",
              "       [5.4, 3.4, 1.5, 0.4],\n",
              "       [5.2, 4.1, 1.5, 0.1],\n",
              "       [5.5, 4.2, 1.4, 0.2],\n",
              "       [4.9, 3.1, 1.5, 0.1],\n",
              "       [5. , 3.2, 1.2, 0.2],\n",
              "       [5.5, 3.5, 1.3, 0.2],\n",
              "       [4.9, 3.1, 1.5, 0.1],\n",
              "       [4.4, 3. , 1.3, 0.2],\n",
              "       [5.1, 3.4, 1.5, 0.2],\n",
              "       [5. , 3.5, 1.3, 0.3],\n",
              "       [4.5, 2.3, 1.3, 0.3],\n",
              "       [4.4, 3.2, 1.3, 0.2],\n",
              "       [5. , 3.5, 1.6, 0.6],\n",
              "       [5.1, 3.8, 1.9, 0.4],\n",
              "       [4.8, 3. , 1.4, 0.3],\n",
              "       [5.1, 3.8, 1.6, 0.2],\n",
              "       [4.6, 3.2, 1.4, 0.2],\n",
              "       [5.3, 3.7, 1.5, 0.2],\n",
              "       [5. , 3.3, 1.4, 0.2],\n",
              "       [7. , 3.2, 4.7, 1.4],\n",
              "       [6.4, 3.2, 4.5, 1.5],\n",
              "       [6.9, 3.1, 4.9, 1.5],\n",
              "       [5.5, 2.3, 4. , 1.3],\n",
              "       [6.5, 2.8, 4.6, 1.5],\n",
              "       [5.7, 2.8, 4.5, 1.3],\n",
              "       [6.3, 3.3, 4.7, 1.6],\n",
              "       [4.9, 2.4, 3.3, 1. ],\n",
              "       [6.6, 2.9, 4.6, 1.3],\n",
              "       [5.2, 2.7, 3.9, 1.4],\n",
              "       [5. , 2. , 3.5, 1. ],\n",
              "       [5.9, 3. , 4.2, 1.5],\n",
              "       [6. , 2.2, 4. , 1. ],\n",
              "       [6.1, 2.9, 4.7, 1.4],\n",
              "       [5.6, 2.9, 3.6, 1.3],\n",
              "       [6.7, 3.1, 4.4, 1.4],\n",
              "       [5.6, 3. , 4.5, 1.5],\n",
              "       [5.8, 2.7, 4.1, 1. ],\n",
              "       [6.2, 2.2, 4.5, 1.5],\n",
              "       [5.6, 2.5, 3.9, 1.1],\n",
              "       [5.9, 3.2, 4.8, 1.8],\n",
              "       [6.1, 2.8, 4. , 1.3],\n",
              "       [6.3, 2.5, 4.9, 1.5],\n",
              "       [6.1, 2.8, 4.7, 1.2],\n",
              "       [6.4, 2.9, 4.3, 1.3],\n",
              "       [6.6, 3. , 4.4, 1.4],\n",
              "       [6.8, 2.8, 4.8, 1.4],\n",
              "       [6.7, 3. , 5. , 1.7],\n",
              "       [6. , 2.9, 4.5, 1.5],\n",
              "       [5.7, 2.6, 3.5, 1. ],\n",
              "       [5.5, 2.4, 3.8, 1.1],\n",
              "       [5.5, 2.4, 3.7, 1. ],\n",
              "       [5.8, 2.7, 3.9, 1.2],\n",
              "       [6. , 2.7, 5.1, 1.6],\n",
              "       [5.4, 3. , 4.5, 1.5],\n",
              "       [6. , 3.4, 4.5, 1.6],\n",
              "       [6.7, 3.1, 4.7, 1.5],\n",
              "       [6.3, 2.3, 4.4, 1.3],\n",
              "       [5.6, 3. , 4.1, 1.3],\n",
              "       [5.5, 2.5, 4. , 1.3],\n",
              "       [5.5, 2.6, 4.4, 1.2],\n",
              "       [6.1, 3. , 4.6, 1.4],\n",
              "       [5.8, 2.6, 4. , 1.2],\n",
              "       [5. , 2.3, 3.3, 1. ],\n",
              "       [5.6, 2.7, 4.2, 1.3],\n",
              "       [5.7, 3. , 4.2, 1.2],\n",
              "       [5.7, 2.9, 4.2, 1.3],\n",
              "       [6.2, 2.9, 4.3, 1.3],\n",
              "       [5.1, 2.5, 3. , 1.1],\n",
              "       [5.7, 2.8, 4.1, 1.3],\n",
              "       [6.3, 3.3, 6. , 2.5],\n",
              "       [5.8, 2.7, 5.1, 1.9],\n",
              "       [7.1, 3. , 5.9, 2.1],\n",
              "       [6.3, 2.9, 5.6, 1.8],\n",
              "       [6.5, 3. , 5.8, 2.2],\n",
              "       [7.6, 3. , 6.6, 2.1],\n",
              "       [4.9, 2.5, 4.5, 1.7],\n",
              "       [7.3, 2.9, 6.3, 1.8],\n",
              "       [6.7, 2.5, 5.8, 1.8],\n",
              "       [7.2, 3.6, 6.1, 2.5],\n",
              "       [6.5, 3.2, 5.1, 2. ],\n",
              "       [6.4, 2.7, 5.3, 1.9],\n",
              "       [6.8, 3. , 5.5, 2.1],\n",
              "       [5.7, 2.5, 5. , 2. ],\n",
              "       [5.8, 2.8, 5.1, 2.4],\n",
              "       [6.4, 3.2, 5.3, 2.3],\n",
              "       [6.5, 3. , 5.5, 1.8],\n",
              "       [7.7, 3.8, 6.7, 2.2],\n",
              "       [7.7, 2.6, 6.9, 2.3],\n",
              "       [6. , 2.2, 5. , 1.5],\n",
              "       [6.9, 3.2, 5.7, 2.3],\n",
              "       [5.6, 2.8, 4.9, 2. ],\n",
              "       [7.7, 2.8, 6.7, 2. ],\n",
              "       [6.3, 2.7, 4.9, 1.8],\n",
              "       [6.7, 3.3, 5.7, 2.1],\n",
              "       [7.2, 3.2, 6. , 1.8],\n",
              "       [6.2, 2.8, 4.8, 1.8],\n",
              "       [6.1, 3. , 4.9, 1.8],\n",
              "       [6.4, 2.8, 5.6, 2.1],\n",
              "       [7.2, 3. , 5.8, 1.6],\n",
              "       [7.4, 2.8, 6.1, 1.9],\n",
              "       [7.9, 3.8, 6.4, 2. ],\n",
              "       [6.4, 2.8, 5.6, 2.2],\n",
              "       [6.3, 2.8, 5.1, 1.5],\n",
              "       [6.1, 2.6, 5.6, 1.4],\n",
              "       [7.7, 3. , 6.1, 2.3],\n",
              "       [6.3, 3.4, 5.6, 2.4],\n",
              "       [6.4, 3.1, 5.5, 1.8],\n",
              "       [6. , 3. , 4.8, 1.8],\n",
              "       [6.9, 3.1, 5.4, 2.1],\n",
              "       [6.7, 3.1, 5.6, 2.4],\n",
              "       [6.9, 3.1, 5.1, 2.3],\n",
              "       [5.8, 2.7, 5.1, 1.9],\n",
              "       [6.8, 3.2, 5.9, 2.3],\n",
              "       [6.7, 3.3, 5.7, 2.5],\n",
              "       [6.7, 3. , 5.2, 2.3],\n",
              "       [6.3, 2.5, 5. , 1.9],\n",
              "       [6.5, 3. , 5.2, 2. ],\n",
              "       [6.2, 3.4, 5.4, 2.3],\n",
              "       [5.9, 3. , 5.1, 1.8]])"
            ]
          },
          "metadata": {},
          "execution_count": 214
        }
      ]
    },
    {
      "cell_type": "code",
      "metadata": {
        "colab": {
          "base_uri": "https://localhost:8080/"
        },
        "id": "_7MDrI5CXWCl",
        "outputId": "7b27b49a-e898-4db9-b89a-01136d1f8ab7"
      },
      "source": [
        "y = data[y_varibale].values\n",
        "y"
      ],
      "execution_count": null,
      "outputs": [
        {
          "output_type": "execute_result",
          "data": {
            "text/plain": [
              "array([0, 0, 0, 0, 0, 0, 0, 0, 0, 0, 0, 0, 0, 0, 0, 0, 0, 0, 0, 0, 0, 0,\n",
              "       0, 0, 0, 0, 0, 0, 0, 0, 0, 0, 0, 0, 0, 0, 0, 0, 0, 0, 0, 0, 0, 0,\n",
              "       0, 0, 0, 0, 0, 0, 1, 1, 1, 1, 1, 1, 1, 1, 1, 1, 1, 1, 1, 1, 1, 1,\n",
              "       1, 1, 1, 1, 1, 1, 1, 1, 1, 1, 1, 1, 1, 1, 1, 1, 1, 1, 1, 1, 1, 1,\n",
              "       1, 1, 1, 1, 1, 1, 1, 1, 1, 1, 1, 1, 2, 2, 2, 2, 2, 2, 2, 2, 2, 2,\n",
              "       2, 2, 2, 2, 2, 2, 2, 2, 2, 2, 2, 2, 2, 2, 2, 2, 2, 2, 2, 2, 2, 2,\n",
              "       2, 2, 2, 2, 2, 2, 2, 2, 2, 2, 2, 2, 2, 2, 2, 2, 2, 2])"
            ]
          },
          "metadata": {},
          "execution_count": 215
        }
      ]
    },
    {
      "cell_type": "markdown",
      "metadata": {
        "id": "y-71rtaDYEMF"
      },
      "source": [
        "## Train Test Split"
      ]
    },
    {
      "cell_type": "code",
      "metadata": {
        "colab": {
          "base_uri": "https://localhost:8080/"
        },
        "id": "32gLGbh7lWvp",
        "outputId": "2a8646ef-4cc9-497a-83f8-9d0f1e3e6960"
      },
      "source": [
        "X_train, X_test, y_train, y_test = train_test_split(X, y, test_size=0.3, random_state=42)\n",
        "\n",
        "print(F\"Train sample size = {len(X_train)}\")\n",
        "print(F\"Test sample size  = {len(X_test)}\")"
      ],
      "execution_count": null,
      "outputs": [
        {
          "output_type": "stream",
          "name": "stdout",
          "text": [
            "Train sample size = 105\n",
            "Test sample size  = 45\n"
          ]
        }
      ]
    },
    {
      "cell_type": "markdown",
      "metadata": {
        "id": "ggbm7gyUYOLQ"
      },
      "source": [
        "## Create Logistic Regression Model\n",
        "* https://en.wikipedia.org/wiki/Logistic_regression\n",
        "* https://scikit-learn.org/stable/modules/generated/sklearn.linear_model.LogisticRegression.html"
      ]
    },
    {
      "cell_type": "code",
      "metadata": {
        "id": "0R1tMzJwkiYK"
      },
      "source": [
        "model = LogisticRegression()"
      ],
      "execution_count": null,
      "outputs": []
    },
    {
      "cell_type": "markdown",
      "metadata": {
        "id": "AcNbl2WWYsOy"
      },
      "source": [
        "## Fit Model"
      ]
    },
    {
      "cell_type": "code",
      "metadata": {
        "colab": {
          "base_uri": "https://localhost:8080/"
        },
        "id": "U4ykpbIOkzxH",
        "outputId": "c6a86818-3a04-4071-8aee-c7a36e98e66f"
      },
      "source": [
        "model.fit(X_train, y_train)"
      ],
      "execution_count": null,
      "outputs": [
        {
          "output_type": "execute_result",
          "data": {
            "text/plain": [
              "LogisticRegression(C=1.0, class_weight=None, dual=False, fit_intercept=True,\n",
              "                   intercept_scaling=1, l1_ratio=None, max_iter=100,\n",
              "                   multi_class='auto', n_jobs=None, penalty='l2',\n",
              "                   random_state=None, solver='lbfgs', tol=0.0001, verbose=0,\n",
              "                   warm_start=False)"
            ]
          },
          "metadata": {},
          "execution_count": 218
        }
      ]
    },
    {
      "cell_type": "markdown",
      "metadata": {
        "id": "2sTwouDrYuLe"
      },
      "source": [
        "## Predict"
      ]
    },
    {
      "cell_type": "code",
      "metadata": {
        "colab": {
          "base_uri": "https://localhost:8080/"
        },
        "id": "U_tfA19ilryK",
        "outputId": "dc9ff2fb-a681-4167-beda-38b3d065882a"
      },
      "source": [
        "model.predict_proba(X_test)"
      ],
      "execution_count": null,
      "outputs": [
        {
          "output_type": "execute_result",
          "data": {
            "text/plain": [
              "array([[4.08122470e-03, 8.12024102e-01, 1.83894673e-01],\n",
              "       [9.42611546e-01, 5.73878795e-02, 5.74443402e-07],\n",
              "       [1.53880890e-08, 2.09326319e-03, 9.97906721e-01],\n",
              "       [6.75592393e-03, 7.73287346e-01, 2.19956730e-01],\n",
              "       [1.58156609e-03, 7.51002514e-01, 2.47415920e-01],\n",
              "       [9.50802759e-01, 4.91967881e-02, 4.52496458e-07],\n",
              "       [7.75943595e-02, 9.04346488e-01, 1.80591522e-02],\n",
              "       [1.75243717e-04, 1.47883607e-01, 8.51941149e-01],\n",
              "       [2.42018693e-03, 7.80183978e-01, 2.17395835e-01],\n",
              "       [2.90106483e-02, 9.40763088e-01, 3.02262638e-02],\n",
              "       [4.62544059e-04, 2.25748825e-01, 7.73788631e-01],\n",
              "       [9.63648286e-01, 3.63515343e-02, 1.80143788e-07],\n",
              "       [9.69740161e-01, 3.02597444e-02, 9.50418886e-08],\n",
              "       [9.57055618e-01, 4.29441223e-02, 2.60064172e-07],\n",
              "       [9.76803433e-01, 2.31963793e-02, 1.87414455e-07],\n",
              "       [4.68396202e-03, 6.63699907e-01, 3.31616131e-01],\n",
              "       [9.41122227e-06, 2.67859157e-02, 9.73204673e-01],\n",
              "       [2.78159456e-02, 9.44973918e-01, 2.72101365e-02],\n",
              "       [8.65437353e-03, 8.19990588e-01, 1.71355038e-01],\n",
              "       [1.89230908e-05, 4.15285858e-02, 9.58452491e-01],\n",
              "       [9.59545051e-01, 4.04545035e-02, 4.45578886e-07],\n",
              "       [1.40497310e-03, 3.87004392e-01, 6.11590635e-01],\n",
              "       [9.56905322e-01, 4.30940399e-02, 6.38283981e-07],\n",
              "       [2.43853494e-05, 5.21739220e-02, 9.47801693e-01],\n",
              "       [1.69813555e-06, 2.04186997e-02, 9.79579602e-01],\n",
              "       [1.07022140e-04, 1.05810306e-01, 8.94082672e-01],\n",
              "       [1.23211759e-05, 6.97605582e-02, 9.30227121e-01],\n",
              "       [5.34965723e-06, 1.95515779e-02, 9.80443072e-01],\n",
              "       [9.61826199e-01, 3.81734953e-02, 3.05335556e-07],\n",
              "       [9.50553216e-01, 4.94462607e-02, 5.22933869e-07],\n",
              "       [9.93323425e-01, 6.67656013e-03, 1.50233560e-08],\n",
              "       [9.80746826e-01, 1.92530406e-02, 1.33888478e-07],\n",
              "       [6.83771649e-03, 8.90062192e-01, 1.03100092e-01],\n",
              "       [9.65285673e-01, 3.47139726e-02, 3.54005195e-07],\n",
              "       [9.82976397e-01, 1.70235037e-02, 9.90735980e-08],\n",
              "       [3.71965297e-04, 2.85351190e-01, 7.14276845e-01],\n",
              "       [7.24623918e-03, 8.12339471e-01, 1.80414290e-01],\n",
              "       [9.64752449e-01, 3.52473308e-02, 2.20517936e-07],\n",
              "       [9.78462138e-01, 2.15377489e-02, 1.13452174e-07],\n",
              "       [9.83260850e-01, 1.67390729e-02, 7.66432014e-08],\n",
              "       [4.05830620e-04, 1.94192431e-01, 8.05401739e-01],\n",
              "       [1.16219623e-02, 7.37539428e-01, 2.50838609e-01],\n",
              "       [3.00318180e-03, 7.51725226e-01, 2.45271592e-01],\n",
              "       [9.81936882e-01, 1.80630258e-02, 9.19592935e-08],\n",
              "       [9.67117982e-01, 3.28818375e-02, 1.80678971e-07]])"
            ]
          },
          "metadata": {},
          "execution_count": 219
        }
      ]
    },
    {
      "cell_type": "markdown",
      "metadata": {
        "id": "L3aJVVcWvse4"
      },
      "source": [
        "## Predicted Probability for Class 1"
      ]
    },
    {
      "cell_type": "code",
      "metadata": {
        "id": "HPl_QRoVl3Ig",
        "colab": {
          "base_uri": "https://localhost:8080/"
        },
        "outputId": "551e21bc-56bb-4386-9cff-386533f0e47d"
      },
      "source": [
        "y_pred_prob = model.predict_proba(X_test)[:, 1]\n",
        "y_pred_prob"
      ],
      "execution_count": null,
      "outputs": [
        {
          "output_type": "execute_result",
          "data": {
            "text/plain": [
              "array([0.8120241 , 0.05738788, 0.00209326, 0.77328735, 0.75100251,\n",
              "       0.04919679, 0.90434649, 0.14788361, 0.78018398, 0.94076309,\n",
              "       0.22574883, 0.03635153, 0.03025974, 0.04294412, 0.02319638,\n",
              "       0.66369991, 0.02678592, 0.94497392, 0.81999059, 0.04152859,\n",
              "       0.0404545 , 0.38700439, 0.04309404, 0.05217392, 0.0204187 ,\n",
              "       0.10581031, 0.06976056, 0.01955158, 0.0381735 , 0.04944626,\n",
              "       0.00667656, 0.01925304, 0.89006219, 0.03471397, 0.0170235 ,\n",
              "       0.28535119, 0.81233947, 0.03524733, 0.02153775, 0.01673907,\n",
              "       0.19419243, 0.73753943, 0.75172523, 0.01806303, 0.03288184])"
            ]
          },
          "metadata": {},
          "execution_count": 220
        }
      ]
    },
    {
      "cell_type": "code",
      "metadata": {
        "id": "UBp3rLqamJlN",
        "colab": {
          "base_uri": "https://localhost:8080/"
        },
        "outputId": "217ff782-cca7-4719-e277-bb0d5c56eb5d"
      },
      "source": [
        "y_pred = model.predict(X_test)\n",
        "y_pred"
      ],
      "execution_count": null,
      "outputs": [
        {
          "output_type": "execute_result",
          "data": {
            "text/plain": [
              "array([1, 0, 2, 1, 1, 0, 1, 2, 1, 1, 2, 0, 0, 0, 0, 1, 2, 1, 1, 2, 0, 2,\n",
              "       0, 2, 2, 2, 2, 2, 0, 0, 0, 0, 1, 0, 0, 2, 1, 0, 0, 0, 2, 1, 1, 0,\n",
              "       0])"
            ]
          },
          "metadata": {},
          "execution_count": 221
        }
      ]
    },
    {
      "cell_type": "markdown",
      "metadata": {
        "id": "lS6Vq0WFZK2Y"
      },
      "source": [
        "## Create Results Data Frame for Test Sample"
      ]
    },
    {
      "cell_type": "code",
      "metadata": {
        "colab": {
          "base_uri": "https://localhost:8080/",
          "height": 363
        },
        "id": "UdmpD4yIZDl3",
        "outputId": "216c4fab-16c5-48bc-8c5e-9c023e0d8b01"
      },
      "source": [
        "test_result = pd.DataFrame(data={'y_act':y_test, 'y_pred':y_pred, 'y_pred_prob':y_pred_prob})\n",
        "test_result.sample(10)"
      ],
      "execution_count": null,
      "outputs": [
        {
          "output_type": "execute_result",
          "data": {
            "text/html": [
              "<div>\n",
              "<style scoped>\n",
              "    .dataframe tbody tr th:only-of-type {\n",
              "        vertical-align: middle;\n",
              "    }\n",
              "\n",
              "    .dataframe tbody tr th {\n",
              "        vertical-align: top;\n",
              "    }\n",
              "\n",
              "    .dataframe thead th {\n",
              "        text-align: right;\n",
              "    }\n",
              "</style>\n",
              "<table border=\"1\" class=\"dataframe\">\n",
              "  <thead>\n",
              "    <tr style=\"text-align: right;\">\n",
              "      <th></th>\n",
              "      <th>y_act</th>\n",
              "      <th>y_pred</th>\n",
              "      <th>y_pred_prob</th>\n",
              "    </tr>\n",
              "  </thead>\n",
              "  <tbody>\n",
              "    <tr>\n",
              "      <th>22</th>\n",
              "      <td>0</td>\n",
              "      <td>0</td>\n",
              "      <td>0.043094</td>\n",
              "    </tr>\n",
              "    <tr>\n",
              "      <th>41</th>\n",
              "      <td>1</td>\n",
              "      <td>1</td>\n",
              "      <td>0.737539</td>\n",
              "    </tr>\n",
              "    <tr>\n",
              "      <th>28</th>\n",
              "      <td>0</td>\n",
              "      <td>0</td>\n",
              "      <td>0.038173</td>\n",
              "    </tr>\n",
              "    <tr>\n",
              "      <th>17</th>\n",
              "      <td>1</td>\n",
              "      <td>1</td>\n",
              "      <td>0.944974</td>\n",
              "    </tr>\n",
              "    <tr>\n",
              "      <th>33</th>\n",
              "      <td>0</td>\n",
              "      <td>0</td>\n",
              "      <td>0.034714</td>\n",
              "    </tr>\n",
              "    <tr>\n",
              "      <th>18</th>\n",
              "      <td>1</td>\n",
              "      <td>1</td>\n",
              "      <td>0.819991</td>\n",
              "    </tr>\n",
              "    <tr>\n",
              "      <th>12</th>\n",
              "      <td>0</td>\n",
              "      <td>0</td>\n",
              "      <td>0.030260</td>\n",
              "    </tr>\n",
              "    <tr>\n",
              "      <th>27</th>\n",
              "      <td>2</td>\n",
              "      <td>2</td>\n",
              "      <td>0.019552</td>\n",
              "    </tr>\n",
              "    <tr>\n",
              "      <th>7</th>\n",
              "      <td>2</td>\n",
              "      <td>2</td>\n",
              "      <td>0.147884</td>\n",
              "    </tr>\n",
              "    <tr>\n",
              "      <th>2</th>\n",
              "      <td>2</td>\n",
              "      <td>2</td>\n",
              "      <td>0.002093</td>\n",
              "    </tr>\n",
              "  </tbody>\n",
              "</table>\n",
              "</div>"
            ],
            "text/plain": [
              "    y_act  y_pred  y_pred_prob\n",
              "22      0       0     0.043094\n",
              "41      1       1     0.737539\n",
              "28      0       0     0.038173\n",
              "17      1       1     0.944974\n",
              "33      0       0     0.034714\n",
              "18      1       1     0.819991\n",
              "12      0       0     0.030260\n",
              "27      2       2     0.019552\n",
              "7       2       2     0.147884\n",
              "2       2       2     0.002093"
            ]
          },
          "metadata": {},
          "execution_count": 222
        }
      ]
    },
    {
      "cell_type": "markdown",
      "metadata": {
        "id": "yqpCZuRzaveB"
      },
      "source": [
        "## Confusion Matrix"
      ]
    },
    {
      "cell_type": "code",
      "metadata": {
        "colab": {
          "base_uri": "https://localhost:8080/",
          "height": 206
        },
        "id": "EcV4bHBQZee3",
        "outputId": "e575da72-7bd3-4539-813e-773749c8912e"
      },
      "source": [
        "cm = pd.crosstab(test_result['y_act'], test_result['y_pred'], margins=True)\n",
        "cm"
      ],
      "execution_count": null,
      "outputs": [
        {
          "output_type": "execute_result",
          "data": {
            "text/html": [
              "<div>\n",
              "<style scoped>\n",
              "    .dataframe tbody tr th:only-of-type {\n",
              "        vertical-align: middle;\n",
              "    }\n",
              "\n",
              "    .dataframe tbody tr th {\n",
              "        vertical-align: top;\n",
              "    }\n",
              "\n",
              "    .dataframe thead th {\n",
              "        text-align: right;\n",
              "    }\n",
              "</style>\n",
              "<table border=\"1\" class=\"dataframe\">\n",
              "  <thead>\n",
              "    <tr style=\"text-align: right;\">\n",
              "      <th>y_pred</th>\n",
              "      <th>0</th>\n",
              "      <th>1</th>\n",
              "      <th>2</th>\n",
              "      <th>All</th>\n",
              "    </tr>\n",
              "    <tr>\n",
              "      <th>y_act</th>\n",
              "      <th></th>\n",
              "      <th></th>\n",
              "      <th></th>\n",
              "      <th></th>\n",
              "    </tr>\n",
              "  </thead>\n",
              "  <tbody>\n",
              "    <tr>\n",
              "      <th>0</th>\n",
              "      <td>19</td>\n",
              "      <td>0</td>\n",
              "      <td>0</td>\n",
              "      <td>19</td>\n",
              "    </tr>\n",
              "    <tr>\n",
              "      <th>1</th>\n",
              "      <td>0</td>\n",
              "      <td>13</td>\n",
              "      <td>0</td>\n",
              "      <td>13</td>\n",
              "    </tr>\n",
              "    <tr>\n",
              "      <th>2</th>\n",
              "      <td>0</td>\n",
              "      <td>0</td>\n",
              "      <td>13</td>\n",
              "      <td>13</td>\n",
              "    </tr>\n",
              "    <tr>\n",
              "      <th>All</th>\n",
              "      <td>19</td>\n",
              "      <td>13</td>\n",
              "      <td>13</td>\n",
              "      <td>45</td>\n",
              "    </tr>\n",
              "  </tbody>\n",
              "</table>\n",
              "</div>"
            ],
            "text/plain": [
              "y_pred   0   1   2  All\n",
              "y_act                  \n",
              "0       19   0   0   19\n",
              "1        0  13   0   13\n",
              "2        0   0  13   13\n",
              "All     19  13  13   45"
            ]
          },
          "metadata": {},
          "execution_count": 223
        }
      ]
    },
    {
      "cell_type": "code",
      "metadata": {
        "colab": {
          "base_uri": "https://localhost:8080/"
        },
        "id": "NMWg3aJ9ZwQo",
        "outputId": "fb33ca8b-fbb0-4f72-d95d-4ca74a5195cb"
      },
      "source": [
        "acuracy = (cm.loc[0,0] + cm.loc[1,1] ) / cm.loc['All','All'] \n",
        "acuracy"
      ],
      "execution_count": null,
      "outputs": [
        {
          "output_type": "execute_result",
          "data": {
            "text/plain": [
              "0.853029442777192"
            ]
          },
          "metadata": {},
          "execution_count": 85
        }
      ]
    },
    {
      "cell_type": "markdown",
      "metadata": {
        "id": "FkwdY7ilvy9j"
      },
      "source": [
        "# Decision Tree Classifier"
      ]
    },
    {
      "cell_type": "code",
      "metadata": {
        "id": "mI0z3cmCwHR6"
      },
      "source": [
        "model = DecisionTreeClassifier(random_state=0, max_depth=3, min_samples_split=2)"
      ],
      "execution_count": null,
      "outputs": []
    },
    {
      "cell_type": "code",
      "metadata": {
        "id": "93vfqtPKgChg",
        "colab": {
          "base_uri": "https://localhost:8080/"
        },
        "outputId": "21aaac73-1783-49fa-b868-e4d5282420b1"
      },
      "source": [
        "model.fit(X_train, y_train)"
      ],
      "execution_count": null,
      "outputs": [
        {
          "output_type": "execute_result",
          "data": {
            "text/plain": [
              "DecisionTreeClassifier(ccp_alpha=0.0, class_weight=None, criterion='gini',\n",
              "                       max_depth=3, max_features=None, max_leaf_nodes=None,\n",
              "                       min_impurity_decrease=0.0, min_impurity_split=None,\n",
              "                       min_samples_leaf=1, min_samples_split=2,\n",
              "                       min_weight_fraction_leaf=0.0, presort='deprecated',\n",
              "                       random_state=0, splitter='best')"
            ]
          },
          "metadata": {},
          "execution_count": 235
        }
      ]
    },
    {
      "cell_type": "code",
      "metadata": {
        "colab": {
          "base_uri": "https://localhost:8080/",
          "height": 575
        },
        "id": "wH5knphkxQI6",
        "outputId": "22d86099-59ad-4d27-f8a0-78974b84b0c9"
      },
      "source": [
        "pfig = plt.figure(figsize=(20,10))\n",
        "tree.plot_tree(model, feature_names=X_variables, class_names=class_names, filled=True)\n",
        "plt.show()"
      ],
      "execution_count": null,
      "outputs": [
        {
          "output_type": "display_data",
          "data": {
            "image/png": "[encoded data removed]",
            "text/plain": [
              "<Figure size 1440x720 with 1 Axes>"
            ]
          },
          "metadata": {
            "needs_background": "light"
          }
        }
      ]
    },
    {
      "cell_type": "code",
      "metadata": {
        "id": "7FQmLHKswq-s"
      },
      "source": [
        "model.predict_proba(X_test)"
      ],
      "execution_count": null,
      "outputs": []
    },
    {
      "cell_type": "code",
      "metadata": {
        "id": "QLHKZlZ0ws8U"
      },
      "source": [
        "y_pred = model.predict(X_test)\n",
        "y_pred_prob = model.predict_proba(X_test)[:, 1]"
      ],
      "execution_count": null,
      "outputs": []
    },
    {
      "cell_type": "code",
      "metadata": {
        "colab": {
          "base_uri": "https://localhost:8080/",
          "height": 363
        },
        "id": "VQ_fekwqwtAi",
        "outputId": "fd733fbd-4118-48f9-e165-c06415c66f3f"
      },
      "source": [
        "test_result = pd.DataFrame(data={'y_act':y_test, 'y_pred':y_pred, 'y_pred_prob':y_pred_prob})\n",
        "test_result.sample(10)"
      ],
      "execution_count": null,
      "outputs": [
        {
          "output_type": "execute_result",
          "data": {
            "text/html": [
              "<div>\n",
              "<style scoped>\n",
              "    .dataframe tbody tr th:only-of-type {\n",
              "        vertical-align: middle;\n",
              "    }\n",
              "\n",
              "    .dataframe tbody tr th {\n",
              "        vertical-align: top;\n",
              "    }\n",
              "\n",
              "    .dataframe thead th {\n",
              "        text-align: right;\n",
              "    }\n",
              "</style>\n",
              "<table border=\"1\" class=\"dataframe\">\n",
              "  <thead>\n",
              "    <tr style=\"text-align: right;\">\n",
              "      <th></th>\n",
              "      <th>y_act</th>\n",
              "      <th>y_pred</th>\n",
              "      <th>y_pred_prob</th>\n",
              "    </tr>\n",
              "  </thead>\n",
              "  <tbody>\n",
              "    <tr>\n",
              "      <th>37</th>\n",
              "      <td>0</td>\n",
              "      <td>0</td>\n",
              "      <td>0.000000</td>\n",
              "    </tr>\n",
              "    <tr>\n",
              "      <th>3</th>\n",
              "      <td>1</td>\n",
              "      <td>1</td>\n",
              "      <td>1.000000</td>\n",
              "    </tr>\n",
              "    <tr>\n",
              "      <th>5</th>\n",
              "      <td>0</td>\n",
              "      <td>0</td>\n",
              "      <td>0.000000</td>\n",
              "    </tr>\n",
              "    <tr>\n",
              "      <th>38</th>\n",
              "      <td>0</td>\n",
              "      <td>0</td>\n",
              "      <td>0.000000</td>\n",
              "    </tr>\n",
              "    <tr>\n",
              "      <th>4</th>\n",
              "      <td>1</td>\n",
              "      <td>1</td>\n",
              "      <td>0.500000</td>\n",
              "    </tr>\n",
              "    <tr>\n",
              "      <th>7</th>\n",
              "      <td>2</td>\n",
              "      <td>2</td>\n",
              "      <td>0.030303</td>\n",
              "    </tr>\n",
              "    <tr>\n",
              "      <th>18</th>\n",
              "      <td>1</td>\n",
              "      <td>1</td>\n",
              "      <td>1.000000</td>\n",
              "    </tr>\n",
              "    <tr>\n",
              "      <th>39</th>\n",
              "      <td>0</td>\n",
              "      <td>0</td>\n",
              "      <td>0.000000</td>\n",
              "    </tr>\n",
              "    <tr>\n",
              "      <th>13</th>\n",
              "      <td>0</td>\n",
              "      <td>0</td>\n",
              "      <td>0.000000</td>\n",
              "    </tr>\n",
              "    <tr>\n",
              "      <th>43</th>\n",
              "      <td>0</td>\n",
              "      <td>0</td>\n",
              "      <td>0.000000</td>\n",
              "    </tr>\n",
              "  </tbody>\n",
              "</table>\n",
              "</div>"
            ],
            "text/plain": [
              "    y_act  y_pred  y_pred_prob\n",
              "37      0       0     0.000000\n",
              "3       1       1     1.000000\n",
              "5       0       0     0.000000\n",
              "38      0       0     0.000000\n",
              "4       1       1     0.500000\n",
              "7       2       2     0.030303\n",
              "18      1       1     1.000000\n",
              "39      0       0     0.000000\n",
              "13      0       0     0.000000\n",
              "43      0       0     0.000000"
            ]
          },
          "metadata": {},
          "execution_count": 240
        }
      ]
    },
    {
      "cell_type": "code",
      "metadata": {
        "colab": {
          "base_uri": "https://localhost:8080/",
          "height": 206
        },
        "id": "jiNDViwBwz2p",
        "outputId": "eb24db70-2835-4d54-d7a0-b1abf8982b68"
      },
      "source": [
        "cfm = pd.crosstab(test_result['y_act'], test_result['y_pred'], margins=True)\n",
        "cfm"
      ],
      "execution_count": null,
      "outputs": [
        {
          "output_type": "execute_result",
          "data": {
            "text/html": [
              "<div>\n",
              "<style scoped>\n",
              "    .dataframe tbody tr th:only-of-type {\n",
              "        vertical-align: middle;\n",
              "    }\n",
              "\n",
              "    .dataframe tbody tr th {\n",
              "        vertical-align: top;\n",
              "    }\n",
              "\n",
              "    .dataframe thead th {\n",
              "        text-align: right;\n",
              "    }\n",
              "</style>\n",
              "<table border=\"1\" class=\"dataframe\">\n",
              "  <thead>\n",
              "    <tr style=\"text-align: right;\">\n",
              "      <th>y_pred</th>\n",
              "      <th>0</th>\n",
              "      <th>1</th>\n",
              "      <th>2</th>\n",
              "      <th>All</th>\n",
              "    </tr>\n",
              "    <tr>\n",
              "      <th>y_act</th>\n",
              "      <th></th>\n",
              "      <th></th>\n",
              "      <th></th>\n",
              "      <th></th>\n",
              "    </tr>\n",
              "  </thead>\n",
              "  <tbody>\n",
              "    <tr>\n",
              "      <th>0</th>\n",
              "      <td>19</td>\n",
              "      <td>0</td>\n",
              "      <td>0</td>\n",
              "      <td>19</td>\n",
              "    </tr>\n",
              "    <tr>\n",
              "      <th>1</th>\n",
              "      <td>0</td>\n",
              "      <td>13</td>\n",
              "      <td>0</td>\n",
              "      <td>13</td>\n",
              "    </tr>\n",
              "    <tr>\n",
              "      <th>2</th>\n",
              "      <td>0</td>\n",
              "      <td>0</td>\n",
              "      <td>13</td>\n",
              "      <td>13</td>\n",
              "    </tr>\n",
              "    <tr>\n",
              "      <th>All</th>\n",
              "      <td>19</td>\n",
              "      <td>13</td>\n",
              "      <td>13</td>\n",
              "      <td>45</td>\n",
              "    </tr>\n",
              "  </tbody>\n",
              "</table>\n",
              "</div>"
            ],
            "text/plain": [
              "y_pred   0   1   2  All\n",
              "y_act                  \n",
              "0       19   0   0   19\n",
              "1        0  13   0   13\n",
              "2        0   0  13   13\n",
              "All     19  13  13   45"
            ]
          },
          "metadata": {},
          "execution_count": 241
        }
      ]
    },
    {
      "cell_type": "code",
      "metadata": {
        "colab": {
          "base_uri": "https://localhost:8080/"
        },
        "id": "uPhLpRLAw7dq",
        "outputId": "b13fd450-2662-4831-f451-1862e75ed7cb"
      },
      "source": [
        "acuracy = (cfm.loc[0,0] + cfm.loc[1,1] ) / cfm.loc['All','All'] \n",
        "acuracy"
      ],
      "execution_count": null,
      "outputs": [
        {
          "output_type": "execute_result",
          "data": {
            "text/plain": [
              "0.7111111111111111"
            ]
          },
          "metadata": {},
          "execution_count": 242
        }
      ]
    },
    {
      "cell_type": "code",
      "metadata": {
        "colab": {
          "base_uri": "https://localhost:8080/"
        },
        "id": "PKgI9fYrw7hW",
        "outputId": "cdb7f30e-b583-46d0-d3a3-6a8b468a472f"
      },
      "source": [
        "precision = (cfm.loc[1,1]) / cfm.loc['All',1] \n",
        "precision"
      ],
      "execution_count": null,
      "outputs": [
        {
          "output_type": "execute_result",
          "data": {
            "text/plain": [
              "1.0"
            ]
          },
          "metadata": {},
          "execution_count": 243
        }
      ]
    },
    {
      "cell_type": "markdown",
      "metadata": {
        "id": "XvyUl1NxlqkG"
      },
      "source": [
        "# Random Forest Classifier\n",
        "* https://en.wikipedia.org/wiki/Random_forest\n",
        "* https://scikit-learn.org/stable/modules/generated/sklearn.ensemble.RandomForestClassifier.html"
      ]
    },
    {
      "cell_type": "code",
      "metadata": {
        "id": "D57GUQc0gnyT",
        "colab": {
          "base_uri": "https://localhost:8080/"
        },
        "outputId": "0abfafbf-51b1-4c3d-eb99-0832e9ace9b8"
      },
      "source": [
        "model = RandomForestClassifier(n_estimators=1000)\n",
        "model.fit(X_train, y_train)"
      ],
      "execution_count": null,
      "outputs": [
        {
          "output_type": "execute_result",
          "data": {
            "text/plain": [
              "RandomForestClassifier(bootstrap=True, ccp_alpha=0.0, class_weight=None,\n",
              "                       criterion='gini', max_depth=None, max_features='auto',\n",
              "                       max_leaf_nodes=None, max_samples=None,\n",
              "                       min_impurity_decrease=0.0, min_impurity_split=None,\n",
              "                       min_samples_leaf=1, min_samples_split=2,\n",
              "                       min_weight_fraction_leaf=0.0, n_estimators=1000,\n",
              "                       n_jobs=None, oob_score=False, random_state=None,\n",
              "                       verbose=0, warm_start=False)"
            ]
          },
          "metadata": {},
          "execution_count": 244
        }
      ]
    },
    {
      "cell_type": "code",
      "metadata": {
        "colab": {
          "base_uri": "https://localhost:8080/"
        },
        "id": "tOpCM7i0g1Yo",
        "outputId": "64352868-a068-43d1-b6fd-f8ffdecd61b0"
      },
      "source": [
        "model.predict_proba(X_test)"
      ],
      "execution_count": null,
      "outputs": [
        {
          "output_type": "execute_result",
          "data": {
            "text/plain": [
              "array([[0.   , 0.988, 0.012],\n",
              "       [0.971, 0.029, 0.   ],\n",
              "       [0.   , 0.014, 0.986],\n",
              "       [0.   , 0.984, 0.016],\n",
              "       [0.   , 0.862, 0.138],\n",
              "       [0.994, 0.006, 0.   ],\n",
              "       [0.   , 1.   , 0.   ],\n",
              "       [0.   , 0.073, 0.927],\n",
              "       [0.   , 0.85 , 0.15 ],\n",
              "       [0.001, 0.998, 0.001],\n",
              "       [0.   , 0.07 , 0.93 ],\n",
              "       [0.998, 0.002, 0.   ],\n",
              "       [0.949, 0.051, 0.   ],\n",
              "       [1.   , 0.   , 0.   ],\n",
              "       [1.   , 0.   , 0.   ],\n",
              "       [0.009, 0.88 , 0.111],\n",
              "       [0.   , 0.   , 1.   ],\n",
              "       [0.   , 0.999, 0.001],\n",
              "       [0.   , 0.988, 0.012],\n",
              "       [0.   , 0.   , 1.   ],\n",
              "       [1.   , 0.   , 0.   ],\n",
              "       [0.   , 0.119, 0.881],\n",
              "       [1.   , 0.   , 0.   ],\n",
              "       [0.   , 0.   , 1.   ],\n",
              "       [0.   , 0.003, 0.997],\n",
              "       [0.   , 0.025, 0.975],\n",
              "       [0.   , 0.029, 0.971],\n",
              "       [0.   , 0.001, 0.999],\n",
              "       [0.998, 0.002, 0.   ],\n",
              "       [1.   , 0.   , 0.   ],\n",
              "       [1.   , 0.   , 0.   ],\n",
              "       [0.971, 0.029, 0.   ],\n",
              "       [0.005, 0.988, 0.007],\n",
              "       [1.   , 0.   , 0.   ],\n",
              "       [1.   , 0.   , 0.   ],\n",
              "       [0.   , 0.081, 0.919],\n",
              "       [0.007, 0.971, 0.022],\n",
              "       [1.   , 0.   , 0.   ],\n",
              "       [1.   , 0.   , 0.   ],\n",
              "       [1.   , 0.   , 0.   ],\n",
              "       [0.   , 0.032, 0.968],\n",
              "       [0.013, 0.91 , 0.077],\n",
              "       [0.005, 0.985, 0.01 ],\n",
              "       [0.998, 0.002, 0.   ],\n",
              "       [0.998, 0.002, 0.   ]])"
            ]
          },
          "metadata": {},
          "execution_count": 245
        }
      ]
    },
    {
      "cell_type": "code",
      "metadata": {
        "id": "tmPN7kNBg6-E"
      },
      "source": [
        "y_pred = model.predict(X_test)\n",
        "y_pred_prob = model.predict_proba(X_test)[:, 1]"
      ],
      "execution_count": null,
      "outputs": []
    },
    {
      "cell_type": "code",
      "metadata": {
        "colab": {
          "base_uri": "https://localhost:8080/",
          "height": 363
        },
        "id": "zJrBwiLqg_Qb",
        "outputId": "cc9487ee-5799-4bd5-8b08-dfc172f20e5f"
      },
      "source": [
        "test_result = pd.DataFrame(data={'y_act':y_test, 'y_pred':y_pred, 'y_pred_prob':y_pred_prob})\n",
        "test_result.sample(10)"
      ],
      "execution_count": null,
      "outputs": [
        {
          "output_type": "execute_result",
          "data": {
            "text/html": [
              "<div>\n",
              "<style scoped>\n",
              "    .dataframe tbody tr th:only-of-type {\n",
              "        vertical-align: middle;\n",
              "    }\n",
              "\n",
              "    .dataframe tbody tr th {\n",
              "        vertical-align: top;\n",
              "    }\n",
              "\n",
              "    .dataframe thead th {\n",
              "        text-align: right;\n",
              "    }\n",
              "</style>\n",
              "<table border=\"1\" class=\"dataframe\">\n",
              "  <thead>\n",
              "    <tr style=\"text-align: right;\">\n",
              "      <th></th>\n",
              "      <th>y_act</th>\n",
              "      <th>y_pred</th>\n",
              "      <th>y_pred_prob</th>\n",
              "    </tr>\n",
              "  </thead>\n",
              "  <tbody>\n",
              "    <tr>\n",
              "      <th>38</th>\n",
              "      <td>0</td>\n",
              "      <td>0</td>\n",
              "      <td>0.000</td>\n",
              "    </tr>\n",
              "    <tr>\n",
              "      <th>13</th>\n",
              "      <td>0</td>\n",
              "      <td>0</td>\n",
              "      <td>0.000</td>\n",
              "    </tr>\n",
              "    <tr>\n",
              "      <th>19</th>\n",
              "      <td>2</td>\n",
              "      <td>2</td>\n",
              "      <td>0.000</td>\n",
              "    </tr>\n",
              "    <tr>\n",
              "      <th>18</th>\n",
              "      <td>1</td>\n",
              "      <td>1</td>\n",
              "      <td>0.988</td>\n",
              "    </tr>\n",
              "    <tr>\n",
              "      <th>9</th>\n",
              "      <td>1</td>\n",
              "      <td>1</td>\n",
              "      <td>0.998</td>\n",
              "    </tr>\n",
              "    <tr>\n",
              "      <th>42</th>\n",
              "      <td>1</td>\n",
              "      <td>1</td>\n",
              "      <td>0.985</td>\n",
              "    </tr>\n",
              "    <tr>\n",
              "      <th>44</th>\n",
              "      <td>0</td>\n",
              "      <td>0</td>\n",
              "      <td>0.002</td>\n",
              "    </tr>\n",
              "    <tr>\n",
              "      <th>41</th>\n",
              "      <td>1</td>\n",
              "      <td>1</td>\n",
              "      <td>0.910</td>\n",
              "    </tr>\n",
              "    <tr>\n",
              "      <th>33</th>\n",
              "      <td>0</td>\n",
              "      <td>0</td>\n",
              "      <td>0.000</td>\n",
              "    </tr>\n",
              "    <tr>\n",
              "      <th>17</th>\n",
              "      <td>1</td>\n",
              "      <td>1</td>\n",
              "      <td>0.999</td>\n",
              "    </tr>\n",
              "  </tbody>\n",
              "</table>\n",
              "</div>"
            ],
            "text/plain": [
              "    y_act  y_pred  y_pred_prob\n",
              "38      0       0        0.000\n",
              "13      0       0        0.000\n",
              "19      2       2        0.000\n",
              "18      1       1        0.988\n",
              "9       1       1        0.998\n",
              "42      1       1        0.985\n",
              "44      0       0        0.002\n",
              "41      1       1        0.910\n",
              "33      0       0        0.000\n",
              "17      1       1        0.999"
            ]
          },
          "metadata": {},
          "execution_count": 247
        }
      ]
    },
    {
      "cell_type": "code",
      "metadata": {
        "colab": {
          "base_uri": "https://localhost:8080/",
          "height": 206
        },
        "id": "YJFWS-6BhDBg",
        "outputId": "164753ae-cfdb-4989-d87b-b243464d7bfe"
      },
      "source": [
        "cfm = pd.crosstab(test_result['y_act'], test_result['y_pred'], margins=True)\n",
        "cfm"
      ],
      "execution_count": null,
      "outputs": [
        {
          "output_type": "execute_result",
          "data": {
            "text/html": [
              "<div>\n",
              "<style scoped>\n",
              "    .dataframe tbody tr th:only-of-type {\n",
              "        vertical-align: middle;\n",
              "    }\n",
              "\n",
              "    .dataframe tbody tr th {\n",
              "        vertical-align: top;\n",
              "    }\n",
              "\n",
              "    .dataframe thead th {\n",
              "        text-align: right;\n",
              "    }\n",
              "</style>\n",
              "<table border=\"1\" class=\"dataframe\">\n",
              "  <thead>\n",
              "    <tr style=\"text-align: right;\">\n",
              "      <th>y_pred</th>\n",
              "      <th>0</th>\n",
              "      <th>1</th>\n",
              "      <th>2</th>\n",
              "      <th>All</th>\n",
              "    </tr>\n",
              "    <tr>\n",
              "      <th>y_act</th>\n",
              "      <th></th>\n",
              "      <th></th>\n",
              "      <th></th>\n",
              "      <th></th>\n",
              "    </tr>\n",
              "  </thead>\n",
              "  <tbody>\n",
              "    <tr>\n",
              "      <th>0</th>\n",
              "      <td>19</td>\n",
              "      <td>0</td>\n",
              "      <td>0</td>\n",
              "      <td>19</td>\n",
              "    </tr>\n",
              "    <tr>\n",
              "      <th>1</th>\n",
              "      <td>0</td>\n",
              "      <td>13</td>\n",
              "      <td>0</td>\n",
              "      <td>13</td>\n",
              "    </tr>\n",
              "    <tr>\n",
              "      <th>2</th>\n",
              "      <td>0</td>\n",
              "      <td>0</td>\n",
              "      <td>13</td>\n",
              "      <td>13</td>\n",
              "    </tr>\n",
              "    <tr>\n",
              "      <th>All</th>\n",
              "      <td>19</td>\n",
              "      <td>13</td>\n",
              "      <td>13</td>\n",
              "      <td>45</td>\n",
              "    </tr>\n",
              "  </tbody>\n",
              "</table>\n",
              "</div>"
            ],
            "text/plain": [
              "y_pred   0   1   2  All\n",
              "y_act                  \n",
              "0       19   0   0   19\n",
              "1        0  13   0   13\n",
              "2        0   0  13   13\n",
              "All     19  13  13   45"
            ]
          },
          "metadata": {},
          "execution_count": 248
        }
      ]
    },
    {
      "cell_type": "code",
      "metadata": {
        "colab": {
          "base_uri": "https://localhost:8080/"
        },
        "id": "wyKCgYs_hGJE",
        "outputId": "555574ae-1a8d-4f68-9f34-c84f637ecc42"
      },
      "source": [
        "acuracy = (cfm.loc[0,0] + cfm.loc[1,1] ) / cfm.loc['All','All'] \n",
        "acuracy"
      ],
      "execution_count": null,
      "outputs": [
        {
          "output_type": "execute_result",
          "data": {
            "text/plain": [
              "0.7111111111111111"
            ]
          },
          "metadata": {},
          "execution_count": 249
        }
      ]
    },
    {
      "cell_type": "code",
      "metadata": {
        "colab": {
          "base_uri": "https://localhost:8080/"
        },
        "id": "tCY8kc6GtwL4",
        "outputId": "bd49ddcc-75a5-4d3a-c310-13dab24d3fae"
      },
      "source": [
        "precision = (cfm.loc[1,1]) / cfm.loc['All',1] \n",
        "precision"
      ],
      "execution_count": null,
      "outputs": [
        {
          "output_type": "execute_result",
          "data": {
            "text/plain": [
              "1.0"
            ]
          },
          "metadata": {},
          "execution_count": 250
        }
      ]
    },
    {
      "cell_type": "code",
      "metadata": {
        "id": "HLQQlEfevTkO",
        "colab": {
          "base_uri": "https://localhost:8080/"
        },
        "outputId": "7be09401-5b72-4859-b66b-d502d018b402"
      },
      "source": [
        "test_result['y_pred_prob']"
      ],
      "execution_count": null,
      "outputs": [
        {
          "output_type": "execute_result",
          "data": {
            "text/plain": [
              "0     0.988\n",
              "1     0.029\n",
              "2     0.014\n",
              "3     0.984\n",
              "4     0.862\n",
              "5     0.006\n",
              "6     1.000\n",
              "7     0.073\n",
              "8     0.850\n",
              "9     0.998\n",
              "10    0.070\n",
              "11    0.002\n",
              "12    0.051\n",
              "13    0.000\n",
              "14    0.000\n",
              "15    0.880\n",
              "16    0.000\n",
              "17    0.999\n",
              "18    0.988\n",
              "19    0.000\n",
              "20    0.000\n",
              "21    0.119\n",
              "22    0.000\n",
              "23    0.000\n",
              "24    0.003\n",
              "25    0.025\n",
              "26    0.029\n",
              "27    0.001\n",
              "28    0.002\n",
              "29    0.000\n",
              "30    0.000\n",
              "31    0.029\n",
              "32    0.988\n",
              "33    0.000\n",
              "34    0.000\n",
              "35    0.081\n",
              "36    0.971\n",
              "37    0.000\n",
              "38    0.000\n",
              "39    0.000\n",
              "40    0.032\n",
              "41    0.910\n",
              "42    0.985\n",
              "43    0.002\n",
              "44    0.002\n",
              "Name: y_pred_prob, dtype: float64"
            ]
          },
          "metadata": {},
          "execution_count": 251
        }
      ]
    },
    {
      "cell_type": "code",
      "metadata": {
        "colab": {
          "base_uri": "https://localhost:8080/"
        },
        "id": "nIh_axvoQH7M",
        "outputId": "9c32fd25-e475-426c-b819-7d9e4c3746ea"
      },
      "source": [
        "test_result['y_pred_prob'].value_counts(bins=10)"
      ],
      "execution_count": null,
      "outputs": [
        {
          "output_type": "execute_result",
          "data": {
            "text/plain": [
              "(-0.002, 0.1]    31\n",
              "(0.9, 1.0]       10\n",
              "(0.8, 0.9]        3\n",
              "(0.1, 0.2]        1\n",
              "(0.7, 0.8]        0\n",
              "(0.6, 0.7]        0\n",
              "(0.5, 0.6]        0\n",
              "(0.4, 0.5]        0\n",
              "(0.3, 0.4]        0\n",
              "(0.2, 0.3]        0\n",
              "Name: y_pred_prob, dtype: int64"
            ]
          },
          "metadata": {},
          "execution_count": 252
        }
      ]
    },
    {
      "cell_type": "code",
      "metadata": {
        "colab": {
          "base_uri": "https://localhost:8080/"
        },
        "id": "j58c-MQeQRnQ",
        "outputId": "5ec5e833-b70f-4ed8-8edf-95541a0bfa5b"
      },
      "source": [
        "test_result['prob_bucket'] = pd.cut(test_result['y_pred_prob'], bins=10)\n",
        "test_result['prob_bucket']"
      ],
      "execution_count": null,
      "outputs": [
        {
          "output_type": "execute_result",
          "data": {
            "text/plain": [
              "0        (0.9, 1.0]\n",
              "1     (-0.001, 0.1]\n",
              "2     (-0.001, 0.1]\n",
              "3        (0.9, 1.0]\n",
              "4        (0.8, 0.9]\n",
              "5     (-0.001, 0.1]\n",
              "6        (0.9, 1.0]\n",
              "7     (-0.001, 0.1]\n",
              "8        (0.8, 0.9]\n",
              "9        (0.9, 1.0]\n",
              "10    (-0.001, 0.1]\n",
              "11    (-0.001, 0.1]\n",
              "12    (-0.001, 0.1]\n",
              "13    (-0.001, 0.1]\n",
              "14    (-0.001, 0.1]\n",
              "15       (0.8, 0.9]\n",
              "16    (-0.001, 0.1]\n",
              "17       (0.9, 1.0]\n",
              "18       (0.9, 1.0]\n",
              "19    (-0.001, 0.1]\n",
              "20    (-0.001, 0.1]\n",
              "21       (0.1, 0.2]\n",
              "22    (-0.001, 0.1]\n",
              "23    (-0.001, 0.1]\n",
              "24    (-0.001, 0.1]\n",
              "25    (-0.001, 0.1]\n",
              "26    (-0.001, 0.1]\n",
              "27    (-0.001, 0.1]\n",
              "28    (-0.001, 0.1]\n",
              "29    (-0.001, 0.1]\n",
              "30    (-0.001, 0.1]\n",
              "31    (-0.001, 0.1]\n",
              "32       (0.9, 1.0]\n",
              "33    (-0.001, 0.1]\n",
              "34    (-0.001, 0.1]\n",
              "35    (-0.001, 0.1]\n",
              "36       (0.9, 1.0]\n",
              "37    (-0.001, 0.1]\n",
              "38    (-0.001, 0.1]\n",
              "39    (-0.001, 0.1]\n",
              "40    (-0.001, 0.1]\n",
              "41       (0.9, 1.0]\n",
              "42       (0.9, 1.0]\n",
              "43    (-0.001, 0.1]\n",
              "44    (-0.001, 0.1]\n",
              "Name: prob_bucket, dtype: category\n",
              "Categories (10, interval[float64]): [(-0.001, 0.1] < (0.1, 0.2] < (0.2, 0.3] < (0.3, 0.4] < ... <\n",
              "                                     (0.6, 0.7] < (0.7, 0.8] < (0.8, 0.9] < (0.9, 1.0]]"
            ]
          },
          "metadata": {},
          "execution_count": 253
        }
      ]
    },
    {
      "cell_type": "code",
      "metadata": {
        "colab": {
          "base_uri": "https://localhost:8080/"
        },
        "id": "nLr_m5gqQwJm",
        "outputId": "556430bf-d53b-445b-8ac7-93c0f4f6ccfe"
      },
      "source": [
        "#labels = [1,2,3,4,5,6,7,8,9,10 ]\n",
        "test_result['q_bucket'] = pd.qcut(test_result['y_pred_prob'], q=10, duplicates='drop')\n",
        "test_result['q_bucket']"
      ],
      "execution_count": null,
      "outputs": [
        {
          "output_type": "execute_result",
          "data": {
            "text/plain": [
              "0       (0.922, 0.988]\n",
              "1      (0.025, 0.0396]\n",
              "2       (0.002, 0.025]\n",
              "3       (0.922, 0.988]\n",
              "4       (0.111, 0.922]\n",
              "5       (0.002, 0.025]\n",
              "6         (0.988, 1.0]\n",
              "7      (0.0396, 0.111]\n",
              "8       (0.111, 0.922]\n",
              "9         (0.988, 1.0]\n",
              "10     (0.0396, 0.111]\n",
              "11     (0.0002, 0.002]\n",
              "12     (0.0396, 0.111]\n",
              "13    (-0.001, 0.0002]\n",
              "14    (-0.001, 0.0002]\n",
              "15      (0.111, 0.922]\n",
              "16    (-0.001, 0.0002]\n",
              "17        (0.988, 1.0]\n",
              "18      (0.922, 0.988]\n",
              "19    (-0.001, 0.0002]\n",
              "20    (-0.001, 0.0002]\n",
              "21      (0.111, 0.922]\n",
              "22    (-0.001, 0.0002]\n",
              "23    (-0.001, 0.0002]\n",
              "24      (0.002, 0.025]\n",
              "25      (0.002, 0.025]\n",
              "26     (0.025, 0.0396]\n",
              "27     (0.0002, 0.002]\n",
              "28     (0.0002, 0.002]\n",
              "29    (-0.001, 0.0002]\n",
              "30    (-0.001, 0.0002]\n",
              "31     (0.025, 0.0396]\n",
              "32      (0.922, 0.988]\n",
              "33    (-0.001, 0.0002]\n",
              "34    (-0.001, 0.0002]\n",
              "35     (0.0396, 0.111]\n",
              "36      (0.922, 0.988]\n",
              "37    (-0.001, 0.0002]\n",
              "38    (-0.001, 0.0002]\n",
              "39    (-0.001, 0.0002]\n",
              "40     (0.025, 0.0396]\n",
              "41      (0.111, 0.922]\n",
              "42      (0.922, 0.988]\n",
              "43     (0.0002, 0.002]\n",
              "44     (0.0002, 0.002]\n",
              "Name: q_bucket, dtype: category\n",
              "Categories (8, interval[float64]): [(-0.001, 0.0002] < (0.0002, 0.002] < (0.002, 0.025] <\n",
              "                                    (0.025, 0.0396] < (0.0396, 0.111] < (0.111, 0.922] <\n",
              "                                    (0.922, 0.988] < (0.988, 1.0]]"
            ]
          },
          "metadata": {},
          "execution_count": 254
        }
      ]
    },
    {
      "cell_type": "code",
      "metadata": {
        "colab": {
          "base_uri": "https://localhost:8080/",
          "height": 1000
        },
        "id": "be6G82DKRWWT",
        "outputId": "21ea81f9-f4cc-44ee-c4dd-e2480b005c1b"
      },
      "source": [
        "test_result"
      ],
      "execution_count": null,
      "outputs": [
        {
          "output_type": "execute_result",
          "data": {
            "text/html": [
              "<div>\n",
              "<style scoped>\n",
              "    .dataframe tbody tr th:only-of-type {\n",
              "        vertical-align: middle;\n",
              "    }\n",
              "\n",
              "    .dataframe tbody tr th {\n",
              "        vertical-align: top;\n",
              "    }\n",
              "\n",
              "    .dataframe thead th {\n",
              "        text-align: right;\n",
              "    }\n",
              "</style>\n",
              "<table border=\"1\" class=\"dataframe\">\n",
              "  <thead>\n",
              "    <tr style=\"text-align: right;\">\n",
              "      <th></th>\n",
              "      <th>y_act</th>\n",
              "      <th>y_pred</th>\n",
              "      <th>y_pred_prob</th>\n",
              "      <th>prob_bucket</th>\n",
              "      <th>q_bucket</th>\n",
              "    </tr>\n",
              "  </thead>\n",
              "  <tbody>\n",
              "    <tr>\n",
              "      <th>0</th>\n",
              "      <td>1</td>\n",
              "      <td>1</td>\n",
              "      <td>0.988</td>\n",
              "      <td>(0.9, 1.0]</td>\n",
              "      <td>(0.922, 0.988]</td>\n",
              "    </tr>\n",
              "    <tr>\n",
              "      <th>1</th>\n",
              "      <td>0</td>\n",
              "      <td>0</td>\n",
              "      <td>0.029</td>\n",
              "      <td>(-0.001, 0.1]</td>\n",
              "      <td>(0.025, 0.0396]</td>\n",
              "    </tr>\n",
              "    <tr>\n",
              "      <th>2</th>\n",
              "      <td>2</td>\n",
              "      <td>2</td>\n",
              "      <td>0.014</td>\n",
              "      <td>(-0.001, 0.1]</td>\n",
              "      <td>(0.002, 0.025]</td>\n",
              "    </tr>\n",
              "    <tr>\n",
              "      <th>3</th>\n",
              "      <td>1</td>\n",
              "      <td>1</td>\n",
              "      <td>0.984</td>\n",
              "      <td>(0.9, 1.0]</td>\n",
              "      <td>(0.922, 0.988]</td>\n",
              "    </tr>\n",
              "    <tr>\n",
              "      <th>4</th>\n",
              "      <td>1</td>\n",
              "      <td>1</td>\n",
              "      <td>0.862</td>\n",
              "      <td>(0.8, 0.9]</td>\n",
              "      <td>(0.111, 0.922]</td>\n",
              "    </tr>\n",
              "    <tr>\n",
              "      <th>5</th>\n",
              "      <td>0</td>\n",
              "      <td>0</td>\n",
              "      <td>0.006</td>\n",
              "      <td>(-0.001, 0.1]</td>\n",
              "      <td>(0.002, 0.025]</td>\n",
              "    </tr>\n",
              "    <tr>\n",
              "      <th>6</th>\n",
              "      <td>1</td>\n",
              "      <td>1</td>\n",
              "      <td>1.000</td>\n",
              "      <td>(0.9, 1.0]</td>\n",
              "      <td>(0.988, 1.0]</td>\n",
              "    </tr>\n",
              "    <tr>\n",
              "      <th>7</th>\n",
              "      <td>2</td>\n",
              "      <td>2</td>\n",
              "      <td>0.073</td>\n",
              "      <td>(-0.001, 0.1]</td>\n",
              "      <td>(0.0396, 0.111]</td>\n",
              "    </tr>\n",
              "    <tr>\n",
              "      <th>8</th>\n",
              "      <td>1</td>\n",
              "      <td>1</td>\n",
              "      <td>0.850</td>\n",
              "      <td>(0.8, 0.9]</td>\n",
              "      <td>(0.111, 0.922]</td>\n",
              "    </tr>\n",
              "    <tr>\n",
              "      <th>9</th>\n",
              "      <td>1</td>\n",
              "      <td>1</td>\n",
              "      <td>0.998</td>\n",
              "      <td>(0.9, 1.0]</td>\n",
              "      <td>(0.988, 1.0]</td>\n",
              "    </tr>\n",
              "    <tr>\n",
              "      <th>10</th>\n",
              "      <td>2</td>\n",
              "      <td>2</td>\n",
              "      <td>0.070</td>\n",
              "      <td>(-0.001, 0.1]</td>\n",
              "      <td>(0.0396, 0.111]</td>\n",
              "    </tr>\n",
              "    <tr>\n",
              "      <th>11</th>\n",
              "      <td>0</td>\n",
              "      <td>0</td>\n",
              "      <td>0.002</td>\n",
              "      <td>(-0.001, 0.1]</td>\n",
              "      <td>(0.0002, 0.002]</td>\n",
              "    </tr>\n",
              "    <tr>\n",
              "      <th>12</th>\n",
              "      <td>0</td>\n",
              "      <td>0</td>\n",
              "      <td>0.051</td>\n",
              "      <td>(-0.001, 0.1]</td>\n",
              "      <td>(0.0396, 0.111]</td>\n",
              "    </tr>\n",
              "    <tr>\n",
              "      <th>13</th>\n",
              "      <td>0</td>\n",
              "      <td>0</td>\n",
              "      <td>0.000</td>\n",
              "      <td>(-0.001, 0.1]</td>\n",
              "      <td>(-0.001, 0.0002]</td>\n",
              "    </tr>\n",
              "    <tr>\n",
              "      <th>14</th>\n",
              "      <td>0</td>\n",
              "      <td>0</td>\n",
              "      <td>0.000</td>\n",
              "      <td>(-0.001, 0.1]</td>\n",
              "      <td>(-0.001, 0.0002]</td>\n",
              "    </tr>\n",
              "    <tr>\n",
              "      <th>15</th>\n",
              "      <td>1</td>\n",
              "      <td>1</td>\n",
              "      <td>0.880</td>\n",
              "      <td>(0.8, 0.9]</td>\n",
              "      <td>(0.111, 0.922]</td>\n",
              "    </tr>\n",
              "    <tr>\n",
              "      <th>16</th>\n",
              "      <td>2</td>\n",
              "      <td>2</td>\n",
              "      <td>0.000</td>\n",
              "      <td>(-0.001, 0.1]</td>\n",
              "      <td>(-0.001, 0.0002]</td>\n",
              "    </tr>\n",
              "    <tr>\n",
              "      <th>17</th>\n",
              "      <td>1</td>\n",
              "      <td>1</td>\n",
              "      <td>0.999</td>\n",
              "      <td>(0.9, 1.0]</td>\n",
              "      <td>(0.988, 1.0]</td>\n",
              "    </tr>\n",
              "    <tr>\n",
              "      <th>18</th>\n",
              "      <td>1</td>\n",
              "      <td>1</td>\n",
              "      <td>0.988</td>\n",
              "      <td>(0.9, 1.0]</td>\n",
              "      <td>(0.922, 0.988]</td>\n",
              "    </tr>\n",
              "    <tr>\n",
              "      <th>19</th>\n",
              "      <td>2</td>\n",
              "      <td>2</td>\n",
              "      <td>0.000</td>\n",
              "      <td>(-0.001, 0.1]</td>\n",
              "      <td>(-0.001, 0.0002]</td>\n",
              "    </tr>\n",
              "    <tr>\n",
              "      <th>20</th>\n",
              "      <td>0</td>\n",
              "      <td>0</td>\n",
              "      <td>0.000</td>\n",
              "      <td>(-0.001, 0.1]</td>\n",
              "      <td>(-0.001, 0.0002]</td>\n",
              "    </tr>\n",
              "    <tr>\n",
              "      <th>21</th>\n",
              "      <td>2</td>\n",
              "      <td>2</td>\n",
              "      <td>0.119</td>\n",
              "      <td>(0.1, 0.2]</td>\n",
              "      <td>(0.111, 0.922]</td>\n",
              "    </tr>\n",
              "    <tr>\n",
              "      <th>22</th>\n",
              "      <td>0</td>\n",
              "      <td>0</td>\n",
              "      <td>0.000</td>\n",
              "      <td>(-0.001, 0.1]</td>\n",
              "      <td>(-0.001, 0.0002]</td>\n",
              "    </tr>\n",
              "    <tr>\n",
              "      <th>23</th>\n",
              "      <td>2</td>\n",
              "      <td>2</td>\n",
              "      <td>0.000</td>\n",
              "      <td>(-0.001, 0.1]</td>\n",
              "      <td>(-0.001, 0.0002]</td>\n",
              "    </tr>\n",
              "    <tr>\n",
              "      <th>24</th>\n",
              "      <td>2</td>\n",
              "      <td>2</td>\n",
              "      <td>0.003</td>\n",
              "      <td>(-0.001, 0.1]</td>\n",
              "      <td>(0.002, 0.025]</td>\n",
              "    </tr>\n",
              "    <tr>\n",
              "      <th>25</th>\n",
              "      <td>2</td>\n",
              "      <td>2</td>\n",
              "      <td>0.025</td>\n",
              "      <td>(-0.001, 0.1]</td>\n",
              "      <td>(0.002, 0.025]</td>\n",
              "    </tr>\n",
              "    <tr>\n",
              "      <th>26</th>\n",
              "      <td>2</td>\n",
              "      <td>2</td>\n",
              "      <td>0.029</td>\n",
              "      <td>(-0.001, 0.1]</td>\n",
              "      <td>(0.025, 0.0396]</td>\n",
              "    </tr>\n",
              "    <tr>\n",
              "      <th>27</th>\n",
              "      <td>2</td>\n",
              "      <td>2</td>\n",
              "      <td>0.001</td>\n",
              "      <td>(-0.001, 0.1]</td>\n",
              "      <td>(0.0002, 0.002]</td>\n",
              "    </tr>\n",
              "    <tr>\n",
              "      <th>28</th>\n",
              "      <td>0</td>\n",
              "      <td>0</td>\n",
              "      <td>0.002</td>\n",
              "      <td>(-0.001, 0.1]</td>\n",
              "      <td>(0.0002, 0.002]</td>\n",
              "    </tr>\n",
              "    <tr>\n",
              "      <th>29</th>\n",
              "      <td>0</td>\n",
              "      <td>0</td>\n",
              "      <td>0.000</td>\n",
              "      <td>(-0.001, 0.1]</td>\n",
              "      <td>(-0.001, 0.0002]</td>\n",
              "    </tr>\n",
              "    <tr>\n",
              "      <th>30</th>\n",
              "      <td>0</td>\n",
              "      <td>0</td>\n",
              "      <td>0.000</td>\n",
              "      <td>(-0.001, 0.1]</td>\n",
              "      <td>(-0.001, 0.0002]</td>\n",
              "    </tr>\n",
              "    <tr>\n",
              "      <th>31</th>\n",
              "      <td>0</td>\n",
              "      <td>0</td>\n",
              "      <td>0.029</td>\n",
              "      <td>(-0.001, 0.1]</td>\n",
              "      <td>(0.025, 0.0396]</td>\n",
              "    </tr>\n",
              "    <tr>\n",
              "      <th>32</th>\n",
              "      <td>1</td>\n",
              "      <td>1</td>\n",
              "      <td>0.988</td>\n",
              "      <td>(0.9, 1.0]</td>\n",
              "      <td>(0.922, 0.988]</td>\n",
              "    </tr>\n",
              "    <tr>\n",
              "      <th>33</th>\n",
              "      <td>0</td>\n",
              "      <td>0</td>\n",
              "      <td>0.000</td>\n",
              "      <td>(-0.001, 0.1]</td>\n",
              "      <td>(-0.001, 0.0002]</td>\n",
              "    </tr>\n",
              "    <tr>\n",
              "      <th>34</th>\n",
              "      <td>0</td>\n",
              "      <td>0</td>\n",
              "      <td>0.000</td>\n",
              "      <td>(-0.001, 0.1]</td>\n",
              "      <td>(-0.001, 0.0002]</td>\n",
              "    </tr>\n",
              "    <tr>\n",
              "      <th>35</th>\n",
              "      <td>2</td>\n",
              "      <td>2</td>\n",
              "      <td>0.081</td>\n",
              "      <td>(-0.001, 0.1]</td>\n",
              "      <td>(0.0396, 0.111]</td>\n",
              "    </tr>\n",
              "    <tr>\n",
              "      <th>36</th>\n",
              "      <td>1</td>\n",
              "      <td>1</td>\n",
              "      <td>0.971</td>\n",
              "      <td>(0.9, 1.0]</td>\n",
              "      <td>(0.922, 0.988]</td>\n",
              "    </tr>\n",
              "    <tr>\n",
              "      <th>37</th>\n",
              "      <td>0</td>\n",
              "      <td>0</td>\n",
              "      <td>0.000</td>\n",
              "      <td>(-0.001, 0.1]</td>\n",
              "      <td>(-0.001, 0.0002]</td>\n",
              "    </tr>\n",
              "    <tr>\n",
              "      <th>38</th>\n",
              "      <td>0</td>\n",
              "      <td>0</td>\n",
              "      <td>0.000</td>\n",
              "      <td>(-0.001, 0.1]</td>\n",
              "      <td>(-0.001, 0.0002]</td>\n",
              "    </tr>\n",
              "    <tr>\n",
              "      <th>39</th>\n",
              "      <td>0</td>\n",
              "      <td>0</td>\n",
              "      <td>0.000</td>\n",
              "      <td>(-0.001, 0.1]</td>\n",
              "      <td>(-0.001, 0.0002]</td>\n",
              "    </tr>\n",
              "    <tr>\n",
              "      <th>40</th>\n",
              "      <td>2</td>\n",
              "      <td>2</td>\n",
              "      <td>0.032</td>\n",
              "      <td>(-0.001, 0.1]</td>\n",
              "      <td>(0.025, 0.0396]</td>\n",
              "    </tr>\n",
              "    <tr>\n",
              "      <th>41</th>\n",
              "      <td>1</td>\n",
              "      <td>1</td>\n",
              "      <td>0.910</td>\n",
              "      <td>(0.9, 1.0]</td>\n",
              "      <td>(0.111, 0.922]</td>\n",
              "    </tr>\n",
              "    <tr>\n",
              "      <th>42</th>\n",
              "      <td>1</td>\n",
              "      <td>1</td>\n",
              "      <td>0.985</td>\n",
              "      <td>(0.9, 1.0]</td>\n",
              "      <td>(0.922, 0.988]</td>\n",
              "    </tr>\n",
              "    <tr>\n",
              "      <th>43</th>\n",
              "      <td>0</td>\n",
              "      <td>0</td>\n",
              "      <td>0.002</td>\n",
              "      <td>(-0.001, 0.1]</td>\n",
              "      <td>(0.0002, 0.002]</td>\n",
              "    </tr>\n",
              "    <tr>\n",
              "      <th>44</th>\n",
              "      <td>0</td>\n",
              "      <td>0</td>\n",
              "      <td>0.002</td>\n",
              "      <td>(-0.001, 0.1]</td>\n",
              "      <td>(0.0002, 0.002]</td>\n",
              "    </tr>\n",
              "  </tbody>\n",
              "</table>\n",
              "</div>"
            ],
            "text/plain": [
              "    y_act  y_pred  y_pred_prob    prob_bucket          q_bucket\n",
              "0       1       1        0.988     (0.9, 1.0]    (0.922, 0.988]\n",
              "1       0       0        0.029  (-0.001, 0.1]   (0.025, 0.0396]\n",
              "2       2       2        0.014  (-0.001, 0.1]    (0.002, 0.025]\n",
              "3       1       1        0.984     (0.9, 1.0]    (0.922, 0.988]\n",
              "4       1       1        0.862     (0.8, 0.9]    (0.111, 0.922]\n",
              "5       0       0        0.006  (-0.001, 0.1]    (0.002, 0.025]\n",
              "6       1       1        1.000     (0.9, 1.0]      (0.988, 1.0]\n",
              "7       2       2        0.073  (-0.001, 0.1]   (0.0396, 0.111]\n",
              "8       1       1        0.850     (0.8, 0.9]    (0.111, 0.922]\n",
              "9       1       1        0.998     (0.9, 1.0]      (0.988, 1.0]\n",
              "10      2       2        0.070  (-0.001, 0.1]   (0.0396, 0.111]\n",
              "11      0       0        0.002  (-0.001, 0.1]   (0.0002, 0.002]\n",
              "12      0       0        0.051  (-0.001, 0.1]   (0.0396, 0.111]\n",
              "13      0       0        0.000  (-0.001, 0.1]  (-0.001, 0.0002]\n",
              "14      0       0        0.000  (-0.001, 0.1]  (-0.001, 0.0002]\n",
              "15      1       1        0.880     (0.8, 0.9]    (0.111, 0.922]\n",
              "16      2       2        0.000  (-0.001, 0.1]  (-0.001, 0.0002]\n",
              "17      1       1        0.999     (0.9, 1.0]      (0.988, 1.0]\n",
              "18      1       1        0.988     (0.9, 1.0]    (0.922, 0.988]\n",
              "19      2       2        0.000  (-0.001, 0.1]  (-0.001, 0.0002]\n",
              "20      0       0        0.000  (-0.001, 0.1]  (-0.001, 0.0002]\n",
              "21      2       2        0.119     (0.1, 0.2]    (0.111, 0.922]\n",
              "22      0       0        0.000  (-0.001, 0.1]  (-0.001, 0.0002]\n",
              "23      2       2        0.000  (-0.001, 0.1]  (-0.001, 0.0002]\n",
              "24      2       2        0.003  (-0.001, 0.1]    (0.002, 0.025]\n",
              "25      2       2        0.025  (-0.001, 0.1]    (0.002, 0.025]\n",
              "26      2       2        0.029  (-0.001, 0.1]   (0.025, 0.0396]\n",
              "27      2       2        0.001  (-0.001, 0.1]   (0.0002, 0.002]\n",
              "28      0       0        0.002  (-0.001, 0.1]   (0.0002, 0.002]\n",
              "29      0       0        0.000  (-0.001, 0.1]  (-0.001, 0.0002]\n",
              "30      0       0        0.000  (-0.001, 0.1]  (-0.001, 0.0002]\n",
              "31      0       0        0.029  (-0.001, 0.1]   (0.025, 0.0396]\n",
              "32      1       1        0.988     (0.9, 1.0]    (0.922, 0.988]\n",
              "33      0       0        0.000  (-0.001, 0.1]  (-0.001, 0.0002]\n",
              "34      0       0        0.000  (-0.001, 0.1]  (-0.001, 0.0002]\n",
              "35      2       2        0.081  (-0.001, 0.1]   (0.0396, 0.111]\n",
              "36      1       1        0.971     (0.9, 1.0]    (0.922, 0.988]\n",
              "37      0       0        0.000  (-0.001, 0.1]  (-0.001, 0.0002]\n",
              "38      0       0        0.000  (-0.001, 0.1]  (-0.001, 0.0002]\n",
              "39      0       0        0.000  (-0.001, 0.1]  (-0.001, 0.0002]\n",
              "40      2       2        0.032  (-0.001, 0.1]   (0.025, 0.0396]\n",
              "41      1       1        0.910     (0.9, 1.0]    (0.111, 0.922]\n",
              "42      1       1        0.985     (0.9, 1.0]    (0.922, 0.988]\n",
              "43      0       0        0.002  (-0.001, 0.1]   (0.0002, 0.002]\n",
              "44      0       0        0.002  (-0.001, 0.1]   (0.0002, 0.002]"
            ]
          },
          "metadata": {},
          "execution_count": 255
        }
      ]
    },
    {
      "cell_type": "code",
      "metadata": {
        "colab": {
          "base_uri": "https://localhost:8080/",
          "height": 300
        },
        "id": "3_7bb2uRQ4M0",
        "outputId": "0741e459-1fc0-4487-f63d-3a7337a5a1a3"
      },
      "source": [
        "eval_table  = test_result.groupby(by='q_bucket').agg(\n",
        "    count=pd.NamedAgg(column=\"q_bucket\", aggfunc=\"count\"),\n",
        "    response_count=pd.NamedAgg(column=\"y_act\", aggfunc=\"sum\"),\n",
        "    min_probability = pd.NamedAgg(column=\"y_pred_prob\", aggfunc=\"min\"),\n",
        "    mean_probability=pd.NamedAgg(column=\"y_pred_prob\", aggfunc=\"sum\"),\n",
        "    ).reset_index()\n",
        "\n",
        "eval_table"
      ],
      "execution_count": null,
      "outputs": [
        {
          "output_type": "execute_result",
          "data": {
            "text/html": [
              "<div>\n",
              "<style scoped>\n",
              "    .dataframe tbody tr th:only-of-type {\n",
              "        vertical-align: middle;\n",
              "    }\n",
              "\n",
              "    .dataframe tbody tr th {\n",
              "        vertical-align: top;\n",
              "    }\n",
              "\n",
              "    .dataframe thead th {\n",
              "        text-align: right;\n",
              "    }\n",
              "</style>\n",
              "<table border=\"1\" class=\"dataframe\">\n",
              "  <thead>\n",
              "    <tr style=\"text-align: right;\">\n",
              "      <th></th>\n",
              "      <th>q_bucket</th>\n",
              "      <th>count</th>\n",
              "      <th>response_count</th>\n",
              "      <th>min_probability</th>\n",
              "      <th>mean_probability</th>\n",
              "    </tr>\n",
              "  </thead>\n",
              "  <tbody>\n",
              "    <tr>\n",
              "      <th>0</th>\n",
              "      <td>(-0.001, 0.0002]</td>\n",
              "      <td>14</td>\n",
              "      <td>6</td>\n",
              "      <td>0.000</td>\n",
              "      <td>0.000</td>\n",
              "    </tr>\n",
              "    <tr>\n",
              "      <th>1</th>\n",
              "      <td>(0.0002, 0.002]</td>\n",
              "      <td>5</td>\n",
              "      <td>2</td>\n",
              "      <td>0.001</td>\n",
              "      <td>0.009</td>\n",
              "    </tr>\n",
              "    <tr>\n",
              "      <th>2</th>\n",
              "      <td>(0.002, 0.025]</td>\n",
              "      <td>4</td>\n",
              "      <td>6</td>\n",
              "      <td>0.003</td>\n",
              "      <td>0.048</td>\n",
              "    </tr>\n",
              "    <tr>\n",
              "      <th>3</th>\n",
              "      <td>(0.025, 0.0396]</td>\n",
              "      <td>4</td>\n",
              "      <td>4</td>\n",
              "      <td>0.029</td>\n",
              "      <td>0.119</td>\n",
              "    </tr>\n",
              "    <tr>\n",
              "      <th>4</th>\n",
              "      <td>(0.0396, 0.111]</td>\n",
              "      <td>4</td>\n",
              "      <td>6</td>\n",
              "      <td>0.051</td>\n",
              "      <td>0.275</td>\n",
              "    </tr>\n",
              "    <tr>\n",
              "      <th>5</th>\n",
              "      <td>(0.111, 0.922]</td>\n",
              "      <td>5</td>\n",
              "      <td>6</td>\n",
              "      <td>0.119</td>\n",
              "      <td>3.621</td>\n",
              "    </tr>\n",
              "    <tr>\n",
              "      <th>6</th>\n",
              "      <td>(0.922, 0.988]</td>\n",
              "      <td>6</td>\n",
              "      <td>6</td>\n",
              "      <td>0.971</td>\n",
              "      <td>5.904</td>\n",
              "    </tr>\n",
              "    <tr>\n",
              "      <th>7</th>\n",
              "      <td>(0.988, 1.0]</td>\n",
              "      <td>3</td>\n",
              "      <td>3</td>\n",
              "      <td>0.998</td>\n",
              "      <td>2.997</td>\n",
              "    </tr>\n",
              "  </tbody>\n",
              "</table>\n",
              "</div>"
            ],
            "text/plain": [
              "           q_bucket  count  response_count  min_probability  mean_probability\n",
              "0  (-0.001, 0.0002]     14               6            0.000             0.000\n",
              "1   (0.0002, 0.002]      5               2            0.001             0.009\n",
              "2    (0.002, 0.025]      4               6            0.003             0.048\n",
              "3   (0.025, 0.0396]      4               4            0.029             0.119\n",
              "4   (0.0396, 0.111]      4               6            0.051             0.275\n",
              "5    (0.111, 0.922]      5               6            0.119             3.621\n",
              "6    (0.922, 0.988]      6               6            0.971             5.904\n",
              "7      (0.988, 1.0]      3               3            0.998             2.997"
            ]
          },
          "metadata": {},
          "execution_count": 256
        }
      ]
    },
    {
      "cell_type": "code",
      "metadata": {
        "colab": {
          "base_uri": "https://localhost:8080/",
          "height": 300
        },
        "id": "8jEyctT1dZga",
        "outputId": "603b769a-e948-40f6-d4a2-9df2501653a9"
      },
      "source": [
        "eval_table['precision'] = eval_table['response_count'] / eval_table['count'] \n",
        "eval_table"
      ],
      "execution_count": null,
      "outputs": [
        {
          "output_type": "execute_result",
          "data": {
            "text/html": [
              "<div>\n",
              "<style scoped>\n",
              "    .dataframe tbody tr th:only-of-type {\n",
              "        vertical-align: middle;\n",
              "    }\n",
              "\n",
              "    .dataframe tbody tr th {\n",
              "        vertical-align: top;\n",
              "    }\n",
              "\n",
              "    .dataframe thead th {\n",
              "        text-align: right;\n",
              "    }\n",
              "</style>\n",
              "<table border=\"1\" class=\"dataframe\">\n",
              "  <thead>\n",
              "    <tr style=\"text-align: right;\">\n",
              "      <th></th>\n",
              "      <th>q_bucket</th>\n",
              "      <th>count</th>\n",
              "      <th>response_count</th>\n",
              "      <th>min_probability</th>\n",
              "      <th>mean_probability</th>\n",
              "      <th>precision</th>\n",
              "    </tr>\n",
              "  </thead>\n",
              "  <tbody>\n",
              "    <tr>\n",
              "      <th>0</th>\n",
              "      <td>(-0.001, 0.0002]</td>\n",
              "      <td>14</td>\n",
              "      <td>6</td>\n",
              "      <td>0.000</td>\n",
              "      <td>0.000</td>\n",
              "      <td>0.428571</td>\n",
              "    </tr>\n",
              "    <tr>\n",
              "      <th>1</th>\n",
              "      <td>(0.0002, 0.002]</td>\n",
              "      <td>5</td>\n",
              "      <td>2</td>\n",
              "      <td>0.001</td>\n",
              "      <td>0.009</td>\n",
              "      <td>0.400000</td>\n",
              "    </tr>\n",
              "    <tr>\n",
              "      <th>2</th>\n",
              "      <td>(0.002, 0.025]</td>\n",
              "      <td>4</td>\n",
              "      <td>6</td>\n",
              "      <td>0.003</td>\n",
              "      <td>0.048</td>\n",
              "      <td>1.500000</td>\n",
              "    </tr>\n",
              "    <tr>\n",
              "      <th>3</th>\n",
              "      <td>(0.025, 0.0396]</td>\n",
              "      <td>4</td>\n",
              "      <td>4</td>\n",
              "      <td>0.029</td>\n",
              "      <td>0.119</td>\n",
              "      <td>1.000000</td>\n",
              "    </tr>\n",
              "    <tr>\n",
              "      <th>4</th>\n",
              "      <td>(0.0396, 0.111]</td>\n",
              "      <td>4</td>\n",
              "      <td>6</td>\n",
              "      <td>0.051</td>\n",
              "      <td>0.275</td>\n",
              "      <td>1.500000</td>\n",
              "    </tr>\n",
              "    <tr>\n",
              "      <th>5</th>\n",
              "      <td>(0.111, 0.922]</td>\n",
              "      <td>5</td>\n",
              "      <td>6</td>\n",
              "      <td>0.119</td>\n",
              "      <td>3.621</td>\n",
              "      <td>1.200000</td>\n",
              "    </tr>\n",
              "    <tr>\n",
              "      <th>6</th>\n",
              "      <td>(0.922, 0.988]</td>\n",
              "      <td>6</td>\n",
              "      <td>6</td>\n",
              "      <td>0.971</td>\n",
              "      <td>5.904</td>\n",
              "      <td>1.000000</td>\n",
              "    </tr>\n",
              "    <tr>\n",
              "      <th>7</th>\n",
              "      <td>(0.988, 1.0]</td>\n",
              "      <td>3</td>\n",
              "      <td>3</td>\n",
              "      <td>0.998</td>\n",
              "      <td>2.997</td>\n",
              "      <td>1.000000</td>\n",
              "    </tr>\n",
              "  </tbody>\n",
              "</table>\n",
              "</div>"
            ],
            "text/plain": [
              "           q_bucket  count  ...  mean_probability  precision\n",
              "0  (-0.001, 0.0002]     14  ...             0.000   0.428571\n",
              "1   (0.0002, 0.002]      5  ...             0.009   0.400000\n",
              "2    (0.002, 0.025]      4  ...             0.048   1.500000\n",
              "3   (0.025, 0.0396]      4  ...             0.119   1.000000\n",
              "4   (0.0396, 0.111]      4  ...             0.275   1.500000\n",
              "5    (0.111, 0.922]      5  ...             3.621   1.200000\n",
              "6    (0.922, 0.988]      6  ...             5.904   1.000000\n",
              "7      (0.988, 1.0]      3  ...             2.997   1.000000\n",
              "\n",
              "[8 rows x 6 columns]"
            ]
          },
          "metadata": {},
          "execution_count": 257
        }
      ]
    },
    {
      "cell_type": "code",
      "metadata": {
        "colab": {
          "base_uri": "https://localhost:8080/",
          "height": 300
        },
        "id": "8H6LvmTAiJ87",
        "outputId": "9d037c03-8b65-4e78-bfbd-1d40383db05c"
      },
      "source": [
        "eval_table['response_fraction'] = eval_table['response_count'] / eval_table['response_count'].sum()\n",
        "eval_table"
      ],
      "execution_count": null,
      "outputs": [
        {
          "output_type": "execute_result",
          "data": {
            "text/html": [
              "<div>\n",
              "<style scoped>\n",
              "    .dataframe tbody tr th:only-of-type {\n",
              "        vertical-align: middle;\n",
              "    }\n",
              "\n",
              "    .dataframe tbody tr th {\n",
              "        vertical-align: top;\n",
              "    }\n",
              "\n",
              "    .dataframe thead th {\n",
              "        text-align: right;\n",
              "    }\n",
              "</style>\n",
              "<table border=\"1\" class=\"dataframe\">\n",
              "  <thead>\n",
              "    <tr style=\"text-align: right;\">\n",
              "      <th></th>\n",
              "      <th>q_bucket</th>\n",
              "      <th>count</th>\n",
              "      <th>response_count</th>\n",
              "      <th>min_probability</th>\n",
              "      <th>mean_probability</th>\n",
              "      <th>precision</th>\n",
              "      <th>response_fraction</th>\n",
              "    </tr>\n",
              "  </thead>\n",
              "  <tbody>\n",
              "    <tr>\n",
              "      <th>0</th>\n",
              "      <td>(-0.001, 0.0002]</td>\n",
              "      <td>14</td>\n",
              "      <td>6</td>\n",
              "      <td>0.000</td>\n",
              "      <td>0.000</td>\n",
              "      <td>0.428571</td>\n",
              "      <td>0.153846</td>\n",
              "    </tr>\n",
              "    <tr>\n",
              "      <th>1</th>\n",
              "      <td>(0.0002, 0.002]</td>\n",
              "      <td>5</td>\n",
              "      <td>2</td>\n",
              "      <td>0.001</td>\n",
              "      <td>0.009</td>\n",
              "      <td>0.400000</td>\n",
              "      <td>0.051282</td>\n",
              "    </tr>\n",
              "    <tr>\n",
              "      <th>2</th>\n",
              "      <td>(0.002, 0.025]</td>\n",
              "      <td>4</td>\n",
              "      <td>6</td>\n",
              "      <td>0.003</td>\n",
              "      <td>0.048</td>\n",
              "      <td>1.500000</td>\n",
              "      <td>0.153846</td>\n",
              "    </tr>\n",
              "    <tr>\n",
              "      <th>3</th>\n",
              "      <td>(0.025, 0.0396]</td>\n",
              "      <td>4</td>\n",
              "      <td>4</td>\n",
              "      <td>0.029</td>\n",
              "      <td>0.119</td>\n",
              "      <td>1.000000</td>\n",
              "      <td>0.102564</td>\n",
              "    </tr>\n",
              "    <tr>\n",
              "      <th>4</th>\n",
              "      <td>(0.0396, 0.111]</td>\n",
              "      <td>4</td>\n",
              "      <td>6</td>\n",
              "      <td>0.051</td>\n",
              "      <td>0.275</td>\n",
              "      <td>1.500000</td>\n",
              "      <td>0.153846</td>\n",
              "    </tr>\n",
              "    <tr>\n",
              "      <th>5</th>\n",
              "      <td>(0.111, 0.922]</td>\n",
              "      <td>5</td>\n",
              "      <td>6</td>\n",
              "      <td>0.119</td>\n",
              "      <td>3.621</td>\n",
              "      <td>1.200000</td>\n",
              "      <td>0.153846</td>\n",
              "    </tr>\n",
              "    <tr>\n",
              "      <th>6</th>\n",
              "      <td>(0.922, 0.988]</td>\n",
              "      <td>6</td>\n",
              "      <td>6</td>\n",
              "      <td>0.971</td>\n",
              "      <td>5.904</td>\n",
              "      <td>1.000000</td>\n",
              "      <td>0.153846</td>\n",
              "    </tr>\n",
              "    <tr>\n",
              "      <th>7</th>\n",
              "      <td>(0.988, 1.0]</td>\n",
              "      <td>3</td>\n",
              "      <td>3</td>\n",
              "      <td>0.998</td>\n",
              "      <td>2.997</td>\n",
              "      <td>1.000000</td>\n",
              "      <td>0.076923</td>\n",
              "    </tr>\n",
              "  </tbody>\n",
              "</table>\n",
              "</div>"
            ],
            "text/plain": [
              "           q_bucket  count  ...  precision  response_fraction\n",
              "0  (-0.001, 0.0002]     14  ...   0.428571           0.153846\n",
              "1   (0.0002, 0.002]      5  ...   0.400000           0.051282\n",
              "2    (0.002, 0.025]      4  ...   1.500000           0.153846\n",
              "3   (0.025, 0.0396]      4  ...   1.000000           0.102564\n",
              "4   (0.0396, 0.111]      4  ...   1.500000           0.153846\n",
              "5    (0.111, 0.922]      5  ...   1.200000           0.153846\n",
              "6    (0.922, 0.988]      6  ...   1.000000           0.153846\n",
              "7      (0.988, 1.0]      3  ...   1.000000           0.076923\n",
              "\n",
              "[8 rows x 7 columns]"
            ]
          },
          "metadata": {},
          "execution_count": 258
        }
      ]
    },
    {
      "cell_type": "code",
      "metadata": {
        "colab": {
          "base_uri": "https://localhost:8080/",
          "height": 300
        },
        "id": "56nkDaNXnx2P",
        "outputId": "427f257b-aceb-41bb-d555-ac2ccaecf277"
      },
      "source": [
        "\n",
        "eval_table = eval_table.sort_index(ascending=False)\n",
        "eval_table"
      ],
      "execution_count": null,
      "outputs": [
        {
          "output_type": "execute_result",
          "data": {
            "text/html": [
              "<div>\n",
              "<style scoped>\n",
              "    .dataframe tbody tr th:only-of-type {\n",
              "        vertical-align: middle;\n",
              "    }\n",
              "\n",
              "    .dataframe tbody tr th {\n",
              "        vertical-align: top;\n",
              "    }\n",
              "\n",
              "    .dataframe thead th {\n",
              "        text-align: right;\n",
              "    }\n",
              "</style>\n",
              "<table border=\"1\" class=\"dataframe\">\n",
              "  <thead>\n",
              "    <tr style=\"text-align: right;\">\n",
              "      <th></th>\n",
              "      <th>q_bucket</th>\n",
              "      <th>count</th>\n",
              "      <th>response_count</th>\n",
              "      <th>min_probability</th>\n",
              "      <th>mean_probability</th>\n",
              "      <th>precision</th>\n",
              "      <th>response_fraction</th>\n",
              "    </tr>\n",
              "  </thead>\n",
              "  <tbody>\n",
              "    <tr>\n",
              "      <th>7</th>\n",
              "      <td>(0.379, 1.0]</td>\n",
              "      <td>1229</td>\n",
              "      <td>438</td>\n",
              "      <td>0.379567</td>\n",
              "      <td>662.711378</td>\n",
              "      <td>0.356387</td>\n",
              "      <td>0.242525</td>\n",
              "    </tr>\n",
              "    <tr>\n",
              "      <th>6</th>\n",
              "      <td>(0.252, 0.379]</td>\n",
              "      <td>1225</td>\n",
              "      <td>334</td>\n",
              "      <td>0.252204</td>\n",
              "      <td>384.640068</td>\n",
              "      <td>0.272653</td>\n",
              "      <td>0.184939</td>\n",
              "    </tr>\n",
              "    <tr>\n",
              "      <th>5</th>\n",
              "      <td>(0.174, 0.252]</td>\n",
              "      <td>1229</td>\n",
              "      <td>232</td>\n",
              "      <td>0.174190</td>\n",
              "      <td>254.845793</td>\n",
              "      <td>0.188771</td>\n",
              "      <td>0.128461</td>\n",
              "    </tr>\n",
              "    <tr>\n",
              "      <th>4</th>\n",
              "      <td>(0.124, 0.174]</td>\n",
              "      <td>1223</td>\n",
              "      <td>231</td>\n",
              "      <td>0.123983</td>\n",
              "      <td>180.541472</td>\n",
              "      <td>0.188880</td>\n",
              "      <td>0.127907</td>\n",
              "    </tr>\n",
              "    <tr>\n",
              "      <th>3</th>\n",
              "      <td>(0.0793, 0.124]</td>\n",
              "      <td>1257</td>\n",
              "      <td>156</td>\n",
              "      <td>0.079476</td>\n",
              "      <td>130.653597</td>\n",
              "      <td>0.124105</td>\n",
              "      <td>0.086379</td>\n",
              "    </tr>\n",
              "    <tr>\n",
              "      <th>2</th>\n",
              "      <td>(0.0362, 0.0793]</td>\n",
              "      <td>1226</td>\n",
              "      <td>155</td>\n",
              "      <td>0.036213</td>\n",
              "      <td>72.708790</td>\n",
              "      <td>0.126427</td>\n",
              "      <td>0.085825</td>\n",
              "    </tr>\n",
              "    <tr>\n",
              "      <th>1</th>\n",
              "      <td>(0.00845, 0.0362]</td>\n",
              "      <td>1241</td>\n",
              "      <td>126</td>\n",
              "      <td>0.008459</td>\n",
              "      <td>26.323858</td>\n",
              "      <td>0.101531</td>\n",
              "      <td>0.069767</td>\n",
              "    </tr>\n",
              "    <tr>\n",
              "      <th>0</th>\n",
              "      <td>(-0.001, 0.00845]</td>\n",
              "      <td>3699</td>\n",
              "      <td>134</td>\n",
              "      <td>0.000000</td>\n",
              "      <td>2.761970</td>\n",
              "      <td>0.036226</td>\n",
              "      <td>0.074197</td>\n",
              "    </tr>\n",
              "  </tbody>\n",
              "</table>\n",
              "</div>"
            ],
            "text/plain": [
              "            q_bucket  count  ...  precision  response_fraction\n",
              "7       (0.379, 1.0]   1229  ...   0.356387           0.242525\n",
              "6     (0.252, 0.379]   1225  ...   0.272653           0.184939\n",
              "5     (0.174, 0.252]   1229  ...   0.188771           0.128461\n",
              "4     (0.124, 0.174]   1223  ...   0.188880           0.127907\n",
              "3    (0.0793, 0.124]   1257  ...   0.124105           0.086379\n",
              "2   (0.0362, 0.0793]   1226  ...   0.126427           0.085825\n",
              "1  (0.00845, 0.0362]   1241  ...   0.101531           0.069767\n",
              "0  (-0.001, 0.00845]   3699  ...   0.036226           0.074197\n",
              "\n",
              "[8 rows x 7 columns]"
            ]
          },
          "metadata": {},
          "execution_count": 136
        }
      ]
    },
    {
      "cell_type": "code",
      "metadata": {
        "colab": {
          "base_uri": "https://localhost:8080/",
          "height": 300
        },
        "id": "H2dbFPxSjmgK",
        "outputId": "ba3f6462-96c4-46dc-9fda-a80218e2588a"
      },
      "source": [
        "eval_table['cumulative_response_count'] = eval_table['response_count'].cumsum()\n",
        "eval_table['cumulative_count'] = eval_table['count'].cumsum()\n",
        "eval_table = eval_table.sort_index(ascending=True)\n",
        "eval_table\n"
      ],
      "execution_count": null,
      "outputs": [
        {
          "output_type": "execute_result",
          "data": {
            "text/html": [
              "<div>\n",
              "<style scoped>\n",
              "    .dataframe tbody tr th:only-of-type {\n",
              "        vertical-align: middle;\n",
              "    }\n",
              "\n",
              "    .dataframe tbody tr th {\n",
              "        vertical-align: top;\n",
              "    }\n",
              "\n",
              "    .dataframe thead th {\n",
              "        text-align: right;\n",
              "    }\n",
              "</style>\n",
              "<table border=\"1\" class=\"dataframe\">\n",
              "  <thead>\n",
              "    <tr style=\"text-align: right;\">\n",
              "      <th></th>\n",
              "      <th>q_bucket</th>\n",
              "      <th>count</th>\n",
              "      <th>response_count</th>\n",
              "      <th>min_probability</th>\n",
              "      <th>mean_probability</th>\n",
              "      <th>precision</th>\n",
              "      <th>response_fraction</th>\n",
              "      <th>cumulative_response_count</th>\n",
              "      <th>cumulative_count</th>\n",
              "    </tr>\n",
              "  </thead>\n",
              "  <tbody>\n",
              "    <tr>\n",
              "      <th>0</th>\n",
              "      <td>(-0.001, 0.00845]</td>\n",
              "      <td>3699</td>\n",
              "      <td>134</td>\n",
              "      <td>0.000000</td>\n",
              "      <td>2.761970</td>\n",
              "      <td>0.036226</td>\n",
              "      <td>0.074197</td>\n",
              "      <td>1806</td>\n",
              "      <td>12329</td>\n",
              "    </tr>\n",
              "    <tr>\n",
              "      <th>1</th>\n",
              "      <td>(0.00845, 0.0362]</td>\n",
              "      <td>1241</td>\n",
              "      <td>126</td>\n",
              "      <td>0.008459</td>\n",
              "      <td>26.323858</td>\n",
              "      <td>0.101531</td>\n",
              "      <td>0.069767</td>\n",
              "      <td>1672</td>\n",
              "      <td>8630</td>\n",
              "    </tr>\n",
              "    <tr>\n",
              "      <th>2</th>\n",
              "      <td>(0.0362, 0.0793]</td>\n",
              "      <td>1226</td>\n",
              "      <td>155</td>\n",
              "      <td>0.036213</td>\n",
              "      <td>72.708790</td>\n",
              "      <td>0.126427</td>\n",
              "      <td>0.085825</td>\n",
              "      <td>1546</td>\n",
              "      <td>7389</td>\n",
              "    </tr>\n",
              "    <tr>\n",
              "      <th>3</th>\n",
              "      <td>(0.0793, 0.124]</td>\n",
              "      <td>1257</td>\n",
              "      <td>156</td>\n",
              "      <td>0.079476</td>\n",
              "      <td>130.653597</td>\n",
              "      <td>0.124105</td>\n",
              "      <td>0.086379</td>\n",
              "      <td>1391</td>\n",
              "      <td>6163</td>\n",
              "    </tr>\n",
              "    <tr>\n",
              "      <th>4</th>\n",
              "      <td>(0.124, 0.174]</td>\n",
              "      <td>1223</td>\n",
              "      <td>231</td>\n",
              "      <td>0.123983</td>\n",
              "      <td>180.541472</td>\n",
              "      <td>0.188880</td>\n",
              "      <td>0.127907</td>\n",
              "      <td>1235</td>\n",
              "      <td>4906</td>\n",
              "    </tr>\n",
              "    <tr>\n",
              "      <th>5</th>\n",
              "      <td>(0.174, 0.252]</td>\n",
              "      <td>1229</td>\n",
              "      <td>232</td>\n",
              "      <td>0.174190</td>\n",
              "      <td>254.845793</td>\n",
              "      <td>0.188771</td>\n",
              "      <td>0.128461</td>\n",
              "      <td>1004</td>\n",
              "      <td>3683</td>\n",
              "    </tr>\n",
              "    <tr>\n",
              "      <th>6</th>\n",
              "      <td>(0.252, 0.379]</td>\n",
              "      <td>1225</td>\n",
              "      <td>334</td>\n",
              "      <td>0.252204</td>\n",
              "      <td>384.640068</td>\n",
              "      <td>0.272653</td>\n",
              "      <td>0.184939</td>\n",
              "      <td>772</td>\n",
              "      <td>2454</td>\n",
              "    </tr>\n",
              "    <tr>\n",
              "      <th>7</th>\n",
              "      <td>(0.379, 1.0]</td>\n",
              "      <td>1229</td>\n",
              "      <td>438</td>\n",
              "      <td>0.379567</td>\n",
              "      <td>662.711378</td>\n",
              "      <td>0.356387</td>\n",
              "      <td>0.242525</td>\n",
              "      <td>438</td>\n",
              "      <td>1229</td>\n",
              "    </tr>\n",
              "  </tbody>\n",
              "</table>\n",
              "</div>"
            ],
            "text/plain": [
              "            q_bucket  count  ...  cumulative_response_count  cumulative_count\n",
              "0  (-0.001, 0.00845]   3699  ...                       1806             12329\n",
              "1  (0.00845, 0.0362]   1241  ...                       1672              8630\n",
              "2   (0.0362, 0.0793]   1226  ...                       1546              7389\n",
              "3    (0.0793, 0.124]   1257  ...                       1391              6163\n",
              "4     (0.124, 0.174]   1223  ...                       1235              4906\n",
              "5     (0.174, 0.252]   1229  ...                       1004              3683\n",
              "6     (0.252, 0.379]   1225  ...                        772              2454\n",
              "7       (0.379, 1.0]   1229  ...                        438              1229\n",
              "\n",
              "[8 rows x 9 columns]"
            ]
          },
          "metadata": {},
          "execution_count": 137
        }
      ]
    },
    {
      "cell_type": "code",
      "metadata": {
        "colab": {
          "base_uri": "https://localhost:8080/",
          "height": 459
        },
        "id": "zuHIQQrAj8DM",
        "outputId": "ede3368b-df31-4cef-d376-8893e3f942ff"
      },
      "source": [
        "eval_table['cumulative_precision'] = eval_table['cumulative_response_count']/eval_table['cumulative_count']\n",
        "eval_table['cumulative_response_fraction'] = eval_table['cumulative_response_count'] / eval_table['response_count'].sum()\n",
        "eval_table"
      ],
      "execution_count": null,
      "outputs": [
        {
          "output_type": "execute_result",
          "data": {
            "text/html": [
              "<div>\n",
              "<style scoped>\n",
              "    .dataframe tbody tr th:only-of-type {\n",
              "        vertical-align: middle;\n",
              "    }\n",
              "\n",
              "    .dataframe tbody tr th {\n",
              "        vertical-align: top;\n",
              "    }\n",
              "\n",
              "    .dataframe thead th {\n",
              "        text-align: right;\n",
              "    }\n",
              "</style>\n",
              "<table border=\"1\" class=\"dataframe\">\n",
              "  <thead>\n",
              "    <tr style=\"text-align: right;\">\n",
              "      <th></th>\n",
              "      <th>q_bucket</th>\n",
              "      <th>count</th>\n",
              "      <th>response_count</th>\n",
              "      <th>min_probability</th>\n",
              "      <th>mean_probability</th>\n",
              "      <th>precision</th>\n",
              "      <th>response_fraction</th>\n",
              "      <th>cumulative_response_count</th>\n",
              "      <th>cumulative_count</th>\n",
              "      <th>cumulative_precision</th>\n",
              "      <th>cumulative_response_fraction</th>\n",
              "    </tr>\n",
              "  </thead>\n",
              "  <tbody>\n",
              "    <tr>\n",
              "      <th>0</th>\n",
              "      <td>(-0.001, 0.00845]</td>\n",
              "      <td>3699</td>\n",
              "      <td>134</td>\n",
              "      <td>0.000000</td>\n",
              "      <td>2.761970</td>\n",
              "      <td>0.036226</td>\n",
              "      <td>0.074197</td>\n",
              "      <td>1806</td>\n",
              "      <td>12329</td>\n",
              "      <td>0.146484</td>\n",
              "      <td>1.000000</td>\n",
              "    </tr>\n",
              "    <tr>\n",
              "      <th>1</th>\n",
              "      <td>(0.00845, 0.0362]</td>\n",
              "      <td>1241</td>\n",
              "      <td>126</td>\n",
              "      <td>0.008459</td>\n",
              "      <td>26.323858</td>\n",
              "      <td>0.101531</td>\n",
              "      <td>0.069767</td>\n",
              "      <td>1672</td>\n",
              "      <td>8630</td>\n",
              "      <td>0.193743</td>\n",
              "      <td>0.925803</td>\n",
              "    </tr>\n",
              "    <tr>\n",
              "      <th>2</th>\n",
              "      <td>(0.0362, 0.0793]</td>\n",
              "      <td>1226</td>\n",
              "      <td>155</td>\n",
              "      <td>0.036213</td>\n",
              "      <td>72.708790</td>\n",
              "      <td>0.126427</td>\n",
              "      <td>0.085825</td>\n",
              "      <td>1546</td>\n",
              "      <td>7389</td>\n",
              "      <td>0.209230</td>\n",
              "      <td>0.856035</td>\n",
              "    </tr>\n",
              "    <tr>\n",
              "      <th>3</th>\n",
              "      <td>(0.0793, 0.124]</td>\n",
              "      <td>1257</td>\n",
              "      <td>156</td>\n",
              "      <td>0.079476</td>\n",
              "      <td>130.653597</td>\n",
              "      <td>0.124105</td>\n",
              "      <td>0.086379</td>\n",
              "      <td>1391</td>\n",
              "      <td>6163</td>\n",
              "      <td>0.225702</td>\n",
              "      <td>0.770210</td>\n",
              "    </tr>\n",
              "    <tr>\n",
              "      <th>4</th>\n",
              "      <td>(0.124, 0.174]</td>\n",
              "      <td>1223</td>\n",
              "      <td>231</td>\n",
              "      <td>0.123983</td>\n",
              "      <td>180.541472</td>\n",
              "      <td>0.188880</td>\n",
              "      <td>0.127907</td>\n",
              "      <td>1235</td>\n",
              "      <td>4906</td>\n",
              "      <td>0.251733</td>\n",
              "      <td>0.683832</td>\n",
              "    </tr>\n",
              "    <tr>\n",
              "      <th>5</th>\n",
              "      <td>(0.174, 0.252]</td>\n",
              "      <td>1229</td>\n",
              "      <td>232</td>\n",
              "      <td>0.174190</td>\n",
              "      <td>254.845793</td>\n",
              "      <td>0.188771</td>\n",
              "      <td>0.128461</td>\n",
              "      <td>1004</td>\n",
              "      <td>3683</td>\n",
              "      <td>0.272604</td>\n",
              "      <td>0.555925</td>\n",
              "    </tr>\n",
              "    <tr>\n",
              "      <th>6</th>\n",
              "      <td>(0.252, 0.379]</td>\n",
              "      <td>1225</td>\n",
              "      <td>334</td>\n",
              "      <td>0.252204</td>\n",
              "      <td>384.640068</td>\n",
              "      <td>0.272653</td>\n",
              "      <td>0.184939</td>\n",
              "      <td>772</td>\n",
              "      <td>2454</td>\n",
              "      <td>0.314588</td>\n",
              "      <td>0.427464</td>\n",
              "    </tr>\n",
              "    <tr>\n",
              "      <th>7</th>\n",
              "      <td>(0.379, 1.0]</td>\n",
              "      <td>1229</td>\n",
              "      <td>438</td>\n",
              "      <td>0.379567</td>\n",
              "      <td>662.711378</td>\n",
              "      <td>0.356387</td>\n",
              "      <td>0.242525</td>\n",
              "      <td>438</td>\n",
              "      <td>1229</td>\n",
              "      <td>0.356387</td>\n",
              "      <td>0.242525</td>\n",
              "    </tr>\n",
              "  </tbody>\n",
              "</table>\n",
              "</div>"
            ],
            "text/plain": [
              "            q_bucket  count  ...  cumulative_precision  cumulative_response_fraction\n",
              "0  (-0.001, 0.00845]   3699  ...              0.146484                      1.000000\n",
              "1  (0.00845, 0.0362]   1241  ...              0.193743                      0.925803\n",
              "2   (0.0362, 0.0793]   1226  ...              0.209230                      0.856035\n",
              "3    (0.0793, 0.124]   1257  ...              0.225702                      0.770210\n",
              "4     (0.124, 0.174]   1223  ...              0.251733                      0.683832\n",
              "5     (0.174, 0.252]   1229  ...              0.272604                      0.555925\n",
              "6     (0.252, 0.379]   1225  ...              0.314588                      0.427464\n",
              "7       (0.379, 1.0]   1229  ...              0.356387                      0.242525\n",
              "\n",
              "[8 rows x 11 columns]"
            ]
          },
          "metadata": {},
          "execution_count": 138
        }
      ]
    },
    {
      "cell_type": "markdown",
      "metadata": {
        "id": "mignFaOSgPWn"
      },
      "source": [
        "#  Receiver operating characteristic (ROC)"
      ]
    },
    {
      "cell_type": "code",
      "metadata": {
        "colab": {
          "base_uri": "https://localhost:8080/",
          "height": 272
        },
        "id": "59iL-rrRsxbT",
        "outputId": "441664fd-d659-4f67-eda8-1e27f1cf08ee"
      },
      "source": [
        "cmap = cm.get_cmap('cool') \n",
        "\n",
        "fpr, tpr, thresholds = metrics.roc_curve(test_result['y_act'], test_result['y_pred_prob'], pos_label=1)\n",
        "roc = pd.DataFrame(data={'Thresholds':thresholds[1:], 'FPR':fpr[1:], 'TPR':tpr[1:]})\n",
        "roc.plot(kind='scatter', x='FPR', y='TPR', c='Thresholds', cmap=cmap)\n",
        "\n",
        "roc_auc = metrics.roc_auc_score(test_result['y_act'], test_result['y_pred_prob'])\n",
        "\n",
        "print(F\"ROC AUC Score = {roc_auc}\")"
      ],
      "execution_count": null,
      "outputs": [
        {
          "output_type": "stream",
          "name": "stdout",
          "text": [
            "ROC AUC Score = 0.7261924494034004\n"
          ]
        },
        {
          "output_type": "display_data",
          "data": {
            "image/png": "[encoded data removed]",
            "text/plain": [
              "<Figure size 432x288 with 2 Axes>"
            ]
          },
          "metadata": {
            "needs_background": "light"
          }
        }
      ]
    },
    {
      "cell_type": "markdown",
      "metadata": {
        "id": "3Xq64up_gWJ7"
      },
      "source": [
        "# Precision Recall Curve (PRC)"
      ]
    },
    {
      "cell_type": "code",
      "metadata": {
        "colab": {
          "base_uri": "https://localhost:8080/",
          "height": 272
        },
        "id": "-N4JxSHC7LV-",
        "outputId": "ae778be5-4645-41cb-a87f-90306f331dbb"
      },
      "source": [
        "precision, recall, thresholds = metrics.precision_recall_curve(test_result['y_act'], test_result['y_pred_prob'], pos_label=1)\n",
        "\n",
        "prc = pd.DataFrame(data={'Thresholds':thresholds, 'Precision':precision[:-1], 'Recall':recall[:-1]})\n",
        "prc.plot(kind='scatter', x='Recall', y='Precision', c='Thresholds', cmap=cmap)"
      ],
      "execution_count": null,
      "outputs": [
        {
          "output_type": "execute_result",
          "data": {
            "text/plain": [
              "<matplotlib.axes._subplots.AxesSubplot at 0x7f697b75b610>"
            ]
          },
          "metadata": {},
          "execution_count": 141
        },
        {
          "output_type": "display_data",
          "data": {
            "image/png": "[encoded data removed]",
            "text/plain": [
              "<Figure size 432x288 with 2 Axes>"
            ]
          },
          "metadata": {
            "needs_background": "light"
          }
        }
      ]
    },
    {
      "cell_type": "markdown",
      "metadata": {
        "id": "BPCv1UrmmDJO"
      },
      "source": [
        "# Support Vector Machines\n",
        "* https://en.wikipedia.org/wiki/Support-vector_machine\n",
        "* https://scikit-learn.org/stable/modules/svm.html"
      ]
    },
    {
      "cell_type": "code",
      "metadata": {
        "colab": {
          "base_uri": "https://localhost:8080/"
        },
        "id": "LJ0lOzhEmCie",
        "outputId": "3bf92702-5089-4765-e3ca-811546d1c226"
      },
      "source": [
        "model = svm.SVC(kernel='linear', C=1.0, probability=True)\n",
        "\n",
        "model.fit(X_train, y_train)"
      ],
      "execution_count": null,
      "outputs": [
        {
          "output_type": "execute_result",
          "data": {
            "text/plain": [
              "SVC(C=1.0, break_ties=False, cache_size=200, class_weight=None, coef0=0.0,\n",
              "    decision_function_shape='ovr', degree=3, gamma='scale', kernel='linear',\n",
              "    max_iter=-1, probability=True, random_state=None, shrinking=True, tol=0.001,\n",
              "    verbose=False)"
            ]
          },
          "metadata": {},
          "execution_count": 259
        }
      ]
    },
    {
      "cell_type": "code",
      "metadata": {
        "colab": {
          "base_uri": "https://localhost:8080/",
          "height": 363
        },
        "id": "mDgLe37arGo3",
        "outputId": "7f17448f-f29b-46eb-889d-be4a04ef6f04"
      },
      "source": [
        "y_pred = model.predict(X_test)\n",
        "y_pred_prob = model.predict_proba(X_test)[:, 1]\n",
        "test_result = pd.DataFrame(data={'y_act':y_test, 'y_pred':y_pred, 'y_pred_prob':y_pred_prob})\n",
        "test_result.sample(10)"
      ],
      "execution_count": null,
      "outputs": [
        {
          "output_type": "execute_result",
          "data": {
            "text/html": [
              "<div>\n",
              "<style scoped>\n",
              "    .dataframe tbody tr th:only-of-type {\n",
              "        vertical-align: middle;\n",
              "    }\n",
              "\n",
              "    .dataframe tbody tr th {\n",
              "        vertical-align: top;\n",
              "    }\n",
              "\n",
              "    .dataframe thead th {\n",
              "        text-align: right;\n",
              "    }\n",
              "</style>\n",
              "<table border=\"1\" class=\"dataframe\">\n",
              "  <thead>\n",
              "    <tr style=\"text-align: right;\">\n",
              "      <th></th>\n",
              "      <th>y_act</th>\n",
              "      <th>y_pred</th>\n",
              "      <th>y_pred_prob</th>\n",
              "    </tr>\n",
              "  </thead>\n",
              "  <tbody>\n",
              "    <tr>\n",
              "      <th>11</th>\n",
              "      <td>0</td>\n",
              "      <td>0</td>\n",
              "      <td>0.037836</td>\n",
              "    </tr>\n",
              "    <tr>\n",
              "      <th>13</th>\n",
              "      <td>0</td>\n",
              "      <td>0</td>\n",
              "      <td>0.040455</td>\n",
              "    </tr>\n",
              "    <tr>\n",
              "      <th>3</th>\n",
              "      <td>1</td>\n",
              "      <td>1</td>\n",
              "      <td>0.897620</td>\n",
              "    </tr>\n",
              "    <tr>\n",
              "      <th>14</th>\n",
              "      <td>0</td>\n",
              "      <td>0</td>\n",
              "      <td>0.024572</td>\n",
              "    </tr>\n",
              "    <tr>\n",
              "      <th>37</th>\n",
              "      <td>0</td>\n",
              "      <td>0</td>\n",
              "      <td>0.031125</td>\n",
              "    </tr>\n",
              "    <tr>\n",
              "      <th>35</th>\n",
              "      <td>2</td>\n",
              "      <td>2</td>\n",
              "      <td>0.090346</td>\n",
              "    </tr>\n",
              "    <tr>\n",
              "      <th>22</th>\n",
              "      <td>0</td>\n",
              "      <td>0</td>\n",
              "      <td>0.048332</td>\n",
              "    </tr>\n",
              "    <tr>\n",
              "      <th>18</th>\n",
              "      <td>1</td>\n",
              "      <td>1</td>\n",
              "      <td>0.905286</td>\n",
              "    </tr>\n",
              "    <tr>\n",
              "      <th>42</th>\n",
              "      <td>1</td>\n",
              "      <td>1</td>\n",
              "      <td>0.937171</td>\n",
              "    </tr>\n",
              "    <tr>\n",
              "      <th>1</th>\n",
              "      <td>0</td>\n",
              "      <td>0</td>\n",
              "      <td>0.039553</td>\n",
              "    </tr>\n",
              "  </tbody>\n",
              "</table>\n",
              "</div>"
            ],
            "text/plain": [
              "    y_act  y_pred  y_pred_prob\n",
              "11      0       0     0.037836\n",
              "13      0       0     0.040455\n",
              "3       1       1     0.897620\n",
              "14      0       0     0.024572\n",
              "37      0       0     0.031125\n",
              "35      2       2     0.090346\n",
              "22      0       0     0.048332\n",
              "18      1       1     0.905286\n",
              "42      1       1     0.937171\n",
              "1       0       0     0.039553"
            ]
          },
          "metadata": {},
          "execution_count": 260
        }
      ]
    },
    {
      "cell_type": "code",
      "metadata": {
        "colab": {
          "base_uri": "https://localhost:8080/",
          "height": 274
        },
        "id": "gmin_Bltuvbo",
        "outputId": "376d2e65-8839-4aa6-9145-4cabd3d54515"
      },
      "source": [
        "cmap = cm.get_cmap('cool') \n",
        "\n",
        "fpr, tpr, thresholds = metrics.roc_curve(test_result['y_act'], test_result['y_pred_prob'], pos_label=1)\n",
        "roc = pd.DataFrame(data={'Thresholds':thresholds[1:], 'FPR':fpr[1:], 'TPR':tpr[1:]})\n",
        "roc.plot(kind='scatter', x='FPR', y='TPR', c='Thresholds', cmap=cmap)\n",
        "\n",
        "roc_auc = metrics.roc_auc_score(test_result['y_act'], test_result['y_pred_prob'])\n",
        "\n",
        "print(F\"ROC AUC Score = {roc_auc}\")"
      ],
      "execution_count": null,
      "outputs": [
        {
          "output_type": "stream",
          "name": "stdout",
          "text": [
            "ROC AUC Score = 0.6675429573715499\n"
          ]
        },
        {
          "output_type": "display_data",
          "data": {
            "image/png": "[encoded data removed]",
            "text/plain": [
              "<Figure size 432x288 with 2 Axes>"
            ]
          },
          "metadata": {
            "needs_background": "light"
          }
        }
      ]
    },
    {
      "cell_type": "code",
      "metadata": {
        "colab": {
          "base_uri": "https://localhost:8080/",
          "height": 274
        },
        "id": "KY7deZ0iva1l",
        "outputId": "210b2c81-e4e4-45d5-bf78-bc87533dec1f"
      },
      "source": [
        "precision, recall, thresholds = metrics.precision_recall_curve(test_result['y_act'], test_result['y_pred_prob'], pos_label=1)\n",
        "\n",
        "prc = pd.DataFrame(data={'Thresholds':thresholds, 'Precision':precision[:-1], 'Recall':recall[:-1]})\n",
        "prc.plot(kind='scatter', x='Recall', y='Precision', c='Thresholds', cmap=cmap)"
      ],
      "execution_count": null,
      "outputs": [
        {
          "output_type": "execute_result",
          "data": {
            "text/plain": [
              "<matplotlib.axes._subplots.AxesSubplot at 0x7f697b659b90>"
            ]
          },
          "metadata": {},
          "execution_count": 148
        },
        {
          "output_type": "display_data",
          "data": {
            "image/png": "[encoded data removed]",
            "text/plain": [
              "<Figure size 432x288 with 2 Axes>"
            ]
          },
          "metadata": {
            "needs_background": "light"
          }
        }
      ]
    },
    {
      "cell_type": "markdown",
      "metadata": {
        "id": "P4maK3xLdV8j"
      },
      "source": [
        "<hr>\n",
        "Last update 2021-10-16 by Sumudu Tennakoon"
      ]
    }
  ]
}