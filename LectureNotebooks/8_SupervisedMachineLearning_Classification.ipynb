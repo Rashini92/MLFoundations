{
  "nbformat": 4,
  "nbformat_minor": 0,
  "metadata": {
    "colab": {
      "name": "8-SupervisedMachineLearning-Classification.ipynb",
      "provenance": []
    },
    "kernelspec": {
      "name": "python3",
      "display_name": "Python 3"
    },
    "language_info": {
      "name": "python"
    }
  },
  "cells": [
    {
      "cell_type": "markdown",
      "metadata": {
        "id": "6m7_lLtdlG3T"
      },
      "source": [
        "# Supervised Machine Learning - Classification\n",
        "Sumudu Tennakoon, PhD\n",
        "\n",
        "To learn more about Python, refeer to the following websites\n",
        "\n",
        "* Python : www.python.org\n",
        "* W3Schools : www.w3schools.com/python\n",
        "\n",
        "To learn more about the Python packages we explore in this notebook, refeer to the following websites\n",
        "\n",
        "* NumPy : www.numpy.org\n",
        "* Matplotlib : www.matplotlib.org\n",
        "* Pandas : https://pandas.pydata.org\n",
        "* Scikit-Learn : https://scikit-learn.org/\n",
        "* Seaborn: https://seaborn.pydata.org/\n",
        "* StatsModel : https://www.statsmodels.org"
      ]
    },
    {
      "cell_type": "markdown",
      "metadata": {
        "id": "2-_SlFx7kWEF"
      },
      "source": [
        "# Model Building Example"
      ]
    },
    {
      "cell_type": "code",
      "metadata": {
        "id": "jh5oi3qqWxJR"
      },
      "source": [
        "import numpy as np\n",
        "import pandas as pd\n",
        "\n",
        "# Data visualization\n",
        "import matplotlib.pyplot as plt\n",
        "from matplotlib import cm # Colomaps\n",
        "import seaborn as sns\n",
        "from sklearn import tree\n",
        "\n",
        "# Classifier algorithms\n",
        "from sklearn.linear_model import LogisticRegression\n",
        "from sklearn.tree import DecisionTreeClassifier\n",
        "from sklearn.ensemble import RandomForestClassifier\n",
        "from sklearn import svm\n",
        "\n",
        "#train test split\n",
        "from sklearn.model_selection import train_test_split\n",
        "\n",
        "# Model evaluation\n",
        "from sklearn import metrics"
      ],
      "execution_count": 92,
      "outputs": []
    },
    {
      "cell_type": "code",
      "metadata": {
        "colab": {
          "base_uri": "https://localhost:8080/",
          "height": 424
        },
        "id": "4I19fevgS8pm",
        "outputId": "d787111b-388d-4421-c249-22deef055a20"
      },
      "source": [
        "file_name = 'https://archive.ics.uci.edu/ml/machine-learning-databases/iris/iris.data'\n",
        "\n",
        "pd.read_csv(file_name, header=None)"
      ],
      "execution_count": 3,
      "outputs": [
        {
          "output_type": "execute_result",
          "data": {
            "text/html": [
              "<div>\n",
              "<style scoped>\n",
              "    .dataframe tbody tr th:only-of-type {\n",
              "        vertical-align: middle;\n",
              "    }\n",
              "\n",
              "    .dataframe tbody tr th {\n",
              "        vertical-align: top;\n",
              "    }\n",
              "\n",
              "    .dataframe thead th {\n",
              "        text-align: right;\n",
              "    }\n",
              "</style>\n",
              "<table border=\"1\" class=\"dataframe\">\n",
              "  <thead>\n",
              "    <tr style=\"text-align: right;\">\n",
              "      <th></th>\n",
              "      <th>0</th>\n",
              "      <th>1</th>\n",
              "      <th>2</th>\n",
              "      <th>3</th>\n",
              "      <th>4</th>\n",
              "    </tr>\n",
              "  </thead>\n",
              "  <tbody>\n",
              "    <tr>\n",
              "      <th>0</th>\n",
              "      <td>5.1</td>\n",
              "      <td>3.5</td>\n",
              "      <td>1.4</td>\n",
              "      <td>0.2</td>\n",
              "      <td>Iris-setosa</td>\n",
              "    </tr>\n",
              "    <tr>\n",
              "      <th>1</th>\n",
              "      <td>4.9</td>\n",
              "      <td>3.0</td>\n",
              "      <td>1.4</td>\n",
              "      <td>0.2</td>\n",
              "      <td>Iris-setosa</td>\n",
              "    </tr>\n",
              "    <tr>\n",
              "      <th>2</th>\n",
              "      <td>4.7</td>\n",
              "      <td>3.2</td>\n",
              "      <td>1.3</td>\n",
              "      <td>0.2</td>\n",
              "      <td>Iris-setosa</td>\n",
              "    </tr>\n",
              "    <tr>\n",
              "      <th>3</th>\n",
              "      <td>4.6</td>\n",
              "      <td>3.1</td>\n",
              "      <td>1.5</td>\n",
              "      <td>0.2</td>\n",
              "      <td>Iris-setosa</td>\n",
              "    </tr>\n",
              "    <tr>\n",
              "      <th>4</th>\n",
              "      <td>5.0</td>\n",
              "      <td>3.6</td>\n",
              "      <td>1.4</td>\n",
              "      <td>0.2</td>\n",
              "      <td>Iris-setosa</td>\n",
              "    </tr>\n",
              "    <tr>\n",
              "      <th>...</th>\n",
              "      <td>...</td>\n",
              "      <td>...</td>\n",
              "      <td>...</td>\n",
              "      <td>...</td>\n",
              "      <td>...</td>\n",
              "    </tr>\n",
              "    <tr>\n",
              "      <th>145</th>\n",
              "      <td>6.7</td>\n",
              "      <td>3.0</td>\n",
              "      <td>5.2</td>\n",
              "      <td>2.3</td>\n",
              "      <td>Iris-virginica</td>\n",
              "    </tr>\n",
              "    <tr>\n",
              "      <th>146</th>\n",
              "      <td>6.3</td>\n",
              "      <td>2.5</td>\n",
              "      <td>5.0</td>\n",
              "      <td>1.9</td>\n",
              "      <td>Iris-virginica</td>\n",
              "    </tr>\n",
              "    <tr>\n",
              "      <th>147</th>\n",
              "      <td>6.5</td>\n",
              "      <td>3.0</td>\n",
              "      <td>5.2</td>\n",
              "      <td>2.0</td>\n",
              "      <td>Iris-virginica</td>\n",
              "    </tr>\n",
              "    <tr>\n",
              "      <th>148</th>\n",
              "      <td>6.2</td>\n",
              "      <td>3.4</td>\n",
              "      <td>5.4</td>\n",
              "      <td>2.3</td>\n",
              "      <td>Iris-virginica</td>\n",
              "    </tr>\n",
              "    <tr>\n",
              "      <th>149</th>\n",
              "      <td>5.9</td>\n",
              "      <td>3.0</td>\n",
              "      <td>5.1</td>\n",
              "      <td>1.8</td>\n",
              "      <td>Iris-virginica</td>\n",
              "    </tr>\n",
              "  </tbody>\n",
              "</table>\n",
              "<p>150 rows × 5 columns</p>\n",
              "</div>"
            ],
            "text/plain": [
              "       0    1    2    3               4\n",
              "0    5.1  3.5  1.4  0.2     Iris-setosa\n",
              "1    4.9  3.0  1.4  0.2     Iris-setosa\n",
              "2    4.7  3.2  1.3  0.2     Iris-setosa\n",
              "3    4.6  3.1  1.5  0.2     Iris-setosa\n",
              "4    5.0  3.6  1.4  0.2     Iris-setosa\n",
              "..   ...  ...  ...  ...             ...\n",
              "145  6.7  3.0  5.2  2.3  Iris-virginica\n",
              "146  6.3  2.5  5.0  1.9  Iris-virginica\n",
              "147  6.5  3.0  5.2  2.0  Iris-virginica\n",
              "148  6.2  3.4  5.4  2.3  Iris-virginica\n",
              "149  5.9  3.0  5.1  1.8  Iris-virginica\n",
              "\n",
              "[150 rows x 5 columns]"
            ]
          },
          "metadata": {},
          "execution_count": 3
        }
      ]
    },
    {
      "cell_type": "code",
      "metadata": {
        "colab": {
          "base_uri": "https://localhost:8080/",
          "height": 206
        },
        "id": "0-6ZPJ0clB3k",
        "outputId": "f5d8d801-4ce1-42a2-ca94-d7bb43b91c5d"
      },
      "source": [
        "file_name = 'https://archive.ics.uci.edu/ml/machine-learning-databases/iris/iris.data'\n",
        "\n",
        "# Load CSV File\n",
        "data = pd.read_csv(file_name, header=None)\n",
        "data.columns = ['sepal length', \n",
        "                'sepal width',\n",
        "                'petal length',\n",
        "                'petal width',\n",
        "                'class' ]\n",
        "data.describe(include='all').transpose()"
      ],
      "execution_count": 4,
      "outputs": [
        {
          "output_type": "execute_result",
          "data": {
            "text/html": [
              "<div>\n",
              "<style scoped>\n",
              "    .dataframe tbody tr th:only-of-type {\n",
              "        vertical-align: middle;\n",
              "    }\n",
              "\n",
              "    .dataframe tbody tr th {\n",
              "        vertical-align: top;\n",
              "    }\n",
              "\n",
              "    .dataframe thead th {\n",
              "        text-align: right;\n",
              "    }\n",
              "</style>\n",
              "<table border=\"1\" class=\"dataframe\">\n",
              "  <thead>\n",
              "    <tr style=\"text-align: right;\">\n",
              "      <th></th>\n",
              "      <th>count</th>\n",
              "      <th>unique</th>\n",
              "      <th>top</th>\n",
              "      <th>freq</th>\n",
              "      <th>mean</th>\n",
              "      <th>std</th>\n",
              "      <th>min</th>\n",
              "      <th>25%</th>\n",
              "      <th>50%</th>\n",
              "      <th>75%</th>\n",
              "      <th>max</th>\n",
              "    </tr>\n",
              "  </thead>\n",
              "  <tbody>\n",
              "    <tr>\n",
              "      <th>sepal length</th>\n",
              "      <td>150</td>\n",
              "      <td>NaN</td>\n",
              "      <td>NaN</td>\n",
              "      <td>NaN</td>\n",
              "      <td>5.84333</td>\n",
              "      <td>0.828066</td>\n",
              "      <td>4.3</td>\n",
              "      <td>5.1</td>\n",
              "      <td>5.8</td>\n",
              "      <td>6.4</td>\n",
              "      <td>7.9</td>\n",
              "    </tr>\n",
              "    <tr>\n",
              "      <th>sepal width</th>\n",
              "      <td>150</td>\n",
              "      <td>NaN</td>\n",
              "      <td>NaN</td>\n",
              "      <td>NaN</td>\n",
              "      <td>3.054</td>\n",
              "      <td>0.433594</td>\n",
              "      <td>2</td>\n",
              "      <td>2.8</td>\n",
              "      <td>3</td>\n",
              "      <td>3.3</td>\n",
              "      <td>4.4</td>\n",
              "    </tr>\n",
              "    <tr>\n",
              "      <th>petal length</th>\n",
              "      <td>150</td>\n",
              "      <td>NaN</td>\n",
              "      <td>NaN</td>\n",
              "      <td>NaN</td>\n",
              "      <td>3.75867</td>\n",
              "      <td>1.76442</td>\n",
              "      <td>1</td>\n",
              "      <td>1.6</td>\n",
              "      <td>4.35</td>\n",
              "      <td>5.1</td>\n",
              "      <td>6.9</td>\n",
              "    </tr>\n",
              "    <tr>\n",
              "      <th>petal width</th>\n",
              "      <td>150</td>\n",
              "      <td>NaN</td>\n",
              "      <td>NaN</td>\n",
              "      <td>NaN</td>\n",
              "      <td>1.19867</td>\n",
              "      <td>0.763161</td>\n",
              "      <td>0.1</td>\n",
              "      <td>0.3</td>\n",
              "      <td>1.3</td>\n",
              "      <td>1.8</td>\n",
              "      <td>2.5</td>\n",
              "    </tr>\n",
              "    <tr>\n",
              "      <th>class</th>\n",
              "      <td>150</td>\n",
              "      <td>3</td>\n",
              "      <td>Iris-virginica</td>\n",
              "      <td>50</td>\n",
              "      <td>NaN</td>\n",
              "      <td>NaN</td>\n",
              "      <td>NaN</td>\n",
              "      <td>NaN</td>\n",
              "      <td>NaN</td>\n",
              "      <td>NaN</td>\n",
              "      <td>NaN</td>\n",
              "    </tr>\n",
              "  </tbody>\n",
              "</table>\n",
              "</div>"
            ],
            "text/plain": [
              "             count unique             top freq  ...  25%   50%  75%  max\n",
              "sepal length   150    NaN             NaN  NaN  ...  5.1   5.8  6.4  7.9\n",
              "sepal width    150    NaN             NaN  NaN  ...  2.8     3  3.3  4.4\n",
              "petal length   150    NaN             NaN  NaN  ...  1.6  4.35  5.1  6.9\n",
              "petal width    150    NaN             NaN  NaN  ...  0.3   1.3  1.8  2.5\n",
              "class          150      3  Iris-virginica   50  ...  NaN   NaN  NaN  NaN\n",
              "\n",
              "[5 rows x 11 columns]"
            ]
          },
          "metadata": {},
          "execution_count": 4
        }
      ]
    },
    {
      "cell_type": "code",
      "metadata": {
        "colab": {
          "base_uri": "https://localhost:8080/"
        },
        "id": "PONn_FbC1cdX",
        "outputId": "0f692c1f-7001-4890-d05b-0ae373a93389"
      },
      "source": [
        "data['class'].value_counts()"
      ],
      "execution_count": 5,
      "outputs": [
        {
          "output_type": "execute_result",
          "data": {
            "text/plain": [
              "Iris-virginica     50\n",
              "Iris-setosa        50\n",
              "Iris-versicolor    50\n",
              "Name: class, dtype: int64"
            ]
          },
          "metadata": {},
          "execution_count": 5
        }
      ]
    },
    {
      "cell_type": "code",
      "metadata": {
        "colab": {
          "base_uri": "https://localhost:8080/"
        },
        "id": "KYANi-ks2JC7",
        "outputId": "cdf8e538-2baa-4d6e-aa49-87a2e3e355e1"
      },
      "source": [
        "class_names = data['class'].unique()\n",
        "class_names"
      ],
      "execution_count": 6,
      "outputs": [
        {
          "output_type": "execute_result",
          "data": {
            "text/plain": [
              "array(['Iris-setosa', 'Iris-versicolor', 'Iris-virginica'], dtype=object)"
            ]
          },
          "metadata": {},
          "execution_count": 6
        }
      ]
    },
    {
      "cell_type": "code",
      "metadata": {
        "colab": {
          "base_uri": "https://localhost:8080/",
          "height": 363
        },
        "id": "4-n6_0Hzp3-_",
        "outputId": "93615e7b-372f-43db-94a9-887dafab1c81"
      },
      "source": [
        "data['y_act'] = data['class']\n",
        "data['y_act'].replace('Iris-setosa', 0, inplace=True)\n",
        "data['y_act'].replace('Iris-versicolor', 1, inplace=True)\n",
        "data['y_act'].replace('Iris-virginica', 2, inplace=True)\n",
        "\n",
        "data.sample(10)"
      ],
      "execution_count": 7,
      "outputs": [
        {
          "output_type": "execute_result",
          "data": {
            "text/html": [
              "<div>\n",
              "<style scoped>\n",
              "    .dataframe tbody tr th:only-of-type {\n",
              "        vertical-align: middle;\n",
              "    }\n",
              "\n",
              "    .dataframe tbody tr th {\n",
              "        vertical-align: top;\n",
              "    }\n",
              "\n",
              "    .dataframe thead th {\n",
              "        text-align: right;\n",
              "    }\n",
              "</style>\n",
              "<table border=\"1\" class=\"dataframe\">\n",
              "  <thead>\n",
              "    <tr style=\"text-align: right;\">\n",
              "      <th></th>\n",
              "      <th>sepal length</th>\n",
              "      <th>sepal width</th>\n",
              "      <th>petal length</th>\n",
              "      <th>petal width</th>\n",
              "      <th>class</th>\n",
              "      <th>y_act</th>\n",
              "    </tr>\n",
              "  </thead>\n",
              "  <tbody>\n",
              "    <tr>\n",
              "      <th>17</th>\n",
              "      <td>5.1</td>\n",
              "      <td>3.5</td>\n",
              "      <td>1.4</td>\n",
              "      <td>0.3</td>\n",
              "      <td>Iris-setosa</td>\n",
              "      <td>0</td>\n",
              "    </tr>\n",
              "    <tr>\n",
              "      <th>73</th>\n",
              "      <td>6.1</td>\n",
              "      <td>2.8</td>\n",
              "      <td>4.7</td>\n",
              "      <td>1.2</td>\n",
              "      <td>Iris-versicolor</td>\n",
              "      <td>1</td>\n",
              "    </tr>\n",
              "    <tr>\n",
              "      <th>123</th>\n",
              "      <td>6.3</td>\n",
              "      <td>2.7</td>\n",
              "      <td>4.9</td>\n",
              "      <td>1.8</td>\n",
              "      <td>Iris-virginica</td>\n",
              "      <td>2</td>\n",
              "    </tr>\n",
              "    <tr>\n",
              "      <th>143</th>\n",
              "      <td>6.8</td>\n",
              "      <td>3.2</td>\n",
              "      <td>5.9</td>\n",
              "      <td>2.3</td>\n",
              "      <td>Iris-virginica</td>\n",
              "      <td>2</td>\n",
              "    </tr>\n",
              "    <tr>\n",
              "      <th>50</th>\n",
              "      <td>7.0</td>\n",
              "      <td>3.2</td>\n",
              "      <td>4.7</td>\n",
              "      <td>1.4</td>\n",
              "      <td>Iris-versicolor</td>\n",
              "      <td>1</td>\n",
              "    </tr>\n",
              "    <tr>\n",
              "      <th>59</th>\n",
              "      <td>5.2</td>\n",
              "      <td>2.7</td>\n",
              "      <td>3.9</td>\n",
              "      <td>1.4</td>\n",
              "      <td>Iris-versicolor</td>\n",
              "      <td>1</td>\n",
              "    </tr>\n",
              "    <tr>\n",
              "      <th>5</th>\n",
              "      <td>5.4</td>\n",
              "      <td>3.9</td>\n",
              "      <td>1.7</td>\n",
              "      <td>0.4</td>\n",
              "      <td>Iris-setosa</td>\n",
              "      <td>0</td>\n",
              "    </tr>\n",
              "    <tr>\n",
              "      <th>95</th>\n",
              "      <td>5.7</td>\n",
              "      <td>3.0</td>\n",
              "      <td>4.2</td>\n",
              "      <td>1.2</td>\n",
              "      <td>Iris-versicolor</td>\n",
              "      <td>1</td>\n",
              "    </tr>\n",
              "    <tr>\n",
              "      <th>19</th>\n",
              "      <td>5.1</td>\n",
              "      <td>3.8</td>\n",
              "      <td>1.5</td>\n",
              "      <td>0.3</td>\n",
              "      <td>Iris-setosa</td>\n",
              "      <td>0</td>\n",
              "    </tr>\n",
              "    <tr>\n",
              "      <th>9</th>\n",
              "      <td>4.9</td>\n",
              "      <td>3.1</td>\n",
              "      <td>1.5</td>\n",
              "      <td>0.1</td>\n",
              "      <td>Iris-setosa</td>\n",
              "      <td>0</td>\n",
              "    </tr>\n",
              "  </tbody>\n",
              "</table>\n",
              "</div>"
            ],
            "text/plain": [
              "     sepal length  sepal width  ...            class  y_act\n",
              "17            5.1          3.5  ...      Iris-setosa      0\n",
              "73            6.1          2.8  ...  Iris-versicolor      1\n",
              "123           6.3          2.7  ...   Iris-virginica      2\n",
              "143           6.8          3.2  ...   Iris-virginica      2\n",
              "50            7.0          3.2  ...  Iris-versicolor      1\n",
              "59            5.2          2.7  ...  Iris-versicolor      1\n",
              "5             5.4          3.9  ...      Iris-setosa      0\n",
              "95            5.7          3.0  ...  Iris-versicolor      1\n",
              "19            5.1          3.8  ...      Iris-setosa      0\n",
              "9             4.9          3.1  ...      Iris-setosa      0\n",
              "\n",
              "[10 rows x 6 columns]"
            ]
          },
          "metadata": {},
          "execution_count": 7
        }
      ]
    },
    {
      "cell_type": "code",
      "metadata": {
        "colab": {
          "base_uri": "https://localhost:8080/"
        },
        "id": "lWJLeTiR2_yZ",
        "outputId": "73993c04-d1ba-4474-f8c8-fe28a645de07"
      },
      "source": [
        "data.columns"
      ],
      "execution_count": 8,
      "outputs": [
        {
          "output_type": "execute_result",
          "data": {
            "text/plain": [
              "Index(['sepal length', 'sepal width', 'petal length', 'petal width', 'class',\n",
              "       'y_act'],\n",
              "      dtype='object')"
            ]
          },
          "metadata": {},
          "execution_count": 8
        }
      ]
    },
    {
      "cell_type": "code",
      "metadata": {
        "colab": {
          "base_uri": "https://localhost:8080/",
          "height": 510
        },
        "id": "F1K2FDSu20VR",
        "outputId": "ee904af8-3382-4936-e1fc-bb9fd65d6731"
      },
      "source": [
        "correlation_matrix = data[['sepal length', 'sepal width', 'petal length', 'petal width', 'y_act']].corr()\n",
        "\n",
        "sns.heatmap(correlation_matrix)\n",
        "correlation_matrix"
      ],
      "execution_count": 9,
      "outputs": [
        {
          "output_type": "execute_result",
          "data": {
            "text/html": [
              "<div>\n",
              "<style scoped>\n",
              "    .dataframe tbody tr th:only-of-type {\n",
              "        vertical-align: middle;\n",
              "    }\n",
              "\n",
              "    .dataframe tbody tr th {\n",
              "        vertical-align: top;\n",
              "    }\n",
              "\n",
              "    .dataframe thead th {\n",
              "        text-align: right;\n",
              "    }\n",
              "</style>\n",
              "<table border=\"1\" class=\"dataframe\">\n",
              "  <thead>\n",
              "    <tr style=\"text-align: right;\">\n",
              "      <th></th>\n",
              "      <th>sepal length</th>\n",
              "      <th>sepal width</th>\n",
              "      <th>petal length</th>\n",
              "      <th>petal width</th>\n",
              "      <th>y_act</th>\n",
              "    </tr>\n",
              "  </thead>\n",
              "  <tbody>\n",
              "    <tr>\n",
              "      <th>sepal length</th>\n",
              "      <td>1.000000</td>\n",
              "      <td>-0.109369</td>\n",
              "      <td>0.871754</td>\n",
              "      <td>0.817954</td>\n",
              "      <td>0.782561</td>\n",
              "    </tr>\n",
              "    <tr>\n",
              "      <th>sepal width</th>\n",
              "      <td>-0.109369</td>\n",
              "      <td>1.000000</td>\n",
              "      <td>-0.420516</td>\n",
              "      <td>-0.356544</td>\n",
              "      <td>-0.419446</td>\n",
              "    </tr>\n",
              "    <tr>\n",
              "      <th>petal length</th>\n",
              "      <td>0.871754</td>\n",
              "      <td>-0.420516</td>\n",
              "      <td>1.000000</td>\n",
              "      <td>0.962757</td>\n",
              "      <td>0.949043</td>\n",
              "    </tr>\n",
              "    <tr>\n",
              "      <th>petal width</th>\n",
              "      <td>0.817954</td>\n",
              "      <td>-0.356544</td>\n",
              "      <td>0.962757</td>\n",
              "      <td>1.000000</td>\n",
              "      <td>0.956464</td>\n",
              "    </tr>\n",
              "    <tr>\n",
              "      <th>y_act</th>\n",
              "      <td>0.782561</td>\n",
              "      <td>-0.419446</td>\n",
              "      <td>0.949043</td>\n",
              "      <td>0.956464</td>\n",
              "      <td>1.000000</td>\n",
              "    </tr>\n",
              "  </tbody>\n",
              "</table>\n",
              "</div>"
            ],
            "text/plain": [
              "              sepal length  sepal width  petal length  petal width     y_act\n",
              "sepal length      1.000000    -0.109369      0.871754     0.817954  0.782561\n",
              "sepal width      -0.109369     1.000000     -0.420516    -0.356544 -0.419446\n",
              "petal length      0.871754    -0.420516      1.000000     0.962757  0.949043\n",
              "petal width       0.817954    -0.356544      0.962757     1.000000  0.956464\n",
              "y_act             0.782561    -0.419446      0.949043     0.956464  1.000000"
            ]
          },
          "metadata": {},
          "execution_count": 9
        },
        {
          "output_type": "display_data",
          "data": {
            "image/png": "[encoded data removed]",
            "text/plain": [
              "<Figure size 432x288 with 2 Axes>"
            ]
          },
          "metadata": {
            "needs_background": "light"
          }
        }
      ]
    },
    {
      "cell_type": "markdown",
      "metadata": {
        "id": "q75TQmAJX1TC"
      },
      "source": [
        "## Identify `X` and `y`"
      ]
    },
    {
      "cell_type": "code",
      "metadata": {
        "colab": {
          "base_uri": "https://localhost:8080/",
          "height": 206
        },
        "id": "70yCd_PUWvk9",
        "outputId": "9ab3b91c-4e1f-4449-a14f-1d21ea020bd4"
      },
      "source": [
        "X_variables = ['sepal length', 'sepal width', 'petal length', 'petal width']\n",
        "data[X_variables].head()"
      ],
      "execution_count": 11,
      "outputs": [
        {
          "output_type": "execute_result",
          "data": {
            "text/html": [
              "<div>\n",
              "<style scoped>\n",
              "    .dataframe tbody tr th:only-of-type {\n",
              "        vertical-align: middle;\n",
              "    }\n",
              "\n",
              "    .dataframe tbody tr th {\n",
              "        vertical-align: top;\n",
              "    }\n",
              "\n",
              "    .dataframe thead th {\n",
              "        text-align: right;\n",
              "    }\n",
              "</style>\n",
              "<table border=\"1\" class=\"dataframe\">\n",
              "  <thead>\n",
              "    <tr style=\"text-align: right;\">\n",
              "      <th></th>\n",
              "      <th>sepal length</th>\n",
              "      <th>sepal width</th>\n",
              "      <th>petal length</th>\n",
              "      <th>petal width</th>\n",
              "    </tr>\n",
              "  </thead>\n",
              "  <tbody>\n",
              "    <tr>\n",
              "      <th>0</th>\n",
              "      <td>5.1</td>\n",
              "      <td>3.5</td>\n",
              "      <td>1.4</td>\n",
              "      <td>0.2</td>\n",
              "    </tr>\n",
              "    <tr>\n",
              "      <th>1</th>\n",
              "      <td>4.9</td>\n",
              "      <td>3.0</td>\n",
              "      <td>1.4</td>\n",
              "      <td>0.2</td>\n",
              "    </tr>\n",
              "    <tr>\n",
              "      <th>2</th>\n",
              "      <td>4.7</td>\n",
              "      <td>3.2</td>\n",
              "      <td>1.3</td>\n",
              "      <td>0.2</td>\n",
              "    </tr>\n",
              "    <tr>\n",
              "      <th>3</th>\n",
              "      <td>4.6</td>\n",
              "      <td>3.1</td>\n",
              "      <td>1.5</td>\n",
              "      <td>0.2</td>\n",
              "    </tr>\n",
              "    <tr>\n",
              "      <th>4</th>\n",
              "      <td>5.0</td>\n",
              "      <td>3.6</td>\n",
              "      <td>1.4</td>\n",
              "      <td>0.2</td>\n",
              "    </tr>\n",
              "  </tbody>\n",
              "</table>\n",
              "</div>"
            ],
            "text/plain": [
              "   sepal length  sepal width  petal length  petal width\n",
              "0           5.1          3.5           1.4          0.2\n",
              "1           4.9          3.0           1.4          0.2\n",
              "2           4.7          3.2           1.3          0.2\n",
              "3           4.6          3.1           1.5          0.2\n",
              "4           5.0          3.6           1.4          0.2"
            ]
          },
          "metadata": {},
          "execution_count": 11
        }
      ]
    },
    {
      "cell_type": "code",
      "metadata": {
        "colab": {
          "base_uri": "https://localhost:8080/"
        },
        "id": "gSNYSJTNkfON",
        "outputId": "eda9a34c-c088-4be2-e550-b56cdf15c5df"
      },
      "source": [
        "y_varibale = 'y_act'\n",
        "data[y_varibale].head()"
      ],
      "execution_count": 12,
      "outputs": [
        {
          "output_type": "execute_result",
          "data": {
            "text/plain": [
              "0    0\n",
              "1    0\n",
              "2    0\n",
              "3    0\n",
              "4    0\n",
              "Name: y_act, dtype: int64"
            ]
          },
          "metadata": {},
          "execution_count": 12
        }
      ]
    },
    {
      "cell_type": "code",
      "metadata": {
        "colab": {
          "base_uri": "https://localhost:8080/"
        },
        "id": "Z9h2sbqml-QV",
        "outputId": "4ac65ca5-bdf5-430b-b0f8-57a320dbe626"
      },
      "source": [
        "# Three classes\n",
        "data[y_varibale].unique()"
      ],
      "execution_count": 13,
      "outputs": [
        {
          "output_type": "execute_result",
          "data": {
            "text/plain": [
              "array([0, 1, 2])"
            ]
          },
          "metadata": {},
          "execution_count": 13
        }
      ]
    },
    {
      "cell_type": "code",
      "metadata": {
        "id": "2rCfT7X3WLHZ",
        "outputId": "7f44546d-d315-47a1-faaa-ece328819bee",
        "colab": {
          "base_uri": "https://localhost:8080/"
        }
      },
      "source": [
        "class_names"
      ],
      "execution_count": 19,
      "outputs": [
        {
          "output_type": "execute_result",
          "data": {
            "text/plain": [
              "array(['Iris-setosa', 'Iris-versicolor', 'Iris-virginica'], dtype=object)"
            ]
          },
          "metadata": {},
          "execution_count": 19
        }
      ]
    },
    {
      "cell_type": "code",
      "metadata": {
        "colab": {
          "base_uri": "https://localhost:8080/"
        },
        "id": "09dpjHuVXOoY",
        "outputId": "25e4596e-983f-4ce0-d695-7a11d0f653c8"
      },
      "source": [
        "X = data[X_variables].values\n",
        "X"
      ],
      "execution_count": 14,
      "outputs": [
        {
          "output_type": "execute_result",
          "data": {
            "text/plain": [
              "array([[5.1, 3.5, 1.4, 0.2],\n",
              "       [4.9, 3. , 1.4, 0.2],\n",
              "       [4.7, 3.2, 1.3, 0.2],\n",
              "       [4.6, 3.1, 1.5, 0.2],\n",
              "       [5. , 3.6, 1.4, 0.2],\n",
              "       [5.4, 3.9, 1.7, 0.4],\n",
              "       [4.6, 3.4, 1.4, 0.3],\n",
              "       [5. , 3.4, 1.5, 0.2],\n",
              "       [4.4, 2.9, 1.4, 0.2],\n",
              "       [4.9, 3.1, 1.5, 0.1],\n",
              "       [5.4, 3.7, 1.5, 0.2],\n",
              "       [4.8, 3.4, 1.6, 0.2],\n",
              "       [4.8, 3. , 1.4, 0.1],\n",
              "       [4.3, 3. , 1.1, 0.1],\n",
              "       [5.8, 4. , 1.2, 0.2],\n",
              "       [5.7, 4.4, 1.5, 0.4],\n",
              "       [5.4, 3.9, 1.3, 0.4],\n",
              "       [5.1, 3.5, 1.4, 0.3],\n",
              "       [5.7, 3.8, 1.7, 0.3],\n",
              "       [5.1, 3.8, 1.5, 0.3],\n",
              "       [5.4, 3.4, 1.7, 0.2],\n",
              "       [5.1, 3.7, 1.5, 0.4],\n",
              "       [4.6, 3.6, 1. , 0.2],\n",
              "       [5.1, 3.3, 1.7, 0.5],\n",
              "       [4.8, 3.4, 1.9, 0.2],\n",
              "       [5. , 3. , 1.6, 0.2],\n",
              "       [5. , 3.4, 1.6, 0.4],\n",
              "       [5.2, 3.5, 1.5, 0.2],\n",
              "       [5.2, 3.4, 1.4, 0.2],\n",
              "       [4.7, 3.2, 1.6, 0.2],\n",
              "       [4.8, 3.1, 1.6, 0.2],\n",
              "       [5.4, 3.4, 1.5, 0.4],\n",
              "       [5.2, 4.1, 1.5, 0.1],\n",
              "       [5.5, 4.2, 1.4, 0.2],\n",
              "       [4.9, 3.1, 1.5, 0.1],\n",
              "       [5. , 3.2, 1.2, 0.2],\n",
              "       [5.5, 3.5, 1.3, 0.2],\n",
              "       [4.9, 3.1, 1.5, 0.1],\n",
              "       [4.4, 3. , 1.3, 0.2],\n",
              "       [5.1, 3.4, 1.5, 0.2],\n",
              "       [5. , 3.5, 1.3, 0.3],\n",
              "       [4.5, 2.3, 1.3, 0.3],\n",
              "       [4.4, 3.2, 1.3, 0.2],\n",
              "       [5. , 3.5, 1.6, 0.6],\n",
              "       [5.1, 3.8, 1.9, 0.4],\n",
              "       [4.8, 3. , 1.4, 0.3],\n",
              "       [5.1, 3.8, 1.6, 0.2],\n",
              "       [4.6, 3.2, 1.4, 0.2],\n",
              "       [5.3, 3.7, 1.5, 0.2],\n",
              "       [5. , 3.3, 1.4, 0.2],\n",
              "       [7. , 3.2, 4.7, 1.4],\n",
              "       [6.4, 3.2, 4.5, 1.5],\n",
              "       [6.9, 3.1, 4.9, 1.5],\n",
              "       [5.5, 2.3, 4. , 1.3],\n",
              "       [6.5, 2.8, 4.6, 1.5],\n",
              "       [5.7, 2.8, 4.5, 1.3],\n",
              "       [6.3, 3.3, 4.7, 1.6],\n",
              "       [4.9, 2.4, 3.3, 1. ],\n",
              "       [6.6, 2.9, 4.6, 1.3],\n",
              "       [5.2, 2.7, 3.9, 1.4],\n",
              "       [5. , 2. , 3.5, 1. ],\n",
              "       [5.9, 3. , 4.2, 1.5],\n",
              "       [6. , 2.2, 4. , 1. ],\n",
              "       [6.1, 2.9, 4.7, 1.4],\n",
              "       [5.6, 2.9, 3.6, 1.3],\n",
              "       [6.7, 3.1, 4.4, 1.4],\n",
              "       [5.6, 3. , 4.5, 1.5],\n",
              "       [5.8, 2.7, 4.1, 1. ],\n",
              "       [6.2, 2.2, 4.5, 1.5],\n",
              "       [5.6, 2.5, 3.9, 1.1],\n",
              "       [5.9, 3.2, 4.8, 1.8],\n",
              "       [6.1, 2.8, 4. , 1.3],\n",
              "       [6.3, 2.5, 4.9, 1.5],\n",
              "       [6.1, 2.8, 4.7, 1.2],\n",
              "       [6.4, 2.9, 4.3, 1.3],\n",
              "       [6.6, 3. , 4.4, 1.4],\n",
              "       [6.8, 2.8, 4.8, 1.4],\n",
              "       [6.7, 3. , 5. , 1.7],\n",
              "       [6. , 2.9, 4.5, 1.5],\n",
              "       [5.7, 2.6, 3.5, 1. ],\n",
              "       [5.5, 2.4, 3.8, 1.1],\n",
              "       [5.5, 2.4, 3.7, 1. ],\n",
              "       [5.8, 2.7, 3.9, 1.2],\n",
              "       [6. , 2.7, 5.1, 1.6],\n",
              "       [5.4, 3. , 4.5, 1.5],\n",
              "       [6. , 3.4, 4.5, 1.6],\n",
              "       [6.7, 3.1, 4.7, 1.5],\n",
              "       [6.3, 2.3, 4.4, 1.3],\n",
              "       [5.6, 3. , 4.1, 1.3],\n",
              "       [5.5, 2.5, 4. , 1.3],\n",
              "       [5.5, 2.6, 4.4, 1.2],\n",
              "       [6.1, 3. , 4.6, 1.4],\n",
              "       [5.8, 2.6, 4. , 1.2],\n",
              "       [5. , 2.3, 3.3, 1. ],\n",
              "       [5.6, 2.7, 4.2, 1.3],\n",
              "       [5.7, 3. , 4.2, 1.2],\n",
              "       [5.7, 2.9, 4.2, 1.3],\n",
              "       [6.2, 2.9, 4.3, 1.3],\n",
              "       [5.1, 2.5, 3. , 1.1],\n",
              "       [5.7, 2.8, 4.1, 1.3],\n",
              "       [6.3, 3.3, 6. , 2.5],\n",
              "       [5.8, 2.7, 5.1, 1.9],\n",
              "       [7.1, 3. , 5.9, 2.1],\n",
              "       [6.3, 2.9, 5.6, 1.8],\n",
              "       [6.5, 3. , 5.8, 2.2],\n",
              "       [7.6, 3. , 6.6, 2.1],\n",
              "       [4.9, 2.5, 4.5, 1.7],\n",
              "       [7.3, 2.9, 6.3, 1.8],\n",
              "       [6.7, 2.5, 5.8, 1.8],\n",
              "       [7.2, 3.6, 6.1, 2.5],\n",
              "       [6.5, 3.2, 5.1, 2. ],\n",
              "       [6.4, 2.7, 5.3, 1.9],\n",
              "       [6.8, 3. , 5.5, 2.1],\n",
              "       [5.7, 2.5, 5. , 2. ],\n",
              "       [5.8, 2.8, 5.1, 2.4],\n",
              "       [6.4, 3.2, 5.3, 2.3],\n",
              "       [6.5, 3. , 5.5, 1.8],\n",
              "       [7.7, 3.8, 6.7, 2.2],\n",
              "       [7.7, 2.6, 6.9, 2.3],\n",
              "       [6. , 2.2, 5. , 1.5],\n",
              "       [6.9, 3.2, 5.7, 2.3],\n",
              "       [5.6, 2.8, 4.9, 2. ],\n",
              "       [7.7, 2.8, 6.7, 2. ],\n",
              "       [6.3, 2.7, 4.9, 1.8],\n",
              "       [6.7, 3.3, 5.7, 2.1],\n",
              "       [7.2, 3.2, 6. , 1.8],\n",
              "       [6.2, 2.8, 4.8, 1.8],\n",
              "       [6.1, 3. , 4.9, 1.8],\n",
              "       [6.4, 2.8, 5.6, 2.1],\n",
              "       [7.2, 3. , 5.8, 1.6],\n",
              "       [7.4, 2.8, 6.1, 1.9],\n",
              "       [7.9, 3.8, 6.4, 2. ],\n",
              "       [6.4, 2.8, 5.6, 2.2],\n",
              "       [6.3, 2.8, 5.1, 1.5],\n",
              "       [6.1, 2.6, 5.6, 1.4],\n",
              "       [7.7, 3. , 6.1, 2.3],\n",
              "       [6.3, 3.4, 5.6, 2.4],\n",
              "       [6.4, 3.1, 5.5, 1.8],\n",
              "       [6. , 3. , 4.8, 1.8],\n",
              "       [6.9, 3.1, 5.4, 2.1],\n",
              "       [6.7, 3.1, 5.6, 2.4],\n",
              "       [6.9, 3.1, 5.1, 2.3],\n",
              "       [5.8, 2.7, 5.1, 1.9],\n",
              "       [6.8, 3.2, 5.9, 2.3],\n",
              "       [6.7, 3.3, 5.7, 2.5],\n",
              "       [6.7, 3. , 5.2, 2.3],\n",
              "       [6.3, 2.5, 5. , 1.9],\n",
              "       [6.5, 3. , 5.2, 2. ],\n",
              "       [6.2, 3.4, 5.4, 2.3],\n",
              "       [5.9, 3. , 5.1, 1.8]])"
            ]
          },
          "metadata": {},
          "execution_count": 14
        }
      ]
    },
    {
      "cell_type": "code",
      "metadata": {
        "colab": {
          "base_uri": "https://localhost:8080/"
        },
        "id": "_7MDrI5CXWCl",
        "outputId": "ec4702b6-b8ff-430d-a0ec-a09d3e21f9e5"
      },
      "source": [
        "y = data[y_varibale].values\n",
        "y"
      ],
      "execution_count": 15,
      "outputs": [
        {
          "output_type": "execute_result",
          "data": {
            "text/plain": [
              "array([0, 0, 0, 0, 0, 0, 0, 0, 0, 0, 0, 0, 0, 0, 0, 0, 0, 0, 0, 0, 0, 0,\n",
              "       0, 0, 0, 0, 0, 0, 0, 0, 0, 0, 0, 0, 0, 0, 0, 0, 0, 0, 0, 0, 0, 0,\n",
              "       0, 0, 0, 0, 0, 0, 1, 1, 1, 1, 1, 1, 1, 1, 1, 1, 1, 1, 1, 1, 1, 1,\n",
              "       1, 1, 1, 1, 1, 1, 1, 1, 1, 1, 1, 1, 1, 1, 1, 1, 1, 1, 1, 1, 1, 1,\n",
              "       1, 1, 1, 1, 1, 1, 1, 1, 1, 1, 1, 1, 2, 2, 2, 2, 2, 2, 2, 2, 2, 2,\n",
              "       2, 2, 2, 2, 2, 2, 2, 2, 2, 2, 2, 2, 2, 2, 2, 2, 2, 2, 2, 2, 2, 2,\n",
              "       2, 2, 2, 2, 2, 2, 2, 2, 2, 2, 2, 2, 2, 2, 2, 2, 2, 2])"
            ]
          },
          "metadata": {},
          "execution_count": 15
        }
      ]
    },
    {
      "cell_type": "markdown",
      "metadata": {
        "id": "y-71rtaDYEMF"
      },
      "source": [
        "## Train Test Split"
      ]
    },
    {
      "cell_type": "code",
      "metadata": {
        "colab": {
          "base_uri": "https://localhost:8080/"
        },
        "id": "32gLGbh7lWvp",
        "outputId": "2e66ff69-a0c3-4889-8c0d-0a6a3f1f79af"
      },
      "source": [
        "X_train, X_test, y_train, y_test = train_test_split(X, y, test_size=0.3, random_state=42)\n",
        "\n",
        "print(F\"Train sample size = {len(X_train)}\")\n",
        "print(F\"Test sample size  = {len(X_test)}\")"
      ],
      "execution_count": 16,
      "outputs": [
        {
          "output_type": "stream",
          "name": "stdout",
          "text": [
            "Train sample size = 105\n",
            "Test sample size  = 45\n"
          ]
        }
      ]
    },
    {
      "cell_type": "markdown",
      "metadata": {
        "id": "ggbm7gyUYOLQ"
      },
      "source": [
        "## Create Logistic Regression Model\n",
        "* https://en.wikipedia.org/wiki/Logistic_regression\n",
        "* https://scikit-learn.org/stable/modules/generated/sklearn.linear_model.LogisticRegression.html"
      ]
    },
    {
      "cell_type": "code",
      "metadata": {
        "id": "0R1tMzJwkiYK"
      },
      "source": [
        "model = LogisticRegression()"
      ],
      "execution_count": 17,
      "outputs": []
    },
    {
      "cell_type": "markdown",
      "metadata": {
        "id": "AcNbl2WWYsOy"
      },
      "source": [
        "## Fit Model"
      ]
    },
    {
      "cell_type": "code",
      "metadata": {
        "colab": {
          "base_uri": "https://localhost:8080/"
        },
        "id": "U4ykpbIOkzxH",
        "outputId": "76226b76-9de1-436a-af7a-28fa6e199078"
      },
      "source": [
        "model.fit(X_train, y_train)"
      ],
      "execution_count": 18,
      "outputs": [
        {
          "output_type": "execute_result",
          "data": {
            "text/plain": [
              "LogisticRegression(C=1.0, class_weight=None, dual=False, fit_intercept=True,\n",
              "                   intercept_scaling=1, l1_ratio=None, max_iter=100,\n",
              "                   multi_class='auto', n_jobs=None, penalty='l2',\n",
              "                   random_state=None, solver='lbfgs', tol=0.0001, verbose=0,\n",
              "                   warm_start=False)"
            ]
          },
          "metadata": {},
          "execution_count": 18
        }
      ]
    },
    {
      "cell_type": "markdown",
      "metadata": {
        "id": "2sTwouDrYuLe"
      },
      "source": [
        "## Predict"
      ]
    },
    {
      "cell_type": "code",
      "metadata": {
        "id": "v0feULGBWO_E",
        "outputId": "56baa0ec-0ceb-4e64-fdea-c75b69c60eac",
        "colab": {
          "base_uri": "https://localhost:8080/"
        }
      },
      "source": [
        "class_names"
      ],
      "execution_count": 20,
      "outputs": [
        {
          "output_type": "execute_result",
          "data": {
            "text/plain": [
              "array(['Iris-setosa', 'Iris-versicolor', 'Iris-virginica'], dtype=object)"
            ]
          },
          "metadata": {},
          "execution_count": 20
        }
      ]
    },
    {
      "cell_type": "code",
      "metadata": {
        "colab": {
          "base_uri": "https://localhost:8080/"
        },
        "id": "U_tfA19ilryK",
        "outputId": "dc9ff2fb-a681-4167-beda-38b3d065882a"
      },
      "source": [
        "model.predict_proba(X_test)"
      ],
      "execution_count": null,
      "outputs": [
        {
          "output_type": "execute_result",
          "data": {
            "text/plain": [
              "array([[4.08122470e-03, 8.12024102e-01, 1.83894673e-01],\n",
              "       [9.42611546e-01, 5.73878795e-02, 5.74443402e-07],\n",
              "       [1.53880890e-08, 2.09326319e-03, 9.97906721e-01],\n",
              "       [6.75592393e-03, 7.73287346e-01, 2.19956730e-01],\n",
              "       [1.58156609e-03, 7.51002514e-01, 2.47415920e-01],\n",
              "       [9.50802759e-01, 4.91967881e-02, 4.52496458e-07],\n",
              "       [7.75943595e-02, 9.04346488e-01, 1.80591522e-02],\n",
              "       [1.75243717e-04, 1.47883607e-01, 8.51941149e-01],\n",
              "       [2.42018693e-03, 7.80183978e-01, 2.17395835e-01],\n",
              "       [2.90106483e-02, 9.40763088e-01, 3.02262638e-02],\n",
              "       [4.62544059e-04, 2.25748825e-01, 7.73788631e-01],\n",
              "       [9.63648286e-01, 3.63515343e-02, 1.80143788e-07],\n",
              "       [9.69740161e-01, 3.02597444e-02, 9.50418886e-08],\n",
              "       [9.57055618e-01, 4.29441223e-02, 2.60064172e-07],\n",
              "       [9.76803433e-01, 2.31963793e-02, 1.87414455e-07],\n",
              "       [4.68396202e-03, 6.63699907e-01, 3.31616131e-01],\n",
              "       [9.41122227e-06, 2.67859157e-02, 9.73204673e-01],\n",
              "       [2.78159456e-02, 9.44973918e-01, 2.72101365e-02],\n",
              "       [8.65437353e-03, 8.19990588e-01, 1.71355038e-01],\n",
              "       [1.89230908e-05, 4.15285858e-02, 9.58452491e-01],\n",
              "       [9.59545051e-01, 4.04545035e-02, 4.45578886e-07],\n",
              "       [1.40497310e-03, 3.87004392e-01, 6.11590635e-01],\n",
              "       [9.56905322e-01, 4.30940399e-02, 6.38283981e-07],\n",
              "       [2.43853494e-05, 5.21739220e-02, 9.47801693e-01],\n",
              "       [1.69813555e-06, 2.04186997e-02, 9.79579602e-01],\n",
              "       [1.07022140e-04, 1.05810306e-01, 8.94082672e-01],\n",
              "       [1.23211759e-05, 6.97605582e-02, 9.30227121e-01],\n",
              "       [5.34965723e-06, 1.95515779e-02, 9.80443072e-01],\n",
              "       [9.61826199e-01, 3.81734953e-02, 3.05335556e-07],\n",
              "       [9.50553216e-01, 4.94462607e-02, 5.22933869e-07],\n",
              "       [9.93323425e-01, 6.67656013e-03, 1.50233560e-08],\n",
              "       [9.80746826e-01, 1.92530406e-02, 1.33888478e-07],\n",
              "       [6.83771649e-03, 8.90062192e-01, 1.03100092e-01],\n",
              "       [9.65285673e-01, 3.47139726e-02, 3.54005195e-07],\n",
              "       [9.82976397e-01, 1.70235037e-02, 9.90735980e-08],\n",
              "       [3.71965297e-04, 2.85351190e-01, 7.14276845e-01],\n",
              "       [7.24623918e-03, 8.12339471e-01, 1.80414290e-01],\n",
              "       [9.64752449e-01, 3.52473308e-02, 2.20517936e-07],\n",
              "       [9.78462138e-01, 2.15377489e-02, 1.13452174e-07],\n",
              "       [9.83260850e-01, 1.67390729e-02, 7.66432014e-08],\n",
              "       [4.05830620e-04, 1.94192431e-01, 8.05401739e-01],\n",
              "       [1.16219623e-02, 7.37539428e-01, 2.50838609e-01],\n",
              "       [3.00318180e-03, 7.51725226e-01, 2.45271592e-01],\n",
              "       [9.81936882e-01, 1.80630258e-02, 9.19592935e-08],\n",
              "       [9.67117982e-01, 3.28818375e-02, 1.80678971e-07]])"
            ]
          },
          "metadata": {},
          "execution_count": 219
        }
      ]
    },
    {
      "cell_type": "markdown",
      "metadata": {
        "id": "L3aJVVcWvse4"
      },
      "source": [
        "## Predicted Probability for Class 1"
      ]
    },
    {
      "cell_type": "code",
      "metadata": {
        "id": "HPl_QRoVl3Ig",
        "colab": {
          "base_uri": "https://localhost:8080/"
        },
        "outputId": "37396596-8cfb-42bc-b7d5-8e222130c48d"
      },
      "source": [
        "y_pred_prob = model.predict_proba(X_test)[:, 1]\n",
        "y_pred_prob"
      ],
      "execution_count": 21,
      "outputs": [
        {
          "output_type": "execute_result",
          "data": {
            "text/plain": [
              "array([0.8120241 , 0.05738788, 0.00209326, 0.77328735, 0.75100251,\n",
              "       0.04919679, 0.90434649, 0.14788361, 0.78018398, 0.94076309,\n",
              "       0.22574883, 0.03635153, 0.03025974, 0.04294412, 0.02319638,\n",
              "       0.66369991, 0.02678592, 0.94497392, 0.81999059, 0.04152859,\n",
              "       0.0404545 , 0.38700439, 0.04309404, 0.05217392, 0.0204187 ,\n",
              "       0.10581031, 0.06976056, 0.01955158, 0.0381735 , 0.04944626,\n",
              "       0.00667656, 0.01925304, 0.89006219, 0.03471397, 0.0170235 ,\n",
              "       0.28535119, 0.81233947, 0.03524733, 0.02153775, 0.01673907,\n",
              "       0.19419243, 0.73753943, 0.75172523, 0.01806303, 0.03288184])"
            ]
          },
          "metadata": {},
          "execution_count": 21
        }
      ]
    },
    {
      "cell_type": "code",
      "metadata": {
        "id": "UBp3rLqamJlN",
        "colab": {
          "base_uri": "https://localhost:8080/"
        },
        "outputId": "e467b057-0a47-4c3c-da5d-b6db5da82edd"
      },
      "source": [
        "y_pred = model.predict(X_test)\n",
        "y_pred"
      ],
      "execution_count": 22,
      "outputs": [
        {
          "output_type": "execute_result",
          "data": {
            "text/plain": [
              "array([1, 0, 2, 1, 1, 0, 1, 2, 1, 1, 2, 0, 0, 0, 0, 1, 2, 1, 1, 2, 0, 2,\n",
              "       0, 2, 2, 2, 2, 2, 0, 0, 0, 0, 1, 0, 0, 2, 1, 0, 0, 0, 2, 1, 1, 0,\n",
              "       0])"
            ]
          },
          "metadata": {},
          "execution_count": 22
        }
      ]
    },
    {
      "cell_type": "markdown",
      "metadata": {
        "id": "lS6Vq0WFZK2Y"
      },
      "source": [
        "## Create Results Data Frame for Test Sample"
      ]
    },
    {
      "cell_type": "code",
      "metadata": {
        "colab": {
          "base_uri": "https://localhost:8080/",
          "height": 363
        },
        "id": "UdmpD4yIZDl3",
        "outputId": "ef14a00b-b10b-4283-f007-b3671739479d"
      },
      "source": [
        "y_pred_prob_0 = model.predict_proba(X_test)[:, 0]\n",
        "y_pred_prob_1 = model.predict_proba(X_test)[:, 1]\n",
        "y_pred_prob_2 = model.predict_proba(X_test)[:, 2]\n",
        "\n",
        "test_result = pd.DataFrame(data={'y_act':y_test, 'y_pred':y_pred, 'y_pred_prob_0':y_pred_prob_0 , 'y_pred_prob_1':y_pred_prob_1, 'y_pred_prob_2':y_pred_prob_2})\n",
        "test_result.sample(10)"
      ],
      "execution_count": 24,
      "outputs": [
        {
          "output_type": "execute_result",
          "data": {
            "text/html": [
              "<div>\n",
              "<style scoped>\n",
              "    .dataframe tbody tr th:only-of-type {\n",
              "        vertical-align: middle;\n",
              "    }\n",
              "\n",
              "    .dataframe tbody tr th {\n",
              "        vertical-align: top;\n",
              "    }\n",
              "\n",
              "    .dataframe thead th {\n",
              "        text-align: right;\n",
              "    }\n",
              "</style>\n",
              "<table border=\"1\" class=\"dataframe\">\n",
              "  <thead>\n",
              "    <tr style=\"text-align: right;\">\n",
              "      <th></th>\n",
              "      <th>y_act</th>\n",
              "      <th>y_pred</th>\n",
              "      <th>y_pred_prob_0</th>\n",
              "      <th>y_pred_prob_1</th>\n",
              "      <th>y_pred_prob_2</th>\n",
              "    </tr>\n",
              "  </thead>\n",
              "  <tbody>\n",
              "    <tr>\n",
              "      <th>38</th>\n",
              "      <td>0</td>\n",
              "      <td>0</td>\n",
              "      <td>0.978462</td>\n",
              "      <td>0.021538</td>\n",
              "      <td>1.134522e-07</td>\n",
              "    </tr>\n",
              "    <tr>\n",
              "      <th>12</th>\n",
              "      <td>0</td>\n",
              "      <td>0</td>\n",
              "      <td>0.969740</td>\n",
              "      <td>0.030260</td>\n",
              "      <td>9.504189e-08</td>\n",
              "    </tr>\n",
              "    <tr>\n",
              "      <th>21</th>\n",
              "      <td>2</td>\n",
              "      <td>2</td>\n",
              "      <td>0.001405</td>\n",
              "      <td>0.387004</td>\n",
              "      <td>6.115906e-01</td>\n",
              "    </tr>\n",
              "    <tr>\n",
              "      <th>20</th>\n",
              "      <td>0</td>\n",
              "      <td>0</td>\n",
              "      <td>0.959545</td>\n",
              "      <td>0.040455</td>\n",
              "      <td>4.455789e-07</td>\n",
              "    </tr>\n",
              "    <tr>\n",
              "      <th>3</th>\n",
              "      <td>1</td>\n",
              "      <td>1</td>\n",
              "      <td>0.006756</td>\n",
              "      <td>0.773287</td>\n",
              "      <td>2.199567e-01</td>\n",
              "    </tr>\n",
              "    <tr>\n",
              "      <th>28</th>\n",
              "      <td>0</td>\n",
              "      <td>0</td>\n",
              "      <td>0.961826</td>\n",
              "      <td>0.038173</td>\n",
              "      <td>3.053356e-07</td>\n",
              "    </tr>\n",
              "    <tr>\n",
              "      <th>14</th>\n",
              "      <td>0</td>\n",
              "      <td>0</td>\n",
              "      <td>0.976803</td>\n",
              "      <td>0.023196</td>\n",
              "      <td>1.874145e-07</td>\n",
              "    </tr>\n",
              "    <tr>\n",
              "      <th>27</th>\n",
              "      <td>2</td>\n",
              "      <td>2</td>\n",
              "      <td>0.000005</td>\n",
              "      <td>0.019552</td>\n",
              "      <td>9.804431e-01</td>\n",
              "    </tr>\n",
              "    <tr>\n",
              "      <th>17</th>\n",
              "      <td>1</td>\n",
              "      <td>1</td>\n",
              "      <td>0.027816</td>\n",
              "      <td>0.944974</td>\n",
              "      <td>2.721014e-02</td>\n",
              "    </tr>\n",
              "    <tr>\n",
              "      <th>43</th>\n",
              "      <td>0</td>\n",
              "      <td>0</td>\n",
              "      <td>0.981937</td>\n",
              "      <td>0.018063</td>\n",
              "      <td>9.195929e-08</td>\n",
              "    </tr>\n",
              "  </tbody>\n",
              "</table>\n",
              "</div>"
            ],
            "text/plain": [
              "    y_act  y_pred  y_pred_prob_0  y_pred_prob_1  y_pred_prob_2\n",
              "38      0       0       0.978462       0.021538   1.134522e-07\n",
              "12      0       0       0.969740       0.030260   9.504189e-08\n",
              "21      2       2       0.001405       0.387004   6.115906e-01\n",
              "20      0       0       0.959545       0.040455   4.455789e-07\n",
              "3       1       1       0.006756       0.773287   2.199567e-01\n",
              "28      0       0       0.961826       0.038173   3.053356e-07\n",
              "14      0       0       0.976803       0.023196   1.874145e-07\n",
              "27      2       2       0.000005       0.019552   9.804431e-01\n",
              "17      1       1       0.027816       0.944974   2.721014e-02\n",
              "43      0       0       0.981937       0.018063   9.195929e-08"
            ]
          },
          "metadata": {},
          "execution_count": 24
        }
      ]
    },
    {
      "cell_type": "markdown",
      "metadata": {
        "id": "yqpCZuRzaveB"
      },
      "source": [
        "## Confusion Matrix"
      ]
    },
    {
      "cell_type": "code",
      "metadata": {
        "colab": {
          "base_uri": "https://localhost:8080/",
          "height": 206
        },
        "id": "EcV4bHBQZee3",
        "outputId": "ef25f112-8d49-4bb0-b447-f583239f9c81"
      },
      "source": [
        "cfm = pd.crosstab(test_result['y_act'], test_result['y_pred'], margins=True)\n",
        "cfm"
      ],
      "execution_count": 25,
      "outputs": [
        {
          "output_type": "execute_result",
          "data": {
            "text/html": [
              "<div>\n",
              "<style scoped>\n",
              "    .dataframe tbody tr th:only-of-type {\n",
              "        vertical-align: middle;\n",
              "    }\n",
              "\n",
              "    .dataframe tbody tr th {\n",
              "        vertical-align: top;\n",
              "    }\n",
              "\n",
              "    .dataframe thead th {\n",
              "        text-align: right;\n",
              "    }\n",
              "</style>\n",
              "<table border=\"1\" class=\"dataframe\">\n",
              "  <thead>\n",
              "    <tr style=\"text-align: right;\">\n",
              "      <th>y_pred</th>\n",
              "      <th>0</th>\n",
              "      <th>1</th>\n",
              "      <th>2</th>\n",
              "      <th>All</th>\n",
              "    </tr>\n",
              "    <tr>\n",
              "      <th>y_act</th>\n",
              "      <th></th>\n",
              "      <th></th>\n",
              "      <th></th>\n",
              "      <th></th>\n",
              "    </tr>\n",
              "  </thead>\n",
              "  <tbody>\n",
              "    <tr>\n",
              "      <th>0</th>\n",
              "      <td>19</td>\n",
              "      <td>0</td>\n",
              "      <td>0</td>\n",
              "      <td>19</td>\n",
              "    </tr>\n",
              "    <tr>\n",
              "      <th>1</th>\n",
              "      <td>0</td>\n",
              "      <td>13</td>\n",
              "      <td>0</td>\n",
              "      <td>13</td>\n",
              "    </tr>\n",
              "    <tr>\n",
              "      <th>2</th>\n",
              "      <td>0</td>\n",
              "      <td>0</td>\n",
              "      <td>13</td>\n",
              "      <td>13</td>\n",
              "    </tr>\n",
              "    <tr>\n",
              "      <th>All</th>\n",
              "      <td>19</td>\n",
              "      <td>13</td>\n",
              "      <td>13</td>\n",
              "      <td>45</td>\n",
              "    </tr>\n",
              "  </tbody>\n",
              "</table>\n",
              "</div>"
            ],
            "text/plain": [
              "y_pred   0   1   2  All\n",
              "y_act                  \n",
              "0       19   0   0   19\n",
              "1        0  13   0   13\n",
              "2        0   0  13   13\n",
              "All     19  13  13   45"
            ]
          },
          "metadata": {},
          "execution_count": 25
        }
      ]
    },
    {
      "cell_type": "code",
      "metadata": {
        "colab": {
          "base_uri": "https://localhost:8080/"
        },
        "id": "NMWg3aJ9ZwQo",
        "outputId": "426a76b7-6fcc-4918-92dc-0f2f75f06af9"
      },
      "source": [
        "acuracy = (cfm.loc[0,0] + cfm.loc[1,1] + cfm.loc[2,2]) / cfm.loc['All','All'] \n",
        "acuracy"
      ],
      "execution_count": 27,
      "outputs": [
        {
          "output_type": "execute_result",
          "data": {
            "text/plain": [
              "1.0"
            ]
          },
          "metadata": {},
          "execution_count": 27
        }
      ]
    },
    {
      "cell_type": "markdown",
      "metadata": {
        "id": "FkwdY7ilvy9j"
      },
      "source": [
        "# Decision Tree Classifier"
      ]
    },
    {
      "cell_type": "code",
      "metadata": {
        "id": "mI0z3cmCwHR6"
      },
      "source": [
        "model = DecisionTreeClassifier(random_state=0, max_depth=10, min_samples_split=2)"
      ],
      "execution_count": 32,
      "outputs": []
    },
    {
      "cell_type": "code",
      "metadata": {
        "id": "93vfqtPKgChg",
        "colab": {
          "base_uri": "https://localhost:8080/"
        },
        "outputId": "523e0b04-fe7f-445b-d5a3-b3e3494bd9a0"
      },
      "source": [
        "model.fit(X_train, y_train)"
      ],
      "execution_count": 33,
      "outputs": [
        {
          "output_type": "execute_result",
          "data": {
            "text/plain": [
              "DecisionTreeClassifier(ccp_alpha=0.0, class_weight=None, criterion='gini',\n",
              "                       max_depth=10, max_features=None, max_leaf_nodes=None,\n",
              "                       min_impurity_decrease=0.0, min_impurity_split=None,\n",
              "                       min_samples_leaf=1, min_samples_split=2,\n",
              "                       min_weight_fraction_leaf=0.0, presort='deprecated',\n",
              "                       random_state=0, splitter='best')"
            ]
          },
          "metadata": {},
          "execution_count": 33
        }
      ]
    },
    {
      "cell_type": "code",
      "metadata": {
        "colab": {
          "base_uri": "https://localhost:8080/",
          "height": 575
        },
        "id": "wH5knphkxQI6",
        "outputId": "8ffd8a81-a614-4082-cd16-d7c0d3be3388"
      },
      "source": [
        "pfig = plt.figure(figsize=(20,10))\n",
        "tree.plot_tree(model, feature_names=X_variables, class_names=class_names, filled=True)\n",
        "plt.show()"
      ],
      "execution_count": 34,
      "outputs": [
        {
          "output_type": "display_data",
          "data": {
            "image/png": "[encoded data removed]",
            "text/plain": [
              "<Figure size 1440x720 with 1 Axes>"
            ]
          },
          "metadata": {
            "needs_background": "light"
          }
        }
      ]
    },
    {
      "cell_type": "code",
      "metadata": {
        "id": "7FQmLHKswq-s",
        "colab": {
          "base_uri": "https://localhost:8080/"
        },
        "outputId": "9bff1ae7-aadf-4754-9863-f3ca9cf32868"
      },
      "source": [
        "model.predict_proba(X_test)"
      ],
      "execution_count": 35,
      "outputs": [
        {
          "output_type": "execute_result",
          "data": {
            "text/plain": [
              "array([[0., 1., 0.],\n",
              "       [1., 0., 0.],\n",
              "       [0., 0., 1.],\n",
              "       [0., 1., 0.],\n",
              "       [0., 1., 0.],\n",
              "       [1., 0., 0.],\n",
              "       [0., 1., 0.],\n",
              "       [0., 0., 1.],\n",
              "       [0., 1., 0.],\n",
              "       [0., 1., 0.],\n",
              "       [0., 0., 1.],\n",
              "       [1., 0., 0.],\n",
              "       [1., 0., 0.],\n",
              "       [1., 0., 0.],\n",
              "       [1., 0., 0.],\n",
              "       [0., 1., 0.],\n",
              "       [0., 0., 1.],\n",
              "       [0., 1., 0.],\n",
              "       [0., 1., 0.],\n",
              "       [0., 0., 1.],\n",
              "       [1., 0., 0.],\n",
              "       [0., 0., 1.],\n",
              "       [1., 0., 0.],\n",
              "       [0., 0., 1.],\n",
              "       [0., 0., 1.],\n",
              "       [0., 0., 1.],\n",
              "       [0., 0., 1.],\n",
              "       [0., 0., 1.],\n",
              "       [1., 0., 0.],\n",
              "       [1., 0., 0.],\n",
              "       [1., 0., 0.],\n",
              "       [1., 0., 0.],\n",
              "       [0., 1., 0.],\n",
              "       [1., 0., 0.],\n",
              "       [1., 0., 0.],\n",
              "       [0., 0., 1.],\n",
              "       [0., 1., 0.],\n",
              "       [1., 0., 0.],\n",
              "       [1., 0., 0.],\n",
              "       [1., 0., 0.],\n",
              "       [0., 0., 1.],\n",
              "       [0., 1., 0.],\n",
              "       [0., 1., 0.],\n",
              "       [1., 0., 0.],\n",
              "       [1., 0., 0.]])"
            ]
          },
          "metadata": {},
          "execution_count": 35
        }
      ]
    },
    {
      "cell_type": "code",
      "metadata": {
        "id": "QLHKZlZ0ws8U"
      },
      "source": [
        "y_pred = model.predict(X_test)\n",
        "y_pred_prob = model.predict_proba(X_test)[:, 1]"
      ],
      "execution_count": 36,
      "outputs": []
    },
    {
      "cell_type": "code",
      "metadata": {
        "colab": {
          "base_uri": "https://localhost:8080/",
          "height": 363
        },
        "id": "VQ_fekwqwtAi",
        "outputId": "8ec81c0e-9991-4f13-9856-04d9074a7ab8"
      },
      "source": [
        "test_result = pd.DataFrame(data={'y_act':y_test, 'y_pred':y_pred, 'y_pred_prob':y_pred_prob})\n",
        "test_result.sample(10)"
      ],
      "execution_count": 38,
      "outputs": [
        {
          "output_type": "execute_result",
          "data": {
            "text/html": [
              "<div>\n",
              "<style scoped>\n",
              "    .dataframe tbody tr th:only-of-type {\n",
              "        vertical-align: middle;\n",
              "    }\n",
              "\n",
              "    .dataframe tbody tr th {\n",
              "        vertical-align: top;\n",
              "    }\n",
              "\n",
              "    .dataframe thead th {\n",
              "        text-align: right;\n",
              "    }\n",
              "</style>\n",
              "<table border=\"1\" class=\"dataframe\">\n",
              "  <thead>\n",
              "    <tr style=\"text-align: right;\">\n",
              "      <th></th>\n",
              "      <th>y_act</th>\n",
              "      <th>y_pred</th>\n",
              "      <th>y_pred_prob</th>\n",
              "    </tr>\n",
              "  </thead>\n",
              "  <tbody>\n",
              "    <tr>\n",
              "      <th>39</th>\n",
              "      <td>0</td>\n",
              "      <td>0</td>\n",
              "      <td>0.0</td>\n",
              "    </tr>\n",
              "    <tr>\n",
              "      <th>21</th>\n",
              "      <td>2</td>\n",
              "      <td>2</td>\n",
              "      <td>0.0</td>\n",
              "    </tr>\n",
              "    <tr>\n",
              "      <th>12</th>\n",
              "      <td>0</td>\n",
              "      <td>0</td>\n",
              "      <td>0.0</td>\n",
              "    </tr>\n",
              "    <tr>\n",
              "      <th>23</th>\n",
              "      <td>2</td>\n",
              "      <td>2</td>\n",
              "      <td>0.0</td>\n",
              "    </tr>\n",
              "    <tr>\n",
              "      <th>26</th>\n",
              "      <td>2</td>\n",
              "      <td>2</td>\n",
              "      <td>0.0</td>\n",
              "    </tr>\n",
              "    <tr>\n",
              "      <th>43</th>\n",
              "      <td>0</td>\n",
              "      <td>0</td>\n",
              "      <td>0.0</td>\n",
              "    </tr>\n",
              "    <tr>\n",
              "      <th>8</th>\n",
              "      <td>1</td>\n",
              "      <td>1</td>\n",
              "      <td>1.0</td>\n",
              "    </tr>\n",
              "    <tr>\n",
              "      <th>41</th>\n",
              "      <td>1</td>\n",
              "      <td>1</td>\n",
              "      <td>1.0</td>\n",
              "    </tr>\n",
              "    <tr>\n",
              "      <th>29</th>\n",
              "      <td>0</td>\n",
              "      <td>0</td>\n",
              "      <td>0.0</td>\n",
              "    </tr>\n",
              "    <tr>\n",
              "      <th>14</th>\n",
              "      <td>0</td>\n",
              "      <td>0</td>\n",
              "      <td>0.0</td>\n",
              "    </tr>\n",
              "  </tbody>\n",
              "</table>\n",
              "</div>"
            ],
            "text/plain": [
              "    y_act  y_pred  y_pred_prob\n",
              "39      0       0          0.0\n",
              "21      2       2          0.0\n",
              "12      0       0          0.0\n",
              "23      2       2          0.0\n",
              "26      2       2          0.0\n",
              "43      0       0          0.0\n",
              "8       1       1          1.0\n",
              "41      1       1          1.0\n",
              "29      0       0          0.0\n",
              "14      0       0          0.0"
            ]
          },
          "metadata": {},
          "execution_count": 38
        }
      ]
    },
    {
      "cell_type": "code",
      "metadata": {
        "colab": {
          "base_uri": "https://localhost:8080/",
          "height": 206
        },
        "id": "jiNDViwBwz2p",
        "outputId": "eb24db70-2835-4d54-d7a0-b1abf8982b68"
      },
      "source": [
        "cfm = pd.crosstab(test_result['y_act'], test_result['y_pred'], margins=True)\n",
        "cfm"
      ],
      "execution_count": null,
      "outputs": [
        {
          "output_type": "execute_result",
          "data": {
            "text/html": [
              "<div>\n",
              "<style scoped>\n",
              "    .dataframe tbody tr th:only-of-type {\n",
              "        vertical-align: middle;\n",
              "    }\n",
              "\n",
              "    .dataframe tbody tr th {\n",
              "        vertical-align: top;\n",
              "    }\n",
              "\n",
              "    .dataframe thead th {\n",
              "        text-align: right;\n",
              "    }\n",
              "</style>\n",
              "<table border=\"1\" class=\"dataframe\">\n",
              "  <thead>\n",
              "    <tr style=\"text-align: right;\">\n",
              "      <th>y_pred</th>\n",
              "      <th>0</th>\n",
              "      <th>1</th>\n",
              "      <th>2</th>\n",
              "      <th>All</th>\n",
              "    </tr>\n",
              "    <tr>\n",
              "      <th>y_act</th>\n",
              "      <th></th>\n",
              "      <th></th>\n",
              "      <th></th>\n",
              "      <th></th>\n",
              "    </tr>\n",
              "  </thead>\n",
              "  <tbody>\n",
              "    <tr>\n",
              "      <th>0</th>\n",
              "      <td>19</td>\n",
              "      <td>0</td>\n",
              "      <td>0</td>\n",
              "      <td>19</td>\n",
              "    </tr>\n",
              "    <tr>\n",
              "      <th>1</th>\n",
              "      <td>0</td>\n",
              "      <td>13</td>\n",
              "      <td>0</td>\n",
              "      <td>13</td>\n",
              "    </tr>\n",
              "    <tr>\n",
              "      <th>2</th>\n",
              "      <td>0</td>\n",
              "      <td>0</td>\n",
              "      <td>13</td>\n",
              "      <td>13</td>\n",
              "    </tr>\n",
              "    <tr>\n",
              "      <th>All</th>\n",
              "      <td>19</td>\n",
              "      <td>13</td>\n",
              "      <td>13</td>\n",
              "      <td>45</td>\n",
              "    </tr>\n",
              "  </tbody>\n",
              "</table>\n",
              "</div>"
            ],
            "text/plain": [
              "y_pred   0   1   2  All\n",
              "y_act                  \n",
              "0       19   0   0   19\n",
              "1        0  13   0   13\n",
              "2        0   0  13   13\n",
              "All     19  13  13   45"
            ]
          },
          "metadata": {},
          "execution_count": 241
        }
      ]
    },
    {
      "cell_type": "code",
      "metadata": {
        "colab": {
          "base_uri": "https://localhost:8080/"
        },
        "id": "uPhLpRLAw7dq",
        "outputId": "b13fd450-2662-4831-f451-1862e75ed7cb"
      },
      "source": [
        "acuracy = (cfm.loc[0,0] + cfm.loc[1,1] ) / cfm.loc['All','All'] \n",
        "acuracy"
      ],
      "execution_count": null,
      "outputs": [
        {
          "output_type": "execute_result",
          "data": {
            "text/plain": [
              "0.7111111111111111"
            ]
          },
          "metadata": {},
          "execution_count": 242
        }
      ]
    },
    {
      "cell_type": "code",
      "metadata": {
        "colab": {
          "base_uri": "https://localhost:8080/"
        },
        "id": "PKgI9fYrw7hW",
        "outputId": "cdb7f30e-b583-46d0-d3a3-6a8b468a472f"
      },
      "source": [
        "precision = (cfm.loc[1,1]) / cfm.loc['All',1] \n",
        "precision"
      ],
      "execution_count": null,
      "outputs": [
        {
          "output_type": "execute_result",
          "data": {
            "text/plain": [
              "1.0"
            ]
          },
          "metadata": {},
          "execution_count": 243
        }
      ]
    },
    {
      "cell_type": "markdown",
      "metadata": {
        "id": "XvyUl1NxlqkG"
      },
      "source": [
        "# Random Forest Classifier\n",
        "* https://en.wikipedia.org/wiki/Random_forest\n",
        "* https://scikit-learn.org/stable/modules/generated/sklearn.ensemble.RandomForestClassifier.html"
      ]
    },
    {
      "cell_type": "code",
      "metadata": {
        "id": "FzN3kA41ciU-",
        "outputId": "780066bd-a795-4538-e6f2-6d3b18b49cb3",
        "colab": {
          "base_uri": "https://localhost:8080/",
          "height": 677
        }
      },
      "source": [
        "file_name = 'https://raw.githubusercontent.com/SumuduTennakoon/MLFoundations/main/Datasets/income_data.csv'\n",
        "\n",
        "# Load CSV File\n",
        "data = pd.read_csv(file_name)\n",
        "data.sample(20)"
      ],
      "execution_count": 45,
      "outputs": [
        {
          "output_type": "execute_result",
          "data": {
            "text/html": [
              "<div>\n",
              "<style scoped>\n",
              "    .dataframe tbody tr th:only-of-type {\n",
              "        vertical-align: middle;\n",
              "    }\n",
              "\n",
              "    .dataframe tbody tr th {\n",
              "        vertical-align: top;\n",
              "    }\n",
              "\n",
              "    .dataframe thead th {\n",
              "        text-align: right;\n",
              "    }\n",
              "</style>\n",
              "<table border=\"1\" class=\"dataframe\">\n",
              "  <thead>\n",
              "    <tr style=\"text-align: right;\">\n",
              "      <th></th>\n",
              "      <th>Unnamed: 0</th>\n",
              "      <th>age</th>\n",
              "      <th>workclass</th>\n",
              "      <th>fnlwgt</th>\n",
              "      <th>education</th>\n",
              "      <th>education_num</th>\n",
              "      <th>marital_status</th>\n",
              "      <th>occupation</th>\n",
              "      <th>relationship</th>\n",
              "      <th>race</th>\n",
              "      <th>sex</th>\n",
              "      <th>capital_gain</th>\n",
              "      <th>capital_loss</th>\n",
              "      <th>hours_per_week</th>\n",
              "      <th>native_country</th>\n",
              "      <th>class</th>\n",
              "    </tr>\n",
              "  </thead>\n",
              "  <tbody>\n",
              "    <tr>\n",
              "      <th>23718</th>\n",
              "      <td>23733</td>\n",
              "      <td>35</td>\n",
              "      <td>Private</td>\n",
              "      <td>241998</td>\n",
              "      <td>Bachelors</td>\n",
              "      <td>13</td>\n",
              "      <td>Married-civ-spouse</td>\n",
              "      <td>Exec-managerial</td>\n",
              "      <td>Husband</td>\n",
              "      <td>White</td>\n",
              "      <td>Male</td>\n",
              "      <td>0.0</td>\n",
              "      <td>0.0</td>\n",
              "      <td>45.0</td>\n",
              "      <td>United-States</td>\n",
              "      <td>&gt;50K</td>\n",
              "    </tr>\n",
              "    <tr>\n",
              "      <th>34214</th>\n",
              "      <td>9396</td>\n",
              "      <td>35</td>\n",
              "      <td>Private</td>\n",
              "      <td>139364</td>\n",
              "      <td>Bachelors</td>\n",
              "      <td>13</td>\n",
              "      <td>Married-civ-spouse</td>\n",
              "      <td>Handlers-cleaners</td>\n",
              "      <td>Husband</td>\n",
              "      <td>White</td>\n",
              "      <td>Male</td>\n",
              "      <td>0.0</td>\n",
              "      <td>0.0</td>\n",
              "      <td>45.0</td>\n",
              "      <td>United-States</td>\n",
              "      <td>&lt;=50K.</td>\n",
              "    </tr>\n",
              "    <tr>\n",
              "      <th>20769</th>\n",
              "      <td>20778</td>\n",
              "      <td>31</td>\n",
              "      <td>Private</td>\n",
              "      <td>113364</td>\n",
              "      <td>Assoc-acdm</td>\n",
              "      <td>12</td>\n",
              "      <td>Married-civ-spouse</td>\n",
              "      <td>Machine-op-inspct</td>\n",
              "      <td>Husband</td>\n",
              "      <td>White</td>\n",
              "      <td>Male</td>\n",
              "      <td>0.0</td>\n",
              "      <td>0.0</td>\n",
              "      <td>20.0</td>\n",
              "      <td>United-States</td>\n",
              "      <td>&lt;=50K</td>\n",
              "    </tr>\n",
              "    <tr>\n",
              "      <th>14886</th>\n",
              "      <td>14891</td>\n",
              "      <td>26</td>\n",
              "      <td>Private</td>\n",
              "      <td>123384</td>\n",
              "      <td>Masters</td>\n",
              "      <td>14</td>\n",
              "      <td>Never-married</td>\n",
              "      <td>Other-service</td>\n",
              "      <td>Own-child</td>\n",
              "      <td>White</td>\n",
              "      <td>Female</td>\n",
              "      <td>0.0</td>\n",
              "      <td>0.0</td>\n",
              "      <td>40.0</td>\n",
              "      <td>United-States</td>\n",
              "      <td>&lt;=50K</td>\n",
              "    </tr>\n",
              "    <tr>\n",
              "      <th>19745</th>\n",
              "      <td>19754</td>\n",
              "      <td>32</td>\n",
              "      <td>Self-emp-inc</td>\n",
              "      <td>377836</td>\n",
              "      <td>Assoc-voc</td>\n",
              "      <td>11</td>\n",
              "      <td>Married-civ-spouse</td>\n",
              "      <td>Exec-managerial</td>\n",
              "      <td>Husband</td>\n",
              "      <td>White</td>\n",
              "      <td>Male</td>\n",
              "      <td>0.0</td>\n",
              "      <td>0.0</td>\n",
              "      <td>40.0</td>\n",
              "      <td>United-States</td>\n",
              "      <td>&lt;=50K</td>\n",
              "    </tr>\n",
              "    <tr>\n",
              "      <th>2097</th>\n",
              "      <td>2097</td>\n",
              "      <td>56</td>\n",
              "      <td>Local-gov</td>\n",
              "      <td>160829</td>\n",
              "      <td>HS-grad</td>\n",
              "      <td>9</td>\n",
              "      <td>Divorced</td>\n",
              "      <td>Adm-clerical</td>\n",
              "      <td>Not-in-family</td>\n",
              "      <td>White</td>\n",
              "      <td>Female</td>\n",
              "      <td>0.0</td>\n",
              "      <td>0.0</td>\n",
              "      <td>46.0</td>\n",
              "      <td>United-States</td>\n",
              "      <td>&lt;=50K</td>\n",
              "    </tr>\n",
              "    <tr>\n",
              "      <th>31195</th>\n",
              "      <td>6377</td>\n",
              "      <td>26</td>\n",
              "      <td>Private</td>\n",
              "      <td>104097</td>\n",
              "      <td>Bachelors</td>\n",
              "      <td>13</td>\n",
              "      <td>Never-married</td>\n",
              "      <td>Exec-managerial</td>\n",
              "      <td>Not-in-family</td>\n",
              "      <td>White</td>\n",
              "      <td>Male</td>\n",
              "      <td>0.0</td>\n",
              "      <td>0.0</td>\n",
              "      <td>40.0</td>\n",
              "      <td>United-States</td>\n",
              "      <td>&lt;=50K.</td>\n",
              "    </tr>\n",
              "    <tr>\n",
              "      <th>7254</th>\n",
              "      <td>7256</td>\n",
              "      <td>40</td>\n",
              "      <td>Private</td>\n",
              "      <td>135056</td>\n",
              "      <td>HS-grad</td>\n",
              "      <td>9</td>\n",
              "      <td>Never-married</td>\n",
              "      <td>Adm-clerical</td>\n",
              "      <td>Not-in-family</td>\n",
              "      <td>White</td>\n",
              "      <td>Female</td>\n",
              "      <td>0.0</td>\n",
              "      <td>0.0</td>\n",
              "      <td>45.0</td>\n",
              "      <td>United-States</td>\n",
              "      <td>&lt;=50K</td>\n",
              "    </tr>\n",
              "    <tr>\n",
              "      <th>22837</th>\n",
              "      <td>22852</td>\n",
              "      <td>19</td>\n",
              "      <td>Private</td>\n",
              "      <td>184710</td>\n",
              "      <td>Some-college</td>\n",
              "      <td>10</td>\n",
              "      <td>Never-married</td>\n",
              "      <td>Tech-support</td>\n",
              "      <td>Own-child</td>\n",
              "      <td>White</td>\n",
              "      <td>Male</td>\n",
              "      <td>0.0</td>\n",
              "      <td>0.0</td>\n",
              "      <td>30.0</td>\n",
              "      <td>United-States</td>\n",
              "      <td>&lt;=50K</td>\n",
              "    </tr>\n",
              "    <tr>\n",
              "      <th>32447</th>\n",
              "      <td>7629</td>\n",
              "      <td>49</td>\n",
              "      <td>Private</td>\n",
              "      <td>187308</td>\n",
              "      <td>Some-college</td>\n",
              "      <td>10</td>\n",
              "      <td>Married-civ-spouse</td>\n",
              "      <td>Other-service</td>\n",
              "      <td>Other-relative</td>\n",
              "      <td>White</td>\n",
              "      <td>Male</td>\n",
              "      <td>0.0</td>\n",
              "      <td>0.0</td>\n",
              "      <td>35.0</td>\n",
              "      <td>United-States</td>\n",
              "      <td>&lt;=50K.</td>\n",
              "    </tr>\n",
              "    <tr>\n",
              "      <th>26652</th>\n",
              "      <td>1834</td>\n",
              "      <td>83</td>\n",
              "      <td>?</td>\n",
              "      <td>29702</td>\n",
              "      <td>7th-8th</td>\n",
              "      <td>4</td>\n",
              "      <td>Married-civ-spouse</td>\n",
              "      <td>?</td>\n",
              "      <td>Husband</td>\n",
              "      <td>White</td>\n",
              "      <td>Male</td>\n",
              "      <td>0.0</td>\n",
              "      <td>0.0</td>\n",
              "      <td>20.0</td>\n",
              "      <td>United-States</td>\n",
              "      <td>&lt;=50K.</td>\n",
              "    </tr>\n",
              "    <tr>\n",
              "      <th>1961</th>\n",
              "      <td>1961</td>\n",
              "      <td>51</td>\n",
              "      <td>Local-gov</td>\n",
              "      <td>159755</td>\n",
              "      <td>Masters</td>\n",
              "      <td>14</td>\n",
              "      <td>Married-civ-spouse</td>\n",
              "      <td>Prof-specialty</td>\n",
              "      <td>Husband</td>\n",
              "      <td>White</td>\n",
              "      <td>Male</td>\n",
              "      <td>0.0</td>\n",
              "      <td>0.0</td>\n",
              "      <td>40.0</td>\n",
              "      <td>United-States</td>\n",
              "      <td>&gt;50K</td>\n",
              "    </tr>\n",
              "    <tr>\n",
              "      <th>15376</th>\n",
              "      <td>15382</td>\n",
              "      <td>51</td>\n",
              "      <td>Private</td>\n",
              "      <td>108435</td>\n",
              "      <td>Masters</td>\n",
              "      <td>14</td>\n",
              "      <td>Married-civ-spouse</td>\n",
              "      <td>Prof-specialty</td>\n",
              "      <td>Husband</td>\n",
              "      <td>White</td>\n",
              "      <td>Male</td>\n",
              "      <td>0.0</td>\n",
              "      <td>0.0</td>\n",
              "      <td>47.0</td>\n",
              "      <td>United-States</td>\n",
              "      <td>&gt;50K</td>\n",
              "    </tr>\n",
              "    <tr>\n",
              "      <th>37366</th>\n",
              "      <td>12550</td>\n",
              "      <td>35</td>\n",
              "      <td>Private</td>\n",
              "      <td>258657</td>\n",
              "      <td>Assoc-acdm</td>\n",
              "      <td>12</td>\n",
              "      <td>Married-civ-spouse</td>\n",
              "      <td>Craft-repair</td>\n",
              "      <td>Husband</td>\n",
              "      <td>White</td>\n",
              "      <td>Male</td>\n",
              "      <td>0.0</td>\n",
              "      <td>0.0</td>\n",
              "      <td>60.0</td>\n",
              "      <td>United-States</td>\n",
              "      <td>&lt;=50K.</td>\n",
              "    </tr>\n",
              "    <tr>\n",
              "      <th>28511</th>\n",
              "      <td>3693</td>\n",
              "      <td>36</td>\n",
              "      <td>Private</td>\n",
              "      <td>82488</td>\n",
              "      <td>Bachelors</td>\n",
              "      <td>13</td>\n",
              "      <td>Married-civ-spouse</td>\n",
              "      <td>Adm-clerical</td>\n",
              "      <td>Wife</td>\n",
              "      <td>Asian-Pac-Islander</td>\n",
              "      <td>Female</td>\n",
              "      <td>0.0</td>\n",
              "      <td>0.0</td>\n",
              "      <td>40.0</td>\n",
              "      <td>Philippines</td>\n",
              "      <td>&lt;=50K.</td>\n",
              "    </tr>\n",
              "    <tr>\n",
              "      <th>31368</th>\n",
              "      <td>6550</td>\n",
              "      <td>44</td>\n",
              "      <td>Private</td>\n",
              "      <td>56651</td>\n",
              "      <td>HS-grad</td>\n",
              "      <td>9</td>\n",
              "      <td>Married-civ-spouse</td>\n",
              "      <td>Farming-fishing</td>\n",
              "      <td>Husband</td>\n",
              "      <td>White</td>\n",
              "      <td>Male</td>\n",
              "      <td>0.0</td>\n",
              "      <td>0.0</td>\n",
              "      <td>40.0</td>\n",
              "      <td>United-States</td>\n",
              "      <td>&lt;=50K.</td>\n",
              "    </tr>\n",
              "    <tr>\n",
              "      <th>35404</th>\n",
              "      <td>10586</td>\n",
              "      <td>45</td>\n",
              "      <td>Federal-gov</td>\n",
              "      <td>199925</td>\n",
              "      <td>Assoc-voc</td>\n",
              "      <td>11</td>\n",
              "      <td>Never-married</td>\n",
              "      <td>Adm-clerical</td>\n",
              "      <td>Unmarried</td>\n",
              "      <td>White</td>\n",
              "      <td>Male</td>\n",
              "      <td>0.0</td>\n",
              "      <td>0.0</td>\n",
              "      <td>48.0</td>\n",
              "      <td>United-States</td>\n",
              "      <td>&lt;=50K.</td>\n",
              "    </tr>\n",
              "    <tr>\n",
              "      <th>37769</th>\n",
              "      <td>12953</td>\n",
              "      <td>54</td>\n",
              "      <td>Private</td>\n",
              "      <td>161147</td>\n",
              "      <td>HS-grad</td>\n",
              "      <td>9</td>\n",
              "      <td>Never-married</td>\n",
              "      <td>Adm-clerical</td>\n",
              "      <td>Own-child</td>\n",
              "      <td>White</td>\n",
              "      <td>Female</td>\n",
              "      <td>2174.0</td>\n",
              "      <td>0.0</td>\n",
              "      <td>40.0</td>\n",
              "      <td>United-States</td>\n",
              "      <td>&lt;=50K.</td>\n",
              "    </tr>\n",
              "    <tr>\n",
              "      <th>25169</th>\n",
              "      <td>350</td>\n",
              "      <td>45</td>\n",
              "      <td>?</td>\n",
              "      <td>319993</td>\n",
              "      <td>HS-grad</td>\n",
              "      <td>9</td>\n",
              "      <td>Widowed</td>\n",
              "      <td>?</td>\n",
              "      <td>Unmarried</td>\n",
              "      <td>White</td>\n",
              "      <td>Female</td>\n",
              "      <td>0.0</td>\n",
              "      <td>0.0</td>\n",
              "      <td>40.0</td>\n",
              "      <td>Mexico</td>\n",
              "      <td>&lt;=50K.</td>\n",
              "    </tr>\n",
              "    <tr>\n",
              "      <th>39121</th>\n",
              "      <td>14306</td>\n",
              "      <td>39</td>\n",
              "      <td>Private</td>\n",
              "      <td>200598</td>\n",
              "      <td>Bachelors</td>\n",
              "      <td>13</td>\n",
              "      <td>Married-civ-spouse</td>\n",
              "      <td>Exec-managerial</td>\n",
              "      <td>Husband</td>\n",
              "      <td>White</td>\n",
              "      <td>Male</td>\n",
              "      <td>0.0</td>\n",
              "      <td>0.0</td>\n",
              "      <td>55.0</td>\n",
              "      <td>United-States</td>\n",
              "      <td>&lt;=50K.</td>\n",
              "    </tr>\n",
              "  </tbody>\n",
              "</table>\n",
              "</div>"
            ],
            "text/plain": [
              "       Unnamed: 0  age      workclass  ...  hours_per_week  native_country    class\n",
              "23718       23733   35        Private  ...            45.0   United-States     >50K\n",
              "34214        9396   35        Private  ...            45.0   United-States   <=50K.\n",
              "20769       20778   31        Private  ...            20.0   United-States    <=50K\n",
              "14886       14891   26        Private  ...            40.0   United-States    <=50K\n",
              "19745       19754   32   Self-emp-inc  ...            40.0   United-States    <=50K\n",
              "2097         2097   56      Local-gov  ...            46.0   United-States    <=50K\n",
              "31195        6377   26        Private  ...            40.0   United-States   <=50K.\n",
              "7254         7256   40        Private  ...            45.0   United-States    <=50K\n",
              "22837       22852   19        Private  ...            30.0   United-States    <=50K\n",
              "32447        7629   49        Private  ...            35.0   United-States   <=50K.\n",
              "26652        1834   83              ?  ...            20.0   United-States   <=50K.\n",
              "1961         1961   51      Local-gov  ...            40.0   United-States     >50K\n",
              "15376       15382   51        Private  ...            47.0   United-States     >50K\n",
              "37366       12550   35        Private  ...            60.0   United-States   <=50K.\n",
              "28511        3693   36        Private  ...            40.0     Philippines   <=50K.\n",
              "31368        6550   44        Private  ...            40.0   United-States   <=50K.\n",
              "35404       10586   45    Federal-gov  ...            48.0   United-States   <=50K.\n",
              "37769       12953   54        Private  ...            40.0   United-States   <=50K.\n",
              "25169         350   45              ?  ...            40.0          Mexico   <=50K.\n",
              "39121       14306   39        Private  ...            55.0   United-States   <=50K.\n",
              "\n",
              "[20 rows x 16 columns]"
            ]
          },
          "metadata": {},
          "execution_count": 45
        }
      ]
    },
    {
      "cell_type": "code",
      "metadata": {
        "id": "2Nlksu80ciif"
      },
      "source": [
        "data.drop(labels='Unnamed: 0', axis=1, inplace=True)"
      ],
      "execution_count": 46,
      "outputs": []
    },
    {
      "cell_type": "code",
      "metadata": {
        "id": "TJAd1eoEcim_"
      },
      "source": [
        "data.dropna(how='any', axis=0, inplace=True)"
      ],
      "execution_count": 47,
      "outputs": []
    },
    {
      "cell_type": "code",
      "metadata": {
        "id": "Iq0Qjldjciqt"
      },
      "source": [
        "data['class'].replace(' >50K.', ' >50K')\n",
        "data['class'].replace(' <=50K.', ' <=50K')\n",
        "data['y_act'] = np.where(data['class']==' >50K',1,0)"
      ],
      "execution_count": 51,
      "outputs": []
    },
    {
      "cell_type": "code",
      "metadata": {
        "id": "kRhPT6U7dJbi",
        "outputId": "54d5564e-cbfd-4a9e-ce47-3ba585b41c48",
        "colab": {
          "base_uri": "https://localhost:8080/",
          "height": 363
        }
      },
      "source": [
        "data[['class', 'y_act']].sample(10)"
      ],
      "execution_count": 52,
      "outputs": [
        {
          "output_type": "execute_result",
          "data": {
            "text/html": [
              "<div>\n",
              "<style scoped>\n",
              "    .dataframe tbody tr th:only-of-type {\n",
              "        vertical-align: middle;\n",
              "    }\n",
              "\n",
              "    .dataframe tbody tr th {\n",
              "        vertical-align: top;\n",
              "    }\n",
              "\n",
              "    .dataframe thead th {\n",
              "        text-align: right;\n",
              "    }\n",
              "</style>\n",
              "<table border=\"1\" class=\"dataframe\">\n",
              "  <thead>\n",
              "    <tr style=\"text-align: right;\">\n",
              "      <th></th>\n",
              "      <th>class</th>\n",
              "      <th>y_act</th>\n",
              "    </tr>\n",
              "  </thead>\n",
              "  <tbody>\n",
              "    <tr>\n",
              "      <th>24467</th>\n",
              "      <td>&gt;50K</td>\n",
              "      <td>1</td>\n",
              "    </tr>\n",
              "    <tr>\n",
              "      <th>18831</th>\n",
              "      <td>&lt;=50K</td>\n",
              "      <td>0</td>\n",
              "    </tr>\n",
              "    <tr>\n",
              "      <th>24817</th>\n",
              "      <td>&lt;=50K</td>\n",
              "      <td>0</td>\n",
              "    </tr>\n",
              "    <tr>\n",
              "      <th>81</th>\n",
              "      <td>&lt;=50K</td>\n",
              "      <td>0</td>\n",
              "    </tr>\n",
              "    <tr>\n",
              "      <th>34906</th>\n",
              "      <td>&lt;=50K.</td>\n",
              "      <td>0</td>\n",
              "    </tr>\n",
              "    <tr>\n",
              "      <th>17322</th>\n",
              "      <td>&lt;=50K</td>\n",
              "      <td>0</td>\n",
              "    </tr>\n",
              "    <tr>\n",
              "      <th>6705</th>\n",
              "      <td>&lt;=50K</td>\n",
              "      <td>0</td>\n",
              "    </tr>\n",
              "    <tr>\n",
              "      <th>40301</th>\n",
              "      <td>&lt;=50K.</td>\n",
              "      <td>0</td>\n",
              "    </tr>\n",
              "    <tr>\n",
              "      <th>25151</th>\n",
              "      <td>&gt;50K.</td>\n",
              "      <td>0</td>\n",
              "    </tr>\n",
              "    <tr>\n",
              "      <th>15588</th>\n",
              "      <td>&lt;=50K</td>\n",
              "      <td>0</td>\n",
              "    </tr>\n",
              "  </tbody>\n",
              "</table>\n",
              "</div>"
            ],
            "text/plain": [
              "         class  y_act\n",
              "24467     >50K      1\n",
              "18831    <=50K      0\n",
              "24817    <=50K      0\n",
              "81       <=50K      0\n",
              "34906   <=50K.      0\n",
              "17322    <=50K      0\n",
              "6705     <=50K      0\n",
              "40301   <=50K.      0\n",
              "25151    >50K.      0\n",
              "15588    <=50K      0"
            ]
          },
          "metadata": {},
          "execution_count": 52
        }
      ]
    },
    {
      "cell_type": "code",
      "metadata": {
        "id": "MdigwT1ldJeU",
        "outputId": "512268ed-5610-4a95-ffc4-080e84d99581",
        "colab": {
          "base_uri": "https://localhost:8080/"
        }
      },
      "source": [
        "data[['class', 'y_act']].value_counts()"
      ],
      "execution_count": 53,
      "outputs": [
        {
          "output_type": "execute_result",
          "data": {
            "text/plain": [
              "class    y_act\n",
              " <=50K   0        18867\n",
              " <=50K.  0        12430\n",
              " >50K    1         5951\n",
              " >50K.   0         3846\n",
              "dtype: int64"
            ]
          },
          "metadata": {},
          "execution_count": 53
        }
      ]
    },
    {
      "cell_type": "code",
      "metadata": {
        "id": "5KEKXbiBdJg-",
        "outputId": "2af27b40-f11f-4fc7-db36-fd629b1dbf3e",
        "colab": {
          "base_uri": "https://localhost:8080/",
          "height": 206
        }
      },
      "source": [
        "X_variables = ['age',  'hours_per_week', 'education_num']\n",
        "data[X_variables].head()"
      ],
      "execution_count": 55,
      "outputs": [
        {
          "output_type": "execute_result",
          "data": {
            "text/html": [
              "<div>\n",
              "<style scoped>\n",
              "    .dataframe tbody tr th:only-of-type {\n",
              "        vertical-align: middle;\n",
              "    }\n",
              "\n",
              "    .dataframe tbody tr th {\n",
              "        vertical-align: top;\n",
              "    }\n",
              "\n",
              "    .dataframe thead th {\n",
              "        text-align: right;\n",
              "    }\n",
              "</style>\n",
              "<table border=\"1\" class=\"dataframe\">\n",
              "  <thead>\n",
              "    <tr style=\"text-align: right;\">\n",
              "      <th></th>\n",
              "      <th>age</th>\n",
              "      <th>hours_per_week</th>\n",
              "      <th>education_num</th>\n",
              "    </tr>\n",
              "  </thead>\n",
              "  <tbody>\n",
              "    <tr>\n",
              "      <th>0</th>\n",
              "      <td>39</td>\n",
              "      <td>40.0</td>\n",
              "      <td>13</td>\n",
              "    </tr>\n",
              "    <tr>\n",
              "      <th>1</th>\n",
              "      <td>50</td>\n",
              "      <td>13.0</td>\n",
              "      <td>13</td>\n",
              "    </tr>\n",
              "    <tr>\n",
              "      <th>2</th>\n",
              "      <td>38</td>\n",
              "      <td>40.0</td>\n",
              "      <td>9</td>\n",
              "    </tr>\n",
              "    <tr>\n",
              "      <th>3</th>\n",
              "      <td>53</td>\n",
              "      <td>40.0</td>\n",
              "      <td>7</td>\n",
              "    </tr>\n",
              "    <tr>\n",
              "      <th>4</th>\n",
              "      <td>28</td>\n",
              "      <td>40.0</td>\n",
              "      <td>13</td>\n",
              "    </tr>\n",
              "  </tbody>\n",
              "</table>\n",
              "</div>"
            ],
            "text/plain": [
              "   age  hours_per_week  education_num\n",
              "0   39            40.0             13\n",
              "1   50            13.0             13\n",
              "2   38            40.0              9\n",
              "3   53            40.0              7\n",
              "4   28            40.0             13"
            ]
          },
          "metadata": {},
          "execution_count": 55
        }
      ]
    },
    {
      "cell_type": "code",
      "metadata": {
        "id": "kB4itMqLdcHA",
        "outputId": "4f344c0c-ff63-4d3a-a543-b646ca341d7b",
        "colab": {
          "base_uri": "https://localhost:8080/"
        }
      },
      "source": [
        "y_varibale = 'y_act'\n",
        "data[y_varibale].head()"
      ],
      "execution_count": 56,
      "outputs": [
        {
          "output_type": "execute_result",
          "data": {
            "text/plain": [
              "0    0\n",
              "1    0\n",
              "2    0\n",
              "3    0\n",
              "4    0\n",
              "Name: y_act, dtype: int64"
            ]
          },
          "metadata": {},
          "execution_count": 56
        }
      ]
    },
    {
      "cell_type": "code",
      "metadata": {
        "id": "nFXSOGGCdcKj",
        "outputId": "2dbda16b-9e1c-44a6-d05a-38578ec843a8",
        "colab": {
          "base_uri": "https://localhost:8080/"
        }
      },
      "source": [
        "X = data[X_variables].values\n",
        "X"
      ],
      "execution_count": 57,
      "outputs": [
        {
          "output_type": "execute_result",
          "data": {
            "text/plain": [
              "array([[39., 40., 13.],\n",
              "       [50., 13., 13.],\n",
              "       [38., 40.,  9.],\n",
              "       ...,\n",
              "       [38., 50., 13.],\n",
              "       [44., 40., 13.],\n",
              "       [35., 60., 13.]])"
            ]
          },
          "metadata": {},
          "execution_count": 57
        }
      ]
    },
    {
      "cell_type": "code",
      "metadata": {
        "id": "ieVyBjuvdlXN",
        "outputId": "e82fda90-7312-4693-f6ca-c9c65df08d08",
        "colab": {
          "base_uri": "https://localhost:8080/"
        }
      },
      "source": [
        "y = data[y_varibale].values\n",
        "y"
      ],
      "execution_count": 58,
      "outputs": [
        {
          "output_type": "execute_result",
          "data": {
            "text/plain": [
              "array([0, 0, 0, ..., 0, 0, 0])"
            ]
          },
          "metadata": {},
          "execution_count": 58
        }
      ]
    },
    {
      "cell_type": "code",
      "metadata": {
        "id": "ZExl7B8bdpCS",
        "outputId": "9a619957-6059-418e-bd28-248a90eaeba9",
        "colab": {
          "base_uri": "https://localhost:8080/"
        }
      },
      "source": [
        "X_train, X_test, y_train, y_test = train_test_split(X, y, test_size=0.3, random_state=42)\n",
        "\n",
        "print(F\"Train sample size = {len(X_train)}\")\n",
        "print(F\"Test sample size  = {len(X_test)}\")"
      ],
      "execution_count": 61,
      "outputs": [
        {
          "output_type": "stream",
          "name": "stdout",
          "text": [
            "Train sample size = 28765\n",
            "Test sample size  = 12329\n"
          ]
        }
      ]
    },
    {
      "cell_type": "code",
      "metadata": {
        "id": "D57GUQc0gnyT",
        "colab": {
          "base_uri": "https://localhost:8080/"
        },
        "outputId": "cde81758-cb3b-489a-babb-16d70e8536cb"
      },
      "source": [
        "model = RandomForestClassifier(n_estimators=1000)\n",
        "model.fit(X_train, y_train)"
      ],
      "execution_count": 62,
      "outputs": [
        {
          "output_type": "execute_result",
          "data": {
            "text/plain": [
              "RandomForestClassifier(bootstrap=True, ccp_alpha=0.0, class_weight=None,\n",
              "                       criterion='gini', max_depth=None, max_features='auto',\n",
              "                       max_leaf_nodes=None, max_samples=None,\n",
              "                       min_impurity_decrease=0.0, min_impurity_split=None,\n",
              "                       min_samples_leaf=1, min_samples_split=2,\n",
              "                       min_weight_fraction_leaf=0.0, n_estimators=1000,\n",
              "                       n_jobs=None, oob_score=False, random_state=None,\n",
              "                       verbose=0, warm_start=False)"
            ]
          },
          "metadata": {},
          "execution_count": 62
        }
      ]
    },
    {
      "cell_type": "code",
      "metadata": {
        "colab": {
          "base_uri": "https://localhost:8080/"
        },
        "id": "tOpCM7i0g1Yo",
        "outputId": "0e4b4f3d-03fe-41c2-b7a7-2b29d587b81e"
      },
      "source": [
        "model.predict_proba(X_test)"
      ],
      "execution_count": 63,
      "outputs": [
        {
          "output_type": "execute_result",
          "data": {
            "text/plain": [
              "array([[0.89183044, 0.10816956],\n",
              "       [0.85769723, 0.14230277],\n",
              "       [0.98504246, 0.01495754],\n",
              "       ...,\n",
              "       [0.93896889, 0.06103111],\n",
              "       [0.62705517, 0.37294483],\n",
              "       [0.66889048, 0.33110952]])"
            ]
          },
          "metadata": {},
          "execution_count": 63
        }
      ]
    },
    {
      "cell_type": "code",
      "metadata": {
        "id": "tmPN7kNBg6-E"
      },
      "source": [
        "y_pred = model.predict(X_test)\n",
        "y_pred_prob = model.predict_proba(X_test)[:, 1]"
      ],
      "execution_count": 64,
      "outputs": []
    },
    {
      "cell_type": "code",
      "metadata": {
        "colab": {
          "base_uri": "https://localhost:8080/",
          "height": 363
        },
        "id": "zJrBwiLqg_Qb",
        "outputId": "dcc88514-e4b4-4181-a834-83041b23b6f4"
      },
      "source": [
        "test_result = pd.DataFrame(data={'y_act':y_test, 'y_pred':y_pred, 'y_pred_prob':y_pred_prob})\n",
        "test_result.sample(10)"
      ],
      "execution_count": 67,
      "outputs": [
        {
          "output_type": "execute_result",
          "data": {
            "text/html": [
              "<div>\n",
              "<style scoped>\n",
              "    .dataframe tbody tr th:only-of-type {\n",
              "        vertical-align: middle;\n",
              "    }\n",
              "\n",
              "    .dataframe tbody tr th {\n",
              "        vertical-align: top;\n",
              "    }\n",
              "\n",
              "    .dataframe thead th {\n",
              "        text-align: right;\n",
              "    }\n",
              "</style>\n",
              "<table border=\"1\" class=\"dataframe\">\n",
              "  <thead>\n",
              "    <tr style=\"text-align: right;\">\n",
              "      <th></th>\n",
              "      <th>y_act</th>\n",
              "      <th>y_pred</th>\n",
              "      <th>y_pred_prob</th>\n",
              "    </tr>\n",
              "  </thead>\n",
              "  <tbody>\n",
              "    <tr>\n",
              "      <th>4270</th>\n",
              "      <td>0</td>\n",
              "      <td>0</td>\n",
              "      <td>0.012233</td>\n",
              "    </tr>\n",
              "    <tr>\n",
              "      <th>6412</th>\n",
              "      <td>0</td>\n",
              "      <td>0</td>\n",
              "      <td>0.032341</td>\n",
              "    </tr>\n",
              "    <tr>\n",
              "      <th>803</th>\n",
              "      <td>0</td>\n",
              "      <td>0</td>\n",
              "      <td>0.019000</td>\n",
              "    </tr>\n",
              "    <tr>\n",
              "      <th>4338</th>\n",
              "      <td>0</td>\n",
              "      <td>0</td>\n",
              "      <td>0.067772</td>\n",
              "    </tr>\n",
              "    <tr>\n",
              "      <th>7769</th>\n",
              "      <td>0</td>\n",
              "      <td>0</td>\n",
              "      <td>0.000000</td>\n",
              "    </tr>\n",
              "    <tr>\n",
              "      <th>10553</th>\n",
              "      <td>0</td>\n",
              "      <td>0</td>\n",
              "      <td>0.134358</td>\n",
              "    </tr>\n",
              "    <tr>\n",
              "      <th>5153</th>\n",
              "      <td>0</td>\n",
              "      <td>0</td>\n",
              "      <td>0.184176</td>\n",
              "    </tr>\n",
              "    <tr>\n",
              "      <th>9291</th>\n",
              "      <td>0</td>\n",
              "      <td>0</td>\n",
              "      <td>0.056933</td>\n",
              "    </tr>\n",
              "    <tr>\n",
              "      <th>2500</th>\n",
              "      <td>0</td>\n",
              "      <td>0</td>\n",
              "      <td>0.308996</td>\n",
              "    </tr>\n",
              "    <tr>\n",
              "      <th>3494</th>\n",
              "      <td>0</td>\n",
              "      <td>0</td>\n",
              "      <td>0.098352</td>\n",
              "    </tr>\n",
              "  </tbody>\n",
              "</table>\n",
              "</div>"
            ],
            "text/plain": [
              "       y_act  y_pred  y_pred_prob\n",
              "4270       0       0     0.012233\n",
              "6412       0       0     0.032341\n",
              "803        0       0     0.019000\n",
              "4338       0       0     0.067772\n",
              "7769       0       0     0.000000\n",
              "10553      0       0     0.134358\n",
              "5153       0       0     0.184176\n",
              "9291       0       0     0.056933\n",
              "2500       0       0     0.308996\n",
              "3494       0       0     0.098352"
            ]
          },
          "metadata": {},
          "execution_count": 67
        }
      ]
    },
    {
      "cell_type": "code",
      "metadata": {
        "colab": {
          "base_uri": "https://localhost:8080/",
          "height": 175
        },
        "id": "YJFWS-6BhDBg",
        "outputId": "5bd9099c-1c61-4768-93e2-a76751da2c4c"
      },
      "source": [
        "cfm = pd.crosstab(test_result['y_act'], test_result['y_pred'], margins=True)\n",
        "cfm"
      ],
      "execution_count": 68,
      "outputs": [
        {
          "output_type": "execute_result",
          "data": {
            "text/html": [
              "<div>\n",
              "<style scoped>\n",
              "    .dataframe tbody tr th:only-of-type {\n",
              "        vertical-align: middle;\n",
              "    }\n",
              "\n",
              "    .dataframe tbody tr th {\n",
              "        vertical-align: top;\n",
              "    }\n",
              "\n",
              "    .dataframe thead th {\n",
              "        text-align: right;\n",
              "    }\n",
              "</style>\n",
              "<table border=\"1\" class=\"dataframe\">\n",
              "  <thead>\n",
              "    <tr style=\"text-align: right;\">\n",
              "      <th>y_pred</th>\n",
              "      <th>0</th>\n",
              "      <th>1</th>\n",
              "      <th>All</th>\n",
              "    </tr>\n",
              "    <tr>\n",
              "      <th>y_act</th>\n",
              "      <th></th>\n",
              "      <th></th>\n",
              "      <th></th>\n",
              "    </tr>\n",
              "  </thead>\n",
              "  <tbody>\n",
              "    <tr>\n",
              "      <th>0</th>\n",
              "      <td>10184</td>\n",
              "      <td>339</td>\n",
              "      <td>10523</td>\n",
              "    </tr>\n",
              "    <tr>\n",
              "      <th>1</th>\n",
              "      <td>1592</td>\n",
              "      <td>214</td>\n",
              "      <td>1806</td>\n",
              "    </tr>\n",
              "    <tr>\n",
              "      <th>All</th>\n",
              "      <td>11776</td>\n",
              "      <td>553</td>\n",
              "      <td>12329</td>\n",
              "    </tr>\n",
              "  </tbody>\n",
              "</table>\n",
              "</div>"
            ],
            "text/plain": [
              "y_pred      0    1    All\n",
              "y_act                    \n",
              "0       10184  339  10523\n",
              "1        1592  214   1806\n",
              "All     11776  553  12329"
            ]
          },
          "metadata": {},
          "execution_count": 68
        }
      ]
    },
    {
      "cell_type": "code",
      "metadata": {
        "colab": {
          "base_uri": "https://localhost:8080/"
        },
        "id": "wyKCgYs_hGJE",
        "outputId": "99dfe0d2-b21b-4679-f66d-9f15290924f6"
      },
      "source": [
        "acuracy = (cfm.loc[0,0] + cfm.loc[1,1] ) / cfm.loc['All','All'] \n",
        "acuracy"
      ],
      "execution_count": 70,
      "outputs": [
        {
          "output_type": "execute_result",
          "data": {
            "text/plain": [
              "0.843377402871279"
            ]
          },
          "metadata": {},
          "execution_count": 70
        }
      ]
    },
    {
      "cell_type": "code",
      "metadata": {
        "colab": {
          "base_uri": "https://localhost:8080/"
        },
        "id": "tCY8kc6GtwL4",
        "outputId": "160634d1-3e7f-4f25-df21-218174ed4b47"
      },
      "source": [
        "precision = (cfm.loc[1,1]) / cfm.loc['All',1] \n",
        "precision"
      ],
      "execution_count": 71,
      "outputs": [
        {
          "output_type": "execute_result",
          "data": {
            "text/plain": [
              "0.38698010849909587"
            ]
          },
          "metadata": {},
          "execution_count": 71
        }
      ]
    },
    {
      "cell_type": "code",
      "metadata": {
        "id": "HLQQlEfevTkO",
        "colab": {
          "base_uri": "https://localhost:8080/"
        },
        "outputId": "29977dd8-e0fd-4da7-89f5-4192afe62436"
      },
      "source": [
        "test_result['y_pred_prob']"
      ],
      "execution_count": 72,
      "outputs": [
        {
          "output_type": "execute_result",
          "data": {
            "text/plain": [
              "0        0.108170\n",
              "1        0.142303\n",
              "2        0.014958\n",
              "3        0.000000\n",
              "4        0.032572\n",
              "           ...   \n",
              "12324    0.045752\n",
              "12325    0.210597\n",
              "12326    0.061031\n",
              "12327    0.372945\n",
              "12328    0.331110\n",
              "Name: y_pred_prob, Length: 12329, dtype: float64"
            ]
          },
          "metadata": {},
          "execution_count": 72
        }
      ]
    },
    {
      "cell_type": "code",
      "metadata": {
        "colab": {
          "base_uri": "https://localhost:8080/"
        },
        "id": "nIh_axvoQH7M",
        "outputId": "1a22e0d2-7645-4f22-9a1c-5dc2e5fc447b"
      },
      "source": [
        "test_result['y_pred_prob'].value_counts(bins=10)"
      ],
      "execution_count": 73,
      "outputs": [
        {
          "output_type": "execute_result",
          "data": {
            "text/plain": [
              "(-0.002, 0.1]    6740\n",
              "(0.1, 0.2]       2460\n",
              "(0.2, 0.3]       1136\n",
              "(0.3, 0.4]        916\n",
              "(0.4, 0.5]        524\n",
              "(0.6, 0.7]        202\n",
              "(0.5, 0.6]        175\n",
              "(0.7, 0.8]         86\n",
              "(0.8, 0.9]         47\n",
              "(0.9, 1.0]         43\n",
              "Name: y_pred_prob, dtype: int64"
            ]
          },
          "metadata": {},
          "execution_count": 73
        }
      ]
    },
    {
      "cell_type": "code",
      "metadata": {
        "colab": {
          "base_uri": "https://localhost:8080/"
        },
        "id": "j58c-MQeQRnQ",
        "outputId": "50437158-e84e-4f97-848e-fdc8d8281600"
      },
      "source": [
        "test_result['prob_bucket'] = pd.cut(test_result['y_pred_prob'], bins=10)\n",
        "test_result['prob_bucket']"
      ],
      "execution_count": 74,
      "outputs": [
        {
          "output_type": "execute_result",
          "data": {
            "text/plain": [
              "0           (0.1, 0.2]\n",
              "1           (0.1, 0.2]\n",
              "2        (-0.001, 0.1]\n",
              "3        (-0.001, 0.1]\n",
              "4        (-0.001, 0.1]\n",
              "             ...      \n",
              "12324    (-0.001, 0.1]\n",
              "12325       (0.2, 0.3]\n",
              "12326    (-0.001, 0.1]\n",
              "12327       (0.3, 0.4]\n",
              "12328       (0.3, 0.4]\n",
              "Name: prob_bucket, Length: 12329, dtype: category\n",
              "Categories (10, interval[float64]): [(-0.001, 0.1] < (0.1, 0.2] < (0.2, 0.3] < (0.3, 0.4] < ... <\n",
              "                                     (0.6, 0.7] < (0.7, 0.8] < (0.8, 0.9] < (0.9, 1.0]]"
            ]
          },
          "metadata": {},
          "execution_count": 74
        }
      ]
    },
    {
      "cell_type": "code",
      "metadata": {
        "colab": {
          "base_uri": "https://localhost:8080/"
        },
        "id": "nLr_m5gqQwJm",
        "outputId": "6bce6e12-2e2b-4d05-b7b9-22974e670f67"
      },
      "source": [
        "#labels = [1,2,3,4,5,6,7,8,9,10 ]\n",
        "test_result['q_bucket'] = pd.qcut(test_result['y_pred_prob'], q=10, duplicates='drop')\n",
        "test_result['q_bucket']"
      ],
      "execution_count": 75,
      "outputs": [
        {
          "output_type": "execute_result",
          "data": {
            "text/plain": [
              "0            (0.08, 0.124]\n",
              "1           (0.124, 0.173]\n",
              "2        (0.00842, 0.0356]\n",
              "3        (-0.001, 0.00842]\n",
              "4        (0.00842, 0.0356]\n",
              "               ...        \n",
              "12324       (0.0356, 0.08]\n",
              "12325        (0.173, 0.25]\n",
              "12326       (0.0356, 0.08]\n",
              "12327        (0.25, 0.379]\n",
              "12328        (0.25, 0.379]\n",
              "Name: q_bucket, Length: 12329, dtype: category\n",
              "Categories (8, interval[float64]): [(-0.001, 0.00842] < (0.00842, 0.0356] < (0.0356, 0.08] <\n",
              "                                    (0.08, 0.124] < (0.124, 0.173] < (0.173, 0.25] < (0.25, 0.379] <\n",
              "                                    (0.379, 1.0]]"
            ]
          },
          "metadata": {},
          "execution_count": 75
        }
      ]
    },
    {
      "cell_type": "code",
      "metadata": {
        "colab": {
          "base_uri": "https://localhost:8080/",
          "height": 424
        },
        "id": "be6G82DKRWWT",
        "outputId": "1cc36e89-ebeb-442b-a943-6d9958cd7cab"
      },
      "source": [
        "test_result"
      ],
      "execution_count": 76,
      "outputs": [
        {
          "output_type": "execute_result",
          "data": {
            "text/html": [
              "<div>\n",
              "<style scoped>\n",
              "    .dataframe tbody tr th:only-of-type {\n",
              "        vertical-align: middle;\n",
              "    }\n",
              "\n",
              "    .dataframe tbody tr th {\n",
              "        vertical-align: top;\n",
              "    }\n",
              "\n",
              "    .dataframe thead th {\n",
              "        text-align: right;\n",
              "    }\n",
              "</style>\n",
              "<table border=\"1\" class=\"dataframe\">\n",
              "  <thead>\n",
              "    <tr style=\"text-align: right;\">\n",
              "      <th></th>\n",
              "      <th>y_act</th>\n",
              "      <th>y_pred</th>\n",
              "      <th>y_pred_prob</th>\n",
              "      <th>prob_bucket</th>\n",
              "      <th>q_bucket</th>\n",
              "    </tr>\n",
              "  </thead>\n",
              "  <tbody>\n",
              "    <tr>\n",
              "      <th>0</th>\n",
              "      <td>0</td>\n",
              "      <td>0</td>\n",
              "      <td>0.108170</td>\n",
              "      <td>(0.1, 0.2]</td>\n",
              "      <td>(0.08, 0.124]</td>\n",
              "    </tr>\n",
              "    <tr>\n",
              "      <th>1</th>\n",
              "      <td>0</td>\n",
              "      <td>0</td>\n",
              "      <td>0.142303</td>\n",
              "      <td>(0.1, 0.2]</td>\n",
              "      <td>(0.124, 0.173]</td>\n",
              "    </tr>\n",
              "    <tr>\n",
              "      <th>2</th>\n",
              "      <td>0</td>\n",
              "      <td>0</td>\n",
              "      <td>0.014958</td>\n",
              "      <td>(-0.001, 0.1]</td>\n",
              "      <td>(0.00842, 0.0356]</td>\n",
              "    </tr>\n",
              "    <tr>\n",
              "      <th>3</th>\n",
              "      <td>0</td>\n",
              "      <td>0</td>\n",
              "      <td>0.000000</td>\n",
              "      <td>(-0.001, 0.1]</td>\n",
              "      <td>(-0.001, 0.00842]</td>\n",
              "    </tr>\n",
              "    <tr>\n",
              "      <th>4</th>\n",
              "      <td>0</td>\n",
              "      <td>0</td>\n",
              "      <td>0.032572</td>\n",
              "      <td>(-0.001, 0.1]</td>\n",
              "      <td>(0.00842, 0.0356]</td>\n",
              "    </tr>\n",
              "    <tr>\n",
              "      <th>...</th>\n",
              "      <td>...</td>\n",
              "      <td>...</td>\n",
              "      <td>...</td>\n",
              "      <td>...</td>\n",
              "      <td>...</td>\n",
              "    </tr>\n",
              "    <tr>\n",
              "      <th>12324</th>\n",
              "      <td>1</td>\n",
              "      <td>0</td>\n",
              "      <td>0.045752</td>\n",
              "      <td>(-0.001, 0.1]</td>\n",
              "      <td>(0.0356, 0.08]</td>\n",
              "    </tr>\n",
              "    <tr>\n",
              "      <th>12325</th>\n",
              "      <td>0</td>\n",
              "      <td>0</td>\n",
              "      <td>0.210597</td>\n",
              "      <td>(0.2, 0.3]</td>\n",
              "      <td>(0.173, 0.25]</td>\n",
              "    </tr>\n",
              "    <tr>\n",
              "      <th>12326</th>\n",
              "      <td>0</td>\n",
              "      <td>0</td>\n",
              "      <td>0.061031</td>\n",
              "      <td>(-0.001, 0.1]</td>\n",
              "      <td>(0.0356, 0.08]</td>\n",
              "    </tr>\n",
              "    <tr>\n",
              "      <th>12327</th>\n",
              "      <td>0</td>\n",
              "      <td>0</td>\n",
              "      <td>0.372945</td>\n",
              "      <td>(0.3, 0.4]</td>\n",
              "      <td>(0.25, 0.379]</td>\n",
              "    </tr>\n",
              "    <tr>\n",
              "      <th>12328</th>\n",
              "      <td>0</td>\n",
              "      <td>0</td>\n",
              "      <td>0.331110</td>\n",
              "      <td>(0.3, 0.4]</td>\n",
              "      <td>(0.25, 0.379]</td>\n",
              "    </tr>\n",
              "  </tbody>\n",
              "</table>\n",
              "<p>12329 rows × 5 columns</p>\n",
              "</div>"
            ],
            "text/plain": [
              "       y_act  y_pred  y_pred_prob    prob_bucket           q_bucket\n",
              "0          0       0     0.108170     (0.1, 0.2]      (0.08, 0.124]\n",
              "1          0       0     0.142303     (0.1, 0.2]     (0.124, 0.173]\n",
              "2          0       0     0.014958  (-0.001, 0.1]  (0.00842, 0.0356]\n",
              "3          0       0     0.000000  (-0.001, 0.1]  (-0.001, 0.00842]\n",
              "4          0       0     0.032572  (-0.001, 0.1]  (0.00842, 0.0356]\n",
              "...      ...     ...          ...            ...                ...\n",
              "12324      1       0     0.045752  (-0.001, 0.1]     (0.0356, 0.08]\n",
              "12325      0       0     0.210597     (0.2, 0.3]      (0.173, 0.25]\n",
              "12326      0       0     0.061031  (-0.001, 0.1]     (0.0356, 0.08]\n",
              "12327      0       0     0.372945     (0.3, 0.4]      (0.25, 0.379]\n",
              "12328      0       0     0.331110     (0.3, 0.4]      (0.25, 0.379]\n",
              "\n",
              "[12329 rows x 5 columns]"
            ]
          },
          "metadata": {},
          "execution_count": 76
        }
      ]
    },
    {
      "cell_type": "code",
      "metadata": {
        "colab": {
          "base_uri": "https://localhost:8080/",
          "height": 300
        },
        "id": "3_7bb2uRQ4M0",
        "outputId": "25aee3d1-4515-4377-bd0c-ddc526af0852"
      },
      "source": [
        "eval_table  = test_result.groupby(by='q_bucket').agg(\n",
        "    count=pd.NamedAgg(column=\"q_bucket\", aggfunc=\"count\"),\n",
        "    response_count=pd.NamedAgg(column=\"y_act\", aggfunc=\"sum\"),\n",
        "    min_probability = pd.NamedAgg(column=\"y_pred_prob\", aggfunc=\"min\"),\n",
        "    ).reset_index()\n",
        "\n",
        "eval_table"
      ],
      "execution_count": 83,
      "outputs": [
        {
          "output_type": "execute_result",
          "data": {
            "text/html": [
              "<div>\n",
              "<style scoped>\n",
              "    .dataframe tbody tr th:only-of-type {\n",
              "        vertical-align: middle;\n",
              "    }\n",
              "\n",
              "    .dataframe tbody tr th {\n",
              "        vertical-align: top;\n",
              "    }\n",
              "\n",
              "    .dataframe thead th {\n",
              "        text-align: right;\n",
              "    }\n",
              "</style>\n",
              "<table border=\"1\" class=\"dataframe\">\n",
              "  <thead>\n",
              "    <tr style=\"text-align: right;\">\n",
              "      <th></th>\n",
              "      <th>q_bucket</th>\n",
              "      <th>count</th>\n",
              "      <th>response_count</th>\n",
              "      <th>min_probability</th>\n",
              "    </tr>\n",
              "  </thead>\n",
              "  <tbody>\n",
              "    <tr>\n",
              "      <th>0</th>\n",
              "      <td>(-0.001, 0.00842]</td>\n",
              "      <td>3699</td>\n",
              "      <td>135</td>\n",
              "      <td>0.000000</td>\n",
              "    </tr>\n",
              "    <tr>\n",
              "      <th>1</th>\n",
              "      <td>(0.00842, 0.0356]</td>\n",
              "      <td>1233</td>\n",
              "      <td>126</td>\n",
              "      <td>0.008426</td>\n",
              "    </tr>\n",
              "    <tr>\n",
              "      <th>2</th>\n",
              "      <td>(0.0356, 0.08]</td>\n",
              "      <td>1233</td>\n",
              "      <td>155</td>\n",
              "      <td>0.035700</td>\n",
              "    </tr>\n",
              "    <tr>\n",
              "      <th>3</th>\n",
              "      <td>(0.08, 0.124]</td>\n",
              "      <td>1269</td>\n",
              "      <td>163</td>\n",
              "      <td>0.080272</td>\n",
              "    </tr>\n",
              "    <tr>\n",
              "      <th>4</th>\n",
              "      <td>(0.124, 0.173]</td>\n",
              "      <td>1196</td>\n",
              "      <td>217</td>\n",
              "      <td>0.124068</td>\n",
              "    </tr>\n",
              "    <tr>\n",
              "      <th>5</th>\n",
              "      <td>(0.173, 0.25]</td>\n",
              "      <td>1233</td>\n",
              "      <td>243</td>\n",
              "      <td>0.172999</td>\n",
              "    </tr>\n",
              "    <tr>\n",
              "      <th>6</th>\n",
              "      <td>(0.25, 0.379]</td>\n",
              "      <td>1236</td>\n",
              "      <td>330</td>\n",
              "      <td>0.249576</td>\n",
              "    </tr>\n",
              "    <tr>\n",
              "      <th>7</th>\n",
              "      <td>(0.379, 1.0]</td>\n",
              "      <td>1230</td>\n",
              "      <td>437</td>\n",
              "      <td>0.379483</td>\n",
              "    </tr>\n",
              "  </tbody>\n",
              "</table>\n",
              "</div>"
            ],
            "text/plain": [
              "            q_bucket  count  response_count  min_probability\n",
              "0  (-0.001, 0.00842]   3699             135         0.000000\n",
              "1  (0.00842, 0.0356]   1233             126         0.008426\n",
              "2     (0.0356, 0.08]   1233             155         0.035700\n",
              "3      (0.08, 0.124]   1269             163         0.080272\n",
              "4     (0.124, 0.173]   1196             217         0.124068\n",
              "5      (0.173, 0.25]   1233             243         0.172999\n",
              "6      (0.25, 0.379]   1236             330         0.249576\n",
              "7       (0.379, 1.0]   1230             437         0.379483"
            ]
          },
          "metadata": {},
          "execution_count": 83
        }
      ]
    },
    {
      "cell_type": "code",
      "metadata": {
        "colab": {
          "base_uri": "https://localhost:8080/",
          "height": 300
        },
        "id": "8jEyctT1dZga",
        "outputId": "bdceb778-9bbf-4817-ec80-02129a4db33c"
      },
      "source": [
        "eval_table['precision'] = eval_table['response_count'] / eval_table['count'] \n",
        "eval_table"
      ],
      "execution_count": 84,
      "outputs": [
        {
          "output_type": "execute_result",
          "data": {
            "text/html": [
              "<div>\n",
              "<style scoped>\n",
              "    .dataframe tbody tr th:only-of-type {\n",
              "        vertical-align: middle;\n",
              "    }\n",
              "\n",
              "    .dataframe tbody tr th {\n",
              "        vertical-align: top;\n",
              "    }\n",
              "\n",
              "    .dataframe thead th {\n",
              "        text-align: right;\n",
              "    }\n",
              "</style>\n",
              "<table border=\"1\" class=\"dataframe\">\n",
              "  <thead>\n",
              "    <tr style=\"text-align: right;\">\n",
              "      <th></th>\n",
              "      <th>q_bucket</th>\n",
              "      <th>count</th>\n",
              "      <th>response_count</th>\n",
              "      <th>min_probability</th>\n",
              "      <th>precision</th>\n",
              "    </tr>\n",
              "  </thead>\n",
              "  <tbody>\n",
              "    <tr>\n",
              "      <th>0</th>\n",
              "      <td>(-0.001, 0.00842]</td>\n",
              "      <td>3699</td>\n",
              "      <td>135</td>\n",
              "      <td>0.000000</td>\n",
              "      <td>0.036496</td>\n",
              "    </tr>\n",
              "    <tr>\n",
              "      <th>1</th>\n",
              "      <td>(0.00842, 0.0356]</td>\n",
              "      <td>1233</td>\n",
              "      <td>126</td>\n",
              "      <td>0.008426</td>\n",
              "      <td>0.102190</td>\n",
              "    </tr>\n",
              "    <tr>\n",
              "      <th>2</th>\n",
              "      <td>(0.0356, 0.08]</td>\n",
              "      <td>1233</td>\n",
              "      <td>155</td>\n",
              "      <td>0.035700</td>\n",
              "      <td>0.125710</td>\n",
              "    </tr>\n",
              "    <tr>\n",
              "      <th>3</th>\n",
              "      <td>(0.08, 0.124]</td>\n",
              "      <td>1269</td>\n",
              "      <td>163</td>\n",
              "      <td>0.080272</td>\n",
              "      <td>0.128448</td>\n",
              "    </tr>\n",
              "    <tr>\n",
              "      <th>4</th>\n",
              "      <td>(0.124, 0.173]</td>\n",
              "      <td>1196</td>\n",
              "      <td>217</td>\n",
              "      <td>0.124068</td>\n",
              "      <td>0.181438</td>\n",
              "    </tr>\n",
              "    <tr>\n",
              "      <th>5</th>\n",
              "      <td>(0.173, 0.25]</td>\n",
              "      <td>1233</td>\n",
              "      <td>243</td>\n",
              "      <td>0.172999</td>\n",
              "      <td>0.197080</td>\n",
              "    </tr>\n",
              "    <tr>\n",
              "      <th>6</th>\n",
              "      <td>(0.25, 0.379]</td>\n",
              "      <td>1236</td>\n",
              "      <td>330</td>\n",
              "      <td>0.249576</td>\n",
              "      <td>0.266990</td>\n",
              "    </tr>\n",
              "    <tr>\n",
              "      <th>7</th>\n",
              "      <td>(0.379, 1.0]</td>\n",
              "      <td>1230</td>\n",
              "      <td>437</td>\n",
              "      <td>0.379483</td>\n",
              "      <td>0.355285</td>\n",
              "    </tr>\n",
              "  </tbody>\n",
              "</table>\n",
              "</div>"
            ],
            "text/plain": [
              "            q_bucket  count  response_count  min_probability  precision\n",
              "0  (-0.001, 0.00842]   3699             135         0.000000   0.036496\n",
              "1  (0.00842, 0.0356]   1233             126         0.008426   0.102190\n",
              "2     (0.0356, 0.08]   1233             155         0.035700   0.125710\n",
              "3      (0.08, 0.124]   1269             163         0.080272   0.128448\n",
              "4     (0.124, 0.173]   1196             217         0.124068   0.181438\n",
              "5      (0.173, 0.25]   1233             243         0.172999   0.197080\n",
              "6      (0.25, 0.379]   1236             330         0.249576   0.266990\n",
              "7       (0.379, 1.0]   1230             437         0.379483   0.355285"
            ]
          },
          "metadata": {},
          "execution_count": 84
        }
      ]
    },
    {
      "cell_type": "code",
      "metadata": {
        "colab": {
          "base_uri": "https://localhost:8080/",
          "height": 300
        },
        "id": "8H6LvmTAiJ87",
        "outputId": "8ac5cfdc-741f-4c7a-b6a6-4608c63a6712"
      },
      "source": [
        "eval_table['response_fraction'] = eval_table['response_count'] / eval_table['response_count'].sum()\n",
        "eval_table"
      ],
      "execution_count": 85,
      "outputs": [
        {
          "output_type": "execute_result",
          "data": {
            "text/html": [
              "<div>\n",
              "<style scoped>\n",
              "    .dataframe tbody tr th:only-of-type {\n",
              "        vertical-align: middle;\n",
              "    }\n",
              "\n",
              "    .dataframe tbody tr th {\n",
              "        vertical-align: top;\n",
              "    }\n",
              "\n",
              "    .dataframe thead th {\n",
              "        text-align: right;\n",
              "    }\n",
              "</style>\n",
              "<table border=\"1\" class=\"dataframe\">\n",
              "  <thead>\n",
              "    <tr style=\"text-align: right;\">\n",
              "      <th></th>\n",
              "      <th>q_bucket</th>\n",
              "      <th>count</th>\n",
              "      <th>response_count</th>\n",
              "      <th>min_probability</th>\n",
              "      <th>precision</th>\n",
              "      <th>response_fraction</th>\n",
              "    </tr>\n",
              "  </thead>\n",
              "  <tbody>\n",
              "    <tr>\n",
              "      <th>0</th>\n",
              "      <td>(-0.001, 0.00842]</td>\n",
              "      <td>3699</td>\n",
              "      <td>135</td>\n",
              "      <td>0.000000</td>\n",
              "      <td>0.036496</td>\n",
              "      <td>0.074751</td>\n",
              "    </tr>\n",
              "    <tr>\n",
              "      <th>1</th>\n",
              "      <td>(0.00842, 0.0356]</td>\n",
              "      <td>1233</td>\n",
              "      <td>126</td>\n",
              "      <td>0.008426</td>\n",
              "      <td>0.102190</td>\n",
              "      <td>0.069767</td>\n",
              "    </tr>\n",
              "    <tr>\n",
              "      <th>2</th>\n",
              "      <td>(0.0356, 0.08]</td>\n",
              "      <td>1233</td>\n",
              "      <td>155</td>\n",
              "      <td>0.035700</td>\n",
              "      <td>0.125710</td>\n",
              "      <td>0.085825</td>\n",
              "    </tr>\n",
              "    <tr>\n",
              "      <th>3</th>\n",
              "      <td>(0.08, 0.124]</td>\n",
              "      <td>1269</td>\n",
              "      <td>163</td>\n",
              "      <td>0.080272</td>\n",
              "      <td>0.128448</td>\n",
              "      <td>0.090255</td>\n",
              "    </tr>\n",
              "    <tr>\n",
              "      <th>4</th>\n",
              "      <td>(0.124, 0.173]</td>\n",
              "      <td>1196</td>\n",
              "      <td>217</td>\n",
              "      <td>0.124068</td>\n",
              "      <td>0.181438</td>\n",
              "      <td>0.120155</td>\n",
              "    </tr>\n",
              "    <tr>\n",
              "      <th>5</th>\n",
              "      <td>(0.173, 0.25]</td>\n",
              "      <td>1233</td>\n",
              "      <td>243</td>\n",
              "      <td>0.172999</td>\n",
              "      <td>0.197080</td>\n",
              "      <td>0.134551</td>\n",
              "    </tr>\n",
              "    <tr>\n",
              "      <th>6</th>\n",
              "      <td>(0.25, 0.379]</td>\n",
              "      <td>1236</td>\n",
              "      <td>330</td>\n",
              "      <td>0.249576</td>\n",
              "      <td>0.266990</td>\n",
              "      <td>0.182724</td>\n",
              "    </tr>\n",
              "    <tr>\n",
              "      <th>7</th>\n",
              "      <td>(0.379, 1.0]</td>\n",
              "      <td>1230</td>\n",
              "      <td>437</td>\n",
              "      <td>0.379483</td>\n",
              "      <td>0.355285</td>\n",
              "      <td>0.241971</td>\n",
              "    </tr>\n",
              "  </tbody>\n",
              "</table>\n",
              "</div>"
            ],
            "text/plain": [
              "            q_bucket  count  ...  precision  response_fraction\n",
              "0  (-0.001, 0.00842]   3699  ...   0.036496           0.074751\n",
              "1  (0.00842, 0.0356]   1233  ...   0.102190           0.069767\n",
              "2     (0.0356, 0.08]   1233  ...   0.125710           0.085825\n",
              "3      (0.08, 0.124]   1269  ...   0.128448           0.090255\n",
              "4     (0.124, 0.173]   1196  ...   0.181438           0.120155\n",
              "5      (0.173, 0.25]   1233  ...   0.197080           0.134551\n",
              "6      (0.25, 0.379]   1236  ...   0.266990           0.182724\n",
              "7       (0.379, 1.0]   1230  ...   0.355285           0.241971\n",
              "\n",
              "[8 rows x 6 columns]"
            ]
          },
          "metadata": {},
          "execution_count": 85
        }
      ]
    },
    {
      "cell_type": "code",
      "metadata": {
        "colab": {
          "base_uri": "https://localhost:8080/",
          "height": 300
        },
        "id": "56nkDaNXnx2P",
        "outputId": "0b0df022-c876-4587-8247-9c3f5ad3ae38"
      },
      "source": [
        "\n",
        "eval_table = eval_table.sort_index(ascending=False)\n",
        "eval_table"
      ],
      "execution_count": 86,
      "outputs": [
        {
          "output_type": "execute_result",
          "data": {
            "text/html": [
              "<div>\n",
              "<style scoped>\n",
              "    .dataframe tbody tr th:only-of-type {\n",
              "        vertical-align: middle;\n",
              "    }\n",
              "\n",
              "    .dataframe tbody tr th {\n",
              "        vertical-align: top;\n",
              "    }\n",
              "\n",
              "    .dataframe thead th {\n",
              "        text-align: right;\n",
              "    }\n",
              "</style>\n",
              "<table border=\"1\" class=\"dataframe\">\n",
              "  <thead>\n",
              "    <tr style=\"text-align: right;\">\n",
              "      <th></th>\n",
              "      <th>q_bucket</th>\n",
              "      <th>count</th>\n",
              "      <th>response_count</th>\n",
              "      <th>min_probability</th>\n",
              "      <th>precision</th>\n",
              "      <th>response_fraction</th>\n",
              "    </tr>\n",
              "  </thead>\n",
              "  <tbody>\n",
              "    <tr>\n",
              "      <th>7</th>\n",
              "      <td>(0.379, 1.0]</td>\n",
              "      <td>1230</td>\n",
              "      <td>437</td>\n",
              "      <td>0.379483</td>\n",
              "      <td>0.355285</td>\n",
              "      <td>0.241971</td>\n",
              "    </tr>\n",
              "    <tr>\n",
              "      <th>6</th>\n",
              "      <td>(0.25, 0.379]</td>\n",
              "      <td>1236</td>\n",
              "      <td>330</td>\n",
              "      <td>0.249576</td>\n",
              "      <td>0.266990</td>\n",
              "      <td>0.182724</td>\n",
              "    </tr>\n",
              "    <tr>\n",
              "      <th>5</th>\n",
              "      <td>(0.173, 0.25]</td>\n",
              "      <td>1233</td>\n",
              "      <td>243</td>\n",
              "      <td>0.172999</td>\n",
              "      <td>0.197080</td>\n",
              "      <td>0.134551</td>\n",
              "    </tr>\n",
              "    <tr>\n",
              "      <th>4</th>\n",
              "      <td>(0.124, 0.173]</td>\n",
              "      <td>1196</td>\n",
              "      <td>217</td>\n",
              "      <td>0.124068</td>\n",
              "      <td>0.181438</td>\n",
              "      <td>0.120155</td>\n",
              "    </tr>\n",
              "    <tr>\n",
              "      <th>3</th>\n",
              "      <td>(0.08, 0.124]</td>\n",
              "      <td>1269</td>\n",
              "      <td>163</td>\n",
              "      <td>0.080272</td>\n",
              "      <td>0.128448</td>\n",
              "      <td>0.090255</td>\n",
              "    </tr>\n",
              "    <tr>\n",
              "      <th>2</th>\n",
              "      <td>(0.0356, 0.08]</td>\n",
              "      <td>1233</td>\n",
              "      <td>155</td>\n",
              "      <td>0.035700</td>\n",
              "      <td>0.125710</td>\n",
              "      <td>0.085825</td>\n",
              "    </tr>\n",
              "    <tr>\n",
              "      <th>1</th>\n",
              "      <td>(0.00842, 0.0356]</td>\n",
              "      <td>1233</td>\n",
              "      <td>126</td>\n",
              "      <td>0.008426</td>\n",
              "      <td>0.102190</td>\n",
              "      <td>0.069767</td>\n",
              "    </tr>\n",
              "    <tr>\n",
              "      <th>0</th>\n",
              "      <td>(-0.001, 0.00842]</td>\n",
              "      <td>3699</td>\n",
              "      <td>135</td>\n",
              "      <td>0.000000</td>\n",
              "      <td>0.036496</td>\n",
              "      <td>0.074751</td>\n",
              "    </tr>\n",
              "  </tbody>\n",
              "</table>\n",
              "</div>"
            ],
            "text/plain": [
              "            q_bucket  count  ...  precision  response_fraction\n",
              "7       (0.379, 1.0]   1230  ...   0.355285           0.241971\n",
              "6      (0.25, 0.379]   1236  ...   0.266990           0.182724\n",
              "5      (0.173, 0.25]   1233  ...   0.197080           0.134551\n",
              "4     (0.124, 0.173]   1196  ...   0.181438           0.120155\n",
              "3      (0.08, 0.124]   1269  ...   0.128448           0.090255\n",
              "2     (0.0356, 0.08]   1233  ...   0.125710           0.085825\n",
              "1  (0.00842, 0.0356]   1233  ...   0.102190           0.069767\n",
              "0  (-0.001, 0.00842]   3699  ...   0.036496           0.074751\n",
              "\n",
              "[8 rows x 6 columns]"
            ]
          },
          "metadata": {},
          "execution_count": 86
        }
      ]
    },
    {
      "cell_type": "code",
      "metadata": {
        "colab": {
          "base_uri": "https://localhost:8080/",
          "height": 300
        },
        "id": "H2dbFPxSjmgK",
        "outputId": "f6760703-ace3-4c50-90f7-6283417ea454"
      },
      "source": [
        "eval_table['cumulative_response_count'] = eval_table['response_count'].cumsum()\n",
        "eval_table['cumulative_count'] = eval_table['count'].cumsum()\n",
        "eval_table = eval_table.sort_index(ascending=True)\n",
        "eval_table\n"
      ],
      "execution_count": 87,
      "outputs": [
        {
          "output_type": "execute_result",
          "data": {
            "text/html": [
              "<div>\n",
              "<style scoped>\n",
              "    .dataframe tbody tr th:only-of-type {\n",
              "        vertical-align: middle;\n",
              "    }\n",
              "\n",
              "    .dataframe tbody tr th {\n",
              "        vertical-align: top;\n",
              "    }\n",
              "\n",
              "    .dataframe thead th {\n",
              "        text-align: right;\n",
              "    }\n",
              "</style>\n",
              "<table border=\"1\" class=\"dataframe\">\n",
              "  <thead>\n",
              "    <tr style=\"text-align: right;\">\n",
              "      <th></th>\n",
              "      <th>q_bucket</th>\n",
              "      <th>count</th>\n",
              "      <th>response_count</th>\n",
              "      <th>min_probability</th>\n",
              "      <th>precision</th>\n",
              "      <th>response_fraction</th>\n",
              "      <th>cumulative_response_count</th>\n",
              "      <th>cumulative_count</th>\n",
              "    </tr>\n",
              "  </thead>\n",
              "  <tbody>\n",
              "    <tr>\n",
              "      <th>0</th>\n",
              "      <td>(-0.001, 0.00842]</td>\n",
              "      <td>3699</td>\n",
              "      <td>135</td>\n",
              "      <td>0.000000</td>\n",
              "      <td>0.036496</td>\n",
              "      <td>0.074751</td>\n",
              "      <td>1806</td>\n",
              "      <td>12329</td>\n",
              "    </tr>\n",
              "    <tr>\n",
              "      <th>1</th>\n",
              "      <td>(0.00842, 0.0356]</td>\n",
              "      <td>1233</td>\n",
              "      <td>126</td>\n",
              "      <td>0.008426</td>\n",
              "      <td>0.102190</td>\n",
              "      <td>0.069767</td>\n",
              "      <td>1671</td>\n",
              "      <td>8630</td>\n",
              "    </tr>\n",
              "    <tr>\n",
              "      <th>2</th>\n",
              "      <td>(0.0356, 0.08]</td>\n",
              "      <td>1233</td>\n",
              "      <td>155</td>\n",
              "      <td>0.035700</td>\n",
              "      <td>0.125710</td>\n",
              "      <td>0.085825</td>\n",
              "      <td>1545</td>\n",
              "      <td>7397</td>\n",
              "    </tr>\n",
              "    <tr>\n",
              "      <th>3</th>\n",
              "      <td>(0.08, 0.124]</td>\n",
              "      <td>1269</td>\n",
              "      <td>163</td>\n",
              "      <td>0.080272</td>\n",
              "      <td>0.128448</td>\n",
              "      <td>0.090255</td>\n",
              "      <td>1390</td>\n",
              "      <td>6164</td>\n",
              "    </tr>\n",
              "    <tr>\n",
              "      <th>4</th>\n",
              "      <td>(0.124, 0.173]</td>\n",
              "      <td>1196</td>\n",
              "      <td>217</td>\n",
              "      <td>0.124068</td>\n",
              "      <td>0.181438</td>\n",
              "      <td>0.120155</td>\n",
              "      <td>1227</td>\n",
              "      <td>4895</td>\n",
              "    </tr>\n",
              "    <tr>\n",
              "      <th>5</th>\n",
              "      <td>(0.173, 0.25]</td>\n",
              "      <td>1233</td>\n",
              "      <td>243</td>\n",
              "      <td>0.172999</td>\n",
              "      <td>0.197080</td>\n",
              "      <td>0.134551</td>\n",
              "      <td>1010</td>\n",
              "      <td>3699</td>\n",
              "    </tr>\n",
              "    <tr>\n",
              "      <th>6</th>\n",
              "      <td>(0.25, 0.379]</td>\n",
              "      <td>1236</td>\n",
              "      <td>330</td>\n",
              "      <td>0.249576</td>\n",
              "      <td>0.266990</td>\n",
              "      <td>0.182724</td>\n",
              "      <td>767</td>\n",
              "      <td>2466</td>\n",
              "    </tr>\n",
              "    <tr>\n",
              "      <th>7</th>\n",
              "      <td>(0.379, 1.0]</td>\n",
              "      <td>1230</td>\n",
              "      <td>437</td>\n",
              "      <td>0.379483</td>\n",
              "      <td>0.355285</td>\n",
              "      <td>0.241971</td>\n",
              "      <td>437</td>\n",
              "      <td>1230</td>\n",
              "    </tr>\n",
              "  </tbody>\n",
              "</table>\n",
              "</div>"
            ],
            "text/plain": [
              "            q_bucket  count  ...  cumulative_response_count  cumulative_count\n",
              "0  (-0.001, 0.00842]   3699  ...                       1806             12329\n",
              "1  (0.00842, 0.0356]   1233  ...                       1671              8630\n",
              "2     (0.0356, 0.08]   1233  ...                       1545              7397\n",
              "3      (0.08, 0.124]   1269  ...                       1390              6164\n",
              "4     (0.124, 0.173]   1196  ...                       1227              4895\n",
              "5      (0.173, 0.25]   1233  ...                       1010              3699\n",
              "6      (0.25, 0.379]   1236  ...                        767              2466\n",
              "7       (0.379, 1.0]   1230  ...                        437              1230\n",
              "\n",
              "[8 rows x 8 columns]"
            ]
          },
          "metadata": {},
          "execution_count": 87
        }
      ]
    },
    {
      "cell_type": "code",
      "metadata": {
        "colab": {
          "base_uri": "https://localhost:8080/",
          "height": 300
        },
        "id": "zuHIQQrAj8DM",
        "outputId": "66726927-286f-4502-87f5-3cca70f7b939"
      },
      "source": [
        "eval_table['cumulative_precision'] = eval_table['cumulative_response_count']/eval_table['cumulative_count']\n",
        "eval_table['cumulative_response_fraction'] = eval_table['cumulative_response_count'] / eval_table['response_count'].sum()\n",
        "eval_table"
      ],
      "execution_count": 88,
      "outputs": [
        {
          "output_type": "execute_result",
          "data": {
            "text/html": [
              "<div>\n",
              "<style scoped>\n",
              "    .dataframe tbody tr th:only-of-type {\n",
              "        vertical-align: middle;\n",
              "    }\n",
              "\n",
              "    .dataframe tbody tr th {\n",
              "        vertical-align: top;\n",
              "    }\n",
              "\n",
              "    .dataframe thead th {\n",
              "        text-align: right;\n",
              "    }\n",
              "</style>\n",
              "<table border=\"1\" class=\"dataframe\">\n",
              "  <thead>\n",
              "    <tr style=\"text-align: right;\">\n",
              "      <th></th>\n",
              "      <th>q_bucket</th>\n",
              "      <th>count</th>\n",
              "      <th>response_count</th>\n",
              "      <th>min_probability</th>\n",
              "      <th>precision</th>\n",
              "      <th>response_fraction</th>\n",
              "      <th>cumulative_response_count</th>\n",
              "      <th>cumulative_count</th>\n",
              "      <th>cumulative_precision</th>\n",
              "      <th>cumulative_response_fraction</th>\n",
              "    </tr>\n",
              "  </thead>\n",
              "  <tbody>\n",
              "    <tr>\n",
              "      <th>0</th>\n",
              "      <td>(-0.001, 0.00842]</td>\n",
              "      <td>3699</td>\n",
              "      <td>135</td>\n",
              "      <td>0.000000</td>\n",
              "      <td>0.036496</td>\n",
              "      <td>0.074751</td>\n",
              "      <td>1806</td>\n",
              "      <td>12329</td>\n",
              "      <td>0.146484</td>\n",
              "      <td>1.000000</td>\n",
              "    </tr>\n",
              "    <tr>\n",
              "      <th>1</th>\n",
              "      <td>(0.00842, 0.0356]</td>\n",
              "      <td>1233</td>\n",
              "      <td>126</td>\n",
              "      <td>0.008426</td>\n",
              "      <td>0.102190</td>\n",
              "      <td>0.069767</td>\n",
              "      <td>1671</td>\n",
              "      <td>8630</td>\n",
              "      <td>0.193627</td>\n",
              "      <td>0.925249</td>\n",
              "    </tr>\n",
              "    <tr>\n",
              "      <th>2</th>\n",
              "      <td>(0.0356, 0.08]</td>\n",
              "      <td>1233</td>\n",
              "      <td>155</td>\n",
              "      <td>0.035700</td>\n",
              "      <td>0.125710</td>\n",
              "      <td>0.085825</td>\n",
              "      <td>1545</td>\n",
              "      <td>7397</td>\n",
              "      <td>0.208868</td>\n",
              "      <td>0.855482</td>\n",
              "    </tr>\n",
              "    <tr>\n",
              "      <th>3</th>\n",
              "      <td>(0.08, 0.124]</td>\n",
              "      <td>1269</td>\n",
              "      <td>163</td>\n",
              "      <td>0.080272</td>\n",
              "      <td>0.128448</td>\n",
              "      <td>0.090255</td>\n",
              "      <td>1390</td>\n",
              "      <td>6164</td>\n",
              "      <td>0.225503</td>\n",
              "      <td>0.769657</td>\n",
              "    </tr>\n",
              "    <tr>\n",
              "      <th>4</th>\n",
              "      <td>(0.124, 0.173]</td>\n",
              "      <td>1196</td>\n",
              "      <td>217</td>\n",
              "      <td>0.124068</td>\n",
              "      <td>0.181438</td>\n",
              "      <td>0.120155</td>\n",
              "      <td>1227</td>\n",
              "      <td>4895</td>\n",
              "      <td>0.250664</td>\n",
              "      <td>0.679402</td>\n",
              "    </tr>\n",
              "    <tr>\n",
              "      <th>5</th>\n",
              "      <td>(0.173, 0.25]</td>\n",
              "      <td>1233</td>\n",
              "      <td>243</td>\n",
              "      <td>0.172999</td>\n",
              "      <td>0.197080</td>\n",
              "      <td>0.134551</td>\n",
              "      <td>1010</td>\n",
              "      <td>3699</td>\n",
              "      <td>0.273047</td>\n",
              "      <td>0.559247</td>\n",
              "    </tr>\n",
              "    <tr>\n",
              "      <th>6</th>\n",
              "      <td>(0.25, 0.379]</td>\n",
              "      <td>1236</td>\n",
              "      <td>330</td>\n",
              "      <td>0.249576</td>\n",
              "      <td>0.266990</td>\n",
              "      <td>0.182724</td>\n",
              "      <td>767</td>\n",
              "      <td>2466</td>\n",
              "      <td>0.311030</td>\n",
              "      <td>0.424695</td>\n",
              "    </tr>\n",
              "    <tr>\n",
              "      <th>7</th>\n",
              "      <td>(0.379, 1.0]</td>\n",
              "      <td>1230</td>\n",
              "      <td>437</td>\n",
              "      <td>0.379483</td>\n",
              "      <td>0.355285</td>\n",
              "      <td>0.241971</td>\n",
              "      <td>437</td>\n",
              "      <td>1230</td>\n",
              "      <td>0.355285</td>\n",
              "      <td>0.241971</td>\n",
              "    </tr>\n",
              "  </tbody>\n",
              "</table>\n",
              "</div>"
            ],
            "text/plain": [
              "            q_bucket  count  ...  cumulative_precision  cumulative_response_fraction\n",
              "0  (-0.001, 0.00842]   3699  ...              0.146484                      1.000000\n",
              "1  (0.00842, 0.0356]   1233  ...              0.193627                      0.925249\n",
              "2     (0.0356, 0.08]   1233  ...              0.208868                      0.855482\n",
              "3      (0.08, 0.124]   1269  ...              0.225503                      0.769657\n",
              "4     (0.124, 0.173]   1196  ...              0.250664                      0.679402\n",
              "5      (0.173, 0.25]   1233  ...              0.273047                      0.559247\n",
              "6      (0.25, 0.379]   1236  ...              0.311030                      0.424695\n",
              "7       (0.379, 1.0]   1230  ...              0.355285                      0.241971\n",
              "\n",
              "[8 rows x 10 columns]"
            ]
          },
          "metadata": {},
          "execution_count": 88
        }
      ]
    },
    {
      "cell_type": "markdown",
      "metadata": {
        "id": "mignFaOSgPWn"
      },
      "source": [
        "#  Receiver operating characteristic (ROC)"
      ]
    },
    {
      "cell_type": "code",
      "metadata": {
        "colab": {
          "base_uri": "https://localhost:8080/",
          "height": 276
        },
        "id": "59iL-rrRsxbT",
        "outputId": "d5dfb14b-14b9-49d1-94e4-212d82a4f025"
      },
      "source": [
        "cmap = cm.get_cmap('cool') \n",
        "\n",
        "fpr, tpr, thresholds = metrics.roc_curve(test_result['y_act'], test_result['y_pred_prob'], pos_label=1)\n",
        "roc = pd.DataFrame(data={'Thresholds':thresholds[1:], 'FPR':fpr[1:], 'TPR':tpr[1:]})\n",
        "roc.plot(kind='scatter', x='FPR', y='TPR', c='Thresholds', cmap=cmap)\n",
        "\n",
        "roc_auc = metrics.roc_auc_score(test_result['y_act'], test_result['y_pred_prob'])\n",
        "\n",
        "print(F\"ROC AUC Score = {roc_auc}\")"
      ],
      "execution_count": 93,
      "outputs": [
        {
          "output_type": "stream",
          "name": "stdout",
          "text": [
            "ROC AUC Score = 0.7269241693747042\n"
          ]
        },
        {
          "output_type": "display_data",
          "data": {
            "image/png": "[encoded data removed]",
            "text/plain": [
              "<Figure size 432x288 with 2 Axes>"
            ]
          },
          "metadata": {
            "needs_background": "light"
          }
        }
      ]
    },
    {
      "cell_type": "markdown",
      "metadata": {
        "id": "3Xq64up_gWJ7"
      },
      "source": [
        "# Precision Recall Curve (PRC)"
      ]
    },
    {
      "cell_type": "code",
      "metadata": {
        "colab": {
          "base_uri": "https://localhost:8080/",
          "height": 276
        },
        "id": "-N4JxSHC7LV-",
        "outputId": "ba39939a-b286-4aa3-ac8f-e78a55fc0dda"
      },
      "source": [
        "precision, recall, thresholds = metrics.precision_recall_curve(test_result['y_act'], test_result['y_pred_prob'], pos_label=1)\n",
        "\n",
        "prc = pd.DataFrame(data={'Thresholds':thresholds, 'Precision':precision[:-1], 'Recall':recall[:-1]})\n",
        "prc.plot(kind='scatter', x='Recall', y='Precision', c='Thresholds', cmap=cmap)"
      ],
      "execution_count": 94,
      "outputs": [
        {
          "output_type": "execute_result",
          "data": {
            "text/plain": [
              "<matplotlib.axes._subplots.AxesSubplot at 0x7f3f70970ed0>"
            ]
          },
          "metadata": {},
          "execution_count": 94
        },
        {
          "output_type": "display_data",
          "data": {
            "image/png": "[encoded data removed]",
            "text/plain": [
              "<Figure size 432x288 with 2 Axes>"
            ]
          },
          "metadata": {
            "needs_background": "light"
          }
        }
      ]
    },
    {
      "cell_type": "markdown",
      "metadata": {
        "id": "BPCv1UrmmDJO"
      },
      "source": [
        "# Support Vector Machines\n",
        "* https://en.wikipedia.org/wiki/Support-vector_machine\n",
        "* https://scikit-learn.org/stable/modules/svm.html"
      ]
    },
    {
      "cell_type": "code",
      "metadata": {
        "colab": {
          "base_uri": "https://localhost:8080/"
        },
        "id": "LJ0lOzhEmCie",
        "outputId": "6a252dd9-c770-408d-a762-a996bbbf772e"
      },
      "source": [
        "model = svm.SVC(kernel='linear', C=1.0, probability=True)\n",
        "\n",
        "model.fit(X_train, y_train)"
      ],
      "execution_count": 91,
      "outputs": [
        {
          "output_type": "execute_result",
          "data": {
            "text/plain": [
              "SVC(C=1.0, break_ties=False, cache_size=200, class_weight=None, coef0=0.0,\n",
              "    decision_function_shape='ovr', degree=3, gamma='scale', kernel='linear',\n",
              "    max_iter=-1, probability=True, random_state=None, shrinking=True, tol=0.001,\n",
              "    verbose=False)"
            ]
          },
          "metadata": {},
          "execution_count": 91
        }
      ]
    },
    {
      "cell_type": "code",
      "metadata": {
        "colab": {
          "base_uri": "https://localhost:8080/",
          "height": 363
        },
        "id": "mDgLe37arGo3",
        "outputId": "7f17448f-f29b-46eb-889d-be4a04ef6f04"
      },
      "source": [
        "y_pred = model.predict(X_test)\n",
        "y_pred_prob = model.predict_proba(X_test)[:, 1]\n",
        "test_result = pd.DataFrame(data={'y_act':y_test, 'y_pred':y_pred, 'y_pred_prob':y_pred_prob})\n",
        "test_result.sample(10)"
      ],
      "execution_count": null,
      "outputs": [
        {
          "output_type": "execute_result",
          "data": {
            "text/html": [
              "<div>\n",
              "<style scoped>\n",
              "    .dataframe tbody tr th:only-of-type {\n",
              "        vertical-align: middle;\n",
              "    }\n",
              "\n",
              "    .dataframe tbody tr th {\n",
              "        vertical-align: top;\n",
              "    }\n",
              "\n",
              "    .dataframe thead th {\n",
              "        text-align: right;\n",
              "    }\n",
              "</style>\n",
              "<table border=\"1\" class=\"dataframe\">\n",
              "  <thead>\n",
              "    <tr style=\"text-align: right;\">\n",
              "      <th></th>\n",
              "      <th>y_act</th>\n",
              "      <th>y_pred</th>\n",
              "      <th>y_pred_prob</th>\n",
              "    </tr>\n",
              "  </thead>\n",
              "  <tbody>\n",
              "    <tr>\n",
              "      <th>11</th>\n",
              "      <td>0</td>\n",
              "      <td>0</td>\n",
              "      <td>0.037836</td>\n",
              "    </tr>\n",
              "    <tr>\n",
              "      <th>13</th>\n",
              "      <td>0</td>\n",
              "      <td>0</td>\n",
              "      <td>0.040455</td>\n",
              "    </tr>\n",
              "    <tr>\n",
              "      <th>3</th>\n",
              "      <td>1</td>\n",
              "      <td>1</td>\n",
              "      <td>0.897620</td>\n",
              "    </tr>\n",
              "    <tr>\n",
              "      <th>14</th>\n",
              "      <td>0</td>\n",
              "      <td>0</td>\n",
              "      <td>0.024572</td>\n",
              "    </tr>\n",
              "    <tr>\n",
              "      <th>37</th>\n",
              "      <td>0</td>\n",
              "      <td>0</td>\n",
              "      <td>0.031125</td>\n",
              "    </tr>\n",
              "    <tr>\n",
              "      <th>35</th>\n",
              "      <td>2</td>\n",
              "      <td>2</td>\n",
              "      <td>0.090346</td>\n",
              "    </tr>\n",
              "    <tr>\n",
              "      <th>22</th>\n",
              "      <td>0</td>\n",
              "      <td>0</td>\n",
              "      <td>0.048332</td>\n",
              "    </tr>\n",
              "    <tr>\n",
              "      <th>18</th>\n",
              "      <td>1</td>\n",
              "      <td>1</td>\n",
              "      <td>0.905286</td>\n",
              "    </tr>\n",
              "    <tr>\n",
              "      <th>42</th>\n",
              "      <td>1</td>\n",
              "      <td>1</td>\n",
              "      <td>0.937171</td>\n",
              "    </tr>\n",
              "    <tr>\n",
              "      <th>1</th>\n",
              "      <td>0</td>\n",
              "      <td>0</td>\n",
              "      <td>0.039553</td>\n",
              "    </tr>\n",
              "  </tbody>\n",
              "</table>\n",
              "</div>"
            ],
            "text/plain": [
              "    y_act  y_pred  y_pred_prob\n",
              "11      0       0     0.037836\n",
              "13      0       0     0.040455\n",
              "3       1       1     0.897620\n",
              "14      0       0     0.024572\n",
              "37      0       0     0.031125\n",
              "35      2       2     0.090346\n",
              "22      0       0     0.048332\n",
              "18      1       1     0.905286\n",
              "42      1       1     0.937171\n",
              "1       0       0     0.039553"
            ]
          },
          "metadata": {},
          "execution_count": 260
        }
      ]
    },
    {
      "cell_type": "code",
      "metadata": {
        "colab": {
          "base_uri": "https://localhost:8080/",
          "height": 274
        },
        "id": "gmin_Bltuvbo",
        "outputId": "376d2e65-8839-4aa6-9145-4cabd3d54515"
      },
      "source": [
        "cmap = cm.get_cmap('cool') \n",
        "\n",
        "fpr, tpr, thresholds = metrics.roc_curve(test_result['y_act'], test_result['y_pred_prob'], pos_label=1)\n",
        "roc = pd.DataFrame(data={'Thresholds':thresholds[1:], 'FPR':fpr[1:], 'TPR':tpr[1:]})\n",
        "roc.plot(kind='scatter', x='FPR', y='TPR', c='Thresholds', cmap=cmap)\n",
        "\n",
        "roc_auc = metrics.roc_auc_score(test_result['y_act'], test_result['y_pred_prob'])\n",
        "\n",
        "print(F\"ROC AUC Score = {roc_auc}\")"
      ],
      "execution_count": null,
      "outputs": [
        {
          "output_type": "stream",
          "name": "stdout",
          "text": [
            "ROC AUC Score = 0.6675429573715499\n"
          ]
        },
        {
          "output_type": "display_data",
          "data": {
            "image/png": "[encoded data removed]",
            "text/plain": [
              "<Figure size 432x288 with 2 Axes>"
            ]
          },
          "metadata": {
            "needs_background": "light"
          }
        }
      ]
    },
    {
      "cell_type": "code",
      "metadata": {
        "colab": {
          "base_uri": "https://localhost:8080/",
          "height": 274
        },
        "id": "KY7deZ0iva1l",
        "outputId": "210b2c81-e4e4-45d5-bf78-bc87533dec1f"
      },
      "source": [
        "precision, recall, thresholds = metrics.precision_recall_curve(test_result['y_act'], test_result['y_pred_prob'], pos_label=1)\n",
        "\n",
        "prc = pd.DataFrame(data={'Thresholds':thresholds, 'Precision':precision[:-1], 'Recall':recall[:-1]})\n",
        "prc.plot(kind='scatter', x='Recall', y='Precision', c='Thresholds', cmap=cmap)"
      ],
      "execution_count": null,
      "outputs": [
        {
          "output_type": "execute_result",
          "data": {
            "text/plain": [
              "<matplotlib.axes._subplots.AxesSubplot at 0x7f697b659b90>"
            ]
          },
          "metadata": {},
          "execution_count": 148
        },
        {
          "output_type": "display_data",
          "data": {
            "image/png": "[encoded data removed]",
            "text/plain": [
              "<Figure size 432x288 with 2 Axes>"
            ]
          },
          "metadata": {
            "needs_background": "light"
          }
        }
      ]
    },
    {
      "cell_type": "markdown",
      "metadata": {
        "id": "P4maK3xLdV8j"
      },
      "source": [
        "<hr>\n",
        "Last update 2021-10-16 by Sumudu Tennakoon"
      ]
    }
  ]
}