{
  "nbformat": 4,
  "nbformat_minor": 0,
  "metadata": {
    "colab": {
      "name": "Copy of 8-SupervisedMachineLearning-Classification.ipynb",
      "provenance": [],
      "collapsed_sections": [
        "mignFaOSgPWn",
        "3Xq64up_gWJ7"
      ]
    },
    "kernelspec": {
      "name": "python3",
      "display_name": "Python 3"
    },
    "language_info": {
      "name": "python"
    }
  },
  "cells": [
    {
      "cell_type": "markdown",
      "metadata": {
        "id": "6m7_lLtdlG3T"
      },
      "source": [
        "# Supervised Machine Learning - Classification\n",
        "Sumudu Tennakoon, PhD\n",
        "\n",
        "To learn more about Python, refeer to the following websites\n",
        "\n",
        "* Python : www.python.org\n",
        "* W3Schools : www.w3schools.com/python\n",
        "\n",
        "To learn more about the Python packages we explore in this notebook, refeer to the following websites\n",
        "\n",
        "* NumPy : www.numpy.org\n",
        "* Matplotlib : www.matplotlib.org\n",
        "* Pandas : https://pandas.pydata.org\n",
        "* Scikit-Learn : https://scikit-learn.org/\n",
        "* Seaborn: https://seaborn.pydata.org/\n",
        "* StatsModel : https://www.statsmodels.org"
      ]
    },
    {
      "cell_type": "code",
      "metadata": {
        "id": "jh5oi3qqWxJR"
      },
      "source": [
        "import numpy as np\n",
        "import pandas as pd\n",
        "\n",
        "# Data visualization\n",
        "import matplotlib.pyplot as plt\n",
        "from matplotlib import cm # Colomaps\n",
        "import seaborn as sns\n",
        "from sklearn import tree\n",
        "\n",
        "# Classifier algorithms\n",
        "from sklearn.linear_model import LogisticRegression\n",
        "from sklearn.tree import DecisionTreeClassifier\n",
        "from sklearn.ensemble import RandomForestClassifier\n",
        "from sklearn import svm\n",
        "from sklearn.neighbors import KNeighborsClassifier #KNN\n",
        "\n",
        "#train test split\n",
        "from sklearn.model_selection import train_test_split\n",
        "\n",
        "# Model evaluation\n",
        "from sklearn import metrics"
      ],
      "execution_count": 1,
      "outputs": []
    },
    {
      "cell_type": "markdown",
      "metadata": {
        "id": "gmItDodxCBhb"
      },
      "source": [
        "# Iris Dataset (Multi-class Classification)\n",
        "* Dataset Reference: Dua, D. and Graff, C. (2019). UCI Machine Learning Repository [http://archive.ics.uci.edu/ml]. Irvine, CA: University of California, School of Information and Computer Science. \n",
        "* Link to teh repository: https://archive.ics.uci.edu/ml/datasets/Iris"
      ]
    },
    {
      "cell_type": "markdown",
      "metadata": {
        "id": "tU2oI57bKN27"
      },
      "source": [
        "## Load Data"
      ]
    },
    {
      "cell_type": "code",
      "metadata": {
        "colab": {
          "base_uri": "https://localhost:8080/",
          "height": 206
        },
        "id": "4I19fevgS8pm",
        "outputId": "74614dfc-ff0c-4c56-ecfb-8cf5270b68c9"
      },
      "source": [
        "file_name = 'https://archive.ics.uci.edu/ml/machine-learning-databases/iris/iris.data'\n",
        "\n",
        "# Load CSV File\n",
        "data = pd.read_csv(file_name, header=None)\n",
        "data.head()"
      ],
      "execution_count": 2,
      "outputs": [
        {
          "output_type": "execute_result",
          "data": {
            "text/html": [
              "<div>\n",
              "<style scoped>\n",
              "    .dataframe tbody tr th:only-of-type {\n",
              "        vertical-align: middle;\n",
              "    }\n",
              "\n",
              "    .dataframe tbody tr th {\n",
              "        vertical-align: top;\n",
              "    }\n",
              "\n",
              "    .dataframe thead th {\n",
              "        text-align: right;\n",
              "    }\n",
              "</style>\n",
              "<table border=\"1\" class=\"dataframe\">\n",
              "  <thead>\n",
              "    <tr style=\"text-align: right;\">\n",
              "      <th></th>\n",
              "      <th>0</th>\n",
              "      <th>1</th>\n",
              "      <th>2</th>\n",
              "      <th>3</th>\n",
              "      <th>4</th>\n",
              "    </tr>\n",
              "  </thead>\n",
              "  <tbody>\n",
              "    <tr>\n",
              "      <th>0</th>\n",
              "      <td>5.1</td>\n",
              "      <td>3.5</td>\n",
              "      <td>1.4</td>\n",
              "      <td>0.2</td>\n",
              "      <td>Iris-setosa</td>\n",
              "    </tr>\n",
              "    <tr>\n",
              "      <th>1</th>\n",
              "      <td>4.9</td>\n",
              "      <td>3.0</td>\n",
              "      <td>1.4</td>\n",
              "      <td>0.2</td>\n",
              "      <td>Iris-setosa</td>\n",
              "    </tr>\n",
              "    <tr>\n",
              "      <th>2</th>\n",
              "      <td>4.7</td>\n",
              "      <td>3.2</td>\n",
              "      <td>1.3</td>\n",
              "      <td>0.2</td>\n",
              "      <td>Iris-setosa</td>\n",
              "    </tr>\n",
              "    <tr>\n",
              "      <th>3</th>\n",
              "      <td>4.6</td>\n",
              "      <td>3.1</td>\n",
              "      <td>1.5</td>\n",
              "      <td>0.2</td>\n",
              "      <td>Iris-setosa</td>\n",
              "    </tr>\n",
              "    <tr>\n",
              "      <th>4</th>\n",
              "      <td>5.0</td>\n",
              "      <td>3.6</td>\n",
              "      <td>1.4</td>\n",
              "      <td>0.2</td>\n",
              "      <td>Iris-setosa</td>\n",
              "    </tr>\n",
              "  </tbody>\n",
              "</table>\n",
              "</div>"
            ],
            "text/plain": [
              "     0    1    2    3            4\n",
              "0  5.1  3.5  1.4  0.2  Iris-setosa\n",
              "1  4.9  3.0  1.4  0.2  Iris-setosa\n",
              "2  4.7  3.2  1.3  0.2  Iris-setosa\n",
              "3  4.6  3.1  1.5  0.2  Iris-setosa\n",
              "4  5.0  3.6  1.4  0.2  Iris-setosa"
            ]
          },
          "metadata": {},
          "execution_count": 2
        }
      ]
    },
    {
      "cell_type": "markdown",
      "metadata": {
        "id": "UNE7K3AHKVRk"
      },
      "source": [
        "# Assign Column names \n",
        "* Ref: https://archive.ics.uci.edu/ml/machine-learning-databases/iris/iris.names"
      ]
    },
    {
      "cell_type": "code",
      "metadata": {
        "colab": {
          "base_uri": "https://localhost:8080/",
          "height": 206
        },
        "id": "0-6ZPJ0clB3k",
        "outputId": "f5449afe-76df-4d8d-e123-8e7c5c22a08b"
      },
      "source": [
        "\n",
        "data.columns = ['sepal length', \n",
        "                'sepal width',\n",
        "                'petal length',\n",
        "                'petal width',\n",
        "                'class' ]\n",
        "data.describe(include='all').transpose()"
      ],
      "execution_count": 3,
      "outputs": [
        {
          "output_type": "execute_result",
          "data": {
            "text/html": [
              "<div>\n",
              "<style scoped>\n",
              "    .dataframe tbody tr th:only-of-type {\n",
              "        vertical-align: middle;\n",
              "    }\n",
              "\n",
              "    .dataframe tbody tr th {\n",
              "        vertical-align: top;\n",
              "    }\n",
              "\n",
              "    .dataframe thead th {\n",
              "        text-align: right;\n",
              "    }\n",
              "</style>\n",
              "<table border=\"1\" class=\"dataframe\">\n",
              "  <thead>\n",
              "    <tr style=\"text-align: right;\">\n",
              "      <th></th>\n",
              "      <th>count</th>\n",
              "      <th>unique</th>\n",
              "      <th>top</th>\n",
              "      <th>freq</th>\n",
              "      <th>mean</th>\n",
              "      <th>std</th>\n",
              "      <th>min</th>\n",
              "      <th>25%</th>\n",
              "      <th>50%</th>\n",
              "      <th>75%</th>\n",
              "      <th>max</th>\n",
              "    </tr>\n",
              "  </thead>\n",
              "  <tbody>\n",
              "    <tr>\n",
              "      <th>sepal length</th>\n",
              "      <td>150</td>\n",
              "      <td>NaN</td>\n",
              "      <td>NaN</td>\n",
              "      <td>NaN</td>\n",
              "      <td>5.84333</td>\n",
              "      <td>0.828066</td>\n",
              "      <td>4.3</td>\n",
              "      <td>5.1</td>\n",
              "      <td>5.8</td>\n",
              "      <td>6.4</td>\n",
              "      <td>7.9</td>\n",
              "    </tr>\n",
              "    <tr>\n",
              "      <th>sepal width</th>\n",
              "      <td>150</td>\n",
              "      <td>NaN</td>\n",
              "      <td>NaN</td>\n",
              "      <td>NaN</td>\n",
              "      <td>3.054</td>\n",
              "      <td>0.433594</td>\n",
              "      <td>2</td>\n",
              "      <td>2.8</td>\n",
              "      <td>3</td>\n",
              "      <td>3.3</td>\n",
              "      <td>4.4</td>\n",
              "    </tr>\n",
              "    <tr>\n",
              "      <th>petal length</th>\n",
              "      <td>150</td>\n",
              "      <td>NaN</td>\n",
              "      <td>NaN</td>\n",
              "      <td>NaN</td>\n",
              "      <td>3.75867</td>\n",
              "      <td>1.76442</td>\n",
              "      <td>1</td>\n",
              "      <td>1.6</td>\n",
              "      <td>4.35</td>\n",
              "      <td>5.1</td>\n",
              "      <td>6.9</td>\n",
              "    </tr>\n",
              "    <tr>\n",
              "      <th>petal width</th>\n",
              "      <td>150</td>\n",
              "      <td>NaN</td>\n",
              "      <td>NaN</td>\n",
              "      <td>NaN</td>\n",
              "      <td>1.19867</td>\n",
              "      <td>0.763161</td>\n",
              "      <td>0.1</td>\n",
              "      <td>0.3</td>\n",
              "      <td>1.3</td>\n",
              "      <td>1.8</td>\n",
              "      <td>2.5</td>\n",
              "    </tr>\n",
              "    <tr>\n",
              "      <th>class</th>\n",
              "      <td>150</td>\n",
              "      <td>3</td>\n",
              "      <td>Iris-setosa</td>\n",
              "      <td>50</td>\n",
              "      <td>NaN</td>\n",
              "      <td>NaN</td>\n",
              "      <td>NaN</td>\n",
              "      <td>NaN</td>\n",
              "      <td>NaN</td>\n",
              "      <td>NaN</td>\n",
              "      <td>NaN</td>\n",
              "    </tr>\n",
              "  </tbody>\n",
              "</table>\n",
              "</div>"
            ],
            "text/plain": [
              "             count unique          top freq     mean  ...  min  25%   50%  75%  max\n",
              "sepal length   150    NaN          NaN  NaN  5.84333  ...  4.3  5.1   5.8  6.4  7.9\n",
              "sepal width    150    NaN          NaN  NaN    3.054  ...    2  2.8     3  3.3  4.4\n",
              "petal length   150    NaN          NaN  NaN  3.75867  ...    1  1.6  4.35  5.1  6.9\n",
              "petal width    150    NaN          NaN  NaN  1.19867  ...  0.1  0.3   1.3  1.8  2.5\n",
              "class          150      3  Iris-setosa   50      NaN  ...  NaN  NaN   NaN  NaN  NaN\n",
              "\n",
              "[5 rows x 11 columns]"
            ]
          },
          "metadata": {},
          "execution_count": 3
        }
      ]
    },
    {
      "cell_type": "markdown",
      "metadata": {
        "id": "BOQXqUtBG2gg"
      },
      "source": [
        "## Pre-processing Data"
      ]
    },
    {
      "cell_type": "code",
      "metadata": {
        "id": "syYP6YVrGqi-",
        "colab": {
          "base_uri": "https://localhost:8080/",
          "height": 143
        },
        "outputId": "794132ca-4134-4e1f-86d6-f49d34168fd1"
      },
      "source": [
        "# identify duplicates\n",
        "duplicates = data[data.duplicated()]\n",
        "duplicates"
      ],
      "execution_count": 4,
      "outputs": [
        {
          "output_type": "execute_result",
          "data": {
            "text/html": [
              "<div>\n",
              "<style scoped>\n",
              "    .dataframe tbody tr th:only-of-type {\n",
              "        vertical-align: middle;\n",
              "    }\n",
              "\n",
              "    .dataframe tbody tr th {\n",
              "        vertical-align: top;\n",
              "    }\n",
              "\n",
              "    .dataframe thead th {\n",
              "        text-align: right;\n",
              "    }\n",
              "</style>\n",
              "<table border=\"1\" class=\"dataframe\">\n",
              "  <thead>\n",
              "    <tr style=\"text-align: right;\">\n",
              "      <th></th>\n",
              "      <th>sepal length</th>\n",
              "      <th>sepal width</th>\n",
              "      <th>petal length</th>\n",
              "      <th>petal width</th>\n",
              "      <th>class</th>\n",
              "    </tr>\n",
              "  </thead>\n",
              "  <tbody>\n",
              "    <tr>\n",
              "      <th>34</th>\n",
              "      <td>4.9</td>\n",
              "      <td>3.1</td>\n",
              "      <td>1.5</td>\n",
              "      <td>0.1</td>\n",
              "      <td>Iris-setosa</td>\n",
              "    </tr>\n",
              "    <tr>\n",
              "      <th>37</th>\n",
              "      <td>4.9</td>\n",
              "      <td>3.1</td>\n",
              "      <td>1.5</td>\n",
              "      <td>0.1</td>\n",
              "      <td>Iris-setosa</td>\n",
              "    </tr>\n",
              "    <tr>\n",
              "      <th>142</th>\n",
              "      <td>5.8</td>\n",
              "      <td>2.7</td>\n",
              "      <td>5.1</td>\n",
              "      <td>1.9</td>\n",
              "      <td>Iris-virginica</td>\n",
              "    </tr>\n",
              "  </tbody>\n",
              "</table>\n",
              "</div>"
            ],
            "text/plain": [
              "     sepal length  sepal width  petal length  petal width           class\n",
              "34            4.9          3.1           1.5          0.1     Iris-setosa\n",
              "37            4.9          3.1           1.5          0.1     Iris-setosa\n",
              "142           5.8          2.7           5.1          1.9  Iris-virginica"
            ]
          },
          "metadata": {},
          "execution_count": 4
        }
      ]
    },
    {
      "cell_type": "code",
      "metadata": {
        "id": "CjZuOspbG6RN",
        "colab": {
          "base_uri": "https://localhost:8080/",
          "height": 206
        },
        "outputId": "92b9be46-84b3-48be-e066-de00798eb184"
      },
      "source": [
        "# Remove duplicates\n",
        "data.drop_duplicates(keep='first', inplace=True)\n",
        "data.describe(include='all').transpose()"
      ],
      "execution_count": 5,
      "outputs": [
        {
          "output_type": "execute_result",
          "data": {
            "text/html": [
              "<div>\n",
              "<style scoped>\n",
              "    .dataframe tbody tr th:only-of-type {\n",
              "        vertical-align: middle;\n",
              "    }\n",
              "\n",
              "    .dataframe tbody tr th {\n",
              "        vertical-align: top;\n",
              "    }\n",
              "\n",
              "    .dataframe thead th {\n",
              "        text-align: right;\n",
              "    }\n",
              "</style>\n",
              "<table border=\"1\" class=\"dataframe\">\n",
              "  <thead>\n",
              "    <tr style=\"text-align: right;\">\n",
              "      <th></th>\n",
              "      <th>count</th>\n",
              "      <th>unique</th>\n",
              "      <th>top</th>\n",
              "      <th>freq</th>\n",
              "      <th>mean</th>\n",
              "      <th>std</th>\n",
              "      <th>min</th>\n",
              "      <th>25%</th>\n",
              "      <th>50%</th>\n",
              "      <th>75%</th>\n",
              "      <th>max</th>\n",
              "    </tr>\n",
              "  </thead>\n",
              "  <tbody>\n",
              "    <tr>\n",
              "      <th>sepal length</th>\n",
              "      <td>147</td>\n",
              "      <td>NaN</td>\n",
              "      <td>NaN</td>\n",
              "      <td>NaN</td>\n",
              "      <td>5.85646</td>\n",
              "      <td>0.8291</td>\n",
              "      <td>4.3</td>\n",
              "      <td>5.1</td>\n",
              "      <td>5.8</td>\n",
              "      <td>6.4</td>\n",
              "      <td>7.9</td>\n",
              "    </tr>\n",
              "    <tr>\n",
              "      <th>sepal width</th>\n",
              "      <td>147</td>\n",
              "      <td>NaN</td>\n",
              "      <td>NaN</td>\n",
              "      <td>NaN</td>\n",
              "      <td>3.05578</td>\n",
              "      <td>0.437009</td>\n",
              "      <td>2</td>\n",
              "      <td>2.8</td>\n",
              "      <td>3</td>\n",
              "      <td>3.3</td>\n",
              "      <td>4.4</td>\n",
              "    </tr>\n",
              "    <tr>\n",
              "      <th>petal length</th>\n",
              "      <td>147</td>\n",
              "      <td>NaN</td>\n",
              "      <td>NaN</td>\n",
              "      <td>NaN</td>\n",
              "      <td>3.78027</td>\n",
              "      <td>1.75911</td>\n",
              "      <td>1</td>\n",
              "      <td>1.6</td>\n",
              "      <td>4.4</td>\n",
              "      <td>5.1</td>\n",
              "      <td>6.9</td>\n",
              "    </tr>\n",
              "    <tr>\n",
              "      <th>petal width</th>\n",
              "      <td>147</td>\n",
              "      <td>NaN</td>\n",
              "      <td>NaN</td>\n",
              "      <td>NaN</td>\n",
              "      <td>1.20884</td>\n",
              "      <td>0.757874</td>\n",
              "      <td>0.1</td>\n",
              "      <td>0.3</td>\n",
              "      <td>1.3</td>\n",
              "      <td>1.8</td>\n",
              "      <td>2.5</td>\n",
              "    </tr>\n",
              "    <tr>\n",
              "      <th>class</th>\n",
              "      <td>147</td>\n",
              "      <td>3</td>\n",
              "      <td>Iris-versicolor</td>\n",
              "      <td>50</td>\n",
              "      <td>NaN</td>\n",
              "      <td>NaN</td>\n",
              "      <td>NaN</td>\n",
              "      <td>NaN</td>\n",
              "      <td>NaN</td>\n",
              "      <td>NaN</td>\n",
              "      <td>NaN</td>\n",
              "    </tr>\n",
              "  </tbody>\n",
              "</table>\n",
              "</div>"
            ],
            "text/plain": [
              "             count unique              top freq  ...  25%  50%  75%  max\n",
              "sepal length   147    NaN              NaN  NaN  ...  5.1  5.8  6.4  7.9\n",
              "sepal width    147    NaN              NaN  NaN  ...  2.8    3  3.3  4.4\n",
              "petal length   147    NaN              NaN  NaN  ...  1.6  4.4  5.1  6.9\n",
              "petal width    147    NaN              NaN  NaN  ...  0.3  1.3  1.8  2.5\n",
              "class          147      3  Iris-versicolor   50  ...  NaN  NaN  NaN  NaN\n",
              "\n",
              "[5 rows x 11 columns]"
            ]
          },
          "metadata": {},
          "execution_count": 5
        }
      ]
    },
    {
      "cell_type": "code",
      "metadata": {
        "colab": {
          "base_uri": "https://localhost:8080/"
        },
        "id": "PONn_FbC1cdX",
        "outputId": "d8801a8e-7b9e-4c34-ed2c-6e8bf216d1cf"
      },
      "source": [
        "data['class'].value_counts()"
      ],
      "execution_count": 6,
      "outputs": [
        {
          "output_type": "execute_result",
          "data": {
            "text/plain": [
              "Iris-versicolor    50\n",
              "Iris-virginica     49\n",
              "Iris-setosa        48\n",
              "Name: class, dtype: int64"
            ]
          },
          "metadata": {},
          "execution_count": 6
        }
      ]
    },
    {
      "cell_type": "code",
      "metadata": {
        "colab": {
          "base_uri": "https://localhost:8080/"
        },
        "id": "KYANi-ks2JC7",
        "outputId": "3d91688e-f346-42ca-ee72-62eaebb34e7a"
      },
      "source": [
        "class_names = data['class'].unique()\n",
        "class_names"
      ],
      "execution_count": 7,
      "outputs": [
        {
          "output_type": "execute_result",
          "data": {
            "text/plain": [
              "array(['Iris-setosa', 'Iris-versicolor', 'Iris-virginica'], dtype=object)"
            ]
          },
          "metadata": {},
          "execution_count": 7
        }
      ]
    },
    {
      "cell_type": "code",
      "metadata": {
        "colab": {
          "base_uri": "https://localhost:8080/",
          "height": 206
        },
        "id": "4-n6_0Hzp3-_",
        "outputId": "21e2e124-999d-4d5d-8dd0-ba566853c513"
      },
      "source": [
        "# Assign numbers to class labels\n",
        "data['y_act'] = data['class']\n",
        "data['y_act'].replace('Iris-setosa', 0, inplace=True)\n",
        "data['y_act'].replace('Iris-versicolor', 1, inplace=True)\n",
        "data['y_act'].replace('Iris-virginica', 2, inplace=True)\n",
        "\n",
        "data.sample(5)"
      ],
      "execution_count": 8,
      "outputs": [
        {
          "output_type": "execute_result",
          "data": {
            "text/html": [
              "<div>\n",
              "<style scoped>\n",
              "    .dataframe tbody tr th:only-of-type {\n",
              "        vertical-align: middle;\n",
              "    }\n",
              "\n",
              "    .dataframe tbody tr th {\n",
              "        vertical-align: top;\n",
              "    }\n",
              "\n",
              "    .dataframe thead th {\n",
              "        text-align: right;\n",
              "    }\n",
              "</style>\n",
              "<table border=\"1\" class=\"dataframe\">\n",
              "  <thead>\n",
              "    <tr style=\"text-align: right;\">\n",
              "      <th></th>\n",
              "      <th>sepal length</th>\n",
              "      <th>sepal width</th>\n",
              "      <th>petal length</th>\n",
              "      <th>petal width</th>\n",
              "      <th>class</th>\n",
              "      <th>y_act</th>\n",
              "    </tr>\n",
              "  </thead>\n",
              "  <tbody>\n",
              "    <tr>\n",
              "      <th>64</th>\n",
              "      <td>5.6</td>\n",
              "      <td>2.9</td>\n",
              "      <td>3.6</td>\n",
              "      <td>1.3</td>\n",
              "      <td>Iris-versicolor</td>\n",
              "      <td>1</td>\n",
              "    </tr>\n",
              "    <tr>\n",
              "      <th>63</th>\n",
              "      <td>6.1</td>\n",
              "      <td>2.9</td>\n",
              "      <td>4.7</td>\n",
              "      <td>1.4</td>\n",
              "      <td>Iris-versicolor</td>\n",
              "      <td>1</td>\n",
              "    </tr>\n",
              "    <tr>\n",
              "      <th>132</th>\n",
              "      <td>6.4</td>\n",
              "      <td>2.8</td>\n",
              "      <td>5.6</td>\n",
              "      <td>2.2</td>\n",
              "      <td>Iris-virginica</td>\n",
              "      <td>2</td>\n",
              "    </tr>\n",
              "    <tr>\n",
              "      <th>67</th>\n",
              "      <td>5.8</td>\n",
              "      <td>2.7</td>\n",
              "      <td>4.1</td>\n",
              "      <td>1.0</td>\n",
              "      <td>Iris-versicolor</td>\n",
              "      <td>1</td>\n",
              "    </tr>\n",
              "    <tr>\n",
              "      <th>55</th>\n",
              "      <td>5.7</td>\n",
              "      <td>2.8</td>\n",
              "      <td>4.5</td>\n",
              "      <td>1.3</td>\n",
              "      <td>Iris-versicolor</td>\n",
              "      <td>1</td>\n",
              "    </tr>\n",
              "  </tbody>\n",
              "</table>\n",
              "</div>"
            ],
            "text/plain": [
              "     sepal length  sepal width  ...            class  y_act\n",
              "64            5.6          2.9  ...  Iris-versicolor      1\n",
              "63            6.1          2.9  ...  Iris-versicolor      1\n",
              "132           6.4          2.8  ...   Iris-virginica      2\n",
              "67            5.8          2.7  ...  Iris-versicolor      1\n",
              "55            5.7          2.8  ...  Iris-versicolor      1\n",
              "\n",
              "[5 rows x 6 columns]"
            ]
          },
          "metadata": {},
          "execution_count": 8
        }
      ]
    },
    {
      "cell_type": "markdown",
      "metadata": {
        "id": "69K5c0_-IB19"
      },
      "source": [
        "## Finding Corelation"
      ]
    },
    {
      "cell_type": "code",
      "metadata": {
        "colab": {
          "base_uri": "https://localhost:8080/"
        },
        "id": "lWJLeTiR2_yZ",
        "outputId": "b57e7670-9a2b-493b-e23d-850fdf6e17d7"
      },
      "source": [
        "data.columns"
      ],
      "execution_count": 9,
      "outputs": [
        {
          "output_type": "execute_result",
          "data": {
            "text/plain": [
              "Index(['sepal length', 'sepal width', 'petal length', 'petal width', 'class',\n",
              "       'y_act'],\n",
              "      dtype='object')"
            ]
          },
          "metadata": {},
          "execution_count": 9
        }
      ]
    },
    {
      "cell_type": "code",
      "metadata": {
        "colab": {
          "base_uri": "https://localhost:8080/",
          "height": 510
        },
        "id": "F1K2FDSu20VR",
        "outputId": "045d0cbc-f4ec-433a-e4fe-d9ae4b93e06e"
      },
      "source": [
        "correlation_matrix = data[['sepal length', 'sepal width', 'petal length', 'petal width', 'y_act']].corr()\n",
        "\n",
        "sns.heatmap(correlation_matrix)\n",
        "correlation_matrix"
      ],
      "execution_count": 10,
      "outputs": [
        {
          "output_type": "execute_result",
          "data": {
            "text/html": [
              "<div>\n",
              "<style scoped>\n",
              "    .dataframe tbody tr th:only-of-type {\n",
              "        vertical-align: middle;\n",
              "    }\n",
              "\n",
              "    .dataframe tbody tr th {\n",
              "        vertical-align: top;\n",
              "    }\n",
              "\n",
              "    .dataframe thead th {\n",
              "        text-align: right;\n",
              "    }\n",
              "</style>\n",
              "<table border=\"1\" class=\"dataframe\">\n",
              "  <thead>\n",
              "    <tr style=\"text-align: right;\">\n",
              "      <th></th>\n",
              "      <th>sepal length</th>\n",
              "      <th>sepal width</th>\n",
              "      <th>petal length</th>\n",
              "      <th>petal width</th>\n",
              "      <th>y_act</th>\n",
              "    </tr>\n",
              "  </thead>\n",
              "  <tbody>\n",
              "    <tr>\n",
              "      <th>sepal length</th>\n",
              "      <td>1.000000</td>\n",
              "      <td>-0.109321</td>\n",
              "      <td>0.871305</td>\n",
              "      <td>0.817058</td>\n",
              "      <td>0.782904</td>\n",
              "    </tr>\n",
              "    <tr>\n",
              "      <th>sepal width</th>\n",
              "      <td>-0.109321</td>\n",
              "      <td>1.000000</td>\n",
              "      <td>-0.421057</td>\n",
              "      <td>-0.356376</td>\n",
              "      <td>-0.418348</td>\n",
              "    </tr>\n",
              "    <tr>\n",
              "      <th>petal length</th>\n",
              "      <td>0.871305</td>\n",
              "      <td>-0.421057</td>\n",
              "      <td>1.000000</td>\n",
              "      <td>0.961883</td>\n",
              "      <td>0.948339</td>\n",
              "    </tr>\n",
              "    <tr>\n",
              "      <th>petal width</th>\n",
              "      <td>0.817058</td>\n",
              "      <td>-0.356376</td>\n",
              "      <td>0.961883</td>\n",
              "      <td>1.000000</td>\n",
              "      <td>0.955693</td>\n",
              "    </tr>\n",
              "    <tr>\n",
              "      <th>y_act</th>\n",
              "      <td>0.782904</td>\n",
              "      <td>-0.418348</td>\n",
              "      <td>0.948339</td>\n",
              "      <td>0.955693</td>\n",
              "      <td>1.000000</td>\n",
              "    </tr>\n",
              "  </tbody>\n",
              "</table>\n",
              "</div>"
            ],
            "text/plain": [
              "              sepal length  sepal width  petal length  petal width     y_act\n",
              "sepal length      1.000000    -0.109321      0.871305     0.817058  0.782904\n",
              "sepal width      -0.109321     1.000000     -0.421057    -0.356376 -0.418348\n",
              "petal length      0.871305    -0.421057      1.000000     0.961883  0.948339\n",
              "petal width       0.817058    -0.356376      0.961883     1.000000  0.955693\n",
              "y_act             0.782904    -0.418348      0.948339     0.955693  1.000000"
            ]
          },
          "metadata": {},
          "execution_count": 10
        },
        {
          "output_type": "display_data",
          "data": {
            "image/png": "[encoded data removed]",
            "text/plain": [
              "<Figure size 432x288 with 2 Axes>"
            ]
          },
          "metadata": {
            "needs_background": "light"
          }
        }
      ]
    },
    {
      "cell_type": "code",
      "metadata": {
        "id": "6KABXgXKCdDi"
      },
      "source": [
        "# Would you remove any feature based on corelation matrix?"
      ],
      "execution_count": 11,
      "outputs": []
    },
    {
      "cell_type": "code",
      "metadata": {
        "id": "wO-Nw9gEHjhd",
        "colab": {
          "base_uri": "https://localhost:8080/",
          "height": 903
        },
        "outputId": "dabd82de-52d5-4e5f-c9d2-69fc535eb18c"
      },
      "source": [
        "g = sns.pairplot(data, hue='class', markers='+')\n",
        "plt.show()"
      ],
      "execution_count": 12,
      "outputs": [
        {
          "output_type": "display_data",
          "data": {
            "image/png": "[encoded data removed]",
            "text/plain": [
              "<Figure size 1003.25x900 with 30 Axes>"
            ]
          },
          "metadata": {
            "needs_background": "light"
          }
        }
      ]
    },
    {
      "cell_type": "markdown",
      "metadata": {
        "id": "q75TQmAJX1TC"
      },
      "source": [
        "## Identify `X` and `y`"
      ]
    },
    {
      "cell_type": "code",
      "metadata": {
        "colab": {
          "base_uri": "https://localhost:8080/",
          "height": 206
        },
        "id": "70yCd_PUWvk9",
        "outputId": "02bc8831-08a1-48d1-9209-6fcf9c2c412b"
      },
      "source": [
        "X_variables = ['sepal length', 'petal length', 'petal width']\n",
        "data[X_variables].head()"
      ],
      "execution_count": 13,
      "outputs": [
        {
          "output_type": "execute_result",
          "data": {
            "text/html": [
              "<div>\n",
              "<style scoped>\n",
              "    .dataframe tbody tr th:only-of-type {\n",
              "        vertical-align: middle;\n",
              "    }\n",
              "\n",
              "    .dataframe tbody tr th {\n",
              "        vertical-align: top;\n",
              "    }\n",
              "\n",
              "    .dataframe thead th {\n",
              "        text-align: right;\n",
              "    }\n",
              "</style>\n",
              "<table border=\"1\" class=\"dataframe\">\n",
              "  <thead>\n",
              "    <tr style=\"text-align: right;\">\n",
              "      <th></th>\n",
              "      <th>sepal length</th>\n",
              "      <th>petal length</th>\n",
              "      <th>petal width</th>\n",
              "    </tr>\n",
              "  </thead>\n",
              "  <tbody>\n",
              "    <tr>\n",
              "      <th>0</th>\n",
              "      <td>5.1</td>\n",
              "      <td>1.4</td>\n",
              "      <td>0.2</td>\n",
              "    </tr>\n",
              "    <tr>\n",
              "      <th>1</th>\n",
              "      <td>4.9</td>\n",
              "      <td>1.4</td>\n",
              "      <td>0.2</td>\n",
              "    </tr>\n",
              "    <tr>\n",
              "      <th>2</th>\n",
              "      <td>4.7</td>\n",
              "      <td>1.3</td>\n",
              "      <td>0.2</td>\n",
              "    </tr>\n",
              "    <tr>\n",
              "      <th>3</th>\n",
              "      <td>4.6</td>\n",
              "      <td>1.5</td>\n",
              "      <td>0.2</td>\n",
              "    </tr>\n",
              "    <tr>\n",
              "      <th>4</th>\n",
              "      <td>5.0</td>\n",
              "      <td>1.4</td>\n",
              "      <td>0.2</td>\n",
              "    </tr>\n",
              "  </tbody>\n",
              "</table>\n",
              "</div>"
            ],
            "text/plain": [
              "   sepal length  petal length  petal width\n",
              "0           5.1           1.4          0.2\n",
              "1           4.9           1.4          0.2\n",
              "2           4.7           1.3          0.2\n",
              "3           4.6           1.5          0.2\n",
              "4           5.0           1.4          0.2"
            ]
          },
          "metadata": {},
          "execution_count": 13
        }
      ]
    },
    {
      "cell_type": "code",
      "metadata": {
        "colab": {
          "base_uri": "https://localhost:8080/"
        },
        "id": "gSNYSJTNkfON",
        "outputId": "b27ebdea-6d82-43bd-daef-ef0c6aba765e"
      },
      "source": [
        "y_varibale = 'y_act'\n",
        "data[y_varibale].head()"
      ],
      "execution_count": 14,
      "outputs": [
        {
          "output_type": "execute_result",
          "data": {
            "text/plain": [
              "0    0\n",
              "1    0\n",
              "2    0\n",
              "3    0\n",
              "4    0\n",
              "Name: y_act, dtype: int64"
            ]
          },
          "metadata": {},
          "execution_count": 14
        }
      ]
    },
    {
      "cell_type": "code",
      "metadata": {
        "colab": {
          "base_uri": "https://localhost:8080/"
        },
        "id": "Z9h2sbqml-QV",
        "outputId": "8172934c-af6a-4f75-8fcc-7efa9af231d9"
      },
      "source": [
        "# Three classes (y variable)\n",
        "data[y_varibale].unique()"
      ],
      "execution_count": 15,
      "outputs": [
        {
          "output_type": "execute_result",
          "data": {
            "text/plain": [
              "array([0, 1, 2])"
            ]
          },
          "metadata": {},
          "execution_count": 15
        }
      ]
    },
    {
      "cell_type": "code",
      "metadata": {
        "colab": {
          "base_uri": "https://localhost:8080/"
        },
        "id": "2rCfT7X3WLHZ",
        "outputId": "326a905e-7bce-4f43-d244-8c6eb719b60c"
      },
      "source": [
        "class_names"
      ],
      "execution_count": 16,
      "outputs": [
        {
          "output_type": "execute_result",
          "data": {
            "text/plain": [
              "array(['Iris-setosa', 'Iris-versicolor', 'Iris-virginica'], dtype=object)"
            ]
          },
          "metadata": {},
          "execution_count": 16
        }
      ]
    },
    {
      "cell_type": "code",
      "metadata": {
        "colab": {
          "base_uri": "https://localhost:8080/"
        },
        "id": "09dpjHuVXOoY",
        "outputId": "5e9d5f5b-5840-4364-cfec-2b0fa9f875da"
      },
      "source": [
        "X = data[X_variables].values\n",
        "X[:5]"
      ],
      "execution_count": 17,
      "outputs": [
        {
          "output_type": "execute_result",
          "data": {
            "text/plain": [
              "array([[5.1, 1.4, 0.2],\n",
              "       [4.9, 1.4, 0.2],\n",
              "       [4.7, 1.3, 0.2],\n",
              "       [4.6, 1.5, 0.2],\n",
              "       [5. , 1.4, 0.2]])"
            ]
          },
          "metadata": {},
          "execution_count": 17
        }
      ]
    },
    {
      "cell_type": "code",
      "metadata": {
        "colab": {
          "base_uri": "https://localhost:8080/"
        },
        "id": "_7MDrI5CXWCl",
        "outputId": "1d5db37f-c5de-4a39-a540-b74dbcb66edc"
      },
      "source": [
        "y = data[y_varibale].values\n",
        "y[:5]"
      ],
      "execution_count": 18,
      "outputs": [
        {
          "output_type": "execute_result",
          "data": {
            "text/plain": [
              "array([0, 0, 0, 0, 0])"
            ]
          },
          "metadata": {},
          "execution_count": 18
        }
      ]
    },
    {
      "cell_type": "markdown",
      "metadata": {
        "id": "y-71rtaDYEMF"
      },
      "source": [
        "## Train Test Split"
      ]
    },
    {
      "cell_type": "code",
      "metadata": {
        "colab": {
          "base_uri": "https://localhost:8080/"
        },
        "id": "32gLGbh7lWvp",
        "outputId": "0303c859-bb08-4640-ec88-b76ef1ef3dea"
      },
      "source": [
        "X_train, X_test, y_train, y_test = train_test_split(X, y, test_size=0.3, random_state=42)\n",
        "\n",
        "print(F\"Train sample size = {len(X_train)}\")\n",
        "print(F\"Test sample size  = {len(X_test)}\")"
      ],
      "execution_count": 19,
      "outputs": [
        {
          "output_type": "stream",
          "name": "stdout",
          "text": [
            "Train sample size = 102\n",
            "Test sample size  = 45\n"
          ]
        }
      ]
    },
    {
      "cell_type": "markdown",
      "metadata": {
        "id": "ggbm7gyUYOLQ"
      },
      "source": [
        "## Create Logistic Regression Model\n",
        "* https://en.wikipedia.org/wiki/Logistic_regression\n",
        "* https://scikit-learn.org/stable/modules/generated/sklearn.linear_model.LogisticRegression.html"
      ]
    },
    {
      "cell_type": "code",
      "metadata": {
        "id": "0R1tMzJwkiYK"
      },
      "source": [
        "model = LogisticRegression()"
      ],
      "execution_count": 20,
      "outputs": []
    },
    {
      "cell_type": "markdown",
      "metadata": {
        "id": "AcNbl2WWYsOy"
      },
      "source": [
        "## Train Model (use Training dataset)"
      ]
    },
    {
      "cell_type": "code",
      "metadata": {
        "colab": {
          "base_uri": "https://localhost:8080/"
        },
        "id": "U4ykpbIOkzxH",
        "outputId": "95bbcaf8-784f-4b66-c1ab-df62fa7150f0"
      },
      "source": [
        "model.fit(X_train, y_train)\n",
        "# Removed the festure \"sepal width\"."
      ],
      "execution_count": 21,
      "outputs": [
        {
          "output_type": "execute_result",
          "data": {
            "text/plain": [
              "LogisticRegression(C=1.0, class_weight=None, dual=False, fit_intercept=True,\n",
              "                   intercept_scaling=1, l1_ratio=None, max_iter=100,\n",
              "                   multi_class='auto', n_jobs=None, penalty='l2',\n",
              "                   random_state=None, solver='lbfgs', tol=0.0001, verbose=0,\n",
              "                   warm_start=False)"
            ]
          },
          "metadata": {},
          "execution_count": 21
        }
      ]
    },
    {
      "cell_type": "markdown",
      "metadata": {
        "id": "2sTwouDrYuLe"
      },
      "source": [
        "## Predict (use Testing dataset)"
      ]
    },
    {
      "cell_type": "code",
      "metadata": {
        "colab": {
          "base_uri": "https://localhost:8080/"
        },
        "id": "v0feULGBWO_E",
        "outputId": "897e5b29-31f1-44ac-96bd-a0cc3cb7aca9"
      },
      "source": [
        "\n",
        "class_names"
      ],
      "execution_count": 22,
      "outputs": [
        {
          "output_type": "execute_result",
          "data": {
            "text/plain": [
              "array(['Iris-setosa', 'Iris-versicolor', 'Iris-virginica'], dtype=object)"
            ]
          },
          "metadata": {},
          "execution_count": 22
        }
      ]
    },
    {
      "cell_type": "code",
      "metadata": {
        "colab": {
          "base_uri": "https://localhost:8080/"
        },
        "id": "U_tfA19ilryK",
        "outputId": "437c9852-99c8-49e7-ef66-e99f745a6587"
      },
      "source": [
        "# Probability\n",
        "model.predict_proba(X_test)[:5]"
      ],
      "execution_count": 23,
      "outputs": [
        {
          "output_type": "execute_result",
          "data": {
            "text/plain": [
              "array([[1.04342527e-03, 4.35809450e-01, 5.63147124e-01],\n",
              "       [3.43237626e-02, 9.24548547e-01, 4.11276907e-02],\n",
              "       [8.56149187e-06, 3.57240054e-02, 9.64267433e-01],\n",
              "       [9.61011475e-01, 3.89883302e-02, 1.94863813e-07],\n",
              "       [1.00087194e-02, 6.15387827e-01, 3.74603453e-01]])"
            ]
          },
          "metadata": {},
          "execution_count": 23
        }
      ]
    },
    {
      "cell_type": "code",
      "metadata": {
        "id": "hKMTjp5lDS-Q",
        "colab": {
          "base_uri": "https://localhost:8080/"
        },
        "outputId": "8f4dc699-cf72-418b-87f6-2948add5e5a3"
      },
      "source": [
        "# Predicted Class\n",
        "model.predict(X_test)[:5]"
      ],
      "execution_count": 24,
      "outputs": [
        {
          "output_type": "execute_result",
          "data": {
            "text/plain": [
              "array([2, 1, 2, 0, 1])"
            ]
          },
          "metadata": {},
          "execution_count": 24
        }
      ]
    },
    {
      "cell_type": "markdown",
      "metadata": {
        "id": "L3aJVVcWvse4"
      },
      "source": [
        "## Predicted Probabilities of all three classes"
      ]
    },
    {
      "cell_type": "code",
      "metadata": {
        "id": "HPl_QRoVl3Ig",
        "colab": {
          "base_uri": "https://localhost:8080/"
        },
        "outputId": "efd686bc-3911-4258-b18f-fe54f6272ad9"
      },
      "source": [
        "y_pred_prob_0 = model.predict_proba(X_test)[:, 0]\n",
        "y_pred_prob_1 = model.predict_proba(X_test)[:, 1]\n",
        "y_pred_prob_2 = model.predict_proba(X_test)[:, 2]\n",
        "\n",
        "# class 0 probability\n",
        "y_pred_prob_0"
      ],
      "execution_count": 25,
      "outputs": [
        {
          "output_type": "execute_result",
          "data": {
            "text/plain": [
              "array([1.04342527e-03, 3.43237626e-02, 8.56149187e-06, 9.61011475e-01,\n",
              "       1.00087194e-02, 9.76733595e-01, 5.91233405e-03, 9.49688971e-01,\n",
              "       6.87620646e-04, 9.68426674e-01, 9.53371184e-01, 3.61596363e-01,\n",
              "       5.31740561e-04, 4.32738601e-02, 9.67915107e-06, 5.14330326e-03,\n",
              "       9.05685326e-01, 2.19151747e-02, 1.44876526e-03, 9.62182343e-01,\n",
              "       9.64945642e-01, 9.41658769e-07, 9.86029013e-01, 6.25171447e-06,\n",
              "       2.52028780e-01, 9.91873872e-01, 7.77487544e-03, 6.44238609e-07,\n",
              "       8.89239545e-03, 9.62182343e-01, 6.62199998e-05, 9.79449701e-01,\n",
              "       9.20687558e-04, 9.59166093e-01, 9.72054047e-01, 1.88048600e-05,\n",
              "       2.83549092e-07, 3.50710686e-05, 9.03238348e-01, 9.67957011e-01,\n",
              "       9.52531791e-01, 3.86093065e-08, 7.02378121e-03, 1.18008604e-04,\n",
              "       3.33639965e-03])"
            ]
          },
          "metadata": {},
          "execution_count": 25
        }
      ]
    },
    {
      "cell_type": "code",
      "metadata": {
        "id": "UBp3rLqamJlN",
        "colab": {
          "base_uri": "https://localhost:8080/"
        },
        "outputId": "272da888-238a-4648-95b3-6fca7e3831d7"
      },
      "source": [
        "y_pred = model.predict(X_test)\n",
        "y_pred"
      ],
      "execution_count": 26,
      "outputs": [
        {
          "output_type": "execute_result",
          "data": {
            "text/plain": [
              "array([2, 1, 2, 0, 1, 0, 1, 0, 2, 0, 0, 1, 2, 1, 2, 1, 0, 1, 1, 0, 0, 2,\n",
              "       0, 2, 1, 0, 1, 2, 1, 0, 2, 0, 2, 0, 0, 2, 2, 2, 0, 0, 0, 2, 1, 2,\n",
              "       1])"
            ]
          },
          "metadata": {},
          "execution_count": 26
        }
      ]
    },
    {
      "cell_type": "markdown",
      "metadata": {
        "id": "lS6Vq0WFZK2Y"
      },
      "source": [
        "## Create Results Data Frame for Test Sample"
      ]
    },
    {
      "cell_type": "code",
      "metadata": {
        "colab": {
          "base_uri": "https://localhost:8080/",
          "height": 363
        },
        "id": "UdmpD4yIZDl3",
        "outputId": "2fbbd7e7-be6a-41a3-e3fe-efefaa3b77c7"
      },
      "source": [
        "test_result = pd.DataFrame(data={'y_act':y_test, 'y_pred':y_pred, 'y_pred_prob_0':y_pred_prob_0 , 'y_pred_prob_1':y_pred_prob_1, 'y_pred_prob_2':y_pred_prob_2})\n",
        "test_result.sample(10)"
      ],
      "execution_count": 27,
      "outputs": [
        {
          "output_type": "execute_result",
          "data": {
            "text/html": [
              "<div>\n",
              "<style scoped>\n",
              "    .dataframe tbody tr th:only-of-type {\n",
              "        vertical-align: middle;\n",
              "    }\n",
              "\n",
              "    .dataframe tbody tr th {\n",
              "        vertical-align: top;\n",
              "    }\n",
              "\n",
              "    .dataframe thead th {\n",
              "        text-align: right;\n",
              "    }\n",
              "</style>\n",
              "<table border=\"1\" class=\"dataframe\">\n",
              "  <thead>\n",
              "    <tr style=\"text-align: right;\">\n",
              "      <th></th>\n",
              "      <th>y_act</th>\n",
              "      <th>y_pred</th>\n",
              "      <th>y_pred_prob_0</th>\n",
              "      <th>y_pred_prob_1</th>\n",
              "      <th>y_pred_prob_2</th>\n",
              "    </tr>\n",
              "  </thead>\n",
              "  <tbody>\n",
              "    <tr>\n",
              "      <th>20</th>\n",
              "      <td>0</td>\n",
              "      <td>0</td>\n",
              "      <td>0.964946</td>\n",
              "      <td>0.035054</td>\n",
              "      <td>2.246712e-07</td>\n",
              "    </tr>\n",
              "    <tr>\n",
              "      <th>26</th>\n",
              "      <td>1</td>\n",
              "      <td>1</td>\n",
              "      <td>0.007775</td>\n",
              "      <td>0.780358</td>\n",
              "      <td>2.118675e-01</td>\n",
              "    </tr>\n",
              "    <tr>\n",
              "      <th>12</th>\n",
              "      <td>2</td>\n",
              "      <td>2</td>\n",
              "      <td>0.000532</td>\n",
              "      <td>0.339088</td>\n",
              "      <td>6.603804e-01</td>\n",
              "    </tr>\n",
              "    <tr>\n",
              "      <th>38</th>\n",
              "      <td>0</td>\n",
              "      <td>0</td>\n",
              "      <td>0.903238</td>\n",
              "      <td>0.096760</td>\n",
              "      <td>1.863474e-06</td>\n",
              "    </tr>\n",
              "    <tr>\n",
              "      <th>44</th>\n",
              "      <td>1</td>\n",
              "      <td>1</td>\n",
              "      <td>0.003336</td>\n",
              "      <td>0.875799</td>\n",
              "      <td>1.208642e-01</td>\n",
              "    </tr>\n",
              "    <tr>\n",
              "      <th>32</th>\n",
              "      <td>2</td>\n",
              "      <td>2</td>\n",
              "      <td>0.000921</td>\n",
              "      <td>0.275749</td>\n",
              "      <td>7.233302e-01</td>\n",
              "    </tr>\n",
              "    <tr>\n",
              "      <th>39</th>\n",
              "      <td>0</td>\n",
              "      <td>0</td>\n",
              "      <td>0.967957</td>\n",
              "      <td>0.032043</td>\n",
              "      <td>9.921729e-08</td>\n",
              "    </tr>\n",
              "    <tr>\n",
              "      <th>33</th>\n",
              "      <td>0</td>\n",
              "      <td>0</td>\n",
              "      <td>0.959166</td>\n",
              "      <td>0.040834</td>\n",
              "      <td>1.543240e-07</td>\n",
              "    </tr>\n",
              "    <tr>\n",
              "      <th>0</th>\n",
              "      <td>2</td>\n",
              "      <td>2</td>\n",
              "      <td>0.001043</td>\n",
              "      <td>0.435809</td>\n",
              "      <td>5.631471e-01</td>\n",
              "    </tr>\n",
              "    <tr>\n",
              "      <th>28</th>\n",
              "      <td>1</td>\n",
              "      <td>1</td>\n",
              "      <td>0.008892</td>\n",
              "      <td>0.762470</td>\n",
              "      <td>2.286379e-01</td>\n",
              "    </tr>\n",
              "  </tbody>\n",
              "</table>\n",
              "</div>"
            ],
            "text/plain": [
              "    y_act  y_pred  y_pred_prob_0  y_pred_prob_1  y_pred_prob_2\n",
              "20      0       0       0.964946       0.035054   2.246712e-07\n",
              "26      1       1       0.007775       0.780358   2.118675e-01\n",
              "12      2       2       0.000532       0.339088   6.603804e-01\n",
              "38      0       0       0.903238       0.096760   1.863474e-06\n",
              "44      1       1       0.003336       0.875799   1.208642e-01\n",
              "32      2       2       0.000921       0.275749   7.233302e-01\n",
              "39      0       0       0.967957       0.032043   9.921729e-08\n",
              "33      0       0       0.959166       0.040834   1.543240e-07\n",
              "0       2       2       0.001043       0.435809   5.631471e-01\n",
              "28      1       1       0.008892       0.762470   2.286379e-01"
            ]
          },
          "metadata": {},
          "execution_count": 27
        }
      ]
    },
    {
      "cell_type": "code",
      "metadata": {
        "id": "yxzF_L2EEgcB",
        "colab": {
          "base_uri": "https://localhost:8080/",
          "height": 206
        },
        "outputId": "8108852a-3f92-4f7f-8a0e-4b6ce3779262"
      },
      "source": [
        "#one-hot encode prediction column\n",
        "dummy_column = pd.get_dummies(test_result['y_pred'], prefix='y_pred', drop_first=False, dummy_na=False)\n",
        "test_result = pd.concat([test_result, dummy_column], join='outer', axis=1)\n",
        "test_result.head()"
      ],
      "execution_count": 28,
      "outputs": [
        {
          "output_type": "execute_result",
          "data": {
            "text/html": [
              "<div>\n",
              "<style scoped>\n",
              "    .dataframe tbody tr th:only-of-type {\n",
              "        vertical-align: middle;\n",
              "    }\n",
              "\n",
              "    .dataframe tbody tr th {\n",
              "        vertical-align: top;\n",
              "    }\n",
              "\n",
              "    .dataframe thead th {\n",
              "        text-align: right;\n",
              "    }\n",
              "</style>\n",
              "<table border=\"1\" class=\"dataframe\">\n",
              "  <thead>\n",
              "    <tr style=\"text-align: right;\">\n",
              "      <th></th>\n",
              "      <th>y_act</th>\n",
              "      <th>y_pred</th>\n",
              "      <th>y_pred_prob_0</th>\n",
              "      <th>y_pred_prob_1</th>\n",
              "      <th>y_pred_prob_2</th>\n",
              "      <th>y_pred_0</th>\n",
              "      <th>y_pred_1</th>\n",
              "      <th>y_pred_2</th>\n",
              "    </tr>\n",
              "  </thead>\n",
              "  <tbody>\n",
              "    <tr>\n",
              "      <th>0</th>\n",
              "      <td>2</td>\n",
              "      <td>2</td>\n",
              "      <td>0.001043</td>\n",
              "      <td>0.435809</td>\n",
              "      <td>5.631471e-01</td>\n",
              "      <td>0</td>\n",
              "      <td>0</td>\n",
              "      <td>1</td>\n",
              "    </tr>\n",
              "    <tr>\n",
              "      <th>1</th>\n",
              "      <td>1</td>\n",
              "      <td>1</td>\n",
              "      <td>0.034324</td>\n",
              "      <td>0.924549</td>\n",
              "      <td>4.112769e-02</td>\n",
              "      <td>0</td>\n",
              "      <td>1</td>\n",
              "      <td>0</td>\n",
              "    </tr>\n",
              "    <tr>\n",
              "      <th>2</th>\n",
              "      <td>2</td>\n",
              "      <td>2</td>\n",
              "      <td>0.000009</td>\n",
              "      <td>0.035724</td>\n",
              "      <td>9.642674e-01</td>\n",
              "      <td>0</td>\n",
              "      <td>0</td>\n",
              "      <td>1</td>\n",
              "    </tr>\n",
              "    <tr>\n",
              "      <th>3</th>\n",
              "      <td>0</td>\n",
              "      <td>0</td>\n",
              "      <td>0.961011</td>\n",
              "      <td>0.038988</td>\n",
              "      <td>1.948638e-07</td>\n",
              "      <td>1</td>\n",
              "      <td>0</td>\n",
              "      <td>0</td>\n",
              "    </tr>\n",
              "    <tr>\n",
              "      <th>4</th>\n",
              "      <td>2</td>\n",
              "      <td>1</td>\n",
              "      <td>0.010009</td>\n",
              "      <td>0.615388</td>\n",
              "      <td>3.746035e-01</td>\n",
              "      <td>0</td>\n",
              "      <td>1</td>\n",
              "      <td>0</td>\n",
              "    </tr>\n",
              "  </tbody>\n",
              "</table>\n",
              "</div>"
            ],
            "text/plain": [
              "   y_act  y_pred  y_pred_prob_0  ...  y_pred_0  y_pred_1  y_pred_2\n",
              "0      2       2       0.001043  ...         0         0         1\n",
              "1      1       1       0.034324  ...         0         1         0\n",
              "2      2       2       0.000009  ...         0         0         1\n",
              "3      0       0       0.961011  ...         1         0         0\n",
              "4      2       1       0.010009  ...         0         1         0\n",
              "\n",
              "[5 rows x 8 columns]"
            ]
          },
          "metadata": {},
          "execution_count": 28
        }
      ]
    },
    {
      "cell_type": "markdown",
      "metadata": {
        "id": "yqpCZuRzaveB"
      },
      "source": [
        "## Confusion Matrix"
      ]
    },
    {
      "cell_type": "code",
      "metadata": {
        "colab": {
          "base_uri": "https://localhost:8080/",
          "height": 206
        },
        "id": "EcV4bHBQZee3",
        "outputId": "aac56946-d220-46fc-aa7a-ec1ade3c9eff"
      },
      "source": [
        "cfm = pd.crosstab(test_result['y_act'], test_result['y_pred'], margins=True)\n",
        "cfm"
      ],
      "execution_count": 29,
      "outputs": [
        {
          "output_type": "execute_result",
          "data": {
            "text/html": [
              "<div>\n",
              "<style scoped>\n",
              "    .dataframe tbody tr th:only-of-type {\n",
              "        vertical-align: middle;\n",
              "    }\n",
              "\n",
              "    .dataframe tbody tr th {\n",
              "        vertical-align: top;\n",
              "    }\n",
              "\n",
              "    .dataframe thead th {\n",
              "        text-align: right;\n",
              "    }\n",
              "</style>\n",
              "<table border=\"1\" class=\"dataframe\">\n",
              "  <thead>\n",
              "    <tr style=\"text-align: right;\">\n",
              "      <th>y_pred</th>\n",
              "      <th>0</th>\n",
              "      <th>1</th>\n",
              "      <th>2</th>\n",
              "      <th>All</th>\n",
              "    </tr>\n",
              "    <tr>\n",
              "      <th>y_act</th>\n",
              "      <th></th>\n",
              "      <th></th>\n",
              "      <th></th>\n",
              "      <th></th>\n",
              "    </tr>\n",
              "  </thead>\n",
              "  <tbody>\n",
              "    <tr>\n",
              "      <th>0</th>\n",
              "      <td>17</td>\n",
              "      <td>0</td>\n",
              "      <td>0</td>\n",
              "      <td>17</td>\n",
              "    </tr>\n",
              "    <tr>\n",
              "      <th>1</th>\n",
              "      <td>0</td>\n",
              "      <td>11</td>\n",
              "      <td>1</td>\n",
              "      <td>12</td>\n",
              "    </tr>\n",
              "    <tr>\n",
              "      <th>2</th>\n",
              "      <td>0</td>\n",
              "      <td>2</td>\n",
              "      <td>14</td>\n",
              "      <td>16</td>\n",
              "    </tr>\n",
              "    <tr>\n",
              "      <th>All</th>\n",
              "      <td>17</td>\n",
              "      <td>13</td>\n",
              "      <td>15</td>\n",
              "      <td>45</td>\n",
              "    </tr>\n",
              "  </tbody>\n",
              "</table>\n",
              "</div>"
            ],
            "text/plain": [
              "y_pred   0   1   2  All\n",
              "y_act                  \n",
              "0       17   0   0   17\n",
              "1        0  11   1   12\n",
              "2        0   2  14   16\n",
              "All     17  13  15   45"
            ]
          },
          "metadata": {},
          "execution_count": 29
        }
      ]
    },
    {
      "cell_type": "code",
      "metadata": {
        "colab": {
          "base_uri": "https://localhost:8080/"
        },
        "id": "NMWg3aJ9ZwQo",
        "outputId": "eaace2b2-496e-40b3-928e-de62677bf135"
      },
      "source": [
        "acuracy = (cfm.loc[0,0] + cfm.loc[1,1] + cfm.loc[2,2]) / cfm.loc['All','All'] \n",
        "acuracy"
      ],
      "execution_count": 30,
      "outputs": [
        {
          "output_type": "execute_result",
          "data": {
            "text/plain": [
              "0.9333333333333333"
            ]
          },
          "metadata": {},
          "execution_count": 30
        }
      ]
    },
    {
      "cell_type": "code",
      "metadata": {
        "colab": {
          "base_uri": "https://localhost:8080/"
        },
        "id": "HZiSGXSMN8qM",
        "outputId": "0ae6acda-0445-43e3-80c2-3c140b761648"
      },
      "source": [
        "# Use Scikit-Learn function (lgr = Logistic Regression)\n",
        "acuracy_lgr = metrics.accuracy_score(test_result['y_act'], test_result['y_pred']) \n",
        "acuracy_lgr"
      ],
      "execution_count": 31,
      "outputs": [
        {
          "output_type": "execute_result",
          "data": {
            "text/plain": [
              "0.9333333333333333"
            ]
          },
          "metadata": {},
          "execution_count": 31
        }
      ]
    },
    {
      "cell_type": "code",
      "metadata": {
        "colab": {
          "base_uri": "https://localhost:8080/"
        },
        "id": "NSFWvQfSkMxq",
        "outputId": "ccfdb408-958a-407f-bc16-d8822b81e630"
      },
      "source": [
        "# https://scikit-learn.org/stable/modules/generated/sklearn.metrics.f1_score.html\n",
        "f1_score_lgr = metrics.f1_score(test_result['y_act'], test_result['y_pred'], average='weighted')  #weighted accounts for label imbalance.\n",
        "f1_score_lgr"
      ],
      "execution_count": 32,
      "outputs": [
        {
          "output_type": "execute_result",
          "data": {
            "text/plain": [
              "0.9335913978494623"
            ]
          },
          "metadata": {},
          "execution_count": 32
        }
      ]
    },
    {
      "cell_type": "markdown",
      "metadata": {
        "id": "FkwdY7ilvy9j"
      },
      "source": [
        "# Decision Tree Classifier\n",
        "* Use same training and testing datasets"
      ]
    },
    {
      "cell_type": "code",
      "metadata": {
        "id": "mI0z3cmCwHR6",
        "colab": {
          "base_uri": "https://localhost:8080/"
        },
        "outputId": "f38d4d3c-bd0f-4a96-8f51-9277dd1b99b7"
      },
      "source": [
        "# Create model object\n",
        "model = DecisionTreeClassifier(random_state=0, max_depth=10, min_samples_split=2)\n",
        "\n",
        "# Train Model\n",
        "model.fit(X_train, y_train)"
      ],
      "execution_count": 33,
      "outputs": [
        {
          "output_type": "execute_result",
          "data": {
            "text/plain": [
              "DecisionTreeClassifier(ccp_alpha=0.0, class_weight=None, criterion='gini',\n",
              "                       max_depth=10, max_features=None, max_leaf_nodes=None,\n",
              "                       min_impurity_decrease=0.0, min_impurity_split=None,\n",
              "                       min_samples_leaf=1, min_samples_split=2,\n",
              "                       min_weight_fraction_leaf=0.0, presort='deprecated',\n",
              "                       random_state=0, splitter='best')"
            ]
          },
          "metadata": {},
          "execution_count": 33
        }
      ]
    },
    {
      "cell_type": "markdown",
      "metadata": {
        "id": "fAVlyruCMgEs"
      },
      "source": [
        "## Visualize Decision Tree"
      ]
    },
    {
      "cell_type": "code",
      "metadata": {
        "colab": {
          "base_uri": "https://localhost:8080/",
          "height": 846
        },
        "id": "wH5knphkxQI6",
        "outputId": "aece4bf5-1386-4804-be86-1cf27bb50455"
      },
      "source": [
        "pfig = plt.figure(figsize=(15,15))\n",
        "tree.plot_tree(model, feature_names=X_variables, class_names=class_names, filled=True)\n",
        "plt.show()"
      ],
      "execution_count": 34,
      "outputs": [
        {
          "output_type": "display_data",
          "data": {
            "image/png": "[encoded data removed]",
            "text/plain": [
              "<Figure size 1080x1080 with 1 Axes>"
            ]
          },
          "metadata": {
            "needs_background": "light"
          }
        }
      ]
    },
    {
      "cell_type": "code",
      "metadata": {
        "id": "7FQmLHKswq-s",
        "colab": {
          "base_uri": "https://localhost:8080/",
          "height": 206
        },
        "outputId": "82010c77-b9cd-4343-9f6c-55e4b87a246e"
      },
      "source": [
        "# Predict on Testing Data\n",
        "\n",
        "# probabilities\n",
        "y_pred_prob_0 = model.predict_proba(X_test)[:, 0]\n",
        "y_pred_prob_1 = model.predict_proba(X_test)[:, 1]\n",
        "y_pred_prob_2 = model.predict_proba(X_test)[:, 2]\n",
        "\n",
        "# Prediction\n",
        "y_pred = model.predict(X_test)\n",
        "\n",
        "# Results table\n",
        "test_result = pd.DataFrame(data={'y_act':y_test, 'y_pred':y_pred, 'y_pred_prob_0':y_pred_prob_0 , 'y_pred_prob_1':y_pred_prob_1, 'y_pred_prob_2':y_pred_prob_2})\n",
        "dummy_column = pd.get_dummies(test_result['y_pred'], prefix='y_pred', drop_first=False, dummy_na=False)\n",
        "test_result = pd.concat([test_result, dummy_column], join='outer', axis=1)\n",
        "test_result.head()"
      ],
      "execution_count": 35,
      "outputs": [
        {
          "output_type": "execute_result",
          "data": {
            "text/html": [
              "<div>\n",
              "<style scoped>\n",
              "    .dataframe tbody tr th:only-of-type {\n",
              "        vertical-align: middle;\n",
              "    }\n",
              "\n",
              "    .dataframe tbody tr th {\n",
              "        vertical-align: top;\n",
              "    }\n",
              "\n",
              "    .dataframe thead th {\n",
              "        text-align: right;\n",
              "    }\n",
              "</style>\n",
              "<table border=\"1\" class=\"dataframe\">\n",
              "  <thead>\n",
              "    <tr style=\"text-align: right;\">\n",
              "      <th></th>\n",
              "      <th>y_act</th>\n",
              "      <th>y_pred</th>\n",
              "      <th>y_pred_prob_0</th>\n",
              "      <th>y_pred_prob_1</th>\n",
              "      <th>y_pred_prob_2</th>\n",
              "      <th>y_pred_0</th>\n",
              "      <th>y_pred_1</th>\n",
              "      <th>y_pred_2</th>\n",
              "    </tr>\n",
              "  </thead>\n",
              "  <tbody>\n",
              "    <tr>\n",
              "      <th>0</th>\n",
              "      <td>2</td>\n",
              "      <td>2</td>\n",
              "      <td>0.0</td>\n",
              "      <td>0.0</td>\n",
              "      <td>1.0</td>\n",
              "      <td>0</td>\n",
              "      <td>0</td>\n",
              "      <td>1</td>\n",
              "    </tr>\n",
              "    <tr>\n",
              "      <th>1</th>\n",
              "      <td>1</td>\n",
              "      <td>1</td>\n",
              "      <td>0.0</td>\n",
              "      <td>1.0</td>\n",
              "      <td>0.0</td>\n",
              "      <td>0</td>\n",
              "      <td>1</td>\n",
              "      <td>0</td>\n",
              "    </tr>\n",
              "    <tr>\n",
              "      <th>2</th>\n",
              "      <td>2</td>\n",
              "      <td>2</td>\n",
              "      <td>0.0</td>\n",
              "      <td>0.0</td>\n",
              "      <td>1.0</td>\n",
              "      <td>0</td>\n",
              "      <td>0</td>\n",
              "      <td>1</td>\n",
              "    </tr>\n",
              "    <tr>\n",
              "      <th>3</th>\n",
              "      <td>0</td>\n",
              "      <td>0</td>\n",
              "      <td>1.0</td>\n",
              "      <td>0.0</td>\n",
              "      <td>0.0</td>\n",
              "      <td>1</td>\n",
              "      <td>0</td>\n",
              "      <td>0</td>\n",
              "    </tr>\n",
              "    <tr>\n",
              "      <th>4</th>\n",
              "      <td>2</td>\n",
              "      <td>1</td>\n",
              "      <td>0.0</td>\n",
              "      <td>1.0</td>\n",
              "      <td>0.0</td>\n",
              "      <td>0</td>\n",
              "      <td>1</td>\n",
              "      <td>0</td>\n",
              "    </tr>\n",
              "  </tbody>\n",
              "</table>\n",
              "</div>"
            ],
            "text/plain": [
              "   y_act  y_pred  y_pred_prob_0  ...  y_pred_0  y_pred_1  y_pred_2\n",
              "0      2       2            0.0  ...         0         0         1\n",
              "1      1       1            0.0  ...         0         1         0\n",
              "2      2       2            0.0  ...         0         0         1\n",
              "3      0       0            1.0  ...         1         0         0\n",
              "4      2       1            0.0  ...         0         1         0\n",
              "\n",
              "[5 rows x 8 columns]"
            ]
          },
          "metadata": {},
          "execution_count": 35
        }
      ]
    },
    {
      "cell_type": "code",
      "metadata": {
        "colab": {
          "base_uri": "https://localhost:8080/",
          "height": 206
        },
        "id": "jiNDViwBwz2p",
        "outputId": "629f3b44-7d61-4a00-87a5-7b6c4818ea0d"
      },
      "source": [
        "cfm = pd.crosstab(test_result['y_act'], test_result['y_pred'], margins=True)\n",
        "cfm"
      ],
      "execution_count": 36,
      "outputs": [
        {
          "output_type": "execute_result",
          "data": {
            "text/html": [
              "<div>\n",
              "<style scoped>\n",
              "    .dataframe tbody tr th:only-of-type {\n",
              "        vertical-align: middle;\n",
              "    }\n",
              "\n",
              "    .dataframe tbody tr th {\n",
              "        vertical-align: top;\n",
              "    }\n",
              "\n",
              "    .dataframe thead th {\n",
              "        text-align: right;\n",
              "    }\n",
              "</style>\n",
              "<table border=\"1\" class=\"dataframe\">\n",
              "  <thead>\n",
              "    <tr style=\"text-align: right;\">\n",
              "      <th>y_pred</th>\n",
              "      <th>0</th>\n",
              "      <th>1</th>\n",
              "      <th>2</th>\n",
              "      <th>All</th>\n",
              "    </tr>\n",
              "    <tr>\n",
              "      <th>y_act</th>\n",
              "      <th></th>\n",
              "      <th></th>\n",
              "      <th></th>\n",
              "      <th></th>\n",
              "    </tr>\n",
              "  </thead>\n",
              "  <tbody>\n",
              "    <tr>\n",
              "      <th>0</th>\n",
              "      <td>17</td>\n",
              "      <td>0</td>\n",
              "      <td>0</td>\n",
              "      <td>17</td>\n",
              "    </tr>\n",
              "    <tr>\n",
              "      <th>1</th>\n",
              "      <td>0</td>\n",
              "      <td>11</td>\n",
              "      <td>1</td>\n",
              "      <td>12</td>\n",
              "    </tr>\n",
              "    <tr>\n",
              "      <th>2</th>\n",
              "      <td>0</td>\n",
              "      <td>2</td>\n",
              "      <td>14</td>\n",
              "      <td>16</td>\n",
              "    </tr>\n",
              "    <tr>\n",
              "      <th>All</th>\n",
              "      <td>17</td>\n",
              "      <td>13</td>\n",
              "      <td>15</td>\n",
              "      <td>45</td>\n",
              "    </tr>\n",
              "  </tbody>\n",
              "</table>\n",
              "</div>"
            ],
            "text/plain": [
              "y_pred   0   1   2  All\n",
              "y_act                  \n",
              "0       17   0   0   17\n",
              "1        0  11   1   12\n",
              "2        0   2  14   16\n",
              "All     17  13  15   45"
            ]
          },
          "metadata": {},
          "execution_count": 36
        }
      ]
    },
    {
      "cell_type": "code",
      "metadata": {
        "colab": {
          "base_uri": "https://localhost:8080/"
        },
        "id": "uPhLpRLAw7dq",
        "outputId": "ca23c0d3-8c1b-41e0-b716-d3b0b095a6b1"
      },
      "source": [
        "# tc = Tree classifer\n",
        "acuracy_tc = metrics.accuracy_score(test_result['y_act'], test_result['y_pred']) \n",
        "acuracy_tc"
      ],
      "execution_count": 37,
      "outputs": [
        {
          "output_type": "execute_result",
          "data": {
            "text/plain": [
              "0.9333333333333333"
            ]
          },
          "metadata": {},
          "execution_count": 37
        }
      ]
    },
    {
      "cell_type": "code",
      "metadata": {
        "colab": {
          "base_uri": "https://localhost:8080/"
        },
        "id": "bzocTG9dkI2J",
        "outputId": "fe5bdd0b-4465-4fce-9028-680c13d2555e"
      },
      "source": [
        "f1_score_tc = metrics.f1_score(test_result['y_act'], test_result['y_pred'], average='weighted')  #weighted accounts for label imbalance.\n",
        "f1_score_tc"
      ],
      "execution_count": 38,
      "outputs": [
        {
          "output_type": "execute_result",
          "data": {
            "text/plain": [
              "0.9335913978494623"
            ]
          },
          "metadata": {},
          "execution_count": 38
        }
      ]
    },
    {
      "cell_type": "markdown",
      "metadata": {
        "id": "-rBgm1x1PHQC"
      },
      "source": [
        "# Random Forest Classifier"
      ]
    },
    {
      "cell_type": "code",
      "metadata": {
        "colab": {
          "base_uri": "https://localhost:8080/"
        },
        "id": "6mftQBMZPMua",
        "outputId": "9924501a-5265-41c7-d1e0-3cbc48bd08d0"
      },
      "source": [
        "# Create model object\n",
        "model = RandomForestClassifier(random_state=0, max_depth=10, min_samples_split=2)\n",
        "\n",
        "# Train Model\n",
        "model.fit(X_train, y_train)"
      ],
      "execution_count": 39,
      "outputs": [
        {
          "output_type": "execute_result",
          "data": {
            "text/plain": [
              "RandomForestClassifier(bootstrap=True, ccp_alpha=0.0, class_weight=None,\n",
              "                       criterion='gini', max_depth=10, max_features='auto',\n",
              "                       max_leaf_nodes=None, max_samples=None,\n",
              "                       min_impurity_decrease=0.0, min_impurity_split=None,\n",
              "                       min_samples_leaf=1, min_samples_split=2,\n",
              "                       min_weight_fraction_leaf=0.0, n_estimators=100,\n",
              "                       n_jobs=None, oob_score=False, random_state=0, verbose=0,\n",
              "                       warm_start=False)"
            ]
          },
          "metadata": {},
          "execution_count": 39
        }
      ]
    },
    {
      "cell_type": "code",
      "metadata": {
        "colab": {
          "base_uri": "https://localhost:8080/",
          "height": 206
        },
        "id": "MX-aywjjPc9Q",
        "outputId": "ab471209-c2c7-4972-ef4f-9f47db137e1c"
      },
      "source": [
        "# Predict on Testing Data\n",
        "\n",
        "# probabilities\n",
        "y_pred_prob_0 = model.predict_proba(X_test)[:, 0]\n",
        "y_pred_prob_1 = model.predict_proba(X_test)[:, 1]\n",
        "y_pred_prob_2 = model.predict_proba(X_test)[:, 2]\n",
        "\n",
        "# Prediction\n",
        "y_pred = model.predict(X_test)\n",
        "\n",
        "# Results table\n",
        "test_result = pd.DataFrame(data={'y_act':y_test, 'y_pred':y_pred, 'y_pred_prob_0':y_pred_prob_0 , 'y_pred_prob_1':y_pred_prob_1, 'y_pred_prob_2':y_pred_prob_2})\n",
        "dummy_column = pd.get_dummies(test_result['y_pred'], prefix='y_pred', drop_first=False, dummy_na=False)\n",
        "test_result = pd.concat([test_result, dummy_column], join='outer', axis=1)\n",
        "test_result.head()"
      ],
      "execution_count": 40,
      "outputs": [
        {
          "output_type": "execute_result",
          "data": {
            "text/html": [
              "<div>\n",
              "<style scoped>\n",
              "    .dataframe tbody tr th:only-of-type {\n",
              "        vertical-align: middle;\n",
              "    }\n",
              "\n",
              "    .dataframe tbody tr th {\n",
              "        vertical-align: top;\n",
              "    }\n",
              "\n",
              "    .dataframe thead th {\n",
              "        text-align: right;\n",
              "    }\n",
              "</style>\n",
              "<table border=\"1\" class=\"dataframe\">\n",
              "  <thead>\n",
              "    <tr style=\"text-align: right;\">\n",
              "      <th></th>\n",
              "      <th>y_act</th>\n",
              "      <th>y_pred</th>\n",
              "      <th>y_pred_prob_0</th>\n",
              "      <th>y_pred_prob_1</th>\n",
              "      <th>y_pred_prob_2</th>\n",
              "      <th>y_pred_0</th>\n",
              "      <th>y_pred_1</th>\n",
              "      <th>y_pred_2</th>\n",
              "    </tr>\n",
              "  </thead>\n",
              "  <tbody>\n",
              "    <tr>\n",
              "      <th>0</th>\n",
              "      <td>2</td>\n",
              "      <td>2</td>\n",
              "      <td>0.00</td>\n",
              "      <td>0.23</td>\n",
              "      <td>0.77</td>\n",
              "      <td>0</td>\n",
              "      <td>0</td>\n",
              "      <td>1</td>\n",
              "    </tr>\n",
              "    <tr>\n",
              "      <th>1</th>\n",
              "      <td>1</td>\n",
              "      <td>1</td>\n",
              "      <td>0.00</td>\n",
              "      <td>1.00</td>\n",
              "      <td>0.00</td>\n",
              "      <td>0</td>\n",
              "      <td>1</td>\n",
              "      <td>0</td>\n",
              "    </tr>\n",
              "    <tr>\n",
              "      <th>2</th>\n",
              "      <td>2</td>\n",
              "      <td>2</td>\n",
              "      <td>0.00</td>\n",
              "      <td>0.00</td>\n",
              "      <td>1.00</td>\n",
              "      <td>0</td>\n",
              "      <td>0</td>\n",
              "      <td>1</td>\n",
              "    </tr>\n",
              "    <tr>\n",
              "      <th>3</th>\n",
              "      <td>0</td>\n",
              "      <td>0</td>\n",
              "      <td>1.00</td>\n",
              "      <td>0.00</td>\n",
              "      <td>0.00</td>\n",
              "      <td>1</td>\n",
              "      <td>0</td>\n",
              "      <td>0</td>\n",
              "    </tr>\n",
              "    <tr>\n",
              "      <th>4</th>\n",
              "      <td>2</td>\n",
              "      <td>1</td>\n",
              "      <td>0.09</td>\n",
              "      <td>0.87</td>\n",
              "      <td>0.04</td>\n",
              "      <td>0</td>\n",
              "      <td>1</td>\n",
              "      <td>0</td>\n",
              "    </tr>\n",
              "  </tbody>\n",
              "</table>\n",
              "</div>"
            ],
            "text/plain": [
              "   y_act  y_pred  y_pred_prob_0  ...  y_pred_0  y_pred_1  y_pred_2\n",
              "0      2       2           0.00  ...         0         0         1\n",
              "1      1       1           0.00  ...         0         1         0\n",
              "2      2       2           0.00  ...         0         0         1\n",
              "3      0       0           1.00  ...         1         0         0\n",
              "4      2       1           0.09  ...         0         1         0\n",
              "\n",
              "[5 rows x 8 columns]"
            ]
          },
          "metadata": {},
          "execution_count": 40
        }
      ]
    },
    {
      "cell_type": "code",
      "metadata": {
        "colab": {
          "base_uri": "https://localhost:8080/",
          "height": 206
        },
        "id": "qpruV68pPgEx",
        "outputId": "8fe24673-f7d8-422e-f2ac-fb50ea25bced"
      },
      "source": [
        "cfm = pd.crosstab(test_result['y_act'], test_result['y_pred'], margins=True)\n",
        "cfm"
      ],
      "execution_count": 41,
      "outputs": [
        {
          "output_type": "execute_result",
          "data": {
            "text/html": [
              "<div>\n",
              "<style scoped>\n",
              "    .dataframe tbody tr th:only-of-type {\n",
              "        vertical-align: middle;\n",
              "    }\n",
              "\n",
              "    .dataframe tbody tr th {\n",
              "        vertical-align: top;\n",
              "    }\n",
              "\n",
              "    .dataframe thead th {\n",
              "        text-align: right;\n",
              "    }\n",
              "</style>\n",
              "<table border=\"1\" class=\"dataframe\">\n",
              "  <thead>\n",
              "    <tr style=\"text-align: right;\">\n",
              "      <th>y_pred</th>\n",
              "      <th>0</th>\n",
              "      <th>1</th>\n",
              "      <th>2</th>\n",
              "      <th>All</th>\n",
              "    </tr>\n",
              "    <tr>\n",
              "      <th>y_act</th>\n",
              "      <th></th>\n",
              "      <th></th>\n",
              "      <th></th>\n",
              "      <th></th>\n",
              "    </tr>\n",
              "  </thead>\n",
              "  <tbody>\n",
              "    <tr>\n",
              "      <th>0</th>\n",
              "      <td>17</td>\n",
              "      <td>0</td>\n",
              "      <td>0</td>\n",
              "      <td>17</td>\n",
              "    </tr>\n",
              "    <tr>\n",
              "      <th>1</th>\n",
              "      <td>0</td>\n",
              "      <td>11</td>\n",
              "      <td>1</td>\n",
              "      <td>12</td>\n",
              "    </tr>\n",
              "    <tr>\n",
              "      <th>2</th>\n",
              "      <td>0</td>\n",
              "      <td>1</td>\n",
              "      <td>15</td>\n",
              "      <td>16</td>\n",
              "    </tr>\n",
              "    <tr>\n",
              "      <th>All</th>\n",
              "      <td>17</td>\n",
              "      <td>12</td>\n",
              "      <td>16</td>\n",
              "      <td>45</td>\n",
              "    </tr>\n",
              "  </tbody>\n",
              "</table>\n",
              "</div>"
            ],
            "text/plain": [
              "y_pred   0   1   2  All\n",
              "y_act                  \n",
              "0       17   0   0   17\n",
              "1        0  11   1   12\n",
              "2        0   1  15   16\n",
              "All     17  12  16   45"
            ]
          },
          "metadata": {},
          "execution_count": 41
        }
      ]
    },
    {
      "cell_type": "code",
      "metadata": {
        "colab": {
          "base_uri": "https://localhost:8080/"
        },
        "id": "JJ01RUFlPhT7",
        "outputId": "5f3241ea-d184-429f-d1e2-256cee038cf9"
      },
      "source": [
        "# rf = Random Forest classifer\n",
        "acuracy_rf = metrics.accuracy_score(test_result['y_act'], test_result['y_pred']) \n",
        "acuracy_rf"
      ],
      "execution_count": 42,
      "outputs": [
        {
          "output_type": "execute_result",
          "data": {
            "text/plain": [
              "0.9555555555555556"
            ]
          },
          "metadata": {},
          "execution_count": 42
        }
      ]
    },
    {
      "cell_type": "code",
      "metadata": {
        "colab": {
          "base_uri": "https://localhost:8080/"
        },
        "id": "66J5gTqbPoJ2",
        "outputId": "5dbc2e2e-077f-43c1-dc34-bfa01c604ffb"
      },
      "source": [
        "# https://scikit-learn.org/stable/modules/generated/sklearn.metrics.f1_score.html\n",
        "f1_score_rf = metrics.f1_score(test_result['y_act'], test_result['y_pred'], average='weighted')  #weighted accounts for label imbalance.\n",
        "f1_score_rf"
      ],
      "execution_count": 43,
      "outputs": [
        {
          "output_type": "execute_result",
          "data": {
            "text/plain": [
              "0.9555555555555556"
            ]
          },
          "metadata": {},
          "execution_count": 43
        }
      ]
    },
    {
      "cell_type": "markdown",
      "metadata": {
        "id": "7sru59Ffkc4c"
      },
      "source": [
        "# Support Vector Machines\n",
        "* https://en.wikipedia.org/wiki/Support-vector_machine\n",
        "* https://scikit-learn.org/stable/modules/svm.html"
      ]
    },
    {
      "cell_type": "code",
      "metadata": {
        "colab": {
          "base_uri": "https://localhost:8080/"
        },
        "id": "T6jcbkyzkUPb",
        "outputId": "777ae03c-76aa-4c23-bb52-3e3c67890ce6"
      },
      "source": [
        "# Create model object\n",
        "model = svm.SVC(kernel='linear', C=1.0, probability=True)\n",
        "\n",
        "# Train Model\n",
        "model.fit(X_train, y_train)"
      ],
      "execution_count": 44,
      "outputs": [
        {
          "output_type": "execute_result",
          "data": {
            "text/plain": [
              "SVC(C=1.0, break_ties=False, cache_size=200, class_weight=None, coef0=0.0,\n",
              "    decision_function_shape='ovr', degree=3, gamma='scale', kernel='linear',\n",
              "    max_iter=-1, probability=True, random_state=None, shrinking=True, tol=0.001,\n",
              "    verbose=False)"
            ]
          },
          "metadata": {},
          "execution_count": 44
        }
      ]
    },
    {
      "cell_type": "code",
      "metadata": {
        "colab": {
          "base_uri": "https://localhost:8080/",
          "height": 206
        },
        "id": "LZcE37dEkUWU",
        "outputId": "1e9b37a8-7bd2-41a9-c7c7-3617967884de"
      },
      "source": [
        "# Predict on Testing Data\n",
        "\n",
        "# probabilities\n",
        "y_pred_prob_0 = model.predict_proba(X_test)[:, 0]\n",
        "y_pred_prob_1 = model.predict_proba(X_test)[:, 1]\n",
        "y_pred_prob_2 = model.predict_proba(X_test)[:, 2]\n",
        "\n",
        "# Prediction\n",
        "y_pred = model.predict(X_test)\n",
        "\n",
        "# Results table\n",
        "test_result = pd.DataFrame(data={'y_act':y_test, 'y_pred':y_pred, 'y_pred_prob_0':y_pred_prob_0 , 'y_pred_prob_1':y_pred_prob_1, 'y_pred_prob_2':y_pred_prob_2})\n",
        "dummy_column = pd.get_dummies(test_result['y_pred'], prefix='y_pred', drop_first=False, dummy_na=False)\n",
        "test_result = pd.concat([test_result, dummy_column], join='outer', axis=1)\n",
        "test_result.head()"
      ],
      "execution_count": 45,
      "outputs": [
        {
          "output_type": "execute_result",
          "data": {
            "text/html": [
              "<div>\n",
              "<style scoped>\n",
              "    .dataframe tbody tr th:only-of-type {\n",
              "        vertical-align: middle;\n",
              "    }\n",
              "\n",
              "    .dataframe tbody tr th {\n",
              "        vertical-align: top;\n",
              "    }\n",
              "\n",
              "    .dataframe thead th {\n",
              "        text-align: right;\n",
              "    }\n",
              "</style>\n",
              "<table border=\"1\" class=\"dataframe\">\n",
              "  <thead>\n",
              "    <tr style=\"text-align: right;\">\n",
              "      <th></th>\n",
              "      <th>y_act</th>\n",
              "      <th>y_pred</th>\n",
              "      <th>y_pred_prob_0</th>\n",
              "      <th>y_pred_prob_1</th>\n",
              "      <th>y_pred_prob_2</th>\n",
              "      <th>y_pred_0</th>\n",
              "      <th>y_pred_1</th>\n",
              "      <th>y_pred_2</th>\n",
              "    </tr>\n",
              "  </thead>\n",
              "  <tbody>\n",
              "    <tr>\n",
              "      <th>0</th>\n",
              "      <td>2</td>\n",
              "      <td>2</td>\n",
              "      <td>0.023445</td>\n",
              "      <td>0.345557</td>\n",
              "      <td>0.630999</td>\n",
              "      <td>0</td>\n",
              "      <td>0</td>\n",
              "      <td>1</td>\n",
              "    </tr>\n",
              "    <tr>\n",
              "      <th>1</th>\n",
              "      <td>1</td>\n",
              "      <td>1</td>\n",
              "      <td>0.020838</td>\n",
              "      <td>0.964854</td>\n",
              "      <td>0.014308</td>\n",
              "      <td>0</td>\n",
              "      <td>1</td>\n",
              "      <td>0</td>\n",
              "    </tr>\n",
              "    <tr>\n",
              "      <th>2</th>\n",
              "      <td>2</td>\n",
              "      <td>2</td>\n",
              "      <td>0.008486</td>\n",
              "      <td>0.006029</td>\n",
              "      <td>0.985485</td>\n",
              "      <td>0</td>\n",
              "      <td>0</td>\n",
              "      <td>1</td>\n",
              "    </tr>\n",
              "    <tr>\n",
              "      <th>3</th>\n",
              "      <td>0</td>\n",
              "      <td>0</td>\n",
              "      <td>0.939943</td>\n",
              "      <td>0.042819</td>\n",
              "      <td>0.017238</td>\n",
              "      <td>1</td>\n",
              "      <td>0</td>\n",
              "      <td>0</td>\n",
              "    </tr>\n",
              "    <tr>\n",
              "      <th>4</th>\n",
              "      <td>2</td>\n",
              "      <td>2</td>\n",
              "      <td>0.046837</td>\n",
              "      <td>0.425231</td>\n",
              "      <td>0.527931</td>\n",
              "      <td>0</td>\n",
              "      <td>0</td>\n",
              "      <td>1</td>\n",
              "    </tr>\n",
              "  </tbody>\n",
              "</table>\n",
              "</div>"
            ],
            "text/plain": [
              "   y_act  y_pred  y_pred_prob_0  ...  y_pred_0  y_pred_1  y_pred_2\n",
              "0      2       2       0.023445  ...         0         0         1\n",
              "1      1       1       0.020838  ...         0         1         0\n",
              "2      2       2       0.008486  ...         0         0         1\n",
              "3      0       0       0.939943  ...         1         0         0\n",
              "4      2       2       0.046837  ...         0         0         1\n",
              "\n",
              "[5 rows x 8 columns]"
            ]
          },
          "metadata": {},
          "execution_count": 45
        }
      ]
    },
    {
      "cell_type": "code",
      "metadata": {
        "colab": {
          "base_uri": "https://localhost:8080/",
          "height": 206
        },
        "id": "F8pz2GAEkUgY",
        "outputId": "fb351b6c-4d0e-4a68-897b-0d0a2249b646"
      },
      "source": [
        "cfm = pd.crosstab(test_result['y_act'], test_result['y_pred'], margins=True)\n",
        "cfm"
      ],
      "execution_count": 46,
      "outputs": [
        {
          "output_type": "execute_result",
          "data": {
            "text/html": [
              "<div>\n",
              "<style scoped>\n",
              "    .dataframe tbody tr th:only-of-type {\n",
              "        vertical-align: middle;\n",
              "    }\n",
              "\n",
              "    .dataframe tbody tr th {\n",
              "        vertical-align: top;\n",
              "    }\n",
              "\n",
              "    .dataframe thead th {\n",
              "        text-align: right;\n",
              "    }\n",
              "</style>\n",
              "<table border=\"1\" class=\"dataframe\">\n",
              "  <thead>\n",
              "    <tr style=\"text-align: right;\">\n",
              "      <th>y_pred</th>\n",
              "      <th>0</th>\n",
              "      <th>1</th>\n",
              "      <th>2</th>\n",
              "      <th>All</th>\n",
              "    </tr>\n",
              "    <tr>\n",
              "      <th>y_act</th>\n",
              "      <th></th>\n",
              "      <th></th>\n",
              "      <th></th>\n",
              "      <th></th>\n",
              "    </tr>\n",
              "  </thead>\n",
              "  <tbody>\n",
              "    <tr>\n",
              "      <th>0</th>\n",
              "      <td>17</td>\n",
              "      <td>0</td>\n",
              "      <td>0</td>\n",
              "      <td>17</td>\n",
              "    </tr>\n",
              "    <tr>\n",
              "      <th>1</th>\n",
              "      <td>0</td>\n",
              "      <td>11</td>\n",
              "      <td>1</td>\n",
              "      <td>12</td>\n",
              "    </tr>\n",
              "    <tr>\n",
              "      <th>2</th>\n",
              "      <td>0</td>\n",
              "      <td>1</td>\n",
              "      <td>15</td>\n",
              "      <td>16</td>\n",
              "    </tr>\n",
              "    <tr>\n",
              "      <th>All</th>\n",
              "      <td>17</td>\n",
              "      <td>12</td>\n",
              "      <td>16</td>\n",
              "      <td>45</td>\n",
              "    </tr>\n",
              "  </tbody>\n",
              "</table>\n",
              "</div>"
            ],
            "text/plain": [
              "y_pred   0   1   2  All\n",
              "y_act                  \n",
              "0       17   0   0   17\n",
              "1        0  11   1   12\n",
              "2        0   1  15   16\n",
              "All     17  12  16   45"
            ]
          },
          "metadata": {},
          "execution_count": 46
        }
      ]
    },
    {
      "cell_type": "code",
      "metadata": {
        "colab": {
          "base_uri": "https://localhost:8080/"
        },
        "id": "seXXCfs-lFEC",
        "outputId": "2d1241e8-325a-467e-f84b-788174400ad3"
      },
      "source": [
        "acuracy_svm = metrics.accuracy_score(test_result['y_act'], test_result['y_pred']) \n",
        "acuracy_svm"
      ],
      "execution_count": 47,
      "outputs": [
        {
          "output_type": "execute_result",
          "data": {
            "text/plain": [
              "0.9555555555555556"
            ]
          },
          "metadata": {},
          "execution_count": 47
        }
      ]
    },
    {
      "cell_type": "code",
      "metadata": {
        "colab": {
          "base_uri": "https://localhost:8080/"
        },
        "id": "cM_p7ogGlFHn",
        "outputId": "f59a7d62-1e5f-49a6-e510-81ad14858ccc"
      },
      "source": [
        "f1_score_svm = metrics.f1_score(test_result['y_act'], test_result['y_pred'], average='weighted')  #weighted accounts for label imbalance.\n",
        "f1_score_svm"
      ],
      "execution_count": 48,
      "outputs": [
        {
          "output_type": "execute_result",
          "data": {
            "text/plain": [
              "0.9555555555555556"
            ]
          },
          "metadata": {},
          "execution_count": 48
        }
      ]
    },
    {
      "cell_type": "markdown",
      "metadata": {
        "id": "9XRDQza4mJGT"
      },
      "source": [
        "# K-Neighbors Classifier\n",
        "* https://scikit-learn.org/stable/modules/generated/sklearn.neighbors.KNeighborsClassifier.html\n"
      ]
    },
    {
      "cell_type": "code",
      "metadata": {
        "colab": {
          "base_uri": "https://localhost:8080/"
        },
        "id": "qFm6bDSymISs",
        "outputId": "a1342cfc-5ff5-4640-8a3c-9fbeedd7c494"
      },
      "source": [
        "# Create model object\n",
        "model = KNeighborsClassifier(n_neighbors=5)\n",
        "\n",
        "# Train Model\n",
        "model.fit(X_train, y_train)"
      ],
      "execution_count": 49,
      "outputs": [
        {
          "output_type": "execute_result",
          "data": {
            "text/plain": [
              "KNeighborsClassifier(algorithm='auto', leaf_size=30, metric='minkowski',\n",
              "                     metric_params=None, n_jobs=None, n_neighbors=5, p=2,\n",
              "                     weights='uniform')"
            ]
          },
          "metadata": {},
          "execution_count": 49
        }
      ]
    },
    {
      "cell_type": "code",
      "metadata": {
        "colab": {
          "base_uri": "https://localhost:8080/",
          "height": 206
        },
        "id": "Itn59W2NmIWl",
        "outputId": "b3d2b6d2-a92f-41b1-9556-3deacf0c20fd"
      },
      "source": [
        "# Predict on Testing Data\n",
        "\n",
        "# probabilities\n",
        "y_pred_prob_0 = model.predict_proba(X_test)[:, 0]\n",
        "y_pred_prob_1 = model.predict_proba(X_test)[:, 1]\n",
        "y_pred_prob_2 = model.predict_proba(X_test)[:, 2]\n",
        "\n",
        "# Prediction\n",
        "y_pred = model.predict(X_test)\n",
        "\n",
        "# Results table\n",
        "test_result = pd.DataFrame(data={'y_act':y_test, 'y_pred':y_pred, 'y_pred_prob_0':y_pred_prob_0 , 'y_pred_prob_1':y_pred_prob_1, 'y_pred_prob_2':y_pred_prob_2})\n",
        "dummy_column = pd.get_dummies(test_result['y_pred'], prefix='y_pred', drop_first=False, dummy_na=False)\n",
        "test_result = pd.concat([test_result, dummy_column], join='outer', axis=1)\n",
        "test_result.head()"
      ],
      "execution_count": 50,
      "outputs": [
        {
          "output_type": "execute_result",
          "data": {
            "text/html": [
              "<div>\n",
              "<style scoped>\n",
              "    .dataframe tbody tr th:only-of-type {\n",
              "        vertical-align: middle;\n",
              "    }\n",
              "\n",
              "    .dataframe tbody tr th {\n",
              "        vertical-align: top;\n",
              "    }\n",
              "\n",
              "    .dataframe thead th {\n",
              "        text-align: right;\n",
              "    }\n",
              "</style>\n",
              "<table border=\"1\" class=\"dataframe\">\n",
              "  <thead>\n",
              "    <tr style=\"text-align: right;\">\n",
              "      <th></th>\n",
              "      <th>y_act</th>\n",
              "      <th>y_pred</th>\n",
              "      <th>y_pred_prob_0</th>\n",
              "      <th>y_pred_prob_1</th>\n",
              "      <th>y_pred_prob_2</th>\n",
              "      <th>y_pred_0</th>\n",
              "      <th>y_pred_1</th>\n",
              "      <th>y_pred_2</th>\n",
              "    </tr>\n",
              "  </thead>\n",
              "  <tbody>\n",
              "    <tr>\n",
              "      <th>0</th>\n",
              "      <td>2</td>\n",
              "      <td>2</td>\n",
              "      <td>0.0</td>\n",
              "      <td>0.2</td>\n",
              "      <td>0.8</td>\n",
              "      <td>0</td>\n",
              "      <td>0</td>\n",
              "      <td>1</td>\n",
              "    </tr>\n",
              "    <tr>\n",
              "      <th>1</th>\n",
              "      <td>1</td>\n",
              "      <td>1</td>\n",
              "      <td>0.0</td>\n",
              "      <td>1.0</td>\n",
              "      <td>0.0</td>\n",
              "      <td>0</td>\n",
              "      <td>1</td>\n",
              "      <td>0</td>\n",
              "    </tr>\n",
              "    <tr>\n",
              "      <th>2</th>\n",
              "      <td>2</td>\n",
              "      <td>2</td>\n",
              "      <td>0.0</td>\n",
              "      <td>0.0</td>\n",
              "      <td>1.0</td>\n",
              "      <td>0</td>\n",
              "      <td>0</td>\n",
              "      <td>1</td>\n",
              "    </tr>\n",
              "    <tr>\n",
              "      <th>3</th>\n",
              "      <td>0</td>\n",
              "      <td>0</td>\n",
              "      <td>1.0</td>\n",
              "      <td>0.0</td>\n",
              "      <td>0.0</td>\n",
              "      <td>1</td>\n",
              "      <td>0</td>\n",
              "      <td>0</td>\n",
              "    </tr>\n",
              "    <tr>\n",
              "      <th>4</th>\n",
              "      <td>2</td>\n",
              "      <td>1</td>\n",
              "      <td>0.0</td>\n",
              "      <td>1.0</td>\n",
              "      <td>0.0</td>\n",
              "      <td>0</td>\n",
              "      <td>1</td>\n",
              "      <td>0</td>\n",
              "    </tr>\n",
              "  </tbody>\n",
              "</table>\n",
              "</div>"
            ],
            "text/plain": [
              "   y_act  y_pred  y_pred_prob_0  ...  y_pred_0  y_pred_1  y_pred_2\n",
              "0      2       2            0.0  ...         0         0         1\n",
              "1      1       1            0.0  ...         0         1         0\n",
              "2      2       2            0.0  ...         0         0         1\n",
              "3      0       0            1.0  ...         1         0         0\n",
              "4      2       1            0.0  ...         0         1         0\n",
              "\n",
              "[5 rows x 8 columns]"
            ]
          },
          "metadata": {},
          "execution_count": 50
        }
      ]
    },
    {
      "cell_type": "code",
      "metadata": {
        "colab": {
          "base_uri": "https://localhost:8080/",
          "height": 206
        },
        "id": "l3fUmeJ8noZe",
        "outputId": "7f9f864c-32bc-4f20-e2b8-f1b275128ec1"
      },
      "source": [
        "cfm = pd.crosstab(test_result['y_act'], test_result['y_pred'], margins=True)\n",
        "cfm"
      ],
      "execution_count": 51,
      "outputs": [
        {
          "output_type": "execute_result",
          "data": {
            "text/html": [
              "<div>\n",
              "<style scoped>\n",
              "    .dataframe tbody tr th:only-of-type {\n",
              "        vertical-align: middle;\n",
              "    }\n",
              "\n",
              "    .dataframe tbody tr th {\n",
              "        vertical-align: top;\n",
              "    }\n",
              "\n",
              "    .dataframe thead th {\n",
              "        text-align: right;\n",
              "    }\n",
              "</style>\n",
              "<table border=\"1\" class=\"dataframe\">\n",
              "  <thead>\n",
              "    <tr style=\"text-align: right;\">\n",
              "      <th>y_pred</th>\n",
              "      <th>0</th>\n",
              "      <th>1</th>\n",
              "      <th>2</th>\n",
              "      <th>All</th>\n",
              "    </tr>\n",
              "    <tr>\n",
              "      <th>y_act</th>\n",
              "      <th></th>\n",
              "      <th></th>\n",
              "      <th></th>\n",
              "      <th></th>\n",
              "    </tr>\n",
              "  </thead>\n",
              "  <tbody>\n",
              "    <tr>\n",
              "      <th>0</th>\n",
              "      <td>17</td>\n",
              "      <td>0</td>\n",
              "      <td>0</td>\n",
              "      <td>17</td>\n",
              "    </tr>\n",
              "    <tr>\n",
              "      <th>1</th>\n",
              "      <td>0</td>\n",
              "      <td>11</td>\n",
              "      <td>1</td>\n",
              "      <td>12</td>\n",
              "    </tr>\n",
              "    <tr>\n",
              "      <th>2</th>\n",
              "      <td>0</td>\n",
              "      <td>2</td>\n",
              "      <td>14</td>\n",
              "      <td>16</td>\n",
              "    </tr>\n",
              "    <tr>\n",
              "      <th>All</th>\n",
              "      <td>17</td>\n",
              "      <td>13</td>\n",
              "      <td>15</td>\n",
              "      <td>45</td>\n",
              "    </tr>\n",
              "  </tbody>\n",
              "</table>\n",
              "</div>"
            ],
            "text/plain": [
              "y_pred   0   1   2  All\n",
              "y_act                  \n",
              "0       17   0   0   17\n",
              "1        0  11   1   12\n",
              "2        0   2  14   16\n",
              "All     17  13  15   45"
            ]
          },
          "metadata": {},
          "execution_count": 51
        }
      ]
    },
    {
      "cell_type": "code",
      "metadata": {
        "colab": {
          "base_uri": "https://localhost:8080/"
        },
        "id": "-dpl6__6mIcX",
        "outputId": "8e450cb8-60d2-4db5-b183-050c28a24528"
      },
      "source": [
        "acuracy_knn = metrics.accuracy_score(test_result['y_act'], test_result['y_pred']) \n",
        "acuracy_knn"
      ],
      "execution_count": 52,
      "outputs": [
        {
          "output_type": "execute_result",
          "data": {
            "text/plain": [
              "0.9333333333333333"
            ]
          },
          "metadata": {},
          "execution_count": 52
        }
      ]
    },
    {
      "cell_type": "code",
      "metadata": {
        "colab": {
          "base_uri": "https://localhost:8080/"
        },
        "id": "66uACQXvn1Uj",
        "outputId": "acbb9a72-6c04-46b7-9fc6-72f8b433c486"
      },
      "source": [
        "f1_score_knn = metrics.f1_score(test_result['y_act'], test_result['y_pred'], average='weighted')  #weighted accounts for label imbalance.\n",
        "f1_score_knn"
      ],
      "execution_count": 53,
      "outputs": [
        {
          "output_type": "execute_result",
          "data": {
            "text/plain": [
              "0.9335913978494623"
            ]
          },
          "metadata": {},
          "execution_count": 53
        }
      ]
    },
    {
      "cell_type": "markdown",
      "metadata": {
        "id": "P4maK3xLdV8j"
      },
      "source": [
        "<hr>\n",
        "Last update 2021-10-16 by Sumudu Tennakoon"
      ]
    }
  ]
}