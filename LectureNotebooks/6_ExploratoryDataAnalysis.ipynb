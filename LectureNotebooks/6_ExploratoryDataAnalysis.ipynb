{
  "nbformat": 4,
  "nbformat_minor": 0,
  "metadata": {
    "colab": {
      "name": "6-ExploratoryDataAnalysis .ipynb",
      "provenance": [],
      "collapsed_sections": [],
      "toc_visible": true
    },
    "kernelspec": {
      "name": "python3",
      "display_name": "Python 3"
    },
    "language_info": {
      "name": "python"
    }
  },
  "cells": [
    {
      "cell_type": "markdown",
      "metadata": {
        "id": "6FVDc6lE-sLa"
      },
      "source": [
        "# Exploratory Data Analysis and Feature Engineering\n",
        "Sumudu Tennakoon, PhD\n",
        "\n",
        "To learn more about Python, refeer to the following websites\n",
        "\n",
        "* Python : www.python.org\n",
        "* W3Schools : www.w3schools.com/python\n",
        "\n",
        "To learn more about the Python packages we explore in this notebook, refeer to the following websites\n",
        "\n",
        "* NumPy : www.numpy.org\n",
        "* Matplotlib : www.matplotlib.org\n",
        "* Pandas : https://pandas.pydata.org\n",
        "* Scikit-Learn : https://scikit-learn.org/\n",
        "* Seaborn: https://seaborn.pydata.org/\n",
        "* StatsModel : https://www.statsmodels.org"
      ]
    },
    {
      "cell_type": "code",
      "metadata": {
        "id": "SVzsW86gOcVd"
      },
      "source": [
        "import numpy as np\n",
        "import pandas as pd\n",
        "import matplotlib.pyplot as plt\n",
        "import seaborn as sns"
      ],
      "execution_count": 1,
      "outputs": []
    },
    {
      "cell_type": "markdown",
      "metadata": {
        "id": "swo9FW3OQy7t"
      },
      "source": [
        "# Load Data"
      ]
    },
    {
      "cell_type": "code",
      "metadata": {
        "colab": {
          "base_uri": "https://localhost:8080/",
          "height": 992
        },
        "id": "OsCAasJUO5EA",
        "outputId": "86dff941-93b6-42c6-dcb5-4c50f6bde9c2"
      },
      "source": [
        "file_name = 'https://raw.githubusercontent.com/SumuduTennakoon/MLFoundations/main/Datasets/income_data.csv'\n",
        "\n",
        "# Load CSV File\n",
        "data = pd.read_csv(file_name)\n",
        "data.sample(20)"
      ],
      "execution_count": 2,
      "outputs": [
        {
          "output_type": "execute_result",
          "data": {
            "text/html": [
              "<div>\n",
              "<style scoped>\n",
              "    .dataframe tbody tr th:only-of-type {\n",
              "        vertical-align: middle;\n",
              "    }\n",
              "\n",
              "    .dataframe tbody tr th {\n",
              "        vertical-align: top;\n",
              "    }\n",
              "\n",
              "    .dataframe thead th {\n",
              "        text-align: right;\n",
              "    }\n",
              "</style>\n",
              "<table border=\"1\" class=\"dataframe\">\n",
              "  <thead>\n",
              "    <tr style=\"text-align: right;\">\n",
              "      <th></th>\n",
              "      <th>Unnamed: 0</th>\n",
              "      <th>age</th>\n",
              "      <th>workclass</th>\n",
              "      <th>fnlwgt</th>\n",
              "      <th>education</th>\n",
              "      <th>education_num</th>\n",
              "      <th>marital_status</th>\n",
              "      <th>occupation</th>\n",
              "      <th>relationship</th>\n",
              "      <th>race</th>\n",
              "      <th>sex</th>\n",
              "      <th>capital_gain</th>\n",
              "      <th>capital_loss</th>\n",
              "      <th>hours_per_week</th>\n",
              "      <th>native_country</th>\n",
              "      <th>class</th>\n",
              "    </tr>\n",
              "  </thead>\n",
              "  <tbody>\n",
              "    <tr>\n",
              "      <th>33527</th>\n",
              "      <td>8709</td>\n",
              "      <td>52</td>\n",
              "      <td>Self-emp-not-inc</td>\n",
              "      <td>210377</td>\n",
              "      <td>10th</td>\n",
              "      <td>6</td>\n",
              "      <td>Married-civ-spouse</td>\n",
              "      <td>Exec-managerial</td>\n",
              "      <td>Wife</td>\n",
              "      <td>Black</td>\n",
              "      <td>Female</td>\n",
              "      <td>0.0</td>\n",
              "      <td>0.0</td>\n",
              "      <td>40.0</td>\n",
              "      <td>United-States</td>\n",
              "      <td>&lt;=50K.</td>\n",
              "    </tr>\n",
              "    <tr>\n",
              "      <th>8914</th>\n",
              "      <td>8916</td>\n",
              "      <td>24</td>\n",
              "      <td>Private</td>\n",
              "      <td>146706</td>\n",
              "      <td>Some-college</td>\n",
              "      <td>10</td>\n",
              "      <td>Never-married</td>\n",
              "      <td>Other-service</td>\n",
              "      <td>Not-in-family</td>\n",
              "      <td>White</td>\n",
              "      <td>Female</td>\n",
              "      <td>0.0</td>\n",
              "      <td>0.0</td>\n",
              "      <td>30.0</td>\n",
              "      <td>United-States</td>\n",
              "      <td>&lt;=50K</td>\n",
              "    </tr>\n",
              "    <tr>\n",
              "      <th>37250</th>\n",
              "      <td>12434</td>\n",
              "      <td>73</td>\n",
              "      <td>Private</td>\n",
              "      <td>33493</td>\n",
              "      <td>HS-grad</td>\n",
              "      <td>9</td>\n",
              "      <td>Widowed</td>\n",
              "      <td>Sales</td>\n",
              "      <td>Not-in-family</td>\n",
              "      <td>White</td>\n",
              "      <td>Female</td>\n",
              "      <td>0.0</td>\n",
              "      <td>0.0</td>\n",
              "      <td>3.0</td>\n",
              "      <td>United-States</td>\n",
              "      <td>&lt;=50K.</td>\n",
              "    </tr>\n",
              "    <tr>\n",
              "      <th>5736</th>\n",
              "      <td>5738</td>\n",
              "      <td>23</td>\n",
              "      <td>Private</td>\n",
              "      <td>179413</td>\n",
              "      <td>HS-grad</td>\n",
              "      <td>9</td>\n",
              "      <td>Married-civ-spouse</td>\n",
              "      <td>Craft-repair</td>\n",
              "      <td>Husband</td>\n",
              "      <td>White</td>\n",
              "      <td>Male</td>\n",
              "      <td>0.0</td>\n",
              "      <td>0.0</td>\n",
              "      <td>40.0</td>\n",
              "      <td>United-States</td>\n",
              "      <td>&lt;=50K</td>\n",
              "    </tr>\n",
              "    <tr>\n",
              "      <th>33586</th>\n",
              "      <td>8768</td>\n",
              "      <td>35</td>\n",
              "      <td>Private</td>\n",
              "      <td>101073</td>\n",
              "      <td>Some-college</td>\n",
              "      <td>10</td>\n",
              "      <td>Married-civ-spouse</td>\n",
              "      <td>Transport-moving</td>\n",
              "      <td>Husband</td>\n",
              "      <td>White</td>\n",
              "      <td>Male</td>\n",
              "      <td>0.0</td>\n",
              "      <td>0.0</td>\n",
              "      <td>45.0</td>\n",
              "      <td>United-States</td>\n",
              "      <td>&gt;50K.</td>\n",
              "    </tr>\n",
              "    <tr>\n",
              "      <th>38810</th>\n",
              "      <td>13995</td>\n",
              "      <td>51</td>\n",
              "      <td>Private</td>\n",
              "      <td>54465</td>\n",
              "      <td>Assoc-voc</td>\n",
              "      <td>11</td>\n",
              "      <td>Divorced</td>\n",
              "      <td>Prof-specialty</td>\n",
              "      <td>Not-in-family</td>\n",
              "      <td>White</td>\n",
              "      <td>Female</td>\n",
              "      <td>0.0</td>\n",
              "      <td>0.0</td>\n",
              "      <td>48.0</td>\n",
              "      <td>United-States</td>\n",
              "      <td>&lt;=50K.</td>\n",
              "    </tr>\n",
              "    <tr>\n",
              "      <th>30733</th>\n",
              "      <td>5915</td>\n",
              "      <td>25</td>\n",
              "      <td>Private</td>\n",
              "      <td>214468</td>\n",
              "      <td>Bachelors</td>\n",
              "      <td>13</td>\n",
              "      <td>Never-married</td>\n",
              "      <td>Sales</td>\n",
              "      <td>Own-child</td>\n",
              "      <td>White</td>\n",
              "      <td>Female</td>\n",
              "      <td>0.0</td>\n",
              "      <td>0.0</td>\n",
              "      <td>40.0</td>\n",
              "      <td>United-States</td>\n",
              "      <td>&lt;=50K.</td>\n",
              "    </tr>\n",
              "    <tr>\n",
              "      <th>270</th>\n",
              "      <td>270</td>\n",
              "      <td>61</td>\n",
              "      <td>Private</td>\n",
              "      <td>69867</td>\n",
              "      <td>HS-grad</td>\n",
              "      <td>9</td>\n",
              "      <td>Married-civ-spouse</td>\n",
              "      <td>Exec-managerial</td>\n",
              "      <td>Husband</td>\n",
              "      <td>White</td>\n",
              "      <td>Male</td>\n",
              "      <td>0.0</td>\n",
              "      <td>0.0</td>\n",
              "      <td>40.0</td>\n",
              "      <td>United-States</td>\n",
              "      <td>&gt;50K</td>\n",
              "    </tr>\n",
              "    <tr>\n",
              "      <th>9597</th>\n",
              "      <td>9600</td>\n",
              "      <td>29</td>\n",
              "      <td>Self-emp-inc</td>\n",
              "      <td>87745</td>\n",
              "      <td>Some-college</td>\n",
              "      <td>10</td>\n",
              "      <td>Never-married</td>\n",
              "      <td>Exec-managerial</td>\n",
              "      <td>Not-in-family</td>\n",
              "      <td>White</td>\n",
              "      <td>Male</td>\n",
              "      <td>0.0</td>\n",
              "      <td>0.0</td>\n",
              "      <td>60.0</td>\n",
              "      <td>United-States</td>\n",
              "      <td>&lt;=50K</td>\n",
              "    </tr>\n",
              "    <tr>\n",
              "      <th>24272</th>\n",
              "      <td>24287</td>\n",
              "      <td>27</td>\n",
              "      <td>Private</td>\n",
              "      <td>404421</td>\n",
              "      <td>Some-college</td>\n",
              "      <td>10</td>\n",
              "      <td>Never-married</td>\n",
              "      <td>Handlers-cleaners</td>\n",
              "      <td>Not-in-family</td>\n",
              "      <td>Black</td>\n",
              "      <td>Male</td>\n",
              "      <td>0.0</td>\n",
              "      <td>0.0</td>\n",
              "      <td>40.0</td>\n",
              "      <td>United-States</td>\n",
              "      <td>&lt;=50K</td>\n",
              "    </tr>\n",
              "    <tr>\n",
              "      <th>14860</th>\n",
              "      <td>14865</td>\n",
              "      <td>28</td>\n",
              "      <td>Private</td>\n",
              "      <td>211032</td>\n",
              "      <td>Some-college</td>\n",
              "      <td>10</td>\n",
              "      <td>Never-married</td>\n",
              "      <td>Adm-clerical</td>\n",
              "      <td>Own-child</td>\n",
              "      <td>White</td>\n",
              "      <td>Male</td>\n",
              "      <td>0.0</td>\n",
              "      <td>0.0</td>\n",
              "      <td>40.0</td>\n",
              "      <td>United-States</td>\n",
              "      <td>&lt;=50K</td>\n",
              "    </tr>\n",
              "    <tr>\n",
              "      <th>11857</th>\n",
              "      <td>11861</td>\n",
              "      <td>45</td>\n",
              "      <td>State-gov</td>\n",
              "      <td>305739</td>\n",
              "      <td>Some-college</td>\n",
              "      <td>10</td>\n",
              "      <td>Divorced</td>\n",
              "      <td>Adm-clerical</td>\n",
              "      <td>Not-in-family</td>\n",
              "      <td>White</td>\n",
              "      <td>Female</td>\n",
              "      <td>0.0</td>\n",
              "      <td>0.0</td>\n",
              "      <td>40.0</td>\n",
              "      <td>United-States</td>\n",
              "      <td>&lt;=50K</td>\n",
              "    </tr>\n",
              "    <tr>\n",
              "      <th>17964</th>\n",
              "      <td>17971</td>\n",
              "      <td>34</td>\n",
              "      <td>Private</td>\n",
              "      <td>245173</td>\n",
              "      <td>HS-grad</td>\n",
              "      <td>9</td>\n",
              "      <td>Divorced</td>\n",
              "      <td>Sales</td>\n",
              "      <td>Not-in-family</td>\n",
              "      <td>White</td>\n",
              "      <td>Male</td>\n",
              "      <td>0.0</td>\n",
              "      <td>1669.0</td>\n",
              "      <td>45.0</td>\n",
              "      <td>United-States</td>\n",
              "      <td>&lt;=50K</td>\n",
              "    </tr>\n",
              "    <tr>\n",
              "      <th>28186</th>\n",
              "      <td>3368</td>\n",
              "      <td>61</td>\n",
              "      <td>Private</td>\n",
              "      <td>206339</td>\n",
              "      <td>10th</td>\n",
              "      <td>6</td>\n",
              "      <td>Never-married</td>\n",
              "      <td>Transport-moving</td>\n",
              "      <td>Not-in-family</td>\n",
              "      <td>White</td>\n",
              "      <td>Male</td>\n",
              "      <td>0.0</td>\n",
              "      <td>0.0</td>\n",
              "      <td>40.0</td>\n",
              "      <td>United-States</td>\n",
              "      <td>&lt;=50K.</td>\n",
              "    </tr>\n",
              "    <tr>\n",
              "      <th>6107</th>\n",
              "      <td>6109</td>\n",
              "      <td>41</td>\n",
              "      <td>Private</td>\n",
              "      <td>373469</td>\n",
              "      <td>Assoc-acdm</td>\n",
              "      <td>12</td>\n",
              "      <td>Married-civ-spouse</td>\n",
              "      <td>Machine-op-inspct</td>\n",
              "      <td>Husband</td>\n",
              "      <td>White</td>\n",
              "      <td>Male</td>\n",
              "      <td>0.0</td>\n",
              "      <td>0.0</td>\n",
              "      <td>40.0</td>\n",
              "      <td>United-States</td>\n",
              "      <td>&lt;=50K</td>\n",
              "    </tr>\n",
              "    <tr>\n",
              "      <th>23297</th>\n",
              "      <td>23312</td>\n",
              "      <td>44</td>\n",
              "      <td>Self-emp-inc</td>\n",
              "      <td>357679</td>\n",
              "      <td>Bachelors</td>\n",
              "      <td>13</td>\n",
              "      <td>Married-civ-spouse</td>\n",
              "      <td>Farming-fishing</td>\n",
              "      <td>Husband</td>\n",
              "      <td>White</td>\n",
              "      <td>Male</td>\n",
              "      <td>15024.0</td>\n",
              "      <td>0.0</td>\n",
              "      <td>65.0</td>\n",
              "      <td>United-States</td>\n",
              "      <td>&gt;50K</td>\n",
              "    </tr>\n",
              "    <tr>\n",
              "      <th>33114</th>\n",
              "      <td>8296</td>\n",
              "      <td>42</td>\n",
              "      <td>Self-emp-not-inc</td>\n",
              "      <td>24763</td>\n",
              "      <td>Bachelors</td>\n",
              "      <td>13</td>\n",
              "      <td>Divorced</td>\n",
              "      <td>Craft-repair</td>\n",
              "      <td>Not-in-family</td>\n",
              "      <td>White</td>\n",
              "      <td>Male</td>\n",
              "      <td>0.0</td>\n",
              "      <td>0.0</td>\n",
              "      <td>65.0</td>\n",
              "      <td>United-States</td>\n",
              "      <td>&lt;=50K.</td>\n",
              "    </tr>\n",
              "    <tr>\n",
              "      <th>8251</th>\n",
              "      <td>8253</td>\n",
              "      <td>23</td>\n",
              "      <td>Private</td>\n",
              "      <td>117618</td>\n",
              "      <td>Some-college</td>\n",
              "      <td>10</td>\n",
              "      <td>Never-married</td>\n",
              "      <td>Handlers-cleaners</td>\n",
              "      <td>Own-child</td>\n",
              "      <td>White</td>\n",
              "      <td>Male</td>\n",
              "      <td>0.0</td>\n",
              "      <td>0.0</td>\n",
              "      <td>35.0</td>\n",
              "      <td>United-States</td>\n",
              "      <td>&lt;=50K</td>\n",
              "    </tr>\n",
              "    <tr>\n",
              "      <th>8125</th>\n",
              "      <td>8127</td>\n",
              "      <td>27</td>\n",
              "      <td>Private</td>\n",
              "      <td>332187</td>\n",
              "      <td>Bachelors</td>\n",
              "      <td>13</td>\n",
              "      <td>Never-married</td>\n",
              "      <td>Adm-clerical</td>\n",
              "      <td>Not-in-family</td>\n",
              "      <td>White</td>\n",
              "      <td>Female</td>\n",
              "      <td>0.0</td>\n",
              "      <td>0.0</td>\n",
              "      <td>65.0</td>\n",
              "      <td>United-States</td>\n",
              "      <td>&lt;=50K</td>\n",
              "    </tr>\n",
              "    <tr>\n",
              "      <th>6752</th>\n",
              "      <td>6754</td>\n",
              "      <td>63</td>\n",
              "      <td>Private</td>\n",
              "      <td>133144</td>\n",
              "      <td>HS-grad</td>\n",
              "      <td>9</td>\n",
              "      <td>Married-civ-spouse</td>\n",
              "      <td>Other-service</td>\n",
              "      <td>Husband</td>\n",
              "      <td>White</td>\n",
              "      <td>Male</td>\n",
              "      <td>2580.0</td>\n",
              "      <td>0.0</td>\n",
              "      <td>20.0</td>\n",
              "      <td>United-States</td>\n",
              "      <td>&lt;=50K</td>\n",
              "    </tr>\n",
              "  </tbody>\n",
              "</table>\n",
              "</div>"
            ],
            "text/plain": [
              "       Unnamed: 0  age  ...  native_country    class\n",
              "33527        8709   52  ...   United-States   <=50K.\n",
              "8914         8916   24  ...   United-States    <=50K\n",
              "37250       12434   73  ...   United-States   <=50K.\n",
              "5736         5738   23  ...   United-States    <=50K\n",
              "33586        8768   35  ...   United-States    >50K.\n",
              "38810       13995   51  ...   United-States   <=50K.\n",
              "30733        5915   25  ...   United-States   <=50K.\n",
              "270           270   61  ...   United-States     >50K\n",
              "9597         9600   29  ...   United-States    <=50K\n",
              "24272       24287   27  ...   United-States    <=50K\n",
              "14860       14865   28  ...   United-States    <=50K\n",
              "11857       11861   45  ...   United-States    <=50K\n",
              "17964       17971   34  ...   United-States    <=50K\n",
              "28186        3368   61  ...   United-States   <=50K.\n",
              "6107         6109   41  ...   United-States    <=50K\n",
              "23297       23312   44  ...   United-States     >50K\n",
              "33114        8296   42  ...   United-States   <=50K.\n",
              "8251         8253   23  ...   United-States    <=50K\n",
              "8125         8127   27  ...   United-States    <=50K\n",
              "6752         6754   63  ...   United-States    <=50K\n",
              "\n",
              "[20 rows x 16 columns]"
            ]
          },
          "metadata": {},
          "execution_count": 2
        }
      ]
    },
    {
      "cell_type": "code",
      "metadata": {
        "colab": {
          "base_uri": "https://localhost:8080/"
        },
        "id": "AWguSus9PAy3",
        "outputId": "588b1cef-c801-4902-bf0f-9ba815133b8e"
      },
      "source": [
        "data.shape"
      ],
      "execution_count": 3,
      "outputs": [
        {
          "output_type": "execute_result",
          "data": {
            "text/plain": [
              "(41095, 16)"
            ]
          },
          "metadata": {},
          "execution_count": 3
        }
      ]
    },
    {
      "cell_type": "code",
      "metadata": {
        "colab": {
          "base_uri": "https://localhost:8080/",
          "height": 551
        },
        "id": "_jkOT28VP9vo",
        "outputId": "3be0bea5-34e4-4749-e6d2-ca92d7ea343f"
      },
      "source": [
        "data.describe(include='all').transpose()"
      ],
      "execution_count": 4,
      "outputs": [
        {
          "output_type": "execute_result",
          "data": {
            "text/html": [
              "<div>\n",
              "<style scoped>\n",
              "    .dataframe tbody tr th:only-of-type {\n",
              "        vertical-align: middle;\n",
              "    }\n",
              "\n",
              "    .dataframe tbody tr th {\n",
              "        vertical-align: top;\n",
              "    }\n",
              "\n",
              "    .dataframe thead th {\n",
              "        text-align: right;\n",
              "    }\n",
              "</style>\n",
              "<table border=\"1\" class=\"dataframe\">\n",
              "  <thead>\n",
              "    <tr style=\"text-align: right;\">\n",
              "      <th></th>\n",
              "      <th>count</th>\n",
              "      <th>unique</th>\n",
              "      <th>top</th>\n",
              "      <th>freq</th>\n",
              "      <th>mean</th>\n",
              "      <th>std</th>\n",
              "      <th>min</th>\n",
              "      <th>25%</th>\n",
              "      <th>50%</th>\n",
              "      <th>75%</th>\n",
              "      <th>max</th>\n",
              "    </tr>\n",
              "  </thead>\n",
              "  <tbody>\n",
              "    <tr>\n",
              "      <th>Unnamed: 0</th>\n",
              "      <td>41095</td>\n",
              "      <td>NaN</td>\n",
              "      <td>NaN</td>\n",
              "      <td>NaN</td>\n",
              "      <td>10721</td>\n",
              "      <td>6645.18</td>\n",
              "      <td>0</td>\n",
              "      <td>5138</td>\n",
              "      <td>10275</td>\n",
              "      <td>15415</td>\n",
              "      <td>24833</td>\n",
              "    </tr>\n",
              "    <tr>\n",
              "      <th>age</th>\n",
              "      <td>41095</td>\n",
              "      <td>NaN</td>\n",
              "      <td>NaN</td>\n",
              "      <td>NaN</td>\n",
              "      <td>38.6694</td>\n",
              "      <td>13.7482</td>\n",
              "      <td>17</td>\n",
              "      <td>28</td>\n",
              "      <td>37</td>\n",
              "      <td>48</td>\n",
              "      <td>90</td>\n",
              "    </tr>\n",
              "    <tr>\n",
              "      <th>workclass</th>\n",
              "      <td>41095</td>\n",
              "      <td>9</td>\n",
              "      <td>Private</td>\n",
              "      <td>28451</td>\n",
              "      <td>NaN</td>\n",
              "      <td>NaN</td>\n",
              "      <td>NaN</td>\n",
              "      <td>NaN</td>\n",
              "      <td>NaN</td>\n",
              "      <td>NaN</td>\n",
              "      <td>NaN</td>\n",
              "    </tr>\n",
              "    <tr>\n",
              "      <th>fnlwgt</th>\n",
              "      <td>41095</td>\n",
              "      <td>NaN</td>\n",
              "      <td>NaN</td>\n",
              "      <td>NaN</td>\n",
              "      <td>189652</td>\n",
              "      <td>105500</td>\n",
              "      <td>12285</td>\n",
              "      <td>117587</td>\n",
              "      <td>178109</td>\n",
              "      <td>237564</td>\n",
              "      <td>1.4904e+06</td>\n",
              "    </tr>\n",
              "    <tr>\n",
              "      <th>education</th>\n",
              "      <td>41095</td>\n",
              "      <td>16</td>\n",
              "      <td>HS-grad</td>\n",
              "      <td>13345</td>\n",
              "      <td>NaN</td>\n",
              "      <td>NaN</td>\n",
              "      <td>NaN</td>\n",
              "      <td>NaN</td>\n",
              "      <td>NaN</td>\n",
              "      <td>NaN</td>\n",
              "      <td>NaN</td>\n",
              "    </tr>\n",
              "    <tr>\n",
              "      <th>education_num</th>\n",
              "      <td>41095</td>\n",
              "      <td>NaN</td>\n",
              "      <td>NaN</td>\n",
              "      <td>NaN</td>\n",
              "      <td>10.0794</td>\n",
              "      <td>2.56091</td>\n",
              "      <td>1</td>\n",
              "      <td>9</td>\n",
              "      <td>10</td>\n",
              "      <td>12</td>\n",
              "      <td>16</td>\n",
              "    </tr>\n",
              "    <tr>\n",
              "      <th>marital_status</th>\n",
              "      <td>41095</td>\n",
              "      <td>7</td>\n",
              "      <td>Married-civ-spouse</td>\n",
              "      <td>18770</td>\n",
              "      <td>NaN</td>\n",
              "      <td>NaN</td>\n",
              "      <td>NaN</td>\n",
              "      <td>NaN</td>\n",
              "      <td>NaN</td>\n",
              "      <td>NaN</td>\n",
              "      <td>NaN</td>\n",
              "    </tr>\n",
              "    <tr>\n",
              "      <th>occupation</th>\n",
              "      <td>41095</td>\n",
              "      <td>15</td>\n",
              "      <td>Prof-specialty</td>\n",
              "      <td>5193</td>\n",
              "      <td>NaN</td>\n",
              "      <td>NaN</td>\n",
              "      <td>NaN</td>\n",
              "      <td>NaN</td>\n",
              "      <td>NaN</td>\n",
              "      <td>NaN</td>\n",
              "      <td>NaN</td>\n",
              "    </tr>\n",
              "    <tr>\n",
              "      <th>relationship</th>\n",
              "      <td>41095</td>\n",
              "      <td>6</td>\n",
              "      <td>Husband</td>\n",
              "      <td>16520</td>\n",
              "      <td>NaN</td>\n",
              "      <td>NaN</td>\n",
              "      <td>NaN</td>\n",
              "      <td>NaN</td>\n",
              "      <td>NaN</td>\n",
              "      <td>NaN</td>\n",
              "      <td>NaN</td>\n",
              "    </tr>\n",
              "    <tr>\n",
              "      <th>race</th>\n",
              "      <td>41095</td>\n",
              "      <td>5</td>\n",
              "      <td>White</td>\n",
              "      <td>35180</td>\n",
              "      <td>NaN</td>\n",
              "      <td>NaN</td>\n",
              "      <td>NaN</td>\n",
              "      <td>NaN</td>\n",
              "      <td>NaN</td>\n",
              "      <td>NaN</td>\n",
              "      <td>NaN</td>\n",
              "    </tr>\n",
              "    <tr>\n",
              "      <th>sex</th>\n",
              "      <td>41095</td>\n",
              "      <td>3</td>\n",
              "      <td>Male</td>\n",
              "      <td>27446</td>\n",
              "      <td>NaN</td>\n",
              "      <td>NaN</td>\n",
              "      <td>NaN</td>\n",
              "      <td>NaN</td>\n",
              "      <td>NaN</td>\n",
              "      <td>NaN</td>\n",
              "      <td>NaN</td>\n",
              "    </tr>\n",
              "    <tr>\n",
              "      <th>capital_gain</th>\n",
              "      <td>41094</td>\n",
              "      <td>NaN</td>\n",
              "      <td>NaN</td>\n",
              "      <td>NaN</td>\n",
              "      <td>1085.01</td>\n",
              "      <td>7509.93</td>\n",
              "      <td>0</td>\n",
              "      <td>0</td>\n",
              "      <td>0</td>\n",
              "      <td>0</td>\n",
              "      <td>99999</td>\n",
              "    </tr>\n",
              "    <tr>\n",
              "      <th>capital_loss</th>\n",
              "      <td>41094</td>\n",
              "      <td>NaN</td>\n",
              "      <td>NaN</td>\n",
              "      <td>NaN</td>\n",
              "      <td>86.8991</td>\n",
              "      <td>401.669</td>\n",
              "      <td>0</td>\n",
              "      <td>0</td>\n",
              "      <td>0</td>\n",
              "      <td>0</td>\n",
              "      <td>4356</td>\n",
              "    </tr>\n",
              "    <tr>\n",
              "      <th>hours_per_week</th>\n",
              "      <td>41094</td>\n",
              "      <td>NaN</td>\n",
              "      <td>NaN</td>\n",
              "      <td>NaN</td>\n",
              "      <td>40.4046</td>\n",
              "      <td>12.3719</td>\n",
              "      <td>1</td>\n",
              "      <td>40</td>\n",
              "      <td>40</td>\n",
              "      <td>45</td>\n",
              "      <td>99</td>\n",
              "    </tr>\n",
              "    <tr>\n",
              "      <th>native_country</th>\n",
              "      <td>41094</td>\n",
              "      <td>42</td>\n",
              "      <td>United-States</td>\n",
              "      <td>36919</td>\n",
              "      <td>NaN</td>\n",
              "      <td>NaN</td>\n",
              "      <td>NaN</td>\n",
              "      <td>NaN</td>\n",
              "      <td>NaN</td>\n",
              "      <td>NaN</td>\n",
              "      <td>NaN</td>\n",
              "    </tr>\n",
              "    <tr>\n",
              "      <th>class</th>\n",
              "      <td>41094</td>\n",
              "      <td>4</td>\n",
              "      <td>&lt;=50K</td>\n",
              "      <td>18867</td>\n",
              "      <td>NaN</td>\n",
              "      <td>NaN</td>\n",
              "      <td>NaN</td>\n",
              "      <td>NaN</td>\n",
              "      <td>NaN</td>\n",
              "      <td>NaN</td>\n",
              "      <td>NaN</td>\n",
              "    </tr>\n",
              "  </tbody>\n",
              "</table>\n",
              "</div>"
            ],
            "text/plain": [
              "                count unique                  top  ...     50%     75%         max\n",
              "Unnamed: 0      41095    NaN                  NaN  ...   10275   15415       24833\n",
              "age             41095    NaN                  NaN  ...      37      48          90\n",
              "workclass       41095      9              Private  ...     NaN     NaN         NaN\n",
              "fnlwgt          41095    NaN                  NaN  ...  178109  237564  1.4904e+06\n",
              "education       41095     16              HS-grad  ...     NaN     NaN         NaN\n",
              "education_num   41095    NaN                  NaN  ...      10      12          16\n",
              "marital_status  41095      7   Married-civ-spouse  ...     NaN     NaN         NaN\n",
              "occupation      41095     15       Prof-specialty  ...     NaN     NaN         NaN\n",
              "relationship    41095      6              Husband  ...     NaN     NaN         NaN\n",
              "race            41095      5                White  ...     NaN     NaN         NaN\n",
              "sex             41095      3                 Male  ...     NaN     NaN         NaN\n",
              "capital_gain    41094    NaN                  NaN  ...       0       0       99999\n",
              "capital_loss    41094    NaN                  NaN  ...       0       0        4356\n",
              "hours_per_week  41094    NaN                  NaN  ...      40      45          99\n",
              "native_country  41094     42        United-States  ...     NaN     NaN         NaN\n",
              "class           41094      4                <=50K  ...     NaN     NaN         NaN\n",
              "\n",
              "[16 rows x 11 columns]"
            ]
          },
          "metadata": {},
          "execution_count": 4
        }
      ]
    },
    {
      "cell_type": "code",
      "metadata": {
        "colab": {
          "base_uri": "https://localhost:8080/",
          "height": 269
        },
        "id": "MN3d_p9tQGPm",
        "outputId": "86e81492-777b-442e-d1c0-a7957a11b5ab"
      },
      "source": [
        "data.describe().transpose()"
      ],
      "execution_count": 5,
      "outputs": [
        {
          "output_type": "execute_result",
          "data": {
            "text/html": [
              "<div>\n",
              "<style scoped>\n",
              "    .dataframe tbody tr th:only-of-type {\n",
              "        vertical-align: middle;\n",
              "    }\n",
              "\n",
              "    .dataframe tbody tr th {\n",
              "        vertical-align: top;\n",
              "    }\n",
              "\n",
              "    .dataframe thead th {\n",
              "        text-align: right;\n",
              "    }\n",
              "</style>\n",
              "<table border=\"1\" class=\"dataframe\">\n",
              "  <thead>\n",
              "    <tr style=\"text-align: right;\">\n",
              "      <th></th>\n",
              "      <th>count</th>\n",
              "      <th>mean</th>\n",
              "      <th>std</th>\n",
              "      <th>min</th>\n",
              "      <th>25%</th>\n",
              "      <th>50%</th>\n",
              "      <th>75%</th>\n",
              "      <th>max</th>\n",
              "    </tr>\n",
              "  </thead>\n",
              "  <tbody>\n",
              "    <tr>\n",
              "      <th>Unnamed: 0</th>\n",
              "      <td>41095.0</td>\n",
              "      <td>10721.025940</td>\n",
              "      <td>6645.180596</td>\n",
              "      <td>0.0</td>\n",
              "      <td>5138.0</td>\n",
              "      <td>10275.0</td>\n",
              "      <td>15415.0</td>\n",
              "      <td>24833.0</td>\n",
              "    </tr>\n",
              "    <tr>\n",
              "      <th>age</th>\n",
              "      <td>41095.0</td>\n",
              "      <td>38.669425</td>\n",
              "      <td>13.748164</td>\n",
              "      <td>17.0</td>\n",
              "      <td>28.0</td>\n",
              "      <td>37.0</td>\n",
              "      <td>48.0</td>\n",
              "      <td>90.0</td>\n",
              "    </tr>\n",
              "    <tr>\n",
              "      <th>fnlwgt</th>\n",
              "      <td>41095.0</td>\n",
              "      <td>189652.134737</td>\n",
              "      <td>105499.712269</td>\n",
              "      <td>12285.0</td>\n",
              "      <td>117587.0</td>\n",
              "      <td>178109.0</td>\n",
              "      <td>237563.5</td>\n",
              "      <td>1490400.0</td>\n",
              "    </tr>\n",
              "    <tr>\n",
              "      <th>education_num</th>\n",
              "      <td>41095.0</td>\n",
              "      <td>10.079353</td>\n",
              "      <td>2.560906</td>\n",
              "      <td>1.0</td>\n",
              "      <td>9.0</td>\n",
              "      <td>10.0</td>\n",
              "      <td>12.0</td>\n",
              "      <td>16.0</td>\n",
              "    </tr>\n",
              "    <tr>\n",
              "      <th>capital_gain</th>\n",
              "      <td>41094.0</td>\n",
              "      <td>1085.012581</td>\n",
              "      <td>7509.925734</td>\n",
              "      <td>0.0</td>\n",
              "      <td>0.0</td>\n",
              "      <td>0.0</td>\n",
              "      <td>0.0</td>\n",
              "      <td>99999.0</td>\n",
              "    </tr>\n",
              "    <tr>\n",
              "      <th>capital_loss</th>\n",
              "      <td>41094.0</td>\n",
              "      <td>86.899134</td>\n",
              "      <td>401.668898</td>\n",
              "      <td>0.0</td>\n",
              "      <td>0.0</td>\n",
              "      <td>0.0</td>\n",
              "      <td>0.0</td>\n",
              "      <td>4356.0</td>\n",
              "    </tr>\n",
              "    <tr>\n",
              "      <th>hours_per_week</th>\n",
              "      <td>41094.0</td>\n",
              "      <td>40.404585</td>\n",
              "      <td>12.371882</td>\n",
              "      <td>1.0</td>\n",
              "      <td>40.0</td>\n",
              "      <td>40.0</td>\n",
              "      <td>45.0</td>\n",
              "      <td>99.0</td>\n",
              "    </tr>\n",
              "  </tbody>\n",
              "</table>\n",
              "</div>"
            ],
            "text/plain": [
              "                  count           mean  ...       75%        max\n",
              "Unnamed: 0      41095.0   10721.025940  ...   15415.0    24833.0\n",
              "age             41095.0      38.669425  ...      48.0       90.0\n",
              "fnlwgt          41095.0  189652.134737  ...  237563.5  1490400.0\n",
              "education_num   41095.0      10.079353  ...      12.0       16.0\n",
              "capital_gain    41094.0    1085.012581  ...       0.0    99999.0\n",
              "capital_loss    41094.0      86.899134  ...       0.0     4356.0\n",
              "hours_per_week  41094.0      40.404585  ...      45.0       99.0\n",
              "\n",
              "[7 rows x 8 columns]"
            ]
          },
          "metadata": {},
          "execution_count": 5
        }
      ]
    },
    {
      "cell_type": "code",
      "metadata": {
        "colab": {
          "base_uri": "https://localhost:8080/"
        },
        "id": "WUWPDtvBRil4",
        "outputId": "afff66e9-5442-4f9a-d47e-c3ff85339b3e"
      },
      "source": [
        "data.columns"
      ],
      "execution_count": 6,
      "outputs": [
        {
          "output_type": "execute_result",
          "data": {
            "text/plain": [
              "Index(['Unnamed: 0', 'age', 'workclass', 'fnlwgt', 'education',\n",
              "       'education_num', 'marital_status', 'occupation', 'relationship', 'race',\n",
              "       'sex', 'capital_gain', 'capital_loss', 'hours_per_week',\n",
              "       'native_country', 'class'],\n",
              "      dtype='object')"
            ]
          },
          "metadata": {},
          "execution_count": 6
        }
      ]
    },
    {
      "cell_type": "code",
      "metadata": {
        "colab": {
          "base_uri": "https://localhost:8080/"
        },
        "id": "ckBpj7LbNrDg",
        "outputId": "0ff1fdbc-6482-4416-fe4b-604e8284a648"
      },
      "source": [
        "data.dtypes"
      ],
      "execution_count": 7,
      "outputs": [
        {
          "output_type": "execute_result",
          "data": {
            "text/plain": [
              "Unnamed: 0          int64\n",
              "age                 int64\n",
              "workclass          object\n",
              "fnlwgt              int64\n",
              "education          object\n",
              "education_num       int64\n",
              "marital_status     object\n",
              "occupation         object\n",
              "relationship       object\n",
              "race               object\n",
              "sex                object\n",
              "capital_gain      float64\n",
              "capital_loss      float64\n",
              "hours_per_week    float64\n",
              "native_country     object\n",
              "class              object\n",
              "dtype: object"
            ]
          },
          "metadata": {},
          "execution_count": 7
        }
      ]
    },
    {
      "cell_type": "markdown",
      "metadata": {
        "id": "9N4XKTlaUzit"
      },
      "source": [
        "# Drop Unnecessary Columns"
      ]
    },
    {
      "cell_type": "code",
      "metadata": {
        "id": "ouVWZNkPVxeI"
      },
      "source": [
        "data.drop(labels='Unnamed: 0', axis=1, inplace=True)"
      ],
      "execution_count": 8,
      "outputs": []
    },
    {
      "cell_type": "code",
      "metadata": {
        "colab": {
          "base_uri": "https://localhost:8080/",
          "height": 545
        },
        "id": "Sp5B41tOXFac",
        "outputId": "fefc339e-6e6f-4320-e430-ffe0b3de169f"
      },
      "source": [
        "data.drop(labels=1, axis=0)"
      ],
      "execution_count": 9,
      "outputs": [
        {
          "output_type": "execute_result",
          "data": {
            "text/html": [
              "<div>\n",
              "<style scoped>\n",
              "    .dataframe tbody tr th:only-of-type {\n",
              "        vertical-align: middle;\n",
              "    }\n",
              "\n",
              "    .dataframe tbody tr th {\n",
              "        vertical-align: top;\n",
              "    }\n",
              "\n",
              "    .dataframe thead th {\n",
              "        text-align: right;\n",
              "    }\n",
              "</style>\n",
              "<table border=\"1\" class=\"dataframe\">\n",
              "  <thead>\n",
              "    <tr style=\"text-align: right;\">\n",
              "      <th></th>\n",
              "      <th>age</th>\n",
              "      <th>workclass</th>\n",
              "      <th>fnlwgt</th>\n",
              "      <th>education</th>\n",
              "      <th>education_num</th>\n",
              "      <th>marital_status</th>\n",
              "      <th>occupation</th>\n",
              "      <th>relationship</th>\n",
              "      <th>race</th>\n",
              "      <th>sex</th>\n",
              "      <th>capital_gain</th>\n",
              "      <th>capital_loss</th>\n",
              "      <th>hours_per_week</th>\n",
              "      <th>native_country</th>\n",
              "      <th>class</th>\n",
              "    </tr>\n",
              "  </thead>\n",
              "  <tbody>\n",
              "    <tr>\n",
              "      <th>0</th>\n",
              "      <td>39</td>\n",
              "      <td>State-gov</td>\n",
              "      <td>77516</td>\n",
              "      <td>Bachelors</td>\n",
              "      <td>13</td>\n",
              "      <td>Never-married</td>\n",
              "      <td>Adm-clerical</td>\n",
              "      <td>Not-in-family</td>\n",
              "      <td>White</td>\n",
              "      <td>Male</td>\n",
              "      <td>2174.0</td>\n",
              "      <td>0.0</td>\n",
              "      <td>40.0</td>\n",
              "      <td>United-States</td>\n",
              "      <td>&lt;=50K</td>\n",
              "    </tr>\n",
              "    <tr>\n",
              "      <th>2</th>\n",
              "      <td>38</td>\n",
              "      <td>Private</td>\n",
              "      <td>215646</td>\n",
              "      <td>HS-grad</td>\n",
              "      <td>9</td>\n",
              "      <td>Divorced</td>\n",
              "      <td>Handlers-cleaners</td>\n",
              "      <td>Not-in-family</td>\n",
              "      <td>White</td>\n",
              "      <td>Male</td>\n",
              "      <td>0.0</td>\n",
              "      <td>0.0</td>\n",
              "      <td>40.0</td>\n",
              "      <td>United-States</td>\n",
              "      <td>&lt;=50K</td>\n",
              "    </tr>\n",
              "    <tr>\n",
              "      <th>3</th>\n",
              "      <td>53</td>\n",
              "      <td>Private</td>\n",
              "      <td>234721</td>\n",
              "      <td>11th</td>\n",
              "      <td>7</td>\n",
              "      <td>Married-civ-spouse</td>\n",
              "      <td>Handlers-cleaners</td>\n",
              "      <td>Husband</td>\n",
              "      <td>Black</td>\n",
              "      <td>Male</td>\n",
              "      <td>0.0</td>\n",
              "      <td>0.0</td>\n",
              "      <td>40.0</td>\n",
              "      <td>United-States</td>\n",
              "      <td>&lt;=50K</td>\n",
              "    </tr>\n",
              "    <tr>\n",
              "      <th>4</th>\n",
              "      <td>28</td>\n",
              "      <td>Private</td>\n",
              "      <td>338409</td>\n",
              "      <td>Bachelors</td>\n",
              "      <td>13</td>\n",
              "      <td>Married-civ-spouse</td>\n",
              "      <td>Prof-specialty</td>\n",
              "      <td>Wife</td>\n",
              "      <td>Black</td>\n",
              "      <td>Female</td>\n",
              "      <td>0.0</td>\n",
              "      <td>0.0</td>\n",
              "      <td>40.0</td>\n",
              "      <td>Cuba</td>\n",
              "      <td>&lt;=50K</td>\n",
              "    </tr>\n",
              "    <tr>\n",
              "      <th>5</th>\n",
              "      <td>37</td>\n",
              "      <td>Private</td>\n",
              "      <td>284582</td>\n",
              "      <td>Masters</td>\n",
              "      <td>14</td>\n",
              "      <td>Married-civ-spouse</td>\n",
              "      <td>Exec-managerial</td>\n",
              "      <td>Wife</td>\n",
              "      <td>White</td>\n",
              "      <td>Female</td>\n",
              "      <td>0.0</td>\n",
              "      <td>0.0</td>\n",
              "      <td>40.0</td>\n",
              "      <td>United-States</td>\n",
              "      <td>&lt;=50K</td>\n",
              "    </tr>\n",
              "    <tr>\n",
              "      <th>...</th>\n",
              "      <td>...</td>\n",
              "      <td>...</td>\n",
              "      <td>...</td>\n",
              "      <td>...</td>\n",
              "      <td>...</td>\n",
              "      <td>...</td>\n",
              "      <td>...</td>\n",
              "      <td>...</td>\n",
              "      <td>...</td>\n",
              "      <td>...</td>\n",
              "      <td>...</td>\n",
              "      <td>...</td>\n",
              "      <td>...</td>\n",
              "      <td>...</td>\n",
              "      <td>...</td>\n",
              "    </tr>\n",
              "    <tr>\n",
              "      <th>41090</th>\n",
              "      <td>39</td>\n",
              "      <td>Private</td>\n",
              "      <td>215419</td>\n",
              "      <td>Bachelors</td>\n",
              "      <td>13</td>\n",
              "      <td>Divorced</td>\n",
              "      <td>Prof-specialty</td>\n",
              "      <td>Not-in-family</td>\n",
              "      <td>White</td>\n",
              "      <td>Female</td>\n",
              "      <td>0.0</td>\n",
              "      <td>0.0</td>\n",
              "      <td>36.0</td>\n",
              "      <td>United-States</td>\n",
              "      <td>&lt;=50K.</td>\n",
              "    </tr>\n",
              "    <tr>\n",
              "      <th>41091</th>\n",
              "      <td>64</td>\n",
              "      <td>?</td>\n",
              "      <td>321403</td>\n",
              "      <td>HS-grad</td>\n",
              "      <td>9</td>\n",
              "      <td>Widowed</td>\n",
              "      <td>?</td>\n",
              "      <td>Other-relative</td>\n",
              "      <td>Black</td>\n",
              "      <td>Male</td>\n",
              "      <td>0.0</td>\n",
              "      <td>0.0</td>\n",
              "      <td>40.0</td>\n",
              "      <td>United-States</td>\n",
              "      <td>&lt;=50K.</td>\n",
              "    </tr>\n",
              "    <tr>\n",
              "      <th>41092</th>\n",
              "      <td>38</td>\n",
              "      <td>Private</td>\n",
              "      <td>374983</td>\n",
              "      <td>Bachelors</td>\n",
              "      <td>13</td>\n",
              "      <td>Married-civ-spouse</td>\n",
              "      <td>Prof-specialty</td>\n",
              "      <td>Husband</td>\n",
              "      <td>White</td>\n",
              "      <td>Male</td>\n",
              "      <td>0.0</td>\n",
              "      <td>0.0</td>\n",
              "      <td>50.0</td>\n",
              "      <td>United-States</td>\n",
              "      <td>&lt;=50K.</td>\n",
              "    </tr>\n",
              "    <tr>\n",
              "      <th>41093</th>\n",
              "      <td>44</td>\n",
              "      <td>Private</td>\n",
              "      <td>83891</td>\n",
              "      <td>Bachelors</td>\n",
              "      <td>13</td>\n",
              "      <td>Divorced</td>\n",
              "      <td>Adm-clerical</td>\n",
              "      <td>Own-child</td>\n",
              "      <td>Asian-Pac-Islander</td>\n",
              "      <td>Male</td>\n",
              "      <td>5455.0</td>\n",
              "      <td>0.0</td>\n",
              "      <td>40.0</td>\n",
              "      <td>United-States</td>\n",
              "      <td>&lt;=50K.</td>\n",
              "    </tr>\n",
              "    <tr>\n",
              "      <th>41094</th>\n",
              "      <td>35</td>\n",
              "      <td>Self-emp-inc</td>\n",
              "      <td>182148</td>\n",
              "      <td>Bachelors</td>\n",
              "      <td>13</td>\n",
              "      <td>Married-civ-spouse</td>\n",
              "      <td>Exec-managerial</td>\n",
              "      <td>Husband</td>\n",
              "      <td>White</td>\n",
              "      <td>Male</td>\n",
              "      <td>0.0</td>\n",
              "      <td>0.0</td>\n",
              "      <td>60.0</td>\n",
              "      <td>United-States</td>\n",
              "      <td>&gt;50K.</td>\n",
              "    </tr>\n",
              "  </tbody>\n",
              "</table>\n",
              "<p>41094 rows × 15 columns</p>\n",
              "</div>"
            ],
            "text/plain": [
              "       age      workclass  fnlwgt  ... hours_per_week  native_country    class\n",
              "0       39      State-gov   77516  ...           40.0   United-States    <=50K\n",
              "2       38        Private  215646  ...           40.0   United-States    <=50K\n",
              "3       53        Private  234721  ...           40.0   United-States    <=50K\n",
              "4       28        Private  338409  ...           40.0            Cuba    <=50K\n",
              "5       37        Private  284582  ...           40.0   United-States    <=50K\n",
              "...    ...            ...     ...  ...            ...             ...      ...\n",
              "41090   39        Private  215419  ...           36.0   United-States   <=50K.\n",
              "41091   64              ?  321403  ...           40.0   United-States   <=50K.\n",
              "41092   38        Private  374983  ...           50.0   United-States   <=50K.\n",
              "41093   44        Private   83891  ...           40.0   United-States   <=50K.\n",
              "41094   35   Self-emp-inc  182148  ...           60.0   United-States    >50K.\n",
              "\n",
              "[41094 rows x 15 columns]"
            ]
          },
          "metadata": {},
          "execution_count": 9
        }
      ]
    },
    {
      "cell_type": "code",
      "metadata": {
        "colab": {
          "base_uri": "https://localhost:8080/",
          "height": 206
        },
        "id": "03p7amsHWDB_",
        "outputId": "057e5429-66b0-40f9-9fb3-fe2b9bae8b72"
      },
      "source": [
        "data.head()"
      ],
      "execution_count": 10,
      "outputs": [
        {
          "output_type": "execute_result",
          "data": {
            "text/html": [
              "<div>\n",
              "<style scoped>\n",
              "    .dataframe tbody tr th:only-of-type {\n",
              "        vertical-align: middle;\n",
              "    }\n",
              "\n",
              "    .dataframe tbody tr th {\n",
              "        vertical-align: top;\n",
              "    }\n",
              "\n",
              "    .dataframe thead th {\n",
              "        text-align: right;\n",
              "    }\n",
              "</style>\n",
              "<table border=\"1\" class=\"dataframe\">\n",
              "  <thead>\n",
              "    <tr style=\"text-align: right;\">\n",
              "      <th></th>\n",
              "      <th>age</th>\n",
              "      <th>workclass</th>\n",
              "      <th>fnlwgt</th>\n",
              "      <th>education</th>\n",
              "      <th>education_num</th>\n",
              "      <th>marital_status</th>\n",
              "      <th>occupation</th>\n",
              "      <th>relationship</th>\n",
              "      <th>race</th>\n",
              "      <th>sex</th>\n",
              "      <th>capital_gain</th>\n",
              "      <th>capital_loss</th>\n",
              "      <th>hours_per_week</th>\n",
              "      <th>native_country</th>\n",
              "      <th>class</th>\n",
              "    </tr>\n",
              "  </thead>\n",
              "  <tbody>\n",
              "    <tr>\n",
              "      <th>0</th>\n",
              "      <td>39</td>\n",
              "      <td>State-gov</td>\n",
              "      <td>77516</td>\n",
              "      <td>Bachelors</td>\n",
              "      <td>13</td>\n",
              "      <td>Never-married</td>\n",
              "      <td>Adm-clerical</td>\n",
              "      <td>Not-in-family</td>\n",
              "      <td>White</td>\n",
              "      <td>Male</td>\n",
              "      <td>2174.0</td>\n",
              "      <td>0.0</td>\n",
              "      <td>40.0</td>\n",
              "      <td>United-States</td>\n",
              "      <td>&lt;=50K</td>\n",
              "    </tr>\n",
              "    <tr>\n",
              "      <th>1</th>\n",
              "      <td>50</td>\n",
              "      <td>Self-emp-not-inc</td>\n",
              "      <td>83311</td>\n",
              "      <td>Bachelors</td>\n",
              "      <td>13</td>\n",
              "      <td>Married-civ-spouse</td>\n",
              "      <td>Exec-managerial</td>\n",
              "      <td>Husband</td>\n",
              "      <td>White</td>\n",
              "      <td>Male</td>\n",
              "      <td>0.0</td>\n",
              "      <td>0.0</td>\n",
              "      <td>13.0</td>\n",
              "      <td>United-States</td>\n",
              "      <td>&lt;=50K</td>\n",
              "    </tr>\n",
              "    <tr>\n",
              "      <th>2</th>\n",
              "      <td>38</td>\n",
              "      <td>Private</td>\n",
              "      <td>215646</td>\n",
              "      <td>HS-grad</td>\n",
              "      <td>9</td>\n",
              "      <td>Divorced</td>\n",
              "      <td>Handlers-cleaners</td>\n",
              "      <td>Not-in-family</td>\n",
              "      <td>White</td>\n",
              "      <td>Male</td>\n",
              "      <td>0.0</td>\n",
              "      <td>0.0</td>\n",
              "      <td>40.0</td>\n",
              "      <td>United-States</td>\n",
              "      <td>&lt;=50K</td>\n",
              "    </tr>\n",
              "    <tr>\n",
              "      <th>3</th>\n",
              "      <td>53</td>\n",
              "      <td>Private</td>\n",
              "      <td>234721</td>\n",
              "      <td>11th</td>\n",
              "      <td>7</td>\n",
              "      <td>Married-civ-spouse</td>\n",
              "      <td>Handlers-cleaners</td>\n",
              "      <td>Husband</td>\n",
              "      <td>Black</td>\n",
              "      <td>Male</td>\n",
              "      <td>0.0</td>\n",
              "      <td>0.0</td>\n",
              "      <td>40.0</td>\n",
              "      <td>United-States</td>\n",
              "      <td>&lt;=50K</td>\n",
              "    </tr>\n",
              "    <tr>\n",
              "      <th>4</th>\n",
              "      <td>28</td>\n",
              "      <td>Private</td>\n",
              "      <td>338409</td>\n",
              "      <td>Bachelors</td>\n",
              "      <td>13</td>\n",
              "      <td>Married-civ-spouse</td>\n",
              "      <td>Prof-specialty</td>\n",
              "      <td>Wife</td>\n",
              "      <td>Black</td>\n",
              "      <td>Female</td>\n",
              "      <td>0.0</td>\n",
              "      <td>0.0</td>\n",
              "      <td>40.0</td>\n",
              "      <td>Cuba</td>\n",
              "      <td>&lt;=50K</td>\n",
              "    </tr>\n",
              "  </tbody>\n",
              "</table>\n",
              "</div>"
            ],
            "text/plain": [
              "   age          workclass  fnlwgt  ... hours_per_week  native_country   class\n",
              "0   39          State-gov   77516  ...           40.0   United-States   <=50K\n",
              "1   50   Self-emp-not-inc   83311  ...           13.0   United-States   <=50K\n",
              "2   38            Private  215646  ...           40.0   United-States   <=50K\n",
              "3   53            Private  234721  ...           40.0   United-States   <=50K\n",
              "4   28            Private  338409  ...           40.0            Cuba   <=50K\n",
              "\n",
              "[5 rows x 15 columns]"
            ]
          },
          "metadata": {},
          "execution_count": 10
        }
      ]
    },
    {
      "cell_type": "markdown",
      "metadata": {
        "id": "98Bvz0ztU6en"
      },
      "source": [
        "# Quering Data"
      ]
    },
    {
      "cell_type": "code",
      "metadata": {
        "colab": {
          "base_uri": "https://localhost:8080/",
          "height": 545
        },
        "id": "NTkBeH1GX0Ym",
        "outputId": "8bf4071c-3d8a-44f7-e830-ab13e53180cf"
      },
      "source": [
        "data.query(\"age < 60 and age > 30\")"
      ],
      "execution_count": 11,
      "outputs": [
        {
          "output_type": "execute_result",
          "data": {
            "text/html": [
              "<div>\n",
              "<style scoped>\n",
              "    .dataframe tbody tr th:only-of-type {\n",
              "        vertical-align: middle;\n",
              "    }\n",
              "\n",
              "    .dataframe tbody tr th {\n",
              "        vertical-align: top;\n",
              "    }\n",
              "\n",
              "    .dataframe thead th {\n",
              "        text-align: right;\n",
              "    }\n",
              "</style>\n",
              "<table border=\"1\" class=\"dataframe\">\n",
              "  <thead>\n",
              "    <tr style=\"text-align: right;\">\n",
              "      <th></th>\n",
              "      <th>age</th>\n",
              "      <th>workclass</th>\n",
              "      <th>fnlwgt</th>\n",
              "      <th>education</th>\n",
              "      <th>education_num</th>\n",
              "      <th>marital_status</th>\n",
              "      <th>occupation</th>\n",
              "      <th>relationship</th>\n",
              "      <th>race</th>\n",
              "      <th>sex</th>\n",
              "      <th>capital_gain</th>\n",
              "      <th>capital_loss</th>\n",
              "      <th>hours_per_week</th>\n",
              "      <th>native_country</th>\n",
              "      <th>class</th>\n",
              "    </tr>\n",
              "  </thead>\n",
              "  <tbody>\n",
              "    <tr>\n",
              "      <th>0</th>\n",
              "      <td>39</td>\n",
              "      <td>State-gov</td>\n",
              "      <td>77516</td>\n",
              "      <td>Bachelors</td>\n",
              "      <td>13</td>\n",
              "      <td>Never-married</td>\n",
              "      <td>Adm-clerical</td>\n",
              "      <td>Not-in-family</td>\n",
              "      <td>White</td>\n",
              "      <td>Male</td>\n",
              "      <td>2174.0</td>\n",
              "      <td>0.0</td>\n",
              "      <td>40.0</td>\n",
              "      <td>United-States</td>\n",
              "      <td>&lt;=50K</td>\n",
              "    </tr>\n",
              "    <tr>\n",
              "      <th>1</th>\n",
              "      <td>50</td>\n",
              "      <td>Self-emp-not-inc</td>\n",
              "      <td>83311</td>\n",
              "      <td>Bachelors</td>\n",
              "      <td>13</td>\n",
              "      <td>Married-civ-spouse</td>\n",
              "      <td>Exec-managerial</td>\n",
              "      <td>Husband</td>\n",
              "      <td>White</td>\n",
              "      <td>Male</td>\n",
              "      <td>0.0</td>\n",
              "      <td>0.0</td>\n",
              "      <td>13.0</td>\n",
              "      <td>United-States</td>\n",
              "      <td>&lt;=50K</td>\n",
              "    </tr>\n",
              "    <tr>\n",
              "      <th>2</th>\n",
              "      <td>38</td>\n",
              "      <td>Private</td>\n",
              "      <td>215646</td>\n",
              "      <td>HS-grad</td>\n",
              "      <td>9</td>\n",
              "      <td>Divorced</td>\n",
              "      <td>Handlers-cleaners</td>\n",
              "      <td>Not-in-family</td>\n",
              "      <td>White</td>\n",
              "      <td>Male</td>\n",
              "      <td>0.0</td>\n",
              "      <td>0.0</td>\n",
              "      <td>40.0</td>\n",
              "      <td>United-States</td>\n",
              "      <td>&lt;=50K</td>\n",
              "    </tr>\n",
              "    <tr>\n",
              "      <th>3</th>\n",
              "      <td>53</td>\n",
              "      <td>Private</td>\n",
              "      <td>234721</td>\n",
              "      <td>11th</td>\n",
              "      <td>7</td>\n",
              "      <td>Married-civ-spouse</td>\n",
              "      <td>Handlers-cleaners</td>\n",
              "      <td>Husband</td>\n",
              "      <td>Black</td>\n",
              "      <td>Male</td>\n",
              "      <td>0.0</td>\n",
              "      <td>0.0</td>\n",
              "      <td>40.0</td>\n",
              "      <td>United-States</td>\n",
              "      <td>&lt;=50K</td>\n",
              "    </tr>\n",
              "    <tr>\n",
              "      <th>5</th>\n",
              "      <td>37</td>\n",
              "      <td>Private</td>\n",
              "      <td>284582</td>\n",
              "      <td>Masters</td>\n",
              "      <td>14</td>\n",
              "      <td>Married-civ-spouse</td>\n",
              "      <td>Exec-managerial</td>\n",
              "      <td>Wife</td>\n",
              "      <td>White</td>\n",
              "      <td>Female</td>\n",
              "      <td>0.0</td>\n",
              "      <td>0.0</td>\n",
              "      <td>40.0</td>\n",
              "      <td>United-States</td>\n",
              "      <td>&lt;=50K</td>\n",
              "    </tr>\n",
              "    <tr>\n",
              "      <th>...</th>\n",
              "      <td>...</td>\n",
              "      <td>...</td>\n",
              "      <td>...</td>\n",
              "      <td>...</td>\n",
              "      <td>...</td>\n",
              "      <td>...</td>\n",
              "      <td>...</td>\n",
              "      <td>...</td>\n",
              "      <td>...</td>\n",
              "      <td>...</td>\n",
              "      <td>...</td>\n",
              "      <td>...</td>\n",
              "      <td>...</td>\n",
              "      <td>...</td>\n",
              "      <td>...</td>\n",
              "    </tr>\n",
              "    <tr>\n",
              "      <th>41089</th>\n",
              "      <td>33</td>\n",
              "      <td>Private</td>\n",
              "      <td>245211</td>\n",
              "      <td>Bachelors</td>\n",
              "      <td>13</td>\n",
              "      <td>Never-married</td>\n",
              "      <td>Prof-specialty</td>\n",
              "      <td>Own-child</td>\n",
              "      <td>White</td>\n",
              "      <td>Male</td>\n",
              "      <td>0.0</td>\n",
              "      <td>0.0</td>\n",
              "      <td>40.0</td>\n",
              "      <td>United-States</td>\n",
              "      <td>&lt;=50K.</td>\n",
              "    </tr>\n",
              "    <tr>\n",
              "      <th>41090</th>\n",
              "      <td>39</td>\n",
              "      <td>Private</td>\n",
              "      <td>215419</td>\n",
              "      <td>Bachelors</td>\n",
              "      <td>13</td>\n",
              "      <td>Divorced</td>\n",
              "      <td>Prof-specialty</td>\n",
              "      <td>Not-in-family</td>\n",
              "      <td>White</td>\n",
              "      <td>Female</td>\n",
              "      <td>0.0</td>\n",
              "      <td>0.0</td>\n",
              "      <td>36.0</td>\n",
              "      <td>United-States</td>\n",
              "      <td>&lt;=50K.</td>\n",
              "    </tr>\n",
              "    <tr>\n",
              "      <th>41092</th>\n",
              "      <td>38</td>\n",
              "      <td>Private</td>\n",
              "      <td>374983</td>\n",
              "      <td>Bachelors</td>\n",
              "      <td>13</td>\n",
              "      <td>Married-civ-spouse</td>\n",
              "      <td>Prof-specialty</td>\n",
              "      <td>Husband</td>\n",
              "      <td>White</td>\n",
              "      <td>Male</td>\n",
              "      <td>0.0</td>\n",
              "      <td>0.0</td>\n",
              "      <td>50.0</td>\n",
              "      <td>United-States</td>\n",
              "      <td>&lt;=50K.</td>\n",
              "    </tr>\n",
              "    <tr>\n",
              "      <th>41093</th>\n",
              "      <td>44</td>\n",
              "      <td>Private</td>\n",
              "      <td>83891</td>\n",
              "      <td>Bachelors</td>\n",
              "      <td>13</td>\n",
              "      <td>Divorced</td>\n",
              "      <td>Adm-clerical</td>\n",
              "      <td>Own-child</td>\n",
              "      <td>Asian-Pac-Islander</td>\n",
              "      <td>Male</td>\n",
              "      <td>5455.0</td>\n",
              "      <td>0.0</td>\n",
              "      <td>40.0</td>\n",
              "      <td>United-States</td>\n",
              "      <td>&lt;=50K.</td>\n",
              "    </tr>\n",
              "    <tr>\n",
              "      <th>41094</th>\n",
              "      <td>35</td>\n",
              "      <td>Self-emp-inc</td>\n",
              "      <td>182148</td>\n",
              "      <td>Bachelors</td>\n",
              "      <td>13</td>\n",
              "      <td>Married-civ-spouse</td>\n",
              "      <td>Exec-managerial</td>\n",
              "      <td>Husband</td>\n",
              "      <td>White</td>\n",
              "      <td>Male</td>\n",
              "      <td>0.0</td>\n",
              "      <td>0.0</td>\n",
              "      <td>60.0</td>\n",
              "      <td>United-States</td>\n",
              "      <td>&gt;50K.</td>\n",
              "    </tr>\n",
              "  </tbody>\n",
              "</table>\n",
              "<p>24413 rows × 15 columns</p>\n",
              "</div>"
            ],
            "text/plain": [
              "       age          workclass  fnlwgt  ... hours_per_week  native_country    class\n",
              "0       39          State-gov   77516  ...           40.0   United-States    <=50K\n",
              "1       50   Self-emp-not-inc   83311  ...           13.0   United-States    <=50K\n",
              "2       38            Private  215646  ...           40.0   United-States    <=50K\n",
              "3       53            Private  234721  ...           40.0   United-States    <=50K\n",
              "5       37            Private  284582  ...           40.0   United-States    <=50K\n",
              "...    ...                ...     ...  ...            ...             ...      ...\n",
              "41089   33            Private  245211  ...           40.0   United-States   <=50K.\n",
              "41090   39            Private  215419  ...           36.0   United-States   <=50K.\n",
              "41092   38            Private  374983  ...           50.0   United-States   <=50K.\n",
              "41093   44            Private   83891  ...           40.0   United-States   <=50K.\n",
              "41094   35       Self-emp-inc  182148  ...           60.0   United-States    >50K.\n",
              "\n",
              "[24413 rows x 15 columns]"
            ]
          },
          "metadata": {},
          "execution_count": 11
        }
      ]
    },
    {
      "cell_type": "markdown",
      "metadata": {
        "id": "do55LS_USJbK"
      },
      "source": [
        "## Create Subset of DataFrame macthing a condition"
      ]
    },
    {
      "cell_type": "code",
      "metadata": {
        "id": "AIKxKGpaZCEP"
      },
      "source": [
        "data_age_90 = data.query(\"age==90\")"
      ],
      "execution_count": 12,
      "outputs": []
    },
    {
      "cell_type": "code",
      "metadata": {
        "colab": {
          "base_uri": "https://localhost:8080/"
        },
        "id": "ju6KI3d0FUA7",
        "outputId": "611b93a6-16c2-471b-bae8-c5b934f8f08a"
      },
      "source": [
        "data_age_90.shape"
      ],
      "execution_count": 13,
      "outputs": [
        {
          "output_type": "execute_result",
          "data": {
            "text/plain": [
              "(48, 15)"
            ]
          },
          "metadata": {},
          "execution_count": 13
        }
      ]
    },
    {
      "cell_type": "markdown",
      "metadata": {
        "id": "CDuBfAUUSP26"
      },
      "source": [
        "## Create a New Column exlauating Logical Expression"
      ]
    },
    {
      "cell_type": "code",
      "metadata": {
        "colab": {
          "base_uri": "https://localhost:8080/",
          "height": 206
        },
        "id": "LdnWRiXCY__B",
        "outputId": "b2120c21-88d3-4b31-d2c0-03958e7fe74e"
      },
      "source": [
        "data['is_age_gt_30'] = data['age']>30\n",
        "data[['age','is_age_gt_30']].head()"
      ],
      "execution_count": 14,
      "outputs": [
        {
          "output_type": "execute_result",
          "data": {
            "text/html": [
              "<div>\n",
              "<style scoped>\n",
              "    .dataframe tbody tr th:only-of-type {\n",
              "        vertical-align: middle;\n",
              "    }\n",
              "\n",
              "    .dataframe tbody tr th {\n",
              "        vertical-align: top;\n",
              "    }\n",
              "\n",
              "    .dataframe thead th {\n",
              "        text-align: right;\n",
              "    }\n",
              "</style>\n",
              "<table border=\"1\" class=\"dataframe\">\n",
              "  <thead>\n",
              "    <tr style=\"text-align: right;\">\n",
              "      <th></th>\n",
              "      <th>age</th>\n",
              "      <th>is_age_gt_30</th>\n",
              "    </tr>\n",
              "  </thead>\n",
              "  <tbody>\n",
              "    <tr>\n",
              "      <th>0</th>\n",
              "      <td>39</td>\n",
              "      <td>True</td>\n",
              "    </tr>\n",
              "    <tr>\n",
              "      <th>1</th>\n",
              "      <td>50</td>\n",
              "      <td>True</td>\n",
              "    </tr>\n",
              "    <tr>\n",
              "      <th>2</th>\n",
              "      <td>38</td>\n",
              "      <td>True</td>\n",
              "    </tr>\n",
              "    <tr>\n",
              "      <th>3</th>\n",
              "      <td>53</td>\n",
              "      <td>True</td>\n",
              "    </tr>\n",
              "    <tr>\n",
              "      <th>4</th>\n",
              "      <td>28</td>\n",
              "      <td>False</td>\n",
              "    </tr>\n",
              "  </tbody>\n",
              "</table>\n",
              "</div>"
            ],
            "text/plain": [
              "   age  is_age_gt_30\n",
              "0   39          True\n",
              "1   50          True\n",
              "2   38          True\n",
              "3   53          True\n",
              "4   28         False"
            ]
          },
          "metadata": {},
          "execution_count": 14
        }
      ]
    },
    {
      "cell_type": "code",
      "metadata": {
        "colab": {
          "base_uri": "https://localhost:8080/",
          "height": 330
        },
        "id": "IN-np25BYRWn",
        "outputId": "6a80450a-c0be-4076-b9b7-168f42b64ec1"
      },
      "source": [
        "data.loc[data['age']==90].head()"
      ],
      "execution_count": 15,
      "outputs": [
        {
          "output_type": "execute_result",
          "data": {
            "text/html": [
              "<div>\n",
              "<style scoped>\n",
              "    .dataframe tbody tr th:only-of-type {\n",
              "        vertical-align: middle;\n",
              "    }\n",
              "\n",
              "    .dataframe tbody tr th {\n",
              "        vertical-align: top;\n",
              "    }\n",
              "\n",
              "    .dataframe thead th {\n",
              "        text-align: right;\n",
              "    }\n",
              "</style>\n",
              "<table border=\"1\" class=\"dataframe\">\n",
              "  <thead>\n",
              "    <tr style=\"text-align: right;\">\n",
              "      <th></th>\n",
              "      <th>age</th>\n",
              "      <th>workclass</th>\n",
              "      <th>fnlwgt</th>\n",
              "      <th>education</th>\n",
              "      <th>education_num</th>\n",
              "      <th>marital_status</th>\n",
              "      <th>occupation</th>\n",
              "      <th>relationship</th>\n",
              "      <th>race</th>\n",
              "      <th>sex</th>\n",
              "      <th>capital_gain</th>\n",
              "      <th>capital_loss</th>\n",
              "      <th>hours_per_week</th>\n",
              "      <th>native_country</th>\n",
              "      <th>class</th>\n",
              "      <th>is_age_gt_30</th>\n",
              "    </tr>\n",
              "  </thead>\n",
              "  <tbody>\n",
              "    <tr>\n",
              "      <th>222</th>\n",
              "      <td>90</td>\n",
              "      <td>Private</td>\n",
              "      <td>51744</td>\n",
              "      <td>HS-grad</td>\n",
              "      <td>9</td>\n",
              "      <td>Never-married</td>\n",
              "      <td>Other-service</td>\n",
              "      <td>Not-in-family</td>\n",
              "      <td>Black</td>\n",
              "      <td>Male</td>\n",
              "      <td>0.0</td>\n",
              "      <td>2206.0</td>\n",
              "      <td>40.0</td>\n",
              "      <td>United-States</td>\n",
              "      <td>&lt;=50K</td>\n",
              "      <td>True</td>\n",
              "    </tr>\n",
              "    <tr>\n",
              "      <th>1040</th>\n",
              "      <td>90</td>\n",
              "      <td>Private</td>\n",
              "      <td>137018</td>\n",
              "      <td>HS-grad</td>\n",
              "      <td>9</td>\n",
              "      <td>Never-married</td>\n",
              "      <td>Other-service</td>\n",
              "      <td>Not-in-family</td>\n",
              "      <td>White</td>\n",
              "      <td>Female</td>\n",
              "      <td>0.0</td>\n",
              "      <td>0.0</td>\n",
              "      <td>40.0</td>\n",
              "      <td>United-States</td>\n",
              "      <td>&lt;=50K</td>\n",
              "      <td>True</td>\n",
              "    </tr>\n",
              "    <tr>\n",
              "      <th>1935</th>\n",
              "      <td>90</td>\n",
              "      <td>Private</td>\n",
              "      <td>221832</td>\n",
              "      <td>Bachelors</td>\n",
              "      <td>13</td>\n",
              "      <td>Married-civ-spouse</td>\n",
              "      <td>Exec-managerial</td>\n",
              "      <td>Husband</td>\n",
              "      <td>White</td>\n",
              "      <td>Male</td>\n",
              "      <td>0.0</td>\n",
              "      <td>0.0</td>\n",
              "      <td>45.0</td>\n",
              "      <td>United-States</td>\n",
              "      <td>&lt;=50K</td>\n",
              "      <td>True</td>\n",
              "    </tr>\n",
              "    <tr>\n",
              "      <th>2303</th>\n",
              "      <td>90</td>\n",
              "      <td>Private</td>\n",
              "      <td>52386</td>\n",
              "      <td>Some-college</td>\n",
              "      <td>10</td>\n",
              "      <td>Never-married</td>\n",
              "      <td>Other-service</td>\n",
              "      <td>Not-in-family</td>\n",
              "      <td>Asian-Pac-Islander</td>\n",
              "      <td>Male</td>\n",
              "      <td>0.0</td>\n",
              "      <td>0.0</td>\n",
              "      <td>35.0</td>\n",
              "      <td>United-States</td>\n",
              "      <td>&lt;=50K</td>\n",
              "      <td>True</td>\n",
              "    </tr>\n",
              "    <tr>\n",
              "      <th>2891</th>\n",
              "      <td>90</td>\n",
              "      <td>Private</td>\n",
              "      <td>171956</td>\n",
              "      <td>Some-college</td>\n",
              "      <td>10</td>\n",
              "      <td>Separated</td>\n",
              "      <td>Adm-clerical</td>\n",
              "      <td>Own-child</td>\n",
              "      <td>White</td>\n",
              "      <td>Female</td>\n",
              "      <td>0.0</td>\n",
              "      <td>0.0</td>\n",
              "      <td>40.0</td>\n",
              "      <td>Puerto-Rico</td>\n",
              "      <td>&lt;=50K</td>\n",
              "      <td>True</td>\n",
              "    </tr>\n",
              "  </tbody>\n",
              "</table>\n",
              "</div>"
            ],
            "text/plain": [
              "      age workclass  fnlwgt  ...  native_country   class is_age_gt_30\n",
              "222    90   Private   51744  ...   United-States   <=50K         True\n",
              "1040   90   Private  137018  ...   United-States   <=50K         True\n",
              "1935   90   Private  221832  ...   United-States   <=50K         True\n",
              "2303   90   Private   52386  ...   United-States   <=50K         True\n",
              "2891   90   Private  171956  ...     Puerto-Rico   <=50K         True\n",
              "\n",
              "[5 rows x 16 columns]"
            ]
          },
          "metadata": {},
          "execution_count": 15
        }
      ]
    },
    {
      "cell_type": "markdown",
      "metadata": {
        "id": "S2lwjzo3UIk4"
      },
      "source": [
        "# Drop Rows with Missing Values"
      ]
    },
    {
      "cell_type": "code",
      "metadata": {
        "colab": {
          "base_uri": "https://localhost:8080/"
        },
        "id": "6gevAr6SaW8T",
        "outputId": "866cf4f0-f49b-4197-a54c-ceef0605e535"
      },
      "source": [
        "data['class'].isna()"
      ],
      "execution_count": 16,
      "outputs": [
        {
          "output_type": "execute_result",
          "data": {
            "text/plain": [
              "0        False\n",
              "1        False\n",
              "2        False\n",
              "3        False\n",
              "4        False\n",
              "         ...  \n",
              "41090    False\n",
              "41091    False\n",
              "41092    False\n",
              "41093    False\n",
              "41094    False\n",
              "Name: class, Length: 41095, dtype: bool"
            ]
          },
          "metadata": {},
          "execution_count": 16
        }
      ]
    },
    {
      "cell_type": "code",
      "metadata": {
        "colab": {
          "base_uri": "https://localhost:8080/",
          "height": 118
        },
        "id": "-54buMDwZ_8H",
        "outputId": "63566bd7-d2ad-4b56-e133-3c6e29867552"
      },
      "source": [
        "data.loc[data['class'].isna()]"
      ],
      "execution_count": 17,
      "outputs": [
        {
          "output_type": "execute_result",
          "data": {
            "text/html": [
              "<div>\n",
              "<style scoped>\n",
              "    .dataframe tbody tr th:only-of-type {\n",
              "        vertical-align: middle;\n",
              "    }\n",
              "\n",
              "    .dataframe tbody tr th {\n",
              "        vertical-align: top;\n",
              "    }\n",
              "\n",
              "    .dataframe thead th {\n",
              "        text-align: right;\n",
              "    }\n",
              "</style>\n",
              "<table border=\"1\" class=\"dataframe\">\n",
              "  <thead>\n",
              "    <tr style=\"text-align: right;\">\n",
              "      <th></th>\n",
              "      <th>age</th>\n",
              "      <th>workclass</th>\n",
              "      <th>fnlwgt</th>\n",
              "      <th>education</th>\n",
              "      <th>education_num</th>\n",
              "      <th>marital_status</th>\n",
              "      <th>occupation</th>\n",
              "      <th>relationship</th>\n",
              "      <th>race</th>\n",
              "      <th>sex</th>\n",
              "      <th>capital_gain</th>\n",
              "      <th>capital_loss</th>\n",
              "      <th>hours_per_week</th>\n",
              "      <th>native_country</th>\n",
              "      <th>class</th>\n",
              "      <th>is_age_gt_30</th>\n",
              "    </tr>\n",
              "  </thead>\n",
              "  <tbody>\n",
              "    <tr>\n",
              "      <th>24818</th>\n",
              "      <td>25</td>\n",
              "      <td>Private</td>\n",
              "      <td>283515</td>\n",
              "      <td>Some-college</td>\n",
              "      <td>10</td>\n",
              "      <td>Never-married</td>\n",
              "      <td>Protective-serv</td>\n",
              "      <td>Not-in-family</td>\n",
              "      <td>White</td>\n",
              "      <td>Mal</td>\n",
              "      <td>NaN</td>\n",
              "      <td>NaN</td>\n",
              "      <td>NaN</td>\n",
              "      <td>NaN</td>\n",
              "      <td>NaN</td>\n",
              "      <td>False</td>\n",
              "    </tr>\n",
              "  </tbody>\n",
              "</table>\n",
              "</div>"
            ],
            "text/plain": [
              "       age workclass  fnlwgt  ... native_country  class is_age_gt_30\n",
              "24818   25   Private  283515  ...            NaN    NaN        False\n",
              "\n",
              "[1 rows x 16 columns]"
            ]
          },
          "metadata": {},
          "execution_count": 17
        }
      ]
    },
    {
      "cell_type": "code",
      "metadata": {
        "id": "8hFYBo_Zaiyv"
      },
      "source": [
        "# Numpy NaN\n",
        "a = np.NaN"
      ],
      "execution_count": 18,
      "outputs": []
    },
    {
      "cell_type": "code",
      "metadata": {
        "id": "CpLBq-wOatGO"
      },
      "source": [
        "data.dropna(how='any', axis=0, inplace=True)"
      ],
      "execution_count": 19,
      "outputs": []
    },
    {
      "cell_type": "code",
      "metadata": {
        "colab": {
          "base_uri": "https://localhost:8080/",
          "height": 49
        },
        "id": "baGZ3IiebX4l",
        "outputId": "0f0d1003-9e2a-494f-d5a9-7b51e299756f"
      },
      "source": [
        "data.loc[data['class'].isna()]"
      ],
      "execution_count": 20,
      "outputs": [
        {
          "output_type": "execute_result",
          "data": {
            "text/html": [
              "<div>\n",
              "<style scoped>\n",
              "    .dataframe tbody tr th:only-of-type {\n",
              "        vertical-align: middle;\n",
              "    }\n",
              "\n",
              "    .dataframe tbody tr th {\n",
              "        vertical-align: top;\n",
              "    }\n",
              "\n",
              "    .dataframe thead th {\n",
              "        text-align: right;\n",
              "    }\n",
              "</style>\n",
              "<table border=\"1\" class=\"dataframe\">\n",
              "  <thead>\n",
              "    <tr style=\"text-align: right;\">\n",
              "      <th></th>\n",
              "      <th>age</th>\n",
              "      <th>workclass</th>\n",
              "      <th>fnlwgt</th>\n",
              "      <th>education</th>\n",
              "      <th>education_num</th>\n",
              "      <th>marital_status</th>\n",
              "      <th>occupation</th>\n",
              "      <th>relationship</th>\n",
              "      <th>race</th>\n",
              "      <th>sex</th>\n",
              "      <th>capital_gain</th>\n",
              "      <th>capital_loss</th>\n",
              "      <th>hours_per_week</th>\n",
              "      <th>native_country</th>\n",
              "      <th>class</th>\n",
              "      <th>is_age_gt_30</th>\n",
              "    </tr>\n",
              "  </thead>\n",
              "  <tbody>\n",
              "  </tbody>\n",
              "</table>\n",
              "</div>"
            ],
            "text/plain": [
              "Empty DataFrame\n",
              "Columns: [age, workclass, fnlwgt, education, education_num, marital_status, occupation, relationship, race, sex, capital_gain, capital_loss, hours_per_week, native_country, class, is_age_gt_30]\n",
              "Index: []"
            ]
          },
          "metadata": {},
          "execution_count": 20
        }
      ]
    },
    {
      "cell_type": "code",
      "metadata": {
        "colab": {
          "base_uri": "https://localhost:8080/"
        },
        "id": "dwvZziObbmSq",
        "outputId": "86bd4441-f5f2-40dc-9634-092a7065a44f"
      },
      "source": [
        "data.shape"
      ],
      "execution_count": 21,
      "outputs": [
        {
          "output_type": "execute_result",
          "data": {
            "text/plain": [
              "(41094, 16)"
            ]
          },
          "metadata": {},
          "execution_count": 21
        }
      ]
    },
    {
      "cell_type": "markdown",
      "metadata": {
        "id": "T9xBOt0_RZXs"
      },
      "source": [
        "# Create Unique ID "
      ]
    },
    {
      "cell_type": "code",
      "metadata": {
        "colab": {
          "base_uri": "https://localhost:8080/",
          "height": 276
        },
        "id": "49iW9141Q7kh",
        "outputId": "05b8341b-62b6-4af0-fd59-4091b3a6a207"
      },
      "source": [
        "data.head()"
      ],
      "execution_count": 22,
      "outputs": [
        {
          "output_type": "execute_result",
          "data": {
            "text/html": [
              "<div>\n",
              "<style scoped>\n",
              "    .dataframe tbody tr th:only-of-type {\n",
              "        vertical-align: middle;\n",
              "    }\n",
              "\n",
              "    .dataframe tbody tr th {\n",
              "        vertical-align: top;\n",
              "    }\n",
              "\n",
              "    .dataframe thead th {\n",
              "        text-align: right;\n",
              "    }\n",
              "</style>\n",
              "<table border=\"1\" class=\"dataframe\">\n",
              "  <thead>\n",
              "    <tr style=\"text-align: right;\">\n",
              "      <th></th>\n",
              "      <th>age</th>\n",
              "      <th>workclass</th>\n",
              "      <th>fnlwgt</th>\n",
              "      <th>education</th>\n",
              "      <th>education_num</th>\n",
              "      <th>marital_status</th>\n",
              "      <th>occupation</th>\n",
              "      <th>relationship</th>\n",
              "      <th>race</th>\n",
              "      <th>sex</th>\n",
              "      <th>capital_gain</th>\n",
              "      <th>capital_loss</th>\n",
              "      <th>hours_per_week</th>\n",
              "      <th>native_country</th>\n",
              "      <th>class</th>\n",
              "      <th>is_age_gt_30</th>\n",
              "    </tr>\n",
              "  </thead>\n",
              "  <tbody>\n",
              "    <tr>\n",
              "      <th>0</th>\n",
              "      <td>39</td>\n",
              "      <td>State-gov</td>\n",
              "      <td>77516</td>\n",
              "      <td>Bachelors</td>\n",
              "      <td>13</td>\n",
              "      <td>Never-married</td>\n",
              "      <td>Adm-clerical</td>\n",
              "      <td>Not-in-family</td>\n",
              "      <td>White</td>\n",
              "      <td>Male</td>\n",
              "      <td>2174.0</td>\n",
              "      <td>0.0</td>\n",
              "      <td>40.0</td>\n",
              "      <td>United-States</td>\n",
              "      <td>&lt;=50K</td>\n",
              "      <td>True</td>\n",
              "    </tr>\n",
              "    <tr>\n",
              "      <th>1</th>\n",
              "      <td>50</td>\n",
              "      <td>Self-emp-not-inc</td>\n",
              "      <td>83311</td>\n",
              "      <td>Bachelors</td>\n",
              "      <td>13</td>\n",
              "      <td>Married-civ-spouse</td>\n",
              "      <td>Exec-managerial</td>\n",
              "      <td>Husband</td>\n",
              "      <td>White</td>\n",
              "      <td>Male</td>\n",
              "      <td>0.0</td>\n",
              "      <td>0.0</td>\n",
              "      <td>13.0</td>\n",
              "      <td>United-States</td>\n",
              "      <td>&lt;=50K</td>\n",
              "      <td>True</td>\n",
              "    </tr>\n",
              "    <tr>\n",
              "      <th>2</th>\n",
              "      <td>38</td>\n",
              "      <td>Private</td>\n",
              "      <td>215646</td>\n",
              "      <td>HS-grad</td>\n",
              "      <td>9</td>\n",
              "      <td>Divorced</td>\n",
              "      <td>Handlers-cleaners</td>\n",
              "      <td>Not-in-family</td>\n",
              "      <td>White</td>\n",
              "      <td>Male</td>\n",
              "      <td>0.0</td>\n",
              "      <td>0.0</td>\n",
              "      <td>40.0</td>\n",
              "      <td>United-States</td>\n",
              "      <td>&lt;=50K</td>\n",
              "      <td>True</td>\n",
              "    </tr>\n",
              "    <tr>\n",
              "      <th>3</th>\n",
              "      <td>53</td>\n",
              "      <td>Private</td>\n",
              "      <td>234721</td>\n",
              "      <td>11th</td>\n",
              "      <td>7</td>\n",
              "      <td>Married-civ-spouse</td>\n",
              "      <td>Handlers-cleaners</td>\n",
              "      <td>Husband</td>\n",
              "      <td>Black</td>\n",
              "      <td>Male</td>\n",
              "      <td>0.0</td>\n",
              "      <td>0.0</td>\n",
              "      <td>40.0</td>\n",
              "      <td>United-States</td>\n",
              "      <td>&lt;=50K</td>\n",
              "      <td>True</td>\n",
              "    </tr>\n",
              "    <tr>\n",
              "      <th>4</th>\n",
              "      <td>28</td>\n",
              "      <td>Private</td>\n",
              "      <td>338409</td>\n",
              "      <td>Bachelors</td>\n",
              "      <td>13</td>\n",
              "      <td>Married-civ-spouse</td>\n",
              "      <td>Prof-specialty</td>\n",
              "      <td>Wife</td>\n",
              "      <td>Black</td>\n",
              "      <td>Female</td>\n",
              "      <td>0.0</td>\n",
              "      <td>0.0</td>\n",
              "      <td>40.0</td>\n",
              "      <td>Cuba</td>\n",
              "      <td>&lt;=50K</td>\n",
              "      <td>False</td>\n",
              "    </tr>\n",
              "  </tbody>\n",
              "</table>\n",
              "</div>"
            ],
            "text/plain": [
              "   age          workclass  fnlwgt  ...  native_country   class is_age_gt_30\n",
              "0   39          State-gov   77516  ...   United-States   <=50K         True\n",
              "1   50   Self-emp-not-inc   83311  ...   United-States   <=50K         True\n",
              "2   38            Private  215646  ...   United-States   <=50K         True\n",
              "3   53            Private  234721  ...   United-States   <=50K         True\n",
              "4   28            Private  338409  ...            Cuba   <=50K        False\n",
              "\n",
              "[5 rows x 16 columns]"
            ]
          },
          "metadata": {},
          "execution_count": 22
        }
      ]
    },
    {
      "cell_type": "code",
      "metadata": {
        "colab": {
          "base_uri": "https://localhost:8080/"
        },
        "id": "Bbm0FDUgR_B8",
        "outputId": "e5a360cd-5b6e-4dee-b566-bd8ab41c2c43"
      },
      "source": [
        "data.index"
      ],
      "execution_count": 23,
      "outputs": [
        {
          "output_type": "execute_result",
          "data": {
            "text/plain": [
              "Int64Index([    0,     1,     2,     3,     4,     5,     6,     7,     8,\n",
              "                9,\n",
              "            ...\n",
              "            41085, 41086, 41087, 41088, 41089, 41090, 41091, 41092, 41093,\n",
              "            41094],\n",
              "           dtype='int64', length=41094)"
            ]
          },
          "metadata": {},
          "execution_count": 23
        }
      ]
    },
    {
      "cell_type": "code",
      "metadata": {
        "colab": {
          "base_uri": "https://localhost:8080/",
          "height": 296
        },
        "id": "scM_erm2RIaY",
        "outputId": "8bd956d6-ca02-4ca5-bd99-d951e2db8487"
      },
      "source": [
        "data['ID'] = data.index+1\n",
        "data.head()"
      ],
      "execution_count": 24,
      "outputs": [
        {
          "output_type": "execute_result",
          "data": {
            "text/html": [
              "<div>\n",
              "<style scoped>\n",
              "    .dataframe tbody tr th:only-of-type {\n",
              "        vertical-align: middle;\n",
              "    }\n",
              "\n",
              "    .dataframe tbody tr th {\n",
              "        vertical-align: top;\n",
              "    }\n",
              "\n",
              "    .dataframe thead th {\n",
              "        text-align: right;\n",
              "    }\n",
              "</style>\n",
              "<table border=\"1\" class=\"dataframe\">\n",
              "  <thead>\n",
              "    <tr style=\"text-align: right;\">\n",
              "      <th></th>\n",
              "      <th>age</th>\n",
              "      <th>workclass</th>\n",
              "      <th>fnlwgt</th>\n",
              "      <th>education</th>\n",
              "      <th>education_num</th>\n",
              "      <th>marital_status</th>\n",
              "      <th>occupation</th>\n",
              "      <th>relationship</th>\n",
              "      <th>race</th>\n",
              "      <th>sex</th>\n",
              "      <th>capital_gain</th>\n",
              "      <th>capital_loss</th>\n",
              "      <th>hours_per_week</th>\n",
              "      <th>native_country</th>\n",
              "      <th>class</th>\n",
              "      <th>is_age_gt_30</th>\n",
              "      <th>ID</th>\n",
              "    </tr>\n",
              "  </thead>\n",
              "  <tbody>\n",
              "    <tr>\n",
              "      <th>0</th>\n",
              "      <td>39</td>\n",
              "      <td>State-gov</td>\n",
              "      <td>77516</td>\n",
              "      <td>Bachelors</td>\n",
              "      <td>13</td>\n",
              "      <td>Never-married</td>\n",
              "      <td>Adm-clerical</td>\n",
              "      <td>Not-in-family</td>\n",
              "      <td>White</td>\n",
              "      <td>Male</td>\n",
              "      <td>2174.0</td>\n",
              "      <td>0.0</td>\n",
              "      <td>40.0</td>\n",
              "      <td>United-States</td>\n",
              "      <td>&lt;=50K</td>\n",
              "      <td>True</td>\n",
              "      <td>1</td>\n",
              "    </tr>\n",
              "    <tr>\n",
              "      <th>1</th>\n",
              "      <td>50</td>\n",
              "      <td>Self-emp-not-inc</td>\n",
              "      <td>83311</td>\n",
              "      <td>Bachelors</td>\n",
              "      <td>13</td>\n",
              "      <td>Married-civ-spouse</td>\n",
              "      <td>Exec-managerial</td>\n",
              "      <td>Husband</td>\n",
              "      <td>White</td>\n",
              "      <td>Male</td>\n",
              "      <td>0.0</td>\n",
              "      <td>0.0</td>\n",
              "      <td>13.0</td>\n",
              "      <td>United-States</td>\n",
              "      <td>&lt;=50K</td>\n",
              "      <td>True</td>\n",
              "      <td>2</td>\n",
              "    </tr>\n",
              "    <tr>\n",
              "      <th>2</th>\n",
              "      <td>38</td>\n",
              "      <td>Private</td>\n",
              "      <td>215646</td>\n",
              "      <td>HS-grad</td>\n",
              "      <td>9</td>\n",
              "      <td>Divorced</td>\n",
              "      <td>Handlers-cleaners</td>\n",
              "      <td>Not-in-family</td>\n",
              "      <td>White</td>\n",
              "      <td>Male</td>\n",
              "      <td>0.0</td>\n",
              "      <td>0.0</td>\n",
              "      <td>40.0</td>\n",
              "      <td>United-States</td>\n",
              "      <td>&lt;=50K</td>\n",
              "      <td>True</td>\n",
              "      <td>3</td>\n",
              "    </tr>\n",
              "    <tr>\n",
              "      <th>3</th>\n",
              "      <td>53</td>\n",
              "      <td>Private</td>\n",
              "      <td>234721</td>\n",
              "      <td>11th</td>\n",
              "      <td>7</td>\n",
              "      <td>Married-civ-spouse</td>\n",
              "      <td>Handlers-cleaners</td>\n",
              "      <td>Husband</td>\n",
              "      <td>Black</td>\n",
              "      <td>Male</td>\n",
              "      <td>0.0</td>\n",
              "      <td>0.0</td>\n",
              "      <td>40.0</td>\n",
              "      <td>United-States</td>\n",
              "      <td>&lt;=50K</td>\n",
              "      <td>True</td>\n",
              "      <td>4</td>\n",
              "    </tr>\n",
              "    <tr>\n",
              "      <th>4</th>\n",
              "      <td>28</td>\n",
              "      <td>Private</td>\n",
              "      <td>338409</td>\n",
              "      <td>Bachelors</td>\n",
              "      <td>13</td>\n",
              "      <td>Married-civ-spouse</td>\n",
              "      <td>Prof-specialty</td>\n",
              "      <td>Wife</td>\n",
              "      <td>Black</td>\n",
              "      <td>Female</td>\n",
              "      <td>0.0</td>\n",
              "      <td>0.0</td>\n",
              "      <td>40.0</td>\n",
              "      <td>Cuba</td>\n",
              "      <td>&lt;=50K</td>\n",
              "      <td>False</td>\n",
              "      <td>5</td>\n",
              "    </tr>\n",
              "  </tbody>\n",
              "</table>\n",
              "</div>"
            ],
            "text/plain": [
              "   age          workclass  fnlwgt  ...   class  is_age_gt_30 ID\n",
              "0   39          State-gov   77516  ...   <=50K          True  1\n",
              "1   50   Self-emp-not-inc   83311  ...   <=50K          True  2\n",
              "2   38            Private  215646  ...   <=50K          True  3\n",
              "3   53            Private  234721  ...   <=50K          True  4\n",
              "4   28            Private  338409  ...   <=50K         False  5\n",
              "\n",
              "[5 rows x 17 columns]"
            ]
          },
          "metadata": {},
          "execution_count": 24
        }
      ]
    },
    {
      "cell_type": "markdown",
      "metadata": {
        "id": "R-GVvUsRVWBt"
      },
      "source": [
        "# Rearranging Columns"
      ]
    },
    {
      "cell_type": "code",
      "metadata": {
        "colab": {
          "base_uri": "https://localhost:8080/"
        },
        "id": "_AqS9xzeNMHr",
        "outputId": "8d7681f1-fa22-4ecf-b936-4ac54c783b77"
      },
      "source": [
        "data.columns"
      ],
      "execution_count": 25,
      "outputs": [
        {
          "output_type": "execute_result",
          "data": {
            "text/plain": [
              "Index(['age', 'workclass', 'fnlwgt', 'education', 'education_num',\n",
              "       'marital_status', 'occupation', 'relationship', 'race', 'sex',\n",
              "       'capital_gain', 'capital_loss', 'hours_per_week', 'native_country',\n",
              "       'class', 'is_age_gt_30', 'ID'],\n",
              "      dtype='object')"
            ]
          },
          "metadata": {},
          "execution_count": 25
        }
      ]
    },
    {
      "cell_type": "code",
      "metadata": {
        "colab": {
          "base_uri": "https://localhost:8080/",
          "height": 206
        },
        "id": "zoMEG-vTSSrp",
        "outputId": "84b3eb48-958e-445e-9221-a21467f1c13b"
      },
      "source": [
        "data = data[['ID', 'age', 'workclass', 'education', 'education_num',\n",
        "       'marital_status', 'occupation', 'relationship', 'race', 'sex',\n",
        "       'capital_gain', 'capital_loss', 'hours_per_week', 'native_country',\n",
        "       'class']]\n",
        "\n",
        "data.head()"
      ],
      "execution_count": 26,
      "outputs": [
        {
          "output_type": "execute_result",
          "data": {
            "text/html": [
              "<div>\n",
              "<style scoped>\n",
              "    .dataframe tbody tr th:only-of-type {\n",
              "        vertical-align: middle;\n",
              "    }\n",
              "\n",
              "    .dataframe tbody tr th {\n",
              "        vertical-align: top;\n",
              "    }\n",
              "\n",
              "    .dataframe thead th {\n",
              "        text-align: right;\n",
              "    }\n",
              "</style>\n",
              "<table border=\"1\" class=\"dataframe\">\n",
              "  <thead>\n",
              "    <tr style=\"text-align: right;\">\n",
              "      <th></th>\n",
              "      <th>ID</th>\n",
              "      <th>age</th>\n",
              "      <th>workclass</th>\n",
              "      <th>education</th>\n",
              "      <th>education_num</th>\n",
              "      <th>marital_status</th>\n",
              "      <th>occupation</th>\n",
              "      <th>relationship</th>\n",
              "      <th>race</th>\n",
              "      <th>sex</th>\n",
              "      <th>capital_gain</th>\n",
              "      <th>capital_loss</th>\n",
              "      <th>hours_per_week</th>\n",
              "      <th>native_country</th>\n",
              "      <th>class</th>\n",
              "    </tr>\n",
              "  </thead>\n",
              "  <tbody>\n",
              "    <tr>\n",
              "      <th>0</th>\n",
              "      <td>1</td>\n",
              "      <td>39</td>\n",
              "      <td>State-gov</td>\n",
              "      <td>Bachelors</td>\n",
              "      <td>13</td>\n",
              "      <td>Never-married</td>\n",
              "      <td>Adm-clerical</td>\n",
              "      <td>Not-in-family</td>\n",
              "      <td>White</td>\n",
              "      <td>Male</td>\n",
              "      <td>2174.0</td>\n",
              "      <td>0.0</td>\n",
              "      <td>40.0</td>\n",
              "      <td>United-States</td>\n",
              "      <td>&lt;=50K</td>\n",
              "    </tr>\n",
              "    <tr>\n",
              "      <th>1</th>\n",
              "      <td>2</td>\n",
              "      <td>50</td>\n",
              "      <td>Self-emp-not-inc</td>\n",
              "      <td>Bachelors</td>\n",
              "      <td>13</td>\n",
              "      <td>Married-civ-spouse</td>\n",
              "      <td>Exec-managerial</td>\n",
              "      <td>Husband</td>\n",
              "      <td>White</td>\n",
              "      <td>Male</td>\n",
              "      <td>0.0</td>\n",
              "      <td>0.0</td>\n",
              "      <td>13.0</td>\n",
              "      <td>United-States</td>\n",
              "      <td>&lt;=50K</td>\n",
              "    </tr>\n",
              "    <tr>\n",
              "      <th>2</th>\n",
              "      <td>3</td>\n",
              "      <td>38</td>\n",
              "      <td>Private</td>\n",
              "      <td>HS-grad</td>\n",
              "      <td>9</td>\n",
              "      <td>Divorced</td>\n",
              "      <td>Handlers-cleaners</td>\n",
              "      <td>Not-in-family</td>\n",
              "      <td>White</td>\n",
              "      <td>Male</td>\n",
              "      <td>0.0</td>\n",
              "      <td>0.0</td>\n",
              "      <td>40.0</td>\n",
              "      <td>United-States</td>\n",
              "      <td>&lt;=50K</td>\n",
              "    </tr>\n",
              "    <tr>\n",
              "      <th>3</th>\n",
              "      <td>4</td>\n",
              "      <td>53</td>\n",
              "      <td>Private</td>\n",
              "      <td>11th</td>\n",
              "      <td>7</td>\n",
              "      <td>Married-civ-spouse</td>\n",
              "      <td>Handlers-cleaners</td>\n",
              "      <td>Husband</td>\n",
              "      <td>Black</td>\n",
              "      <td>Male</td>\n",
              "      <td>0.0</td>\n",
              "      <td>0.0</td>\n",
              "      <td>40.0</td>\n",
              "      <td>United-States</td>\n",
              "      <td>&lt;=50K</td>\n",
              "    </tr>\n",
              "    <tr>\n",
              "      <th>4</th>\n",
              "      <td>5</td>\n",
              "      <td>28</td>\n",
              "      <td>Private</td>\n",
              "      <td>Bachelors</td>\n",
              "      <td>13</td>\n",
              "      <td>Married-civ-spouse</td>\n",
              "      <td>Prof-specialty</td>\n",
              "      <td>Wife</td>\n",
              "      <td>Black</td>\n",
              "      <td>Female</td>\n",
              "      <td>0.0</td>\n",
              "      <td>0.0</td>\n",
              "      <td>40.0</td>\n",
              "      <td>Cuba</td>\n",
              "      <td>&lt;=50K</td>\n",
              "    </tr>\n",
              "  </tbody>\n",
              "</table>\n",
              "</div>"
            ],
            "text/plain": [
              "   ID  age          workclass  ... hours_per_week  native_country   class\n",
              "0   1   39          State-gov  ...           40.0   United-States   <=50K\n",
              "1   2   50   Self-emp-not-inc  ...           13.0   United-States   <=50K\n",
              "2   3   38            Private  ...           40.0   United-States   <=50K\n",
              "3   4   53            Private  ...           40.0   United-States   <=50K\n",
              "4   5   28            Private  ...           40.0            Cuba   <=50K\n",
              "\n",
              "[5 rows x 15 columns]"
            ]
          },
          "metadata": {},
          "execution_count": 26
        }
      ]
    },
    {
      "cell_type": "code",
      "metadata": {
        "colab": {
          "base_uri": "https://localhost:8080/",
          "height": 520
        },
        "id": "U7hHDNR0bdGk",
        "outputId": "b1d37c5a-13e7-462c-a381-ff70696156ba"
      },
      "source": [
        "data.describe(include='all').transpose()"
      ],
      "execution_count": 27,
      "outputs": [
        {
          "output_type": "execute_result",
          "data": {
            "text/html": [
              "<div>\n",
              "<style scoped>\n",
              "    .dataframe tbody tr th:only-of-type {\n",
              "        vertical-align: middle;\n",
              "    }\n",
              "\n",
              "    .dataframe tbody tr th {\n",
              "        vertical-align: top;\n",
              "    }\n",
              "\n",
              "    .dataframe thead th {\n",
              "        text-align: right;\n",
              "    }\n",
              "</style>\n",
              "<table border=\"1\" class=\"dataframe\">\n",
              "  <thead>\n",
              "    <tr style=\"text-align: right;\">\n",
              "      <th></th>\n",
              "      <th>count</th>\n",
              "      <th>unique</th>\n",
              "      <th>top</th>\n",
              "      <th>freq</th>\n",
              "      <th>mean</th>\n",
              "      <th>std</th>\n",
              "      <th>min</th>\n",
              "      <th>25%</th>\n",
              "      <th>50%</th>\n",
              "      <th>75%</th>\n",
              "      <th>max</th>\n",
              "    </tr>\n",
              "  </thead>\n",
              "  <tbody>\n",
              "    <tr>\n",
              "      <th>ID</th>\n",
              "      <td>41094</td>\n",
              "      <td>NaN</td>\n",
              "      <td>NaN</td>\n",
              "      <td>NaN</td>\n",
              "      <td>20547.9</td>\n",
              "      <td>11863.4</td>\n",
              "      <td>1</td>\n",
              "      <td>10274.2</td>\n",
              "      <td>20547.5</td>\n",
              "      <td>30821.8</td>\n",
              "      <td>41095</td>\n",
              "    </tr>\n",
              "    <tr>\n",
              "      <th>age</th>\n",
              "      <td>41094</td>\n",
              "      <td>NaN</td>\n",
              "      <td>NaN</td>\n",
              "      <td>NaN</td>\n",
              "      <td>38.6698</td>\n",
              "      <td>13.7482</td>\n",
              "      <td>17</td>\n",
              "      <td>28</td>\n",
              "      <td>37</td>\n",
              "      <td>48</td>\n",
              "      <td>90</td>\n",
              "    </tr>\n",
              "    <tr>\n",
              "      <th>workclass</th>\n",
              "      <td>41094</td>\n",
              "      <td>9</td>\n",
              "      <td>Private</td>\n",
              "      <td>28450</td>\n",
              "      <td>NaN</td>\n",
              "      <td>NaN</td>\n",
              "      <td>NaN</td>\n",
              "      <td>NaN</td>\n",
              "      <td>NaN</td>\n",
              "      <td>NaN</td>\n",
              "      <td>NaN</td>\n",
              "    </tr>\n",
              "    <tr>\n",
              "      <th>education</th>\n",
              "      <td>41094</td>\n",
              "      <td>16</td>\n",
              "      <td>HS-grad</td>\n",
              "      <td>13345</td>\n",
              "      <td>NaN</td>\n",
              "      <td>NaN</td>\n",
              "      <td>NaN</td>\n",
              "      <td>NaN</td>\n",
              "      <td>NaN</td>\n",
              "      <td>NaN</td>\n",
              "      <td>NaN</td>\n",
              "    </tr>\n",
              "    <tr>\n",
              "      <th>education_num</th>\n",
              "      <td>41094</td>\n",
              "      <td>NaN</td>\n",
              "      <td>NaN</td>\n",
              "      <td>NaN</td>\n",
              "      <td>10.0794</td>\n",
              "      <td>2.56094</td>\n",
              "      <td>1</td>\n",
              "      <td>9</td>\n",
              "      <td>10</td>\n",
              "      <td>12</td>\n",
              "      <td>16</td>\n",
              "    </tr>\n",
              "    <tr>\n",
              "      <th>marital_status</th>\n",
              "      <td>41094</td>\n",
              "      <td>7</td>\n",
              "      <td>Married-civ-spouse</td>\n",
              "      <td>18770</td>\n",
              "      <td>NaN</td>\n",
              "      <td>NaN</td>\n",
              "      <td>NaN</td>\n",
              "      <td>NaN</td>\n",
              "      <td>NaN</td>\n",
              "      <td>NaN</td>\n",
              "      <td>NaN</td>\n",
              "    </tr>\n",
              "    <tr>\n",
              "      <th>occupation</th>\n",
              "      <td>41094</td>\n",
              "      <td>15</td>\n",
              "      <td>Prof-specialty</td>\n",
              "      <td>5193</td>\n",
              "      <td>NaN</td>\n",
              "      <td>NaN</td>\n",
              "      <td>NaN</td>\n",
              "      <td>NaN</td>\n",
              "      <td>NaN</td>\n",
              "      <td>NaN</td>\n",
              "      <td>NaN</td>\n",
              "    </tr>\n",
              "    <tr>\n",
              "      <th>relationship</th>\n",
              "      <td>41094</td>\n",
              "      <td>6</td>\n",
              "      <td>Husband</td>\n",
              "      <td>16520</td>\n",
              "      <td>NaN</td>\n",
              "      <td>NaN</td>\n",
              "      <td>NaN</td>\n",
              "      <td>NaN</td>\n",
              "      <td>NaN</td>\n",
              "      <td>NaN</td>\n",
              "      <td>NaN</td>\n",
              "    </tr>\n",
              "    <tr>\n",
              "      <th>race</th>\n",
              "      <td>41094</td>\n",
              "      <td>5</td>\n",
              "      <td>White</td>\n",
              "      <td>35179</td>\n",
              "      <td>NaN</td>\n",
              "      <td>NaN</td>\n",
              "      <td>NaN</td>\n",
              "      <td>NaN</td>\n",
              "      <td>NaN</td>\n",
              "      <td>NaN</td>\n",
              "      <td>NaN</td>\n",
              "    </tr>\n",
              "    <tr>\n",
              "      <th>sex</th>\n",
              "      <td>41094</td>\n",
              "      <td>2</td>\n",
              "      <td>Male</td>\n",
              "      <td>27446</td>\n",
              "      <td>NaN</td>\n",
              "      <td>NaN</td>\n",
              "      <td>NaN</td>\n",
              "      <td>NaN</td>\n",
              "      <td>NaN</td>\n",
              "      <td>NaN</td>\n",
              "      <td>NaN</td>\n",
              "    </tr>\n",
              "    <tr>\n",
              "      <th>capital_gain</th>\n",
              "      <td>41094</td>\n",
              "      <td>NaN</td>\n",
              "      <td>NaN</td>\n",
              "      <td>NaN</td>\n",
              "      <td>1085.01</td>\n",
              "      <td>7509.93</td>\n",
              "      <td>0</td>\n",
              "      <td>0</td>\n",
              "      <td>0</td>\n",
              "      <td>0</td>\n",
              "      <td>99999</td>\n",
              "    </tr>\n",
              "    <tr>\n",
              "      <th>capital_loss</th>\n",
              "      <td>41094</td>\n",
              "      <td>NaN</td>\n",
              "      <td>NaN</td>\n",
              "      <td>NaN</td>\n",
              "      <td>86.8991</td>\n",
              "      <td>401.669</td>\n",
              "      <td>0</td>\n",
              "      <td>0</td>\n",
              "      <td>0</td>\n",
              "      <td>0</td>\n",
              "      <td>4356</td>\n",
              "    </tr>\n",
              "    <tr>\n",
              "      <th>hours_per_week</th>\n",
              "      <td>41094</td>\n",
              "      <td>NaN</td>\n",
              "      <td>NaN</td>\n",
              "      <td>NaN</td>\n",
              "      <td>40.4046</td>\n",
              "      <td>12.3719</td>\n",
              "      <td>1</td>\n",
              "      <td>40</td>\n",
              "      <td>40</td>\n",
              "      <td>45</td>\n",
              "      <td>99</td>\n",
              "    </tr>\n",
              "    <tr>\n",
              "      <th>native_country</th>\n",
              "      <td>41094</td>\n",
              "      <td>42</td>\n",
              "      <td>United-States</td>\n",
              "      <td>36919</td>\n",
              "      <td>NaN</td>\n",
              "      <td>NaN</td>\n",
              "      <td>NaN</td>\n",
              "      <td>NaN</td>\n",
              "      <td>NaN</td>\n",
              "      <td>NaN</td>\n",
              "      <td>NaN</td>\n",
              "    </tr>\n",
              "    <tr>\n",
              "      <th>class</th>\n",
              "      <td>41094</td>\n",
              "      <td>4</td>\n",
              "      <td>&lt;=50K</td>\n",
              "      <td>18867</td>\n",
              "      <td>NaN</td>\n",
              "      <td>NaN</td>\n",
              "      <td>NaN</td>\n",
              "      <td>NaN</td>\n",
              "      <td>NaN</td>\n",
              "      <td>NaN</td>\n",
              "      <td>NaN</td>\n",
              "    </tr>\n",
              "  </tbody>\n",
              "</table>\n",
              "</div>"
            ],
            "text/plain": [
              "                count unique                  top  ...      50%      75%    max\n",
              "ID              41094    NaN                  NaN  ...  20547.5  30821.8  41095\n",
              "age             41094    NaN                  NaN  ...       37       48     90\n",
              "workclass       41094      9              Private  ...      NaN      NaN    NaN\n",
              "education       41094     16              HS-grad  ...      NaN      NaN    NaN\n",
              "education_num   41094    NaN                  NaN  ...       10       12     16\n",
              "marital_status  41094      7   Married-civ-spouse  ...      NaN      NaN    NaN\n",
              "occupation      41094     15       Prof-specialty  ...      NaN      NaN    NaN\n",
              "relationship    41094      6              Husband  ...      NaN      NaN    NaN\n",
              "race            41094      5                White  ...      NaN      NaN    NaN\n",
              "sex             41094      2                 Male  ...      NaN      NaN    NaN\n",
              "capital_gain    41094    NaN                  NaN  ...        0        0  99999\n",
              "capital_loss    41094    NaN                  NaN  ...        0        0   4356\n",
              "hours_per_week  41094    NaN                  NaN  ...       40       45     99\n",
              "native_country  41094     42        United-States  ...      NaN      NaN    NaN\n",
              "class           41094      4                <=50K  ...      NaN      NaN    NaN\n",
              "\n",
              "[15 rows x 11 columns]"
            ]
          },
          "metadata": {},
          "execution_count": 27
        }
      ]
    },
    {
      "cell_type": "markdown",
      "metadata": {
        "id": "zKacoZI0UUUa"
      },
      "source": [
        "# Descriptive Statistics For Numerical Columns"
      ]
    },
    {
      "cell_type": "code",
      "metadata": {
        "id": "knTC5dT0bjEv"
      },
      "source": [
        "# mean\n",
        "# median\n",
        "# min/max\n",
        "# std"
      ],
      "execution_count": 28,
      "outputs": []
    },
    {
      "cell_type": "code",
      "metadata": {
        "colab": {
          "base_uri": "https://localhost:8080/"
        },
        "id": "p8AbewEwI4JY",
        "outputId": "ebb629d0-d168-4acd-c04f-0b4d6957f429"
      },
      "source": [
        "data['age'].describe()"
      ],
      "execution_count": 29,
      "outputs": [
        {
          "output_type": "execute_result",
          "data": {
            "text/plain": [
              "count    41094.000000\n",
              "mean        38.669757\n",
              "std         13.748166\n",
              "min         17.000000\n",
              "25%         28.000000\n",
              "50%         37.000000\n",
              "75%         48.000000\n",
              "max         90.000000\n",
              "Name: age, dtype: float64"
            ]
          },
          "metadata": {},
          "execution_count": 29
        }
      ]
    },
    {
      "cell_type": "code",
      "metadata": {
        "colab": {
          "base_uri": "https://localhost:8080/",
          "height": 285
        },
        "id": "OsqsNuzJI3hM",
        "outputId": "56bd7878-e910-448a-ff2c-1c7783790f22"
      },
      "source": [
        "f,ax0 = plt.subplots()\n",
        "ax1 = ax0.twinx()\n",
        "\n",
        "data['age'].plot(kind='hist', bins=10, ax=ax0)\n",
        "data['age'].plot(kind='kde', c='red', ax=ax1)"
      ],
      "execution_count": 30,
      "outputs": [
        {
          "output_type": "execute_result",
          "data": {
            "text/plain": [
              "<matplotlib.axes._subplots.AxesSubplot at 0x7f9323e37b10>"
            ]
          },
          "metadata": {},
          "execution_count": 30
        },
        {
          "output_type": "display_data",
          "data": {
            "image/png": "[encoded data removed]",
            "text/plain": [
              "<Figure size 432x288 with 2 Axes>"
            ]
          },
          "metadata": {
            "needs_background": "light"
          }
        }
      ]
    },
    {
      "cell_type": "code",
      "metadata": {
        "colab": {
          "base_uri": "https://localhost:8080/",
          "height": 387
        },
        "id": "YKHdIUXvJ9Lx",
        "outputId": "8ef4aaad-c84d-486e-a63c-5b7fe90ea400"
      },
      "source": [
        "sns.displot(kind='hist', x='age', data=data, bins=10, kde=True)"
      ],
      "execution_count": 31,
      "outputs": [
        {
          "output_type": "execute_result",
          "data": {
            "text/plain": [
              "<seaborn.axisgrid.FacetGrid at 0x7f93194783d0>"
            ]
          },
          "metadata": {},
          "execution_count": 31
        },
        {
          "output_type": "display_data",
          "data": {
            "image/png": "[encoded data removed]",
            "text/plain": [
              "<Figure size 360x360 with 1 Axes>"
            ]
          },
          "metadata": {
            "needs_background": "light"
          }
        }
      ]
    },
    {
      "cell_type": "code",
      "metadata": {
        "colab": {
          "base_uri": "https://localhost:8080/",
          "height": 283
        },
        "id": "4l7yFtPQJAWx",
        "outputId": "e0e79085-caec-4ec0-8ac2-fc92118e03eb"
      },
      "source": [
        "data['age'].plot(kind='box')"
      ],
      "execution_count": 32,
      "outputs": [
        {
          "output_type": "execute_result",
          "data": {
            "text/plain": [
              "<matplotlib.axes._subplots.AxesSubplot at 0x7f9319478a90>"
            ]
          },
          "metadata": {},
          "execution_count": 32
        },
        {
          "output_type": "display_data",
          "data": {
            "image/png": "[encoded data removed]",
            "text/plain": [
              "<Figure size 432x288 with 1 Axes>"
            ]
          },
          "metadata": {
            "needs_background": "light"
          }
        }
      ]
    },
    {
      "cell_type": "code",
      "metadata": {
        "colab": {
          "base_uri": "https://localhost:8080/",
          "height": 270
        },
        "id": "NRJqwIHLJZw4",
        "outputId": "0ba5fa98-5f1b-4b2b-e767-b55e95ff9a6f"
      },
      "source": [
        "sns.boxplot(y=\"age\", data=data)"
      ],
      "execution_count": 33,
      "outputs": [
        {
          "output_type": "execute_result",
          "data": {
            "text/plain": [
              "<matplotlib.axes._subplots.AxesSubplot at 0x7f9318ef6310>"
            ]
          },
          "metadata": {},
          "execution_count": 33
        },
        {
          "output_type": "display_data",
          "data": {
            "image/png": "[encoded data removed]",
            "text/plain": [
              "<Figure size 432x288 with 1 Axes>"
            ]
          },
          "metadata": {
            "needs_background": "light"
          }
        }
      ]
    },
    {
      "cell_type": "markdown",
      "metadata": {
        "id": "AoNGkufIUfr1"
      },
      "source": [
        "# Exploring Categorical Variables"
      ]
    },
    {
      "cell_type": "code",
      "metadata": {
        "colab": {
          "base_uri": "https://localhost:8080/"
        },
        "id": "tWr3tgkELEbp",
        "outputId": "d80b9b7b-24e0-48b0-bb33-dcd4c0590de1"
      },
      "source": [
        "data['education'].head()"
      ],
      "execution_count": 34,
      "outputs": [
        {
          "output_type": "execute_result",
          "data": {
            "text/plain": [
              "0     Bachelors\n",
              "1     Bachelors\n",
              "2       HS-grad\n",
              "3          11th\n",
              "4     Bachelors\n",
              "Name: education, dtype: object"
            ]
          },
          "metadata": {},
          "execution_count": 34
        }
      ]
    },
    {
      "cell_type": "code",
      "metadata": {
        "colab": {
          "base_uri": "https://localhost:8080/"
        },
        "id": "fE-1Zq3XLpTU",
        "outputId": "5b40acd6-a25c-42e4-fcf4-2888d13270c7"
      },
      "source": [
        "edu_vals = data['education'].unique()\n",
        "edu_vals"
      ],
      "execution_count": 35,
      "outputs": [
        {
          "output_type": "execute_result",
          "data": {
            "text/plain": [
              "array([' Bachelors', ' HS-grad', ' 11th', ' Masters', ' 9th',\n",
              "       ' Some-college', ' Assoc-acdm', ' Assoc-voc', ' 7th-8th',\n",
              "       ' Doctorate', ' Prof-school', ' 5th-6th', ' 10th', ' 1st-4th',\n",
              "       ' Preschool', ' 12th'], dtype=object)"
            ]
          },
          "metadata": {},
          "execution_count": 35
        }
      ]
    },
    {
      "cell_type": "code",
      "metadata": {
        "colab": {
          "base_uri": "https://localhost:8080/"
        },
        "id": "6sIUdQo7MKqo",
        "outputId": "b077559a-0ef5-4595-ea35-3d65e26f4ccc"
      },
      "source": [
        "len(edu_vals)"
      ],
      "execution_count": 36,
      "outputs": [
        {
          "output_type": "execute_result",
          "data": {
            "text/plain": [
              "16"
            ]
          },
          "metadata": {},
          "execution_count": 36
        }
      ]
    },
    {
      "cell_type": "code",
      "metadata": {
        "colab": {
          "base_uri": "https://localhost:8080/"
        },
        "id": "NqpBdskkMdCJ",
        "outputId": "191993a1-789b-4285-9379-8a9ab2ea8c3a"
      },
      "source": [
        "data['education'].nunique()"
      ],
      "execution_count": 37,
      "outputs": [
        {
          "output_type": "execute_result",
          "data": {
            "text/plain": [
              "16"
            ]
          },
          "metadata": {},
          "execution_count": 37
        }
      ]
    },
    {
      "cell_type": "code",
      "metadata": {
        "colab": {
          "base_uri": "https://localhost:8080/"
        },
        "id": "7yPayPvmMoCR",
        "outputId": "4f9067a3-c395-4923-834d-265d9e32eeb4"
      },
      "source": [
        "data['education'].value_counts()"
      ],
      "execution_count": 38,
      "outputs": [
        {
          "output_type": "execute_result",
          "data": {
            "text/plain": [
              " HS-grad         13345\n",
              " Some-college     9137\n",
              " Bachelors        6778\n",
              " Masters          2231\n",
              " Assoc-voc        1734\n",
              " 11th             1542\n",
              " Assoc-acdm       1325\n",
              " 10th             1172\n",
              " 7th-8th           797\n",
              " Prof-school       685\n",
              " 9th               628\n",
              " 12th              542\n",
              " Doctorate         495\n",
              " 5th-6th           420\n",
              " 1st-4th           196\n",
              " Preschool          67\n",
              "Name: education, dtype: int64"
            ]
          },
          "metadata": {},
          "execution_count": 38
        }
      ]
    },
    {
      "cell_type": "code",
      "metadata": {
        "colab": {
          "base_uri": "https://localhost:8080/",
          "height": 348
        },
        "id": "v4yHjUW5Mzs6",
        "outputId": "64f0f32c-bf49-41bb-c7e8-024d692587f3"
      },
      "source": [
        "data['education'].value_counts().plot(kind='bar')"
      ],
      "execution_count": 39,
      "outputs": [
        {
          "output_type": "execute_result",
          "data": {
            "text/plain": [
              "<matplotlib.axes._subplots.AxesSubplot at 0x7f9318e7f550>"
            ]
          },
          "metadata": {},
          "execution_count": 39
        },
        {
          "output_type": "display_data",
          "data": {
            "image/png": "[encoded data removed]",
            "text/plain": [
              "<Figure size 432x288 with 1 Axes>"
            ]
          },
          "metadata": {
            "needs_background": "light"
          }
        }
      ]
    },
    {
      "cell_type": "code",
      "metadata": {
        "colab": {
          "base_uri": "https://localhost:8080/"
        },
        "id": "llv2OoIbOJ4o",
        "outputId": "e61e5836-c0ff-4144-d871-fff32f518e8a"
      },
      "source": [
        "edu_values = data['education'].value_counts()\n",
        "edu_values"
      ],
      "execution_count": 40,
      "outputs": [
        {
          "output_type": "execute_result",
          "data": {
            "text/plain": [
              " HS-grad         13345\n",
              " Some-college     9137\n",
              " Bachelors        6778\n",
              " Masters          2231\n",
              " Assoc-voc        1734\n",
              " 11th             1542\n",
              " Assoc-acdm       1325\n",
              " 10th             1172\n",
              " 7th-8th           797\n",
              " Prof-school       685\n",
              " 9th               628\n",
              " 12th              542\n",
              " Doctorate         495\n",
              " 5th-6th           420\n",
              " 1st-4th           196\n",
              " Preschool          67\n",
              "Name: education, dtype: int64"
            ]
          },
          "metadata": {},
          "execution_count": 40
        }
      ]
    },
    {
      "cell_type": "code",
      "metadata": {
        "colab": {
          "base_uri": "https://localhost:8080/"
        },
        "id": "elKHkhJrOJ_O",
        "outputId": "ea4e0318-073d-40e0-cdce-d4faa471446f"
      },
      "source": [
        "type(edu_values)"
      ],
      "execution_count": 41,
      "outputs": [
        {
          "output_type": "execute_result",
          "data": {
            "text/plain": [
              "pandas.core.series.Series"
            ]
          },
          "metadata": {},
          "execution_count": 41
        }
      ]
    },
    {
      "cell_type": "code",
      "metadata": {
        "colab": {
          "base_uri": "https://localhost:8080/"
        },
        "id": "aQHlXksWOpjM",
        "outputId": "3d2d573f-b5c9-4733-d4c4-4940dd7a5374"
      },
      "source": [
        "edu_values.index"
      ],
      "execution_count": 42,
      "outputs": [
        {
          "output_type": "execute_result",
          "data": {
            "text/plain": [
              "Index([' HS-grad', ' Some-college', ' Bachelors', ' Masters', ' Assoc-voc',\n",
              "       ' 11th', ' Assoc-acdm', ' 10th', ' 7th-8th', ' Prof-school', ' 9th',\n",
              "       ' 12th', ' Doctorate', ' 5th-6th', ' 1st-4th', ' Preschool'],\n",
              "      dtype='object')"
            ]
          },
          "metadata": {},
          "execution_count": 42
        }
      ]
    },
    {
      "cell_type": "code",
      "metadata": {
        "colab": {
          "base_uri": "https://localhost:8080/"
        },
        "id": "clrZ9i2eOt4R",
        "outputId": "86a40b3b-b72e-44bb-8c40-3df9ff5df4f5"
      },
      "source": [
        "edu_values.values"
      ],
      "execution_count": 43,
      "outputs": [
        {
          "output_type": "execute_result",
          "data": {
            "text/plain": [
              "array([13345,  9137,  6778,  2231,  1734,  1542,  1325,  1172,   797,\n",
              "         685,   628,   542,   495,   420,   196,    67])"
            ]
          },
          "metadata": {},
          "execution_count": 43
        }
      ]
    },
    {
      "cell_type": "code",
      "metadata": {
        "colab": {
          "base_uri": "https://localhost:8080/"
        },
        "id": "N1ekpQYyOxaj",
        "outputId": "437165f3-8b39-47ad-d577-2b95d0207e7e"
      },
      "source": [
        "data.head().values"
      ],
      "execution_count": 44,
      "outputs": [
        {
          "output_type": "execute_result",
          "data": {
            "text/plain": [
              "array([[1, 39, ' State-gov', ' Bachelors', 13, ' Never-married',\n",
              "        ' Adm-clerical', ' Not-in-family', ' White', ' Male', 2174.0,\n",
              "        0.0, 40.0, ' United-States', ' <=50K'],\n",
              "       [2, 50, ' Self-emp-not-inc', ' Bachelors', 13,\n",
              "        ' Married-civ-spouse', ' Exec-managerial', ' Husband', ' White',\n",
              "        ' Male', 0.0, 0.0, 13.0, ' United-States', ' <=50K'],\n",
              "       [3, 38, ' Private', ' HS-grad', 9, ' Divorced',\n",
              "        ' Handlers-cleaners', ' Not-in-family', ' White', ' Male', 0.0,\n",
              "        0.0, 40.0, ' United-States', ' <=50K'],\n",
              "       [4, 53, ' Private', ' 11th', 7, ' Married-civ-spouse',\n",
              "        ' Handlers-cleaners', ' Husband', ' Black', ' Male', 0.0, 0.0,\n",
              "        40.0, ' United-States', ' <=50K'],\n",
              "       [5, 28, ' Private', ' Bachelors', 13, ' Married-civ-spouse',\n",
              "        ' Prof-specialty', ' Wife', ' Black', ' Female', 0.0, 0.0, 40.0,\n",
              "        ' Cuba', ' <=50K']], dtype=object)"
            ]
          },
          "metadata": {},
          "execution_count": 44
        }
      ]
    },
    {
      "cell_type": "code",
      "metadata": {
        "colab": {
          "base_uri": "https://localhost:8080/"
        },
        "id": "Ck_xQdMUS9JK",
        "outputId": "d6aab1e6-6267-41a2-9695-336d1c45598f"
      },
      "source": [
        "data['education'].describe()"
      ],
      "execution_count": 45,
      "outputs": [
        {
          "output_type": "execute_result",
          "data": {
            "text/plain": [
              "count        41094\n",
              "unique          16\n",
              "top        HS-grad\n",
              "freq         13345\n",
              "Name: education, dtype: object"
            ]
          },
          "metadata": {},
          "execution_count": 45
        }
      ]
    },
    {
      "cell_type": "code",
      "metadata": {
        "colab": {
          "base_uri": "https://localhost:8080/"
        },
        "id": "c4flUWJnPmDc",
        "outputId": "c17f9ca6-eb5e-4625-a1f2-fc77339cc6d0"
      },
      "source": [
        "data['age'].max()"
      ],
      "execution_count": 46,
      "outputs": [
        {
          "output_type": "execute_result",
          "data": {
            "text/plain": [
              "90"
            ]
          },
          "metadata": {},
          "execution_count": 46
        }
      ]
    },
    {
      "cell_type": "code",
      "metadata": {
        "colab": {
          "base_uri": "https://localhost:8080/"
        },
        "id": "L4mHRPJQN2tx",
        "outputId": "30d3efe2-84ac-4671-9454-5c6285990bee"
      },
      "source": [
        "data['scaled_age'] = data['age']/data['age'].max()\n",
        "data['scaled_age'] "
      ],
      "execution_count": 47,
      "outputs": [
        {
          "output_type": "execute_result",
          "data": {
            "text/plain": [
              "0        0.433333\n",
              "1        0.555556\n",
              "2        0.422222\n",
              "3        0.588889\n",
              "4        0.311111\n",
              "           ...   \n",
              "41090    0.433333\n",
              "41091    0.711111\n",
              "41092    0.422222\n",
              "41093    0.488889\n",
              "41094    0.388889\n",
              "Name: scaled_age, Length: 41094, dtype: float64"
            ]
          },
          "metadata": {},
          "execution_count": 47
        }
      ]
    },
    {
      "cell_type": "markdown",
      "metadata": {
        "id": "_mTKJK_dTGhu"
      },
      "source": [
        "## Value Counts"
      ]
    },
    {
      "cell_type": "code",
      "metadata": {
        "colab": {
          "base_uri": "https://localhost:8080/"
        },
        "id": "tU25tXiOPTYh",
        "outputId": "88d7d389-8f7e-4568-a231-9299dd11ab5c"
      },
      "source": [
        "data['education'].value_counts()"
      ],
      "execution_count": 48,
      "outputs": [
        {
          "output_type": "execute_result",
          "data": {
            "text/plain": [
              " HS-grad         13345\n",
              " Some-college     9137\n",
              " Bachelors        6778\n",
              " Masters          2231\n",
              " Assoc-voc        1734\n",
              " 11th             1542\n",
              " Assoc-acdm       1325\n",
              " 10th             1172\n",
              " 7th-8th           797\n",
              " Prof-school       685\n",
              " 9th               628\n",
              " 12th              542\n",
              " Doctorate         495\n",
              " 5th-6th           420\n",
              " 1st-4th           196\n",
              " Preschool          67\n",
              "Name: education, dtype: int64"
            ]
          },
          "metadata": {},
          "execution_count": 48
        }
      ]
    },
    {
      "cell_type": "markdown",
      "metadata": {
        "id": "gAZdyjAlTTR3"
      },
      "source": [
        "## Group By"
      ]
    },
    {
      "cell_type": "code",
      "metadata": {
        "colab": {
          "base_uri": "https://localhost:8080/"
        },
        "id": "uDoc222fQheb",
        "outputId": "71a1c086-5b19-42e0-efa1-23eeaa4efcfe"
      },
      "source": [
        "data.groupby(by='education')['ID'].count()"
      ],
      "execution_count": 49,
      "outputs": [
        {
          "output_type": "execute_result",
          "data": {
            "text/plain": [
              "education\n",
              " 10th             1172\n",
              " 11th             1542\n",
              " 12th              542\n",
              " 1st-4th           196\n",
              " 5th-6th           420\n",
              " 7th-8th           797\n",
              " 9th               628\n",
              " Assoc-acdm       1325\n",
              " Assoc-voc        1734\n",
              " Bachelors        6778\n",
              " Doctorate         495\n",
              " HS-grad         13345\n",
              " Masters          2231\n",
              " Preschool          67\n",
              " Prof-school       685\n",
              " Some-college     9137\n",
              "Name: ID, dtype: int64"
            ]
          },
          "metadata": {},
          "execution_count": 49
        }
      ]
    },
    {
      "cell_type": "code",
      "metadata": {
        "colab": {
          "base_uri": "https://localhost:8080/"
        },
        "id": "uhfuGznaS3J4",
        "outputId": "c3cce54d-5722-4d8a-bab3-3805028a7afb"
      },
      "source": [
        "data.groupby(by='education')['age'].min()"
      ],
      "execution_count": 50,
      "outputs": [
        {
          "output_type": "execute_result",
          "data": {
            "text/plain": [
              "education\n",
              " 10th            17\n",
              " 11th            17\n",
              " 12th            17\n",
              " 1st-4th         22\n",
              " 5th-6th         17\n",
              " 7th-8th         17\n",
              " 9th             17\n",
              " Assoc-acdm      19\n",
              " Assoc-voc       19\n",
              " Bachelors       19\n",
              " Doctorate       24\n",
              " HS-grad         17\n",
              " Masters         18\n",
              " Preschool       19\n",
              " Prof-school     25\n",
              " Some-college    17\n",
              "Name: age, dtype: int64"
            ]
          },
          "metadata": {},
          "execution_count": 50
        }
      ]
    },
    {
      "cell_type": "code",
      "metadata": {
        "colab": {
          "base_uri": "https://localhost:8080/"
        },
        "id": "a2H7hXSZR_ay",
        "outputId": "afdd1f7e-2d16-4805-adb8-e1e4f29e033f"
      },
      "source": [
        "data.groupby(by='education')['age'].max()"
      ],
      "execution_count": 51,
      "outputs": [
        {
          "output_type": "execute_result",
          "data": {
            "text/plain": [
              "education\n",
              " 10th            90\n",
              " 11th            90\n",
              " 12th            81\n",
              " 1st-4th         90\n",
              " 5th-6th         84\n",
              " 7th-8th         90\n",
              " 9th             90\n",
              " Assoc-acdm      90\n",
              " Assoc-voc       84\n",
              " Bachelors       90\n",
              " Doctorate       80\n",
              " HS-grad         90\n",
              " Masters         90\n",
              " Preschool       77\n",
              " Prof-school     90\n",
              " Some-college    90\n",
              "Name: age, dtype: int64"
            ]
          },
          "metadata": {},
          "execution_count": 51
        }
      ]
    },
    {
      "cell_type": "code",
      "metadata": {
        "colab": {
          "base_uri": "https://localhost:8080/",
          "height": 614
        },
        "id": "jO1MKp8pWNFR",
        "outputId": "c05412b4-8a9a-47aa-aed4-ad79f8e60893"
      },
      "source": [
        "data.groupby(by='education').agg({'age': ['min', 'max', 'mean', 'std', 'sum']})"
      ],
      "execution_count": 52,
      "outputs": [
        {
          "output_type": "execute_result",
          "data": {
            "text/html": [
              "<div>\n",
              "<style scoped>\n",
              "    .dataframe tbody tr th:only-of-type {\n",
              "        vertical-align: middle;\n",
              "    }\n",
              "\n",
              "    .dataframe tbody tr th {\n",
              "        vertical-align: top;\n",
              "    }\n",
              "\n",
              "    .dataframe thead tr th {\n",
              "        text-align: left;\n",
              "    }\n",
              "\n",
              "    .dataframe thead tr:last-of-type th {\n",
              "        text-align: right;\n",
              "    }\n",
              "</style>\n",
              "<table border=\"1\" class=\"dataframe\">\n",
              "  <thead>\n",
              "    <tr>\n",
              "      <th></th>\n",
              "      <th colspan=\"5\" halign=\"left\">age</th>\n",
              "    </tr>\n",
              "    <tr>\n",
              "      <th></th>\n",
              "      <th>min</th>\n",
              "      <th>max</th>\n",
              "      <th>mean</th>\n",
              "      <th>std</th>\n",
              "      <th>sum</th>\n",
              "    </tr>\n",
              "    <tr>\n",
              "      <th>education</th>\n",
              "      <th></th>\n",
              "      <th></th>\n",
              "      <th></th>\n",
              "      <th></th>\n",
              "      <th></th>\n",
              "    </tr>\n",
              "  </thead>\n",
              "  <tbody>\n",
              "    <tr>\n",
              "      <th>10th</th>\n",
              "      <td>17</td>\n",
              "      <td>90</td>\n",
              "      <td>38.000000</td>\n",
              "      <td>16.961352</td>\n",
              "      <td>44536</td>\n",
              "    </tr>\n",
              "    <tr>\n",
              "      <th>11th</th>\n",
              "      <td>17</td>\n",
              "      <td>90</td>\n",
              "      <td>32.442931</td>\n",
              "      <td>15.312757</td>\n",
              "      <td>50027</td>\n",
              "    </tr>\n",
              "    <tr>\n",
              "      <th>12th</th>\n",
              "      <td>17</td>\n",
              "      <td>81</td>\n",
              "      <td>32.062731</td>\n",
              "      <td>14.735616</td>\n",
              "      <td>17378</td>\n",
              "    </tr>\n",
              "    <tr>\n",
              "      <th>1st-4th</th>\n",
              "      <td>22</td>\n",
              "      <td>90</td>\n",
              "      <td>47.984694</td>\n",
              "      <td>14.883988</td>\n",
              "      <td>9405</td>\n",
              "    </tr>\n",
              "    <tr>\n",
              "      <th>5th-6th</th>\n",
              "      <td>17</td>\n",
              "      <td>84</td>\n",
              "      <td>43.645238</td>\n",
              "      <td>15.536096</td>\n",
              "      <td>18331</td>\n",
              "    </tr>\n",
              "    <tr>\n",
              "      <th>7th-8th</th>\n",
              "      <td>17</td>\n",
              "      <td>90</td>\n",
              "      <td>49.392723</td>\n",
              "      <td>16.359194</td>\n",
              "      <td>39366</td>\n",
              "    </tr>\n",
              "    <tr>\n",
              "      <th>9th</th>\n",
              "      <td>17</td>\n",
              "      <td>90</td>\n",
              "      <td>41.179936</td>\n",
              "      <td>15.978388</td>\n",
              "      <td>25861</td>\n",
              "    </tr>\n",
              "    <tr>\n",
              "      <th>Assoc-acdm</th>\n",
              "      <td>19</td>\n",
              "      <td>90</td>\n",
              "      <td>37.957736</td>\n",
              "      <td>11.382250</td>\n",
              "      <td>50294</td>\n",
              "    </tr>\n",
              "    <tr>\n",
              "      <th>Assoc-voc</th>\n",
              "      <td>19</td>\n",
              "      <td>84</td>\n",
              "      <td>38.540369</td>\n",
              "      <td>11.739102</td>\n",
              "      <td>66829</td>\n",
              "    </tr>\n",
              "    <tr>\n",
              "      <th>Bachelors</th>\n",
              "      <td>19</td>\n",
              "      <td>90</td>\n",
              "      <td>38.945854</td>\n",
              "      <td>12.005871</td>\n",
              "      <td>263975</td>\n",
              "    </tr>\n",
              "    <tr>\n",
              "      <th>Doctorate</th>\n",
              "      <td>24</td>\n",
              "      <td>80</td>\n",
              "      <td>47.111111</td>\n",
              "      <td>11.438879</td>\n",
              "      <td>23320</td>\n",
              "    </tr>\n",
              "    <tr>\n",
              "      <th>HS-grad</th>\n",
              "      <td>17</td>\n",
              "      <td>90</td>\n",
              "      <td>39.170401</td>\n",
              "      <td>13.690591</td>\n",
              "      <td>522729</td>\n",
              "    </tr>\n",
              "    <tr>\n",
              "      <th>Masters</th>\n",
              "      <td>18</td>\n",
              "      <td>90</td>\n",
              "      <td>43.941282</td>\n",
              "      <td>10.973047</td>\n",
              "      <td>98033</td>\n",
              "    </tr>\n",
              "    <tr>\n",
              "      <th>Preschool</th>\n",
              "      <td>19</td>\n",
              "      <td>77</td>\n",
              "      <td>43.164179</td>\n",
              "      <td>15.812919</td>\n",
              "      <td>2892</td>\n",
              "    </tr>\n",
              "    <tr>\n",
              "      <th>Prof-school</th>\n",
              "      <td>25</td>\n",
              "      <td>90</td>\n",
              "      <td>45.195620</td>\n",
              "      <td>12.337943</td>\n",
              "      <td>30959</td>\n",
              "    </tr>\n",
              "    <tr>\n",
              "      <th>Some-college</th>\n",
              "      <td>17</td>\n",
              "      <td>90</td>\n",
              "      <td>35.587173</td>\n",
              "      <td>13.502800</td>\n",
              "      <td>325160</td>\n",
              "    </tr>\n",
              "  </tbody>\n",
              "</table>\n",
              "</div>"
            ],
            "text/plain": [
              "              age                                  \n",
              "              min max       mean        std     sum\n",
              "education                                          \n",
              " 10th          17  90  38.000000  16.961352   44536\n",
              " 11th          17  90  32.442931  15.312757   50027\n",
              " 12th          17  81  32.062731  14.735616   17378\n",
              " 1st-4th       22  90  47.984694  14.883988    9405\n",
              " 5th-6th       17  84  43.645238  15.536096   18331\n",
              " 7th-8th       17  90  49.392723  16.359194   39366\n",
              " 9th           17  90  41.179936  15.978388   25861\n",
              " Assoc-acdm    19  90  37.957736  11.382250   50294\n",
              " Assoc-voc     19  84  38.540369  11.739102   66829\n",
              " Bachelors     19  90  38.945854  12.005871  263975\n",
              " Doctorate     24  80  47.111111  11.438879   23320\n",
              " HS-grad       17  90  39.170401  13.690591  522729\n",
              " Masters       18  90  43.941282  10.973047   98033\n",
              " Preschool     19  77  43.164179  15.812919    2892\n",
              " Prof-school   25  90  45.195620  12.337943   30959\n",
              " Some-college  17  90  35.587173  13.502800  325160"
            ]
          },
          "metadata": {},
          "execution_count": 52
        }
      ]
    },
    {
      "cell_type": "code",
      "metadata": {
        "colab": {
          "base_uri": "https://localhost:8080/"
        },
        "id": "QtaccGvQYens",
        "outputId": "b7509338-a820-4245-c813-17467815c6da"
      },
      "source": [
        "data['workclass'].head()"
      ],
      "execution_count": 53,
      "outputs": [
        {
          "output_type": "execute_result",
          "data": {
            "text/plain": [
              "0            State-gov\n",
              "1     Self-emp-not-inc\n",
              "2              Private\n",
              "3              Private\n",
              "4              Private\n",
              "Name: workclass, dtype: object"
            ]
          },
          "metadata": {},
          "execution_count": 53
        }
      ]
    },
    {
      "cell_type": "code",
      "metadata": {
        "colab": {
          "base_uri": "https://localhost:8080/"
        },
        "id": "Zd-xNp23YiDt",
        "outputId": "1efeced2-4b79-422e-95ef-d9c1ad9e91e7"
      },
      "source": [
        "data['workclass'].unique()"
      ],
      "execution_count": 54,
      "outputs": [
        {
          "output_type": "execute_result",
          "data": {
            "text/plain": [
              "array([' State-gov', ' Self-emp-not-inc', ' Private', ' Federal-gov',\n",
              "       ' Local-gov', ' ?', ' Self-emp-inc', ' Without-pay',\n",
              "       ' Never-worked'], dtype=object)"
            ]
          },
          "metadata": {},
          "execution_count": 54
        }
      ]
    },
    {
      "cell_type": "code",
      "metadata": {
        "colab": {
          "base_uri": "https://localhost:8080/",
          "height": 487
        },
        "id": "oj0GHbUFW3Pb",
        "outputId": "d9462e27-59b1-48fa-e297-27a222737d61"
      },
      "source": [
        "data.groupby(by=['education', 'workclass']).agg({'age': ['min', 'max', 'mean']})"
      ],
      "execution_count": 55,
      "outputs": [
        {
          "output_type": "execute_result",
          "data": {
            "text/html": [
              "<div>\n",
              "<style scoped>\n",
              "    .dataframe tbody tr th:only-of-type {\n",
              "        vertical-align: middle;\n",
              "    }\n",
              "\n",
              "    .dataframe tbody tr th {\n",
              "        vertical-align: top;\n",
              "    }\n",
              "\n",
              "    .dataframe thead tr th {\n",
              "        text-align: left;\n",
              "    }\n",
              "\n",
              "    .dataframe thead tr:last-of-type th {\n",
              "        text-align: right;\n",
              "    }\n",
              "</style>\n",
              "<table border=\"1\" class=\"dataframe\">\n",
              "  <thead>\n",
              "    <tr>\n",
              "      <th></th>\n",
              "      <th></th>\n",
              "      <th colspan=\"3\" halign=\"left\">age</th>\n",
              "    </tr>\n",
              "    <tr>\n",
              "      <th></th>\n",
              "      <th></th>\n",
              "      <th>min</th>\n",
              "      <th>max</th>\n",
              "      <th>mean</th>\n",
              "    </tr>\n",
              "    <tr>\n",
              "      <th>education</th>\n",
              "      <th>workclass</th>\n",
              "      <th></th>\n",
              "      <th></th>\n",
              "      <th></th>\n",
              "    </tr>\n",
              "  </thead>\n",
              "  <tbody>\n",
              "    <tr>\n",
              "      <th rowspan=\"5\" valign=\"top\">10th</th>\n",
              "      <th>?</th>\n",
              "      <td>17</td>\n",
              "      <td>90</td>\n",
              "      <td>36.327869</td>\n",
              "    </tr>\n",
              "    <tr>\n",
              "      <th>Federal-gov</th>\n",
              "      <td>29</td>\n",
              "      <td>71</td>\n",
              "      <td>51.076923</td>\n",
              "    </tr>\n",
              "    <tr>\n",
              "      <th>Local-gov</th>\n",
              "      <td>17</td>\n",
              "      <td>76</td>\n",
              "      <td>46.326087</td>\n",
              "    </tr>\n",
              "    <tr>\n",
              "      <th>Never-worked</th>\n",
              "      <td>17</td>\n",
              "      <td>18</td>\n",
              "      <td>17.500000</td>\n",
              "    </tr>\n",
              "    <tr>\n",
              "      <th>Private</th>\n",
              "      <td>17</td>\n",
              "      <td>90</td>\n",
              "      <td>36.518086</td>\n",
              "    </tr>\n",
              "    <tr>\n",
              "      <th>...</th>\n",
              "      <th>...</th>\n",
              "      <td>...</td>\n",
              "      <td>...</td>\n",
              "      <td>...</td>\n",
              "    </tr>\n",
              "    <tr>\n",
              "      <th rowspan=\"5\" valign=\"top\">Some-college</th>\n",
              "      <th>Never-worked</th>\n",
              "      <td>20</td>\n",
              "      <td>20</td>\n",
              "      <td>20.000000</td>\n",
              "    </tr>\n",
              "    <tr>\n",
              "      <th>Private</th>\n",
              "      <td>17</td>\n",
              "      <td>90</td>\n",
              "      <td>34.443757</td>\n",
              "    </tr>\n",
              "    <tr>\n",
              "      <th>Self-emp-inc</th>\n",
              "      <td>18</td>\n",
              "      <td>84</td>\n",
              "      <td>44.978182</td>\n",
              "    </tr>\n",
              "    <tr>\n",
              "      <th>Self-emp-not-inc</th>\n",
              "      <td>18</td>\n",
              "      <td>90</td>\n",
              "      <td>44.034202</td>\n",
              "    </tr>\n",
              "    <tr>\n",
              "      <th>State-gov</th>\n",
              "      <td>18</td>\n",
              "      <td>75</td>\n",
              "      <td>34.498778</td>\n",
              "    </tr>\n",
              "  </tbody>\n",
              "</table>\n",
              "<p>117 rows × 3 columns</p>\n",
              "</div>"
            ],
            "text/plain": [
              "                                age               \n",
              "                                min max       mean\n",
              "education     workclass                           \n",
              " 10th          ?                 17  90  36.327869\n",
              "               Federal-gov       29  71  51.076923\n",
              "               Local-gov         17  76  46.326087\n",
              "               Never-worked      17  18  17.500000\n",
              "               Private           17  90  36.518086\n",
              "...                              ..  ..        ...\n",
              " Some-college  Never-worked      20  20  20.000000\n",
              "               Private           17  90  34.443757\n",
              "               Self-emp-inc      18  84  44.978182\n",
              "               Self-emp-not-inc  18  90  44.034202\n",
              "               State-gov         18  75  34.498778\n",
              "\n",
              "[117 rows x 3 columns]"
            ]
          },
          "metadata": {},
          "execution_count": 55
        }
      ]
    },
    {
      "cell_type": "markdown",
      "metadata": {
        "id": "Eo5IJpqwZ9_c"
      },
      "source": [
        ""
      ]
    },
    {
      "cell_type": "markdown",
      "metadata": {
        "id": "cKSSLrRSaLxx"
      },
      "source": [
        "# Formulating ML Problem to Solve"
      ]
    },
    {
      "cell_type": "code",
      "metadata": {
        "colab": {
          "base_uri": "https://localhost:8080/",
          "height": 276
        },
        "id": "d79V-KF9YtRq",
        "outputId": "fba72709-d635-4fc4-f2d5-bddc1df90d6b"
      },
      "source": [
        "data.head()"
      ],
      "execution_count": 56,
      "outputs": [
        {
          "output_type": "execute_result",
          "data": {
            "text/html": [
              "<div>\n",
              "<style scoped>\n",
              "    .dataframe tbody tr th:only-of-type {\n",
              "        vertical-align: middle;\n",
              "    }\n",
              "\n",
              "    .dataframe tbody tr th {\n",
              "        vertical-align: top;\n",
              "    }\n",
              "\n",
              "    .dataframe thead th {\n",
              "        text-align: right;\n",
              "    }\n",
              "</style>\n",
              "<table border=\"1\" class=\"dataframe\">\n",
              "  <thead>\n",
              "    <tr style=\"text-align: right;\">\n",
              "      <th></th>\n",
              "      <th>ID</th>\n",
              "      <th>age</th>\n",
              "      <th>workclass</th>\n",
              "      <th>education</th>\n",
              "      <th>education_num</th>\n",
              "      <th>marital_status</th>\n",
              "      <th>occupation</th>\n",
              "      <th>relationship</th>\n",
              "      <th>race</th>\n",
              "      <th>sex</th>\n",
              "      <th>capital_gain</th>\n",
              "      <th>capital_loss</th>\n",
              "      <th>hours_per_week</th>\n",
              "      <th>native_country</th>\n",
              "      <th>class</th>\n",
              "      <th>scaled_age</th>\n",
              "    </tr>\n",
              "  </thead>\n",
              "  <tbody>\n",
              "    <tr>\n",
              "      <th>0</th>\n",
              "      <td>1</td>\n",
              "      <td>39</td>\n",
              "      <td>State-gov</td>\n",
              "      <td>Bachelors</td>\n",
              "      <td>13</td>\n",
              "      <td>Never-married</td>\n",
              "      <td>Adm-clerical</td>\n",
              "      <td>Not-in-family</td>\n",
              "      <td>White</td>\n",
              "      <td>Male</td>\n",
              "      <td>2174.0</td>\n",
              "      <td>0.0</td>\n",
              "      <td>40.0</td>\n",
              "      <td>United-States</td>\n",
              "      <td>&lt;=50K</td>\n",
              "      <td>0.433333</td>\n",
              "    </tr>\n",
              "    <tr>\n",
              "      <th>1</th>\n",
              "      <td>2</td>\n",
              "      <td>50</td>\n",
              "      <td>Self-emp-not-inc</td>\n",
              "      <td>Bachelors</td>\n",
              "      <td>13</td>\n",
              "      <td>Married-civ-spouse</td>\n",
              "      <td>Exec-managerial</td>\n",
              "      <td>Husband</td>\n",
              "      <td>White</td>\n",
              "      <td>Male</td>\n",
              "      <td>0.0</td>\n",
              "      <td>0.0</td>\n",
              "      <td>13.0</td>\n",
              "      <td>United-States</td>\n",
              "      <td>&lt;=50K</td>\n",
              "      <td>0.555556</td>\n",
              "    </tr>\n",
              "    <tr>\n",
              "      <th>2</th>\n",
              "      <td>3</td>\n",
              "      <td>38</td>\n",
              "      <td>Private</td>\n",
              "      <td>HS-grad</td>\n",
              "      <td>9</td>\n",
              "      <td>Divorced</td>\n",
              "      <td>Handlers-cleaners</td>\n",
              "      <td>Not-in-family</td>\n",
              "      <td>White</td>\n",
              "      <td>Male</td>\n",
              "      <td>0.0</td>\n",
              "      <td>0.0</td>\n",
              "      <td>40.0</td>\n",
              "      <td>United-States</td>\n",
              "      <td>&lt;=50K</td>\n",
              "      <td>0.422222</td>\n",
              "    </tr>\n",
              "    <tr>\n",
              "      <th>3</th>\n",
              "      <td>4</td>\n",
              "      <td>53</td>\n",
              "      <td>Private</td>\n",
              "      <td>11th</td>\n",
              "      <td>7</td>\n",
              "      <td>Married-civ-spouse</td>\n",
              "      <td>Handlers-cleaners</td>\n",
              "      <td>Husband</td>\n",
              "      <td>Black</td>\n",
              "      <td>Male</td>\n",
              "      <td>0.0</td>\n",
              "      <td>0.0</td>\n",
              "      <td>40.0</td>\n",
              "      <td>United-States</td>\n",
              "      <td>&lt;=50K</td>\n",
              "      <td>0.588889</td>\n",
              "    </tr>\n",
              "    <tr>\n",
              "      <th>4</th>\n",
              "      <td>5</td>\n",
              "      <td>28</td>\n",
              "      <td>Private</td>\n",
              "      <td>Bachelors</td>\n",
              "      <td>13</td>\n",
              "      <td>Married-civ-spouse</td>\n",
              "      <td>Prof-specialty</td>\n",
              "      <td>Wife</td>\n",
              "      <td>Black</td>\n",
              "      <td>Female</td>\n",
              "      <td>0.0</td>\n",
              "      <td>0.0</td>\n",
              "      <td>40.0</td>\n",
              "      <td>Cuba</td>\n",
              "      <td>&lt;=50K</td>\n",
              "      <td>0.311111</td>\n",
              "    </tr>\n",
              "  </tbody>\n",
              "</table>\n",
              "</div>"
            ],
            "text/plain": [
              "   ID  age          workclass  ...  native_country   class scaled_age\n",
              "0   1   39          State-gov  ...   United-States   <=50K   0.433333\n",
              "1   2   50   Self-emp-not-inc  ...   United-States   <=50K   0.555556\n",
              "2   3   38            Private  ...   United-States   <=50K   0.422222\n",
              "3   4   53            Private  ...   United-States   <=50K   0.588889\n",
              "4   5   28            Private  ...            Cuba   <=50K   0.311111\n",
              "\n",
              "[5 rows x 16 columns]"
            ]
          },
          "metadata": {},
          "execution_count": 56
        }
      ]
    },
    {
      "cell_type": "code",
      "metadata": {
        "colab": {
          "base_uri": "https://localhost:8080/"
        },
        "id": "3DX66MtgaPfL",
        "outputId": "f055eb9f-565f-44c1-ccc7-8b1a39328682"
      },
      "source": [
        "data['class'].unique()"
      ],
      "execution_count": 57,
      "outputs": [
        {
          "output_type": "execute_result",
          "data": {
            "text/plain": [
              "array([' <=50K', ' >50K', ' <=50K.', ' >50K.'], dtype=object)"
            ]
          },
          "metadata": {},
          "execution_count": 57
        }
      ]
    },
    {
      "cell_type": "code",
      "metadata": {
        "id": "VBtdB_15arUz"
      },
      "source": [
        "# <=50K -> 0\n",
        "# >50K  -> 1"
      ],
      "execution_count": 58,
      "outputs": []
    },
    {
      "cell_type": "code",
      "metadata": {
        "id": "Cgi4IFuYbdjl"
      },
      "source": [
        "# y = f(X)"
      ],
      "execution_count": 59,
      "outputs": []
    },
    {
      "cell_type": "markdown",
      "metadata": {
        "id": "s6gDW9aiTm65"
      },
      "source": [
        "## Replace Values (Method 1)"
      ]
    },
    {
      "cell_type": "code",
      "metadata": {
        "id": "7TpvLkSXcxZ5"
      },
      "source": [
        "data.loc[data['class']==' <=50K.', 'class'] = ' <=50K'"
      ],
      "execution_count": 60,
      "outputs": []
    },
    {
      "cell_type": "code",
      "metadata": {
        "id": "NRPBE7AHdNou"
      },
      "source": [
        "data.loc[data['class']==' >50K.', 'class'] = ' >50K'"
      ],
      "execution_count": 61,
      "outputs": []
    },
    {
      "cell_type": "markdown",
      "metadata": {
        "id": "fKuOiPeCTrxC"
      },
      "source": [
        "## Replace Values (Method 2/recomended)"
      ]
    },
    {
      "cell_type": "code",
      "metadata": {
        "colab": {
          "base_uri": "https://localhost:8080/"
        },
        "id": "SQAYVL6ideGq",
        "outputId": "b3357d91-e325-4df7-83fa-0419080ebf43"
      },
      "source": [
        "data['class'].replace(' >50K.', ' >50K')\n",
        "data['class'].replace(' <=50K.', ' <=50K')"
      ],
      "execution_count": 62,
      "outputs": [
        {
          "output_type": "execute_result",
          "data": {
            "text/plain": [
              "0         <=50K\n",
              "1         <=50K\n",
              "2         <=50K\n",
              "3         <=50K\n",
              "4         <=50K\n",
              "          ...  \n",
              "41090     <=50K\n",
              "41091     <=50K\n",
              "41092     <=50K\n",
              "41093     <=50K\n",
              "41094      >50K\n",
              "Name: class, Length: 41094, dtype: object"
            ]
          },
          "metadata": {},
          "execution_count": 62
        }
      ]
    },
    {
      "cell_type": "code",
      "metadata": {
        "colab": {
          "base_uri": "https://localhost:8080/"
        },
        "id": "y2nbr6BmdU0x",
        "outputId": "7d7e5a87-c003-426b-8928-3a42a5bad088"
      },
      "source": [
        "data['class'].unique()"
      ],
      "execution_count": 63,
      "outputs": [
        {
          "output_type": "execute_result",
          "data": {
            "text/plain": [
              "array([' <=50K', ' >50K'], dtype=object)"
            ]
          },
          "metadata": {},
          "execution_count": 63
        }
      ]
    },
    {
      "cell_type": "markdown",
      "metadata": {
        "id": "GJ51t6-yT-2I"
      },
      "source": [
        "## Transform into Binary Column"
      ]
    },
    {
      "cell_type": "code",
      "metadata": {
        "id": "AciJmaihbo2E"
      },
      "source": [
        "data['y_act'] = np.where(data['class']==' >50K',1,0)"
      ],
      "execution_count": 64,
      "outputs": []
    },
    {
      "cell_type": "code",
      "metadata": {
        "colab": {
          "base_uri": "https://localhost:8080/",
          "height": 363
        },
        "id": "q8Iav-JUcCIa",
        "outputId": "76eb9a94-1e4a-445d-9743-b7b650562c60"
      },
      "source": [
        "data[['class', 'y_act']].sample(10)"
      ],
      "execution_count": 65,
      "outputs": [
        {
          "output_type": "execute_result",
          "data": {
            "text/html": [
              "<div>\n",
              "<style scoped>\n",
              "    .dataframe tbody tr th:only-of-type {\n",
              "        vertical-align: middle;\n",
              "    }\n",
              "\n",
              "    .dataframe tbody tr th {\n",
              "        vertical-align: top;\n",
              "    }\n",
              "\n",
              "    .dataframe thead th {\n",
              "        text-align: right;\n",
              "    }\n",
              "</style>\n",
              "<table border=\"1\" class=\"dataframe\">\n",
              "  <thead>\n",
              "    <tr style=\"text-align: right;\">\n",
              "      <th></th>\n",
              "      <th>class</th>\n",
              "      <th>y_act</th>\n",
              "    </tr>\n",
              "  </thead>\n",
              "  <tbody>\n",
              "    <tr>\n",
              "      <th>30187</th>\n",
              "      <td>&lt;=50K</td>\n",
              "      <td>0</td>\n",
              "    </tr>\n",
              "    <tr>\n",
              "      <th>19608</th>\n",
              "      <td>&gt;50K</td>\n",
              "      <td>1</td>\n",
              "    </tr>\n",
              "    <tr>\n",
              "      <th>18100</th>\n",
              "      <td>&lt;=50K</td>\n",
              "      <td>0</td>\n",
              "    </tr>\n",
              "    <tr>\n",
              "      <th>7249</th>\n",
              "      <td>&lt;=50K</td>\n",
              "      <td>0</td>\n",
              "    </tr>\n",
              "    <tr>\n",
              "      <th>16341</th>\n",
              "      <td>&lt;=50K</td>\n",
              "      <td>0</td>\n",
              "    </tr>\n",
              "    <tr>\n",
              "      <th>31114</th>\n",
              "      <td>&lt;=50K</td>\n",
              "      <td>0</td>\n",
              "    </tr>\n",
              "    <tr>\n",
              "      <th>19112</th>\n",
              "      <td>&gt;50K</td>\n",
              "      <td>1</td>\n",
              "    </tr>\n",
              "    <tr>\n",
              "      <th>23434</th>\n",
              "      <td>&lt;=50K</td>\n",
              "      <td>0</td>\n",
              "    </tr>\n",
              "    <tr>\n",
              "      <th>26253</th>\n",
              "      <td>&lt;=50K</td>\n",
              "      <td>0</td>\n",
              "    </tr>\n",
              "    <tr>\n",
              "      <th>13376</th>\n",
              "      <td>&lt;=50K</td>\n",
              "      <td>0</td>\n",
              "    </tr>\n",
              "  </tbody>\n",
              "</table>\n",
              "</div>"
            ],
            "text/plain": [
              "        class  y_act\n",
              "30187   <=50K      0\n",
              "19608    >50K      1\n",
              "18100   <=50K      0\n",
              "7249    <=50K      0\n",
              "16341   <=50K      0\n",
              "31114   <=50K      0\n",
              "19112    >50K      1\n",
              "23434   <=50K      0\n",
              "26253   <=50K      0\n",
              "13376   <=50K      0"
            ]
          },
          "metadata": {},
          "execution_count": 65
        }
      ]
    },
    {
      "cell_type": "code",
      "metadata": {
        "colab": {
          "base_uri": "https://localhost:8080/"
        },
        "id": "eNybXH0-cUlr",
        "outputId": "2423f6f6-3e3d-40d5-b0b6-0f48df223cd7"
      },
      "source": [
        "data[['class', 'y_act']].value_counts()"
      ],
      "execution_count": 66,
      "outputs": [
        {
          "output_type": "execute_result",
          "data": {
            "text/plain": [
              "class   y_act\n",
              " <=50K  0        31297\n",
              " >50K   1         9797\n",
              "dtype: int64"
            ]
          },
          "metadata": {},
          "execution_count": 66
        }
      ]
    },
    {
      "cell_type": "code",
      "metadata": {
        "colab": {
          "base_uri": "https://localhost:8080/"
        },
        "id": "hRRBJqnaeYLD",
        "outputId": "12c9454a-4c88-40d3-8e3c-b2460b76076b"
      },
      "source": [
        "data.shape[0]"
      ],
      "execution_count": 67,
      "outputs": [
        {
          "output_type": "execute_result",
          "data": {
            "text/plain": [
              "41094"
            ]
          },
          "metadata": {},
          "execution_count": 67
        }
      ]
    },
    {
      "cell_type": "code",
      "metadata": {
        "colab": {
          "base_uri": "https://localhost:8080/"
        },
        "id": "0bFmO-nQelgr",
        "outputId": "ec555885-f4e6-422a-ab8d-88de6174e116"
      },
      "source": [
        "# value counts as a ratio\n",
        "data[['class', 'y_act']].value_counts(normalize=True)"
      ],
      "execution_count": 68,
      "outputs": [
        {
          "output_type": "execute_result",
          "data": {
            "text/plain": [
              "class   y_act\n",
              " <=50K  0        0.761595\n",
              " >50K   1        0.238405\n",
              "dtype: float64"
            ]
          },
          "metadata": {},
          "execution_count": 68
        }
      ]
    },
    {
      "cell_type": "markdown",
      "metadata": {
        "id": "WwqJnHmCfLI5"
      },
      "source": [
        "# Explore X Variables"
      ]
    },
    {
      "cell_type": "code",
      "metadata": {
        "colab": {
          "base_uri": "https://localhost:8080/"
        },
        "id": "5QlEPddyfN-y",
        "outputId": "92ac368c-dd5e-4cc6-a1f2-190a9be52cc3"
      },
      "source": [
        "data.columns"
      ],
      "execution_count": 69,
      "outputs": [
        {
          "output_type": "execute_result",
          "data": {
            "text/plain": [
              "Index(['ID', 'age', 'workclass', 'education', 'education_num',\n",
              "       'marital_status', 'occupation', 'relationship', 'race', 'sex',\n",
              "       'capital_gain', 'capital_loss', 'hours_per_week', 'native_country',\n",
              "       'class', 'scaled_age', 'y_act'],\n",
              "      dtype='object')"
            ]
          },
          "metadata": {},
          "execution_count": 69
        }
      ]
    },
    {
      "cell_type": "code",
      "metadata": {
        "colab": {
          "base_uri": "https://localhost:8080/",
          "height": 296
        },
        "id": "9YbRRhkBfUAc",
        "outputId": "10199ba2-82dc-4ac7-d82f-6799c080c2e9"
      },
      "source": [
        "data.head()"
      ],
      "execution_count": 70,
      "outputs": [
        {
          "output_type": "execute_result",
          "data": {
            "text/html": [
              "<div>\n",
              "<style scoped>\n",
              "    .dataframe tbody tr th:only-of-type {\n",
              "        vertical-align: middle;\n",
              "    }\n",
              "\n",
              "    .dataframe tbody tr th {\n",
              "        vertical-align: top;\n",
              "    }\n",
              "\n",
              "    .dataframe thead th {\n",
              "        text-align: right;\n",
              "    }\n",
              "</style>\n",
              "<table border=\"1\" class=\"dataframe\">\n",
              "  <thead>\n",
              "    <tr style=\"text-align: right;\">\n",
              "      <th></th>\n",
              "      <th>ID</th>\n",
              "      <th>age</th>\n",
              "      <th>workclass</th>\n",
              "      <th>education</th>\n",
              "      <th>education_num</th>\n",
              "      <th>marital_status</th>\n",
              "      <th>occupation</th>\n",
              "      <th>relationship</th>\n",
              "      <th>race</th>\n",
              "      <th>sex</th>\n",
              "      <th>capital_gain</th>\n",
              "      <th>capital_loss</th>\n",
              "      <th>hours_per_week</th>\n",
              "      <th>native_country</th>\n",
              "      <th>class</th>\n",
              "      <th>scaled_age</th>\n",
              "      <th>y_act</th>\n",
              "    </tr>\n",
              "  </thead>\n",
              "  <tbody>\n",
              "    <tr>\n",
              "      <th>0</th>\n",
              "      <td>1</td>\n",
              "      <td>39</td>\n",
              "      <td>State-gov</td>\n",
              "      <td>Bachelors</td>\n",
              "      <td>13</td>\n",
              "      <td>Never-married</td>\n",
              "      <td>Adm-clerical</td>\n",
              "      <td>Not-in-family</td>\n",
              "      <td>White</td>\n",
              "      <td>Male</td>\n",
              "      <td>2174.0</td>\n",
              "      <td>0.0</td>\n",
              "      <td>40.0</td>\n",
              "      <td>United-States</td>\n",
              "      <td>&lt;=50K</td>\n",
              "      <td>0.433333</td>\n",
              "      <td>0</td>\n",
              "    </tr>\n",
              "    <tr>\n",
              "      <th>1</th>\n",
              "      <td>2</td>\n",
              "      <td>50</td>\n",
              "      <td>Self-emp-not-inc</td>\n",
              "      <td>Bachelors</td>\n",
              "      <td>13</td>\n",
              "      <td>Married-civ-spouse</td>\n",
              "      <td>Exec-managerial</td>\n",
              "      <td>Husband</td>\n",
              "      <td>White</td>\n",
              "      <td>Male</td>\n",
              "      <td>0.0</td>\n",
              "      <td>0.0</td>\n",
              "      <td>13.0</td>\n",
              "      <td>United-States</td>\n",
              "      <td>&lt;=50K</td>\n",
              "      <td>0.555556</td>\n",
              "      <td>0</td>\n",
              "    </tr>\n",
              "    <tr>\n",
              "      <th>2</th>\n",
              "      <td>3</td>\n",
              "      <td>38</td>\n",
              "      <td>Private</td>\n",
              "      <td>HS-grad</td>\n",
              "      <td>9</td>\n",
              "      <td>Divorced</td>\n",
              "      <td>Handlers-cleaners</td>\n",
              "      <td>Not-in-family</td>\n",
              "      <td>White</td>\n",
              "      <td>Male</td>\n",
              "      <td>0.0</td>\n",
              "      <td>0.0</td>\n",
              "      <td>40.0</td>\n",
              "      <td>United-States</td>\n",
              "      <td>&lt;=50K</td>\n",
              "      <td>0.422222</td>\n",
              "      <td>0</td>\n",
              "    </tr>\n",
              "    <tr>\n",
              "      <th>3</th>\n",
              "      <td>4</td>\n",
              "      <td>53</td>\n",
              "      <td>Private</td>\n",
              "      <td>11th</td>\n",
              "      <td>7</td>\n",
              "      <td>Married-civ-spouse</td>\n",
              "      <td>Handlers-cleaners</td>\n",
              "      <td>Husband</td>\n",
              "      <td>Black</td>\n",
              "      <td>Male</td>\n",
              "      <td>0.0</td>\n",
              "      <td>0.0</td>\n",
              "      <td>40.0</td>\n",
              "      <td>United-States</td>\n",
              "      <td>&lt;=50K</td>\n",
              "      <td>0.588889</td>\n",
              "      <td>0</td>\n",
              "    </tr>\n",
              "    <tr>\n",
              "      <th>4</th>\n",
              "      <td>5</td>\n",
              "      <td>28</td>\n",
              "      <td>Private</td>\n",
              "      <td>Bachelors</td>\n",
              "      <td>13</td>\n",
              "      <td>Married-civ-spouse</td>\n",
              "      <td>Prof-specialty</td>\n",
              "      <td>Wife</td>\n",
              "      <td>Black</td>\n",
              "      <td>Female</td>\n",
              "      <td>0.0</td>\n",
              "      <td>0.0</td>\n",
              "      <td>40.0</td>\n",
              "      <td>Cuba</td>\n",
              "      <td>&lt;=50K</td>\n",
              "      <td>0.311111</td>\n",
              "      <td>0</td>\n",
              "    </tr>\n",
              "  </tbody>\n",
              "</table>\n",
              "</div>"
            ],
            "text/plain": [
              "   ID  age          workclass  ...   class  scaled_age y_act\n",
              "0   1   39          State-gov  ...   <=50K    0.433333     0\n",
              "1   2   50   Self-emp-not-inc  ...   <=50K    0.555556     0\n",
              "2   3   38            Private  ...   <=50K    0.422222     0\n",
              "3   4   53            Private  ...   <=50K    0.588889     0\n",
              "4   5   28            Private  ...   <=50K    0.311111     0\n",
              "\n",
              "[5 rows x 17 columns]"
            ]
          },
          "metadata": {},
          "execution_count": 70
        }
      ]
    },
    {
      "cell_type": "code",
      "metadata": {
        "colab": {
          "base_uri": "https://localhost:8080/",
          "height": 175
        },
        "id": "63e7542IfVdk",
        "outputId": "d95a5567-4785-477b-9bba-15ddef6deb18"
      },
      "source": [
        "data.groupby(by=['class', 'y_act']).agg({'age': ['min', 'max', 'mean', 'std']})"
      ],
      "execution_count": 71,
      "outputs": [
        {
          "output_type": "execute_result",
          "data": {
            "text/html": [
              "<div>\n",
              "<style scoped>\n",
              "    .dataframe tbody tr th:only-of-type {\n",
              "        vertical-align: middle;\n",
              "    }\n",
              "\n",
              "    .dataframe tbody tr th {\n",
              "        vertical-align: top;\n",
              "    }\n",
              "\n",
              "    .dataframe thead tr th {\n",
              "        text-align: left;\n",
              "    }\n",
              "\n",
              "    .dataframe thead tr:last-of-type th {\n",
              "        text-align: right;\n",
              "    }\n",
              "</style>\n",
              "<table border=\"1\" class=\"dataframe\">\n",
              "  <thead>\n",
              "    <tr>\n",
              "      <th></th>\n",
              "      <th></th>\n",
              "      <th colspan=\"4\" halign=\"left\">age</th>\n",
              "    </tr>\n",
              "    <tr>\n",
              "      <th></th>\n",
              "      <th></th>\n",
              "      <th>min</th>\n",
              "      <th>max</th>\n",
              "      <th>mean</th>\n",
              "      <th>std</th>\n",
              "    </tr>\n",
              "    <tr>\n",
              "      <th>class</th>\n",
              "      <th>y_act</th>\n",
              "      <th></th>\n",
              "      <th></th>\n",
              "      <th></th>\n",
              "      <th></th>\n",
              "    </tr>\n",
              "  </thead>\n",
              "  <tbody>\n",
              "    <tr>\n",
              "      <th>&lt;=50K</th>\n",
              "      <th>0</th>\n",
              "      <td>17</td>\n",
              "      <td>90</td>\n",
              "      <td>36.921302</td>\n",
              "      <td>14.157086</td>\n",
              "    </tr>\n",
              "    <tr>\n",
              "      <th>&gt;50K</th>\n",
              "      <th>1</th>\n",
              "      <td>19</td>\n",
              "      <td>90</td>\n",
              "      <td>44.255282</td>\n",
              "      <td>10.564443</td>\n",
              "    </tr>\n",
              "  </tbody>\n",
              "</table>\n",
              "</div>"
            ],
            "text/plain": [
              "             age                          \n",
              "             min max       mean        std\n",
              "class  y_act                              \n",
              " <=50K 0      17  90  36.921302  14.157086\n",
              " >50K  1      19  90  44.255282  10.564443"
            ]
          },
          "metadata": {},
          "execution_count": 71
        }
      ]
    },
    {
      "cell_type": "markdown",
      "metadata": {
        "id": "Ddb715rSoQWM"
      },
      "source": [
        "# Select Columns based on Data Type"
      ]
    },
    {
      "cell_type": "code",
      "metadata": {
        "colab": {
          "base_uri": "https://localhost:8080/",
          "height": 424
        },
        "id": "LelGrcP8oP_W",
        "outputId": "4f160fb9-624a-4e9f-e119-33dc47c52ea5"
      },
      "source": [
        "data.select_dtypes(include=['float64'])"
      ],
      "execution_count": 72,
      "outputs": [
        {
          "output_type": "execute_result",
          "data": {
            "text/html": [
              "<div>\n",
              "<style scoped>\n",
              "    .dataframe tbody tr th:only-of-type {\n",
              "        vertical-align: middle;\n",
              "    }\n",
              "\n",
              "    .dataframe tbody tr th {\n",
              "        vertical-align: top;\n",
              "    }\n",
              "\n",
              "    .dataframe thead th {\n",
              "        text-align: right;\n",
              "    }\n",
              "</style>\n",
              "<table border=\"1\" class=\"dataframe\">\n",
              "  <thead>\n",
              "    <tr style=\"text-align: right;\">\n",
              "      <th></th>\n",
              "      <th>capital_gain</th>\n",
              "      <th>capital_loss</th>\n",
              "      <th>hours_per_week</th>\n",
              "      <th>scaled_age</th>\n",
              "    </tr>\n",
              "  </thead>\n",
              "  <tbody>\n",
              "    <tr>\n",
              "      <th>0</th>\n",
              "      <td>2174.0</td>\n",
              "      <td>0.0</td>\n",
              "      <td>40.0</td>\n",
              "      <td>0.433333</td>\n",
              "    </tr>\n",
              "    <tr>\n",
              "      <th>1</th>\n",
              "      <td>0.0</td>\n",
              "      <td>0.0</td>\n",
              "      <td>13.0</td>\n",
              "      <td>0.555556</td>\n",
              "    </tr>\n",
              "    <tr>\n",
              "      <th>2</th>\n",
              "      <td>0.0</td>\n",
              "      <td>0.0</td>\n",
              "      <td>40.0</td>\n",
              "      <td>0.422222</td>\n",
              "    </tr>\n",
              "    <tr>\n",
              "      <th>3</th>\n",
              "      <td>0.0</td>\n",
              "      <td>0.0</td>\n",
              "      <td>40.0</td>\n",
              "      <td>0.588889</td>\n",
              "    </tr>\n",
              "    <tr>\n",
              "      <th>4</th>\n",
              "      <td>0.0</td>\n",
              "      <td>0.0</td>\n",
              "      <td>40.0</td>\n",
              "      <td>0.311111</td>\n",
              "    </tr>\n",
              "    <tr>\n",
              "      <th>...</th>\n",
              "      <td>...</td>\n",
              "      <td>...</td>\n",
              "      <td>...</td>\n",
              "      <td>...</td>\n",
              "    </tr>\n",
              "    <tr>\n",
              "      <th>41090</th>\n",
              "      <td>0.0</td>\n",
              "      <td>0.0</td>\n",
              "      <td>36.0</td>\n",
              "      <td>0.433333</td>\n",
              "    </tr>\n",
              "    <tr>\n",
              "      <th>41091</th>\n",
              "      <td>0.0</td>\n",
              "      <td>0.0</td>\n",
              "      <td>40.0</td>\n",
              "      <td>0.711111</td>\n",
              "    </tr>\n",
              "    <tr>\n",
              "      <th>41092</th>\n",
              "      <td>0.0</td>\n",
              "      <td>0.0</td>\n",
              "      <td>50.0</td>\n",
              "      <td>0.422222</td>\n",
              "    </tr>\n",
              "    <tr>\n",
              "      <th>41093</th>\n",
              "      <td>5455.0</td>\n",
              "      <td>0.0</td>\n",
              "      <td>40.0</td>\n",
              "      <td>0.488889</td>\n",
              "    </tr>\n",
              "    <tr>\n",
              "      <th>41094</th>\n",
              "      <td>0.0</td>\n",
              "      <td>0.0</td>\n",
              "      <td>60.0</td>\n",
              "      <td>0.388889</td>\n",
              "    </tr>\n",
              "  </tbody>\n",
              "</table>\n",
              "<p>41094 rows × 4 columns</p>\n",
              "</div>"
            ],
            "text/plain": [
              "       capital_gain  capital_loss  hours_per_week  scaled_age\n",
              "0            2174.0           0.0            40.0    0.433333\n",
              "1               0.0           0.0            13.0    0.555556\n",
              "2               0.0           0.0            40.0    0.422222\n",
              "3               0.0           0.0            40.0    0.588889\n",
              "4               0.0           0.0            40.0    0.311111\n",
              "...             ...           ...             ...         ...\n",
              "41090           0.0           0.0            36.0    0.433333\n",
              "41091           0.0           0.0            40.0    0.711111\n",
              "41092           0.0           0.0            50.0    0.422222\n",
              "41093        5455.0           0.0            40.0    0.488889\n",
              "41094           0.0           0.0            60.0    0.388889\n",
              "\n",
              "[41094 rows x 4 columns]"
            ]
          },
          "metadata": {},
          "execution_count": 72
        }
      ]
    },
    {
      "cell_type": "code",
      "metadata": {
        "colab": {
          "base_uri": "https://localhost:8080/",
          "height": 424
        },
        "id": "enT4EbAapILv",
        "outputId": "1af54626-b340-48bc-df73-421757a6e657"
      },
      "source": [
        "data.select_dtypes(exclude=['object'])"
      ],
      "execution_count": 73,
      "outputs": [
        {
          "output_type": "execute_result",
          "data": {
            "text/html": [
              "<div>\n",
              "<style scoped>\n",
              "    .dataframe tbody tr th:only-of-type {\n",
              "        vertical-align: middle;\n",
              "    }\n",
              "\n",
              "    .dataframe tbody tr th {\n",
              "        vertical-align: top;\n",
              "    }\n",
              "\n",
              "    .dataframe thead th {\n",
              "        text-align: right;\n",
              "    }\n",
              "</style>\n",
              "<table border=\"1\" class=\"dataframe\">\n",
              "  <thead>\n",
              "    <tr style=\"text-align: right;\">\n",
              "      <th></th>\n",
              "      <th>ID</th>\n",
              "      <th>age</th>\n",
              "      <th>education_num</th>\n",
              "      <th>capital_gain</th>\n",
              "      <th>capital_loss</th>\n",
              "      <th>hours_per_week</th>\n",
              "      <th>scaled_age</th>\n",
              "      <th>y_act</th>\n",
              "    </tr>\n",
              "  </thead>\n",
              "  <tbody>\n",
              "    <tr>\n",
              "      <th>0</th>\n",
              "      <td>1</td>\n",
              "      <td>39</td>\n",
              "      <td>13</td>\n",
              "      <td>2174.0</td>\n",
              "      <td>0.0</td>\n",
              "      <td>40.0</td>\n",
              "      <td>0.433333</td>\n",
              "      <td>0</td>\n",
              "    </tr>\n",
              "    <tr>\n",
              "      <th>1</th>\n",
              "      <td>2</td>\n",
              "      <td>50</td>\n",
              "      <td>13</td>\n",
              "      <td>0.0</td>\n",
              "      <td>0.0</td>\n",
              "      <td>13.0</td>\n",
              "      <td>0.555556</td>\n",
              "      <td>0</td>\n",
              "    </tr>\n",
              "    <tr>\n",
              "      <th>2</th>\n",
              "      <td>3</td>\n",
              "      <td>38</td>\n",
              "      <td>9</td>\n",
              "      <td>0.0</td>\n",
              "      <td>0.0</td>\n",
              "      <td>40.0</td>\n",
              "      <td>0.422222</td>\n",
              "      <td>0</td>\n",
              "    </tr>\n",
              "    <tr>\n",
              "      <th>3</th>\n",
              "      <td>4</td>\n",
              "      <td>53</td>\n",
              "      <td>7</td>\n",
              "      <td>0.0</td>\n",
              "      <td>0.0</td>\n",
              "      <td>40.0</td>\n",
              "      <td>0.588889</td>\n",
              "      <td>0</td>\n",
              "    </tr>\n",
              "    <tr>\n",
              "      <th>4</th>\n",
              "      <td>5</td>\n",
              "      <td>28</td>\n",
              "      <td>13</td>\n",
              "      <td>0.0</td>\n",
              "      <td>0.0</td>\n",
              "      <td>40.0</td>\n",
              "      <td>0.311111</td>\n",
              "      <td>0</td>\n",
              "    </tr>\n",
              "    <tr>\n",
              "      <th>...</th>\n",
              "      <td>...</td>\n",
              "      <td>...</td>\n",
              "      <td>...</td>\n",
              "      <td>...</td>\n",
              "      <td>...</td>\n",
              "      <td>...</td>\n",
              "      <td>...</td>\n",
              "      <td>...</td>\n",
              "    </tr>\n",
              "    <tr>\n",
              "      <th>41090</th>\n",
              "      <td>41091</td>\n",
              "      <td>39</td>\n",
              "      <td>13</td>\n",
              "      <td>0.0</td>\n",
              "      <td>0.0</td>\n",
              "      <td>36.0</td>\n",
              "      <td>0.433333</td>\n",
              "      <td>0</td>\n",
              "    </tr>\n",
              "    <tr>\n",
              "      <th>41091</th>\n",
              "      <td>41092</td>\n",
              "      <td>64</td>\n",
              "      <td>9</td>\n",
              "      <td>0.0</td>\n",
              "      <td>0.0</td>\n",
              "      <td>40.0</td>\n",
              "      <td>0.711111</td>\n",
              "      <td>0</td>\n",
              "    </tr>\n",
              "    <tr>\n",
              "      <th>41092</th>\n",
              "      <td>41093</td>\n",
              "      <td>38</td>\n",
              "      <td>13</td>\n",
              "      <td>0.0</td>\n",
              "      <td>0.0</td>\n",
              "      <td>50.0</td>\n",
              "      <td>0.422222</td>\n",
              "      <td>0</td>\n",
              "    </tr>\n",
              "    <tr>\n",
              "      <th>41093</th>\n",
              "      <td>41094</td>\n",
              "      <td>44</td>\n",
              "      <td>13</td>\n",
              "      <td>5455.0</td>\n",
              "      <td>0.0</td>\n",
              "      <td>40.0</td>\n",
              "      <td>0.488889</td>\n",
              "      <td>0</td>\n",
              "    </tr>\n",
              "    <tr>\n",
              "      <th>41094</th>\n",
              "      <td>41095</td>\n",
              "      <td>35</td>\n",
              "      <td>13</td>\n",
              "      <td>0.0</td>\n",
              "      <td>0.0</td>\n",
              "      <td>60.0</td>\n",
              "      <td>0.388889</td>\n",
              "      <td>1</td>\n",
              "    </tr>\n",
              "  </tbody>\n",
              "</table>\n",
              "<p>41094 rows × 8 columns</p>\n",
              "</div>"
            ],
            "text/plain": [
              "          ID  age  education_num  ...  hours_per_week  scaled_age  y_act\n",
              "0          1   39             13  ...            40.0    0.433333      0\n",
              "1          2   50             13  ...            13.0    0.555556      0\n",
              "2          3   38              9  ...            40.0    0.422222      0\n",
              "3          4   53              7  ...            40.0    0.588889      0\n",
              "4          5   28             13  ...            40.0    0.311111      0\n",
              "...      ...  ...            ...  ...             ...         ...    ...\n",
              "41090  41091   39             13  ...            36.0    0.433333      0\n",
              "41091  41092   64              9  ...            40.0    0.711111      0\n",
              "41092  41093   38             13  ...            50.0    0.422222      0\n",
              "41093  41094   44             13  ...            40.0    0.488889      0\n",
              "41094  41095   35             13  ...            60.0    0.388889      1\n",
              "\n",
              "[41094 rows x 8 columns]"
            ]
          },
          "metadata": {},
          "execution_count": 73
        }
      ]
    },
    {
      "cell_type": "markdown",
      "metadata": {
        "id": "H7cN7or7Vgfe"
      },
      "source": [
        "# Continious Variable to Categorical Variable"
      ]
    },
    {
      "cell_type": "code",
      "metadata": {
        "colab": {
          "base_uri": "https://localhost:8080/",
          "height": 285
        },
        "id": "B4TCO6nOgAhj",
        "outputId": "aa6e9640-fb43-42a9-d8a4-7c65a796a224"
      },
      "source": [
        "data['age'].hist()"
      ],
      "execution_count": 74,
      "outputs": [
        {
          "output_type": "execute_result",
          "data": {
            "text/plain": [
              "<matplotlib.axes._subplots.AxesSubplot at 0x7f9318d54290>"
            ]
          },
          "metadata": {},
          "execution_count": 74
        },
        {
          "output_type": "display_data",
          "data": {
            "image/png": "[encoded data removed]",
            "text/plain": [
              "<Figure size 432x288 with 1 Axes>"
            ]
          },
          "metadata": {
            "needs_background": "light"
          }
        }
      ]
    },
    {
      "cell_type": "code",
      "metadata": {
        "colab": {
          "base_uri": "https://localhost:8080/"
        },
        "id": "Ng1UbU6zggra",
        "outputId": "c52fd494-a26d-4188-9498-323a42e726d0"
      },
      "source": [
        "data['age'].describe()"
      ],
      "execution_count": 75,
      "outputs": [
        {
          "output_type": "execute_result",
          "data": {
            "text/plain": [
              "count    41094.000000\n",
              "mean        38.669757\n",
              "std         13.748166\n",
              "min         17.000000\n",
              "25%         28.000000\n",
              "50%         37.000000\n",
              "75%         48.000000\n",
              "max         90.000000\n",
              "Name: age, dtype: float64"
            ]
          },
          "metadata": {},
          "execution_count": 75
        }
      ]
    },
    {
      "cell_type": "code",
      "metadata": {
        "colab": {
          "base_uri": "https://localhost:8080/"
        },
        "id": "IYdCvSUbVmlQ",
        "outputId": "2de91eee-5d19-4375-cbd7-ec8bf1ca382a"
      },
      "source": [
        "data['age'].value_counts(bins=10)"
      ],
      "execution_count": 76,
      "outputs": [
        {
          "output_type": "execute_result",
          "data": {
            "text/plain": [
              "(38.9, 46.2]      7700\n",
              "(31.6, 38.9]      7665\n",
              "(24.3, 31.6]      7271\n",
              "(16.926, 24.3]    7115\n",
              "(46.2, 53.5]      5031\n",
              "(53.5, 60.8]      3266\n",
              "(60.8, 68.1]      2040\n",
              "(68.1, 75.4]       668\n",
              "(75.4, 82.7]       253\n",
              "(82.7, 90.0]        85\n",
              "Name: age, dtype: int64"
            ]
          },
          "metadata": {},
          "execution_count": 76
        }
      ]
    },
    {
      "cell_type": "code",
      "metadata": {
        "colab": {
          "base_uri": "https://localhost:8080/"
        },
        "id": "kXGTTL98Vw4d",
        "outputId": "4f991d21-e26e-4ff4-a4bb-5c2424d0d7d2"
      },
      "source": [
        "data['age'].value_counts(bins=10, normalize=True)"
      ],
      "execution_count": 77,
      "outputs": [
        {
          "output_type": "execute_result",
          "data": {
            "text/plain": [
              "(38.9, 46.2]      0.187375\n",
              "(31.6, 38.9]      0.186524\n",
              "(24.3, 31.6]      0.176936\n",
              "(16.926, 24.3]    0.173140\n",
              "(46.2, 53.5]      0.122427\n",
              "(53.5, 60.8]      0.079476\n",
              "(60.8, 68.1]      0.049642\n",
              "(68.1, 75.4]      0.016255\n",
              "(75.4, 82.7]      0.006157\n",
              "(82.7, 90.0]      0.002068\n",
              "Name: age, dtype: float64"
            ]
          },
          "metadata": {},
          "execution_count": 77
        }
      ]
    },
    {
      "cell_type": "markdown",
      "metadata": {
        "id": "wQyHUWrPV7mA"
      },
      "source": [
        "## Use `cut()` function"
      ]
    },
    {
      "cell_type": "code",
      "metadata": {
        "id": "5lBCpQ8Xg2uy"
      },
      "source": [
        "labels = ['<20', '20-30', '30-40', '40-50', '50-60', '>60']\n",
        "bin_edges = [0, 20, 30, 40, 50, 60, np.inf]"
      ],
      "execution_count": 78,
      "outputs": []
    },
    {
      "cell_type": "code",
      "metadata": {
        "colab": {
          "base_uri": "https://localhost:8080/"
        },
        "id": "_BB75wEbh8AN",
        "outputId": "93ef4b7e-08ac-480c-f987-6ee63cc699f7"
      },
      "source": [
        "len(labels)"
      ],
      "execution_count": 79,
      "outputs": [
        {
          "output_type": "execute_result",
          "data": {
            "text/plain": [
              "6"
            ]
          },
          "metadata": {},
          "execution_count": 79
        }
      ]
    },
    {
      "cell_type": "code",
      "metadata": {
        "colab": {
          "base_uri": "https://localhost:8080/"
        },
        "id": "mPm0y2-9h-X6",
        "outputId": "ce620475-4422-4465-fc0b-9e3d1bb57164"
      },
      "source": [
        "len(bin_edges)"
      ],
      "execution_count": 80,
      "outputs": [
        {
          "output_type": "execute_result",
          "data": {
            "text/plain": [
              "7"
            ]
          },
          "metadata": {},
          "execution_count": 80
        }
      ]
    },
    {
      "cell_type": "code",
      "metadata": {
        "id": "Hd5cbxKHiAJF"
      },
      "source": [
        "data['age_group'] = pd.cut(x=data['age'], bins=bin_edges, labels=labels)"
      ],
      "execution_count": 81,
      "outputs": []
    },
    {
      "cell_type": "code",
      "metadata": {
        "colab": {
          "base_uri": "https://localhost:8080/",
          "height": 363
        },
        "id": "CU2-3ekYibTi",
        "outputId": "99e86742-aa3f-42ea-fb74-a03ed144d037"
      },
      "source": [
        "data[['age', 'age_group']].sample(10)"
      ],
      "execution_count": 82,
      "outputs": [
        {
          "output_type": "execute_result",
          "data": {
            "text/html": [
              "<div>\n",
              "<style scoped>\n",
              "    .dataframe tbody tr th:only-of-type {\n",
              "        vertical-align: middle;\n",
              "    }\n",
              "\n",
              "    .dataframe tbody tr th {\n",
              "        vertical-align: top;\n",
              "    }\n",
              "\n",
              "    .dataframe thead th {\n",
              "        text-align: right;\n",
              "    }\n",
              "</style>\n",
              "<table border=\"1\" class=\"dataframe\">\n",
              "  <thead>\n",
              "    <tr style=\"text-align: right;\">\n",
              "      <th></th>\n",
              "      <th>age</th>\n",
              "      <th>age_group</th>\n",
              "    </tr>\n",
              "  </thead>\n",
              "  <tbody>\n",
              "    <tr>\n",
              "      <th>14518</th>\n",
              "      <td>44</td>\n",
              "      <td>40-50</td>\n",
              "    </tr>\n",
              "    <tr>\n",
              "      <th>1515</th>\n",
              "      <td>44</td>\n",
              "      <td>40-50</td>\n",
              "    </tr>\n",
              "    <tr>\n",
              "      <th>35601</th>\n",
              "      <td>34</td>\n",
              "      <td>30-40</td>\n",
              "    </tr>\n",
              "    <tr>\n",
              "      <th>16690</th>\n",
              "      <td>44</td>\n",
              "      <td>40-50</td>\n",
              "    </tr>\n",
              "    <tr>\n",
              "      <th>12259</th>\n",
              "      <td>34</td>\n",
              "      <td>30-40</td>\n",
              "    </tr>\n",
              "    <tr>\n",
              "      <th>28449</th>\n",
              "      <td>28</td>\n",
              "      <td>20-30</td>\n",
              "    </tr>\n",
              "    <tr>\n",
              "      <th>20495</th>\n",
              "      <td>62</td>\n",
              "      <td>&gt;60</td>\n",
              "    </tr>\n",
              "    <tr>\n",
              "      <th>353</th>\n",
              "      <td>46</td>\n",
              "      <td>40-50</td>\n",
              "    </tr>\n",
              "    <tr>\n",
              "      <th>27171</th>\n",
              "      <td>42</td>\n",
              "      <td>40-50</td>\n",
              "    </tr>\n",
              "    <tr>\n",
              "      <th>34570</th>\n",
              "      <td>19</td>\n",
              "      <td>&lt;20</td>\n",
              "    </tr>\n",
              "  </tbody>\n",
              "</table>\n",
              "</div>"
            ],
            "text/plain": [
              "       age age_group\n",
              "14518   44     40-50\n",
              "1515    44     40-50\n",
              "35601   34     30-40\n",
              "16690   44     40-50\n",
              "12259   34     30-40\n",
              "28449   28     20-30\n",
              "20495   62       >60\n",
              "353     46     40-50\n",
              "27171   42     40-50\n",
              "34570   19       <20"
            ]
          },
          "metadata": {},
          "execution_count": 82
        }
      ]
    },
    {
      "cell_type": "markdown",
      "metadata": {
        "id": "3JKa2Hp5WCXE"
      },
      "source": [
        "## Exercise 1\n",
        "Convert `hours_per_week` into categorical variable "
      ]
    },
    {
      "cell_type": "code",
      "metadata": {
        "colab": {
          "base_uri": "https://localhost:8080/"
        },
        "id": "c-WICVaKjBEa",
        "outputId": "e7ce19c0-a780-43f1-e63d-a7433f9b507a"
      },
      "source": [
        "data['hours_per_week'].describe()"
      ],
      "execution_count": 83,
      "outputs": [
        {
          "output_type": "execute_result",
          "data": {
            "text/plain": [
              "count    41094.000000\n",
              "mean        40.404585\n",
              "std         12.371882\n",
              "min          1.000000\n",
              "25%         40.000000\n",
              "50%         40.000000\n",
              "75%         45.000000\n",
              "max         99.000000\n",
              "Name: hours_per_week, dtype: float64"
            ]
          },
          "metadata": {},
          "execution_count": 83
        }
      ]
    },
    {
      "cell_type": "code",
      "metadata": {
        "colab": {
          "base_uri": "https://localhost:8080/"
        },
        "id": "-Hh9pWFSjrMU",
        "outputId": "ead6caf5-7882-47d6-c123-ad8872291c1c"
      },
      "source": [
        "data['hours_per_week'].value_counts(bins=10)"
      ],
      "execution_count": 84,
      "outputs": [
        {
          "output_type": "execute_result",
          "data": {
            "text/plain": [
              "(30.4, 40.2]     22441\n",
              "(40.2, 50.0]      7481\n",
              "(20.6, 30.4]      2869\n",
              "(10.8, 20.6]      2801\n",
              "(59.8, 69.6]      2239\n",
              "(50.0, 59.8]      1307\n",
              "(0.901, 10.8]      947\n",
              "(69.6, 79.4]       569\n",
              "(79.4, 89.2]       267\n",
              "(89.2, 99.0]       173\n",
              "Name: hours_per_week, dtype: int64"
            ]
          },
          "metadata": {},
          "execution_count": 84
        }
      ]
    },
    {
      "cell_type": "code",
      "metadata": {
        "id": "v40c7JHrWYMo"
      },
      "source": [
        "# Type your code here"
      ],
      "execution_count": 85,
      "outputs": []
    },
    {
      "cell_type": "code",
      "metadata": {
        "colab": {
          "base_uri": "https://localhost:8080/"
        },
        "id": "XGjqorwPo7UE",
        "outputId": "c1b5ccea-ba94-408d-dcd6-1cfbf0458b28"
      },
      "source": [
        "data.dtypes"
      ],
      "execution_count": 86,
      "outputs": [
        {
          "output_type": "execute_result",
          "data": {
            "text/plain": [
              "ID                   int64\n",
              "age                  int64\n",
              "workclass           object\n",
              "education           object\n",
              "education_num        int64\n",
              "marital_status      object\n",
              "occupation          object\n",
              "relationship        object\n",
              "race                object\n",
              "sex                 object\n",
              "capital_gain       float64\n",
              "capital_loss       float64\n",
              "hours_per_week     float64\n",
              "native_country      object\n",
              "class               object\n",
              "scaled_age         float64\n",
              "y_act                int64\n",
              "age_group         category\n",
              "dtype: object"
            ]
          },
          "metadata": {},
          "execution_count": 86
        }
      ]
    },
    {
      "cell_type": "markdown",
      "metadata": {
        "id": "Bp5JbauNpqmq"
      },
      "source": [
        "# Cross Tables (two-way tables)"
      ]
    },
    {
      "cell_type": "code",
      "metadata": {
        "colab": {
          "base_uri": "https://localhost:8080/",
          "height": 614
        },
        "id": "bBvLybFbpq6V",
        "outputId": "2e049a8e-3e0b-4bd7-f7fa-2de5be22a2fb"
      },
      "source": [
        "pd.crosstab(data['education'], data['age_group'], margins=True, margins_name='Total')"
      ],
      "execution_count": 87,
      "outputs": [
        {
          "output_type": "execute_result",
          "data": {
            "text/html": [
              "<div>\n",
              "<style scoped>\n",
              "    .dataframe tbody tr th:only-of-type {\n",
              "        vertical-align: middle;\n",
              "    }\n",
              "\n",
              "    .dataframe tbody tr th {\n",
              "        vertical-align: top;\n",
              "    }\n",
              "\n",
              "    .dataframe thead th {\n",
              "        text-align: right;\n",
              "    }\n",
              "</style>\n",
              "<table border=\"1\" class=\"dataframe\">\n",
              "  <thead>\n",
              "    <tr style=\"text-align: right;\">\n",
              "      <th>age_group</th>\n",
              "      <th>&lt;20</th>\n",
              "      <th>20-30</th>\n",
              "      <th>30-40</th>\n",
              "      <th>40-50</th>\n",
              "      <th>50-60</th>\n",
              "      <th>&gt;60</th>\n",
              "      <th>Total</th>\n",
              "    </tr>\n",
              "    <tr>\n",
              "      <th>education</th>\n",
              "      <th></th>\n",
              "      <th></th>\n",
              "      <th></th>\n",
              "      <th></th>\n",
              "      <th></th>\n",
              "      <th></th>\n",
              "      <th></th>\n",
              "    </tr>\n",
              "  </thead>\n",
              "  <tbody>\n",
              "    <tr>\n",
              "      <th>10th</th>\n",
              "      <td>245</td>\n",
              "      <td>229</td>\n",
              "      <td>226</td>\n",
              "      <td>146</td>\n",
              "      <td>194</td>\n",
              "      <td>132</td>\n",
              "      <td>1172</td>\n",
              "    </tr>\n",
              "    <tr>\n",
              "      <th>11th</th>\n",
              "      <td>521</td>\n",
              "      <td>314</td>\n",
              "      <td>285</td>\n",
              "      <td>192</td>\n",
              "      <td>131</td>\n",
              "      <td>99</td>\n",
              "      <td>1542</td>\n",
              "    </tr>\n",
              "    <tr>\n",
              "      <th>12th</th>\n",
              "      <td>181</td>\n",
              "      <td>111</td>\n",
              "      <td>110</td>\n",
              "      <td>59</td>\n",
              "      <td>48</td>\n",
              "      <td>33</td>\n",
              "      <td>542</td>\n",
              "    </tr>\n",
              "    <tr>\n",
              "      <th>1st-4th</th>\n",
              "      <td>0</td>\n",
              "      <td>23</td>\n",
              "      <td>41</td>\n",
              "      <td>48</td>\n",
              "      <td>40</td>\n",
              "      <td>44</td>\n",
              "      <td>196</td>\n",
              "    </tr>\n",
              "    <tr>\n",
              "      <th>5th-6th</th>\n",
              "      <td>16</td>\n",
              "      <td>91</td>\n",
              "      <td>72</td>\n",
              "      <td>100</td>\n",
              "      <td>82</td>\n",
              "      <td>59</td>\n",
              "      <td>420</td>\n",
              "    </tr>\n",
              "    <tr>\n",
              "      <th>7th-8th</th>\n",
              "      <td>25</td>\n",
              "      <td>101</td>\n",
              "      <td>128</td>\n",
              "      <td>145</td>\n",
              "      <td>172</td>\n",
              "      <td>226</td>\n",
              "      <td>797</td>\n",
              "    </tr>\n",
              "    <tr>\n",
              "      <th>9th</th>\n",
              "      <td>60</td>\n",
              "      <td>138</td>\n",
              "      <td>136</td>\n",
              "      <td>91</td>\n",
              "      <td>119</td>\n",
              "      <td>84</td>\n",
              "      <td>628</td>\n",
              "    </tr>\n",
              "    <tr>\n",
              "      <th>Assoc-acdm</th>\n",
              "      <td>13</td>\n",
              "      <td>369</td>\n",
              "      <td>447</td>\n",
              "      <td>315</td>\n",
              "      <td>129</td>\n",
              "      <td>52</td>\n",
              "      <td>1325</td>\n",
              "    </tr>\n",
              "    <tr>\n",
              "      <th>Assoc-voc</th>\n",
              "      <td>16</td>\n",
              "      <td>480</td>\n",
              "      <td>574</td>\n",
              "      <td>405</td>\n",
              "      <td>169</td>\n",
              "      <td>90</td>\n",
              "      <td>1734</td>\n",
              "    </tr>\n",
              "    <tr>\n",
              "      <th>Bachelors</th>\n",
              "      <td>3</td>\n",
              "      <td>1980</td>\n",
              "      <td>2038</td>\n",
              "      <td>1634</td>\n",
              "      <td>722</td>\n",
              "      <td>401</td>\n",
              "      <td>6778</td>\n",
              "    </tr>\n",
              "    <tr>\n",
              "      <th>Doctorate</th>\n",
              "      <td>0</td>\n",
              "      <td>29</td>\n",
              "      <td>120</td>\n",
              "      <td>167</td>\n",
              "      <td>114</td>\n",
              "      <td>65</td>\n",
              "      <td>495</td>\n",
              "    </tr>\n",
              "    <tr>\n",
              "      <th>HS-grad</th>\n",
              "      <td>848</td>\n",
              "      <td>3230</td>\n",
              "      <td>3712</td>\n",
              "      <td>2642</td>\n",
              "      <td>1876</td>\n",
              "      <td>1037</td>\n",
              "      <td>13345</td>\n",
              "    </tr>\n",
              "    <tr>\n",
              "      <th>Masters</th>\n",
              "      <td>1</td>\n",
              "      <td>258</td>\n",
              "      <td>610</td>\n",
              "      <td>805</td>\n",
              "      <td>395</td>\n",
              "      <td>162</td>\n",
              "      <td>2231</td>\n",
              "    </tr>\n",
              "    <tr>\n",
              "      <th>Preschool</th>\n",
              "      <td>3</td>\n",
              "      <td>16</td>\n",
              "      <td>12</td>\n",
              "      <td>10</td>\n",
              "      <td>15</td>\n",
              "      <td>11</td>\n",
              "      <td>67</td>\n",
              "    </tr>\n",
              "    <tr>\n",
              "      <th>Prof-school</th>\n",
              "      <td>0</td>\n",
              "      <td>69</td>\n",
              "      <td>201</td>\n",
              "      <td>228</td>\n",
              "      <td>101</td>\n",
              "      <td>86</td>\n",
              "      <td>685</td>\n",
              "    </tr>\n",
              "    <tr>\n",
              "      <th>Some-college</th>\n",
              "      <td>1109</td>\n",
              "      <td>2788</td>\n",
              "      <td>2107</td>\n",
              "      <td>1754</td>\n",
              "      <td>914</td>\n",
              "      <td>465</td>\n",
              "      <td>9137</td>\n",
              "    </tr>\n",
              "    <tr>\n",
              "      <th>Total</th>\n",
              "      <td>3041</td>\n",
              "      <td>10226</td>\n",
              "      <td>10819</td>\n",
              "      <td>8741</td>\n",
              "      <td>5221</td>\n",
              "      <td>3046</td>\n",
              "      <td>41094</td>\n",
              "    </tr>\n",
              "  </tbody>\n",
              "</table>\n",
              "</div>"
            ],
            "text/plain": [
              "age_group       <20  20-30  30-40  40-50  50-60   >60  Total\n",
              "education                                                   \n",
              " 10th           245    229    226    146    194   132   1172\n",
              " 11th           521    314    285    192    131    99   1542\n",
              " 12th           181    111    110     59     48    33    542\n",
              " 1st-4th          0     23     41     48     40    44    196\n",
              " 5th-6th         16     91     72    100     82    59    420\n",
              " 7th-8th         25    101    128    145    172   226    797\n",
              " 9th             60    138    136     91    119    84    628\n",
              " Assoc-acdm      13    369    447    315    129    52   1325\n",
              " Assoc-voc       16    480    574    405    169    90   1734\n",
              " Bachelors        3   1980   2038   1634    722   401   6778\n",
              " Doctorate        0     29    120    167    114    65    495\n",
              " HS-grad        848   3230   3712   2642   1876  1037  13345\n",
              " Masters          1    258    610    805    395   162   2231\n",
              " Preschool        3     16     12     10     15    11     67\n",
              " Prof-school      0     69    201    228    101    86    685\n",
              " Some-college  1109   2788   2107   1754    914   465   9137\n",
              "Total          3041  10226  10819   8741   5221  3046  41094"
            ]
          },
          "metadata": {},
          "execution_count": 87
        }
      ]
    },
    {
      "cell_type": "code",
      "metadata": {
        "colab": {
          "base_uri": "https://localhost:8080/",
          "height": 404
        },
        "id": "4pEn1R43qUyR",
        "outputId": "a111a4fd-c35f-4b1d-f2c4-9f9b33696ac1"
      },
      "source": [
        "pd.crosstab(data['education'], data['age_group'], normalize=True).style.background_gradient(cmap='RdYlGn')#.set_precision(5)"
      ],
      "execution_count": 88,
      "outputs": [
        {
          "output_type": "execute_result",
          "data": {
            "text/html": [
              "<style  type=\"text/css\" >\n",
              "#T_5e8d222a_298d_11ec_ac9e_0242ac1c0002row0_col0{\n",
              "            background-color:  #f67a49;\n",
              "            color:  #000000;\n",
              "        }#T_5e8d222a_298d_11ec_ac9e_0242ac1c0002row0_col1{\n",
              "            background-color:  #c41e27;\n",
              "            color:  #f1f1f1;\n",
              "        }#T_5e8d222a_298d_11ec_ac9e_0242ac1c0002row0_col2,#T_5e8d222a_298d_11ec_ac9e_0242ac1c0002row6_col4{\n",
              "            background-color:  #c01a27;\n",
              "            color:  #f1f1f1;\n",
              "        }#T_5e8d222a_298d_11ec_ac9e_0242ac1c0002row0_col3,#T_5e8d222a_298d_11ec_ac9e_0242ac1c0002row5_col3,#T_5e8d222a_298d_11ec_ac9e_0242ac1c0002row6_col0,#T_5e8d222a_298d_11ec_ac9e_0242ac1c0002row10_col4,#T_5e8d222a_298d_11ec_ac9e_0242ac1c0002row10_col5,#T_5e8d222a_298d_11ec_ac9e_0242ac1c0002row14_col2{\n",
              "            background-color:  #be1827;\n",
              "            color:  #f1f1f1;\n",
              "        }#T_5e8d222a_298d_11ec_ac9e_0242ac1c0002row0_col4{\n",
              "            background-color:  #d42d27;\n",
              "            color:  #f1f1f1;\n",
              "        }#T_5e8d222a_298d_11ec_ac9e_0242ac1c0002row0_col5,#T_5e8d222a_298d_11ec_ac9e_0242ac1c0002row7_col2{\n",
              "            background-color:  #dc3b2c;\n",
              "            color:  #f1f1f1;\n",
              "        }#T_5e8d222a_298d_11ec_ac9e_0242ac1c0002row1_col0{\n",
              "            background-color:  #fff6b0;\n",
              "            color:  #000000;\n",
              "        }#T_5e8d222a_298d_11ec_ac9e_0242ac1c0002row1_col1{\n",
              "            background-color:  #d22b27;\n",
              "            color:  #f1f1f1;\n",
              "        }#T_5e8d222a_298d_11ec_ac9e_0242ac1c0002row1_col2,#T_5e8d222a_298d_11ec_ac9e_0242ac1c0002row6_col5,#T_5e8d222a_298d_11ec_ac9e_0242ac1c0002row14_col5{\n",
              "            background-color:  #c82227;\n",
              "            color:  #f1f1f1;\n",
              "        }#T_5e8d222a_298d_11ec_ac9e_0242ac1c0002row1_col3{\n",
              "            background-color:  #c62027;\n",
              "            color:  #f1f1f1;\n",
              "        }#T_5e8d222a_298d_11ec_ac9e_0242ac1c0002row1_col4,#T_5e8d222a_298d_11ec_ac9e_0242ac1c0002row7_col4,#T_5e8d222a_298d_11ec_ac9e_0242ac1c0002row10_col3{\n",
              "            background-color:  #c21c27;\n",
              "            color:  #f1f1f1;\n",
              "        }#T_5e8d222a_298d_11ec_ac9e_0242ac1c0002row1_col5,#T_5e8d222a_298d_11ec_ac9e_0242ac1c0002row5_col4,#T_5e8d222a_298d_11ec_ac9e_0242ac1c0002row8_col4,#T_5e8d222a_298d_11ec_ac9e_0242ac1c0002row14_col3{\n",
              "            background-color:  #ce2827;\n",
              "            color:  #f1f1f1;\n",
              "        }#T_5e8d222a_298d_11ec_ac9e_0242ac1c0002row2_col0,#T_5e8d222a_298d_11ec_ac9e_0242ac1c0002row12_col2{\n",
              "            background-color:  #e95538;\n",
              "            color:  #000000;\n",
              "        }#T_5e8d222a_298d_11ec_ac9e_0242ac1c0002row2_col1,#T_5e8d222a_298d_11ec_ac9e_0242ac1c0002row6_col3,#T_5e8d222a_298d_11ec_ac9e_0242ac1c0002row10_col2{\n",
              "            background-color:  #b30d26;\n",
              "            color:  #f1f1f1;\n",
              "        }#T_5e8d222a_298d_11ec_ac9e_0242ac1c0002row2_col2,#T_5e8d222a_298d_11ec_ac9e_0242ac1c0002row5_col1{\n",
              "            background-color:  #b10b26;\n",
              "            color:  #f1f1f1;\n",
              "        }#T_5e8d222a_298d_11ec_ac9e_0242ac1c0002row2_col3,#T_5e8d222a_298d_11ec_ac9e_0242ac1c0002row2_col4,#T_5e8d222a_298d_11ec_ac9e_0242ac1c0002row4_col2,#T_5e8d222a_298d_11ec_ac9e_0242ac1c0002row14_col1{\n",
              "            background-color:  #ad0826;\n",
              "            color:  #f1f1f1;\n",
              "        }#T_5e8d222a_298d_11ec_ac9e_0242ac1c0002row2_col5,#T_5e8d222a_298d_11ec_ac9e_0242ac1c0002row4_col1,#T_5e8d222a_298d_11ec_ac9e_0242ac1c0002row5_col0{\n",
              "            background-color:  #af0926;\n",
              "            color:  #f1f1f1;\n",
              "        }#T_5e8d222a_298d_11ec_ac9e_0242ac1c0002row3_col0,#T_5e8d222a_298d_11ec_ac9e_0242ac1c0002row3_col1,#T_5e8d222a_298d_11ec_ac9e_0242ac1c0002row9_col0,#T_5e8d222a_298d_11ec_ac9e_0242ac1c0002row10_col0,#T_5e8d222a_298d_11ec_ac9e_0242ac1c0002row12_col0,#T_5e8d222a_298d_11ec_ac9e_0242ac1c0002row13_col0,#T_5e8d222a_298d_11ec_ac9e_0242ac1c0002row13_col1,#T_5e8d222a_298d_11ec_ac9e_0242ac1c0002row13_col2,#T_5e8d222a_298d_11ec_ac9e_0242ac1c0002row13_col3,#T_5e8d222a_298d_11ec_ac9e_0242ac1c0002row13_col4,#T_5e8d222a_298d_11ec_ac9e_0242ac1c0002row13_col5,#T_5e8d222a_298d_11ec_ac9e_0242ac1c0002row14_col0{\n",
              "            background-color:  #a50026;\n",
              "            color:  #f1f1f1;\n",
              "        }#T_5e8d222a_298d_11ec_ac9e_0242ac1c0002row3_col2{\n",
              "            background-color:  #a90426;\n",
              "            color:  #f1f1f1;\n",
              "        }#T_5e8d222a_298d_11ec_ac9e_0242ac1c0002row3_col3,#T_5e8d222a_298d_11ec_ac9e_0242ac1c0002row3_col4,#T_5e8d222a_298d_11ec_ac9e_0242ac1c0002row4_col0,#T_5e8d222a_298d_11ec_ac9e_0242ac1c0002row7_col0,#T_5e8d222a_298d_11ec_ac9e_0242ac1c0002row8_col0{\n",
              "            background-color:  #ab0626;\n",
              "            color:  #f1f1f1;\n",
              "        }#T_5e8d222a_298d_11ec_ac9e_0242ac1c0002row3_col5,#T_5e8d222a_298d_11ec_ac9e_0242ac1c0002row4_col3,#T_5e8d222a_298d_11ec_ac9e_0242ac1c0002row5_col2,#T_5e8d222a_298d_11ec_ac9e_0242ac1c0002row6_col2{\n",
              "            background-color:  #b50f26;\n",
              "            color:  #f1f1f1;\n",
              "        }#T_5e8d222a_298d_11ec_ac9e_0242ac1c0002row4_col4,#T_5e8d222a_298d_11ec_ac9e_0242ac1c0002row6_col1{\n",
              "            background-color:  #b71126;\n",
              "            color:  #f1f1f1;\n",
              "        }#T_5e8d222a_298d_11ec_ac9e_0242ac1c0002row4_col5,#T_5e8d222a_298d_11ec_ac9e_0242ac1c0002row14_col4{\n",
              "            background-color:  #bb1526;\n",
              "            color:  #f1f1f1;\n",
              "        }#T_5e8d222a_298d_11ec_ac9e_0242ac1c0002row5_col5{\n",
              "            background-color:  #f57245;\n",
              "            color:  #000000;\n",
              "        }#T_5e8d222a_298d_11ec_ac9e_0242ac1c0002row7_col1{\n",
              "            background-color:  #da362a;\n",
              "            color:  #f1f1f1;\n",
              "        }#T_5e8d222a_298d_11ec_ac9e_0242ac1c0002row7_col3{\n",
              "            background-color:  #db382b;\n",
              "            color:  #f1f1f1;\n",
              "        }#T_5e8d222a_298d_11ec_ac9e_0242ac1c0002row7_col5{\n",
              "            background-color:  #b91326;\n",
              "            color:  #f1f1f1;\n",
              "        }#T_5e8d222a_298d_11ec_ac9e_0242ac1c0002row8_col1{\n",
              "            background-color:  #e34933;\n",
              "            color:  #f1f1f1;\n",
              "        }#T_5e8d222a_298d_11ec_ac9e_0242ac1c0002row8_col2,#T_5e8d222a_298d_11ec_ac9e_0242ac1c0002row8_col3{\n",
              "            background-color:  #e54e35;\n",
              "            color:  #000000;\n",
              "        }#T_5e8d222a_298d_11ec_ac9e_0242ac1c0002row8_col5,#T_5e8d222a_298d_11ec_ac9e_0242ac1c0002row12_col1{\n",
              "            background-color:  #ca2427;\n",
              "            color:  #f1f1f1;\n",
              "        }#T_5e8d222a_298d_11ec_ac9e_0242ac1c0002row9_col1{\n",
              "            background-color:  #d3ec87;\n",
              "            color:  #000000;\n",
              "        }#T_5e8d222a_298d_11ec_ac9e_0242ac1c0002row9_col2{\n",
              "            background-color:  #ecf7a6;\n",
              "            color:  #000000;\n",
              "        }#T_5e8d222a_298d_11ec_ac9e_0242ac1c0002row9_col3{\n",
              "            background-color:  #d1ec86;\n",
              "            color:  #000000;\n",
              "        }#T_5e8d222a_298d_11ec_ac9e_0242ac1c0002row9_col4,#T_5e8d222a_298d_11ec_ac9e_0242ac1c0002row9_col5{\n",
              "            background-color:  #fed683;\n",
              "            color:  #000000;\n",
              "        }#T_5e8d222a_298d_11ec_ac9e_0242ac1c0002row10_col1{\n",
              "            background-color:  #a70226;\n",
              "            color:  #f1f1f1;\n",
              "        }#T_5e8d222a_298d_11ec_ac9e_0242ac1c0002row11_col0{\n",
              "            background-color:  #7dc765;\n",
              "            color:  #000000;\n",
              "        }#T_5e8d222a_298d_11ec_ac9e_0242ac1c0002row11_col1,#T_5e8d222a_298d_11ec_ac9e_0242ac1c0002row11_col2,#T_5e8d222a_298d_11ec_ac9e_0242ac1c0002row11_col3,#T_5e8d222a_298d_11ec_ac9e_0242ac1c0002row11_col4,#T_5e8d222a_298d_11ec_ac9e_0242ac1c0002row11_col5,#T_5e8d222a_298d_11ec_ac9e_0242ac1c0002row15_col0{\n",
              "            background-color:  #006837;\n",
              "            color:  #f1f1f1;\n",
              "        }#T_5e8d222a_298d_11ec_ac9e_0242ac1c0002row12_col3{\n",
              "            background-color:  #fdaf62;\n",
              "            color:  #000000;\n",
              "        }#T_5e8d222a_298d_11ec_ac9e_0242ac1c0002row12_col4{\n",
              "            background-color:  #f47044;\n",
              "            color:  #000000;\n",
              "        }#T_5e8d222a_298d_11ec_ac9e_0242ac1c0002row12_col5{\n",
              "            background-color:  #e44c34;\n",
              "            color:  #000000;\n",
              "        }#T_5e8d222a_298d_11ec_ac9e_0242ac1c0002row15_col1{\n",
              "            background-color:  #36a657;\n",
              "            color:  #000000;\n",
              "        }#T_5e8d222a_298d_11ec_ac9e_0242ac1c0002row15_col2{\n",
              "            background-color:  #e6f59d;\n",
              "            color:  #000000;\n",
              "        }#T_5e8d222a_298d_11ec_ac9e_0242ac1c0002row15_col3{\n",
              "            background-color:  #b9e176;\n",
              "            color:  #000000;\n",
              "        }#T_5e8d222a_298d_11ec_ac9e_0242ac1c0002row15_col4{\n",
              "            background-color:  #fffab6;\n",
              "            color:  #000000;\n",
              "        }#T_5e8d222a_298d_11ec_ac9e_0242ac1c0002row15_col5{\n",
              "            background-color:  #feeda1;\n",
              "            color:  #000000;\n",
              "        }</style><table id=\"T_5e8d222a_298d_11ec_ac9e_0242ac1c0002\" ><thead>    <tr>        <th class=\"index_name level0\" >age_group</th>        <th class=\"col_heading level0 col0\" ><20</th>        <th class=\"col_heading level0 col1\" >20-30</th>        <th class=\"col_heading level0 col2\" >30-40</th>        <th class=\"col_heading level0 col3\" >40-50</th>        <th class=\"col_heading level0 col4\" >50-60</th>        <th class=\"col_heading level0 col5\" >>60</th>    </tr>    <tr>        <th class=\"index_name level0\" >education</th>        <th class=\"blank\" ></th>        <th class=\"blank\" ></th>        <th class=\"blank\" ></th>        <th class=\"blank\" ></th>        <th class=\"blank\" ></th>        <th class=\"blank\" ></th>    </tr></thead><tbody>\n",
              "                <tr>\n",
              "                        <th id=\"T_5e8d222a_298d_11ec_ac9e_0242ac1c0002level0_row0\" class=\"row_heading level0 row0\" > 10th</th>\n",
              "                        <td id=\"T_5e8d222a_298d_11ec_ac9e_0242ac1c0002row0_col0\" class=\"data row0 col0\" >0.005962</td>\n",
              "                        <td id=\"T_5e8d222a_298d_11ec_ac9e_0242ac1c0002row0_col1\" class=\"data row0 col1\" >0.005573</td>\n",
              "                        <td id=\"T_5e8d222a_298d_11ec_ac9e_0242ac1c0002row0_col2\" class=\"data row0 col2\" >0.005500</td>\n",
              "                        <td id=\"T_5e8d222a_298d_11ec_ac9e_0242ac1c0002row0_col3\" class=\"data row0 col3\" >0.003553</td>\n",
              "                        <td id=\"T_5e8d222a_298d_11ec_ac9e_0242ac1c0002row0_col4\" class=\"data row0 col4\" >0.004721</td>\n",
              "                        <td id=\"T_5e8d222a_298d_11ec_ac9e_0242ac1c0002row0_col5\" class=\"data row0 col5\" >0.003212</td>\n",
              "            </tr>\n",
              "            <tr>\n",
              "                        <th id=\"T_5e8d222a_298d_11ec_ac9e_0242ac1c0002level0_row1\" class=\"row_heading level0 row1\" > 11th</th>\n",
              "                        <td id=\"T_5e8d222a_298d_11ec_ac9e_0242ac1c0002row1_col0\" class=\"data row1 col0\" >0.012678</td>\n",
              "                        <td id=\"T_5e8d222a_298d_11ec_ac9e_0242ac1c0002row1_col1\" class=\"data row1 col1\" >0.007641</td>\n",
              "                        <td id=\"T_5e8d222a_298d_11ec_ac9e_0242ac1c0002row1_col2\" class=\"data row1 col2\" >0.006935</td>\n",
              "                        <td id=\"T_5e8d222a_298d_11ec_ac9e_0242ac1c0002row1_col3\" class=\"data row1 col3\" >0.004672</td>\n",
              "                        <td id=\"T_5e8d222a_298d_11ec_ac9e_0242ac1c0002row1_col4\" class=\"data row1 col4\" >0.003188</td>\n",
              "                        <td id=\"T_5e8d222a_298d_11ec_ac9e_0242ac1c0002row1_col5\" class=\"data row1 col5\" >0.002409</td>\n",
              "            </tr>\n",
              "            <tr>\n",
              "                        <th id=\"T_5e8d222a_298d_11ec_ac9e_0242ac1c0002level0_row2\" class=\"row_heading level0 row2\" > 12th</th>\n",
              "                        <td id=\"T_5e8d222a_298d_11ec_ac9e_0242ac1c0002row2_col0\" class=\"data row2 col0\" >0.004405</td>\n",
              "                        <td id=\"T_5e8d222a_298d_11ec_ac9e_0242ac1c0002row2_col1\" class=\"data row2 col1\" >0.002701</td>\n",
              "                        <td id=\"T_5e8d222a_298d_11ec_ac9e_0242ac1c0002row2_col2\" class=\"data row2 col2\" >0.002677</td>\n",
              "                        <td id=\"T_5e8d222a_298d_11ec_ac9e_0242ac1c0002row2_col3\" class=\"data row2 col3\" >0.001436</td>\n",
              "                        <td id=\"T_5e8d222a_298d_11ec_ac9e_0242ac1c0002row2_col4\" class=\"data row2 col4\" >0.001168</td>\n",
              "                        <td id=\"T_5e8d222a_298d_11ec_ac9e_0242ac1c0002row2_col5\" class=\"data row2 col5\" >0.000803</td>\n",
              "            </tr>\n",
              "            <tr>\n",
              "                        <th id=\"T_5e8d222a_298d_11ec_ac9e_0242ac1c0002level0_row3\" class=\"row_heading level0 row3\" > 1st-4th</th>\n",
              "                        <td id=\"T_5e8d222a_298d_11ec_ac9e_0242ac1c0002row3_col0\" class=\"data row3 col0\" >0.000000</td>\n",
              "                        <td id=\"T_5e8d222a_298d_11ec_ac9e_0242ac1c0002row3_col1\" class=\"data row3 col1\" >0.000560</td>\n",
              "                        <td id=\"T_5e8d222a_298d_11ec_ac9e_0242ac1c0002row3_col2\" class=\"data row3 col2\" >0.000998</td>\n",
              "                        <td id=\"T_5e8d222a_298d_11ec_ac9e_0242ac1c0002row3_col3\" class=\"data row3 col3\" >0.001168</td>\n",
              "                        <td id=\"T_5e8d222a_298d_11ec_ac9e_0242ac1c0002row3_col4\" class=\"data row3 col4\" >0.000973</td>\n",
              "                        <td id=\"T_5e8d222a_298d_11ec_ac9e_0242ac1c0002row3_col5\" class=\"data row3 col5\" >0.001071</td>\n",
              "            </tr>\n",
              "            <tr>\n",
              "                        <th id=\"T_5e8d222a_298d_11ec_ac9e_0242ac1c0002level0_row4\" class=\"row_heading level0 row4\" > 5th-6th</th>\n",
              "                        <td id=\"T_5e8d222a_298d_11ec_ac9e_0242ac1c0002row4_col0\" class=\"data row4 col0\" >0.000389</td>\n",
              "                        <td id=\"T_5e8d222a_298d_11ec_ac9e_0242ac1c0002row4_col1\" class=\"data row4 col1\" >0.002214</td>\n",
              "                        <td id=\"T_5e8d222a_298d_11ec_ac9e_0242ac1c0002row4_col2\" class=\"data row4 col2\" >0.001752</td>\n",
              "                        <td id=\"T_5e8d222a_298d_11ec_ac9e_0242ac1c0002row4_col3\" class=\"data row4 col3\" >0.002433</td>\n",
              "                        <td id=\"T_5e8d222a_298d_11ec_ac9e_0242ac1c0002row4_col4\" class=\"data row4 col4\" >0.001995</td>\n",
              "                        <td id=\"T_5e8d222a_298d_11ec_ac9e_0242ac1c0002row4_col5\" class=\"data row4 col5\" >0.001436</td>\n",
              "            </tr>\n",
              "            <tr>\n",
              "                        <th id=\"T_5e8d222a_298d_11ec_ac9e_0242ac1c0002level0_row5\" class=\"row_heading level0 row5\" > 7th-8th</th>\n",
              "                        <td id=\"T_5e8d222a_298d_11ec_ac9e_0242ac1c0002row5_col0\" class=\"data row5 col0\" >0.000608</td>\n",
              "                        <td id=\"T_5e8d222a_298d_11ec_ac9e_0242ac1c0002row5_col1\" class=\"data row5 col1\" >0.002458</td>\n",
              "                        <td id=\"T_5e8d222a_298d_11ec_ac9e_0242ac1c0002row5_col2\" class=\"data row5 col2\" >0.003115</td>\n",
              "                        <td id=\"T_5e8d222a_298d_11ec_ac9e_0242ac1c0002row5_col3\" class=\"data row5 col3\" >0.003528</td>\n",
              "                        <td id=\"T_5e8d222a_298d_11ec_ac9e_0242ac1c0002row5_col4\" class=\"data row5 col4\" >0.004186</td>\n",
              "                        <td id=\"T_5e8d222a_298d_11ec_ac9e_0242ac1c0002row5_col5\" class=\"data row5 col5\" >0.005500</td>\n",
              "            </tr>\n",
              "            <tr>\n",
              "                        <th id=\"T_5e8d222a_298d_11ec_ac9e_0242ac1c0002level0_row6\" class=\"row_heading level0 row6\" > 9th</th>\n",
              "                        <td id=\"T_5e8d222a_298d_11ec_ac9e_0242ac1c0002row6_col0\" class=\"data row6 col0\" >0.001460</td>\n",
              "                        <td id=\"T_5e8d222a_298d_11ec_ac9e_0242ac1c0002row6_col1\" class=\"data row6 col1\" >0.003358</td>\n",
              "                        <td id=\"T_5e8d222a_298d_11ec_ac9e_0242ac1c0002row6_col2\" class=\"data row6 col2\" >0.003309</td>\n",
              "                        <td id=\"T_5e8d222a_298d_11ec_ac9e_0242ac1c0002row6_col3\" class=\"data row6 col3\" >0.002214</td>\n",
              "                        <td id=\"T_5e8d222a_298d_11ec_ac9e_0242ac1c0002row6_col4\" class=\"data row6 col4\" >0.002896</td>\n",
              "                        <td id=\"T_5e8d222a_298d_11ec_ac9e_0242ac1c0002row6_col5\" class=\"data row6 col5\" >0.002044</td>\n",
              "            </tr>\n",
              "            <tr>\n",
              "                        <th id=\"T_5e8d222a_298d_11ec_ac9e_0242ac1c0002level0_row7\" class=\"row_heading level0 row7\" > Assoc-acdm</th>\n",
              "                        <td id=\"T_5e8d222a_298d_11ec_ac9e_0242ac1c0002row7_col0\" class=\"data row7 col0\" >0.000316</td>\n",
              "                        <td id=\"T_5e8d222a_298d_11ec_ac9e_0242ac1c0002row7_col1\" class=\"data row7 col1\" >0.008979</td>\n",
              "                        <td id=\"T_5e8d222a_298d_11ec_ac9e_0242ac1c0002row7_col2\" class=\"data row7 col2\" >0.010878</td>\n",
              "                        <td id=\"T_5e8d222a_298d_11ec_ac9e_0242ac1c0002row7_col3\" class=\"data row7 col3\" >0.007665</td>\n",
              "                        <td id=\"T_5e8d222a_298d_11ec_ac9e_0242ac1c0002row7_col4\" class=\"data row7 col4\" >0.003139</td>\n",
              "                        <td id=\"T_5e8d222a_298d_11ec_ac9e_0242ac1c0002row7_col5\" class=\"data row7 col5\" >0.001265</td>\n",
              "            </tr>\n",
              "            <tr>\n",
              "                        <th id=\"T_5e8d222a_298d_11ec_ac9e_0242ac1c0002level0_row8\" class=\"row_heading level0 row8\" > Assoc-voc</th>\n",
              "                        <td id=\"T_5e8d222a_298d_11ec_ac9e_0242ac1c0002row8_col0\" class=\"data row8 col0\" >0.000389</td>\n",
              "                        <td id=\"T_5e8d222a_298d_11ec_ac9e_0242ac1c0002row8_col1\" class=\"data row8 col1\" >0.011681</td>\n",
              "                        <td id=\"T_5e8d222a_298d_11ec_ac9e_0242ac1c0002row8_col2\" class=\"data row8 col2\" >0.013968</td>\n",
              "                        <td id=\"T_5e8d222a_298d_11ec_ac9e_0242ac1c0002row8_col3\" class=\"data row8 col3\" >0.009855</td>\n",
              "                        <td id=\"T_5e8d222a_298d_11ec_ac9e_0242ac1c0002row8_col4\" class=\"data row8 col4\" >0.004113</td>\n",
              "                        <td id=\"T_5e8d222a_298d_11ec_ac9e_0242ac1c0002row8_col5\" class=\"data row8 col5\" >0.002190</td>\n",
              "            </tr>\n",
              "            <tr>\n",
              "                        <th id=\"T_5e8d222a_298d_11ec_ac9e_0242ac1c0002level0_row9\" class=\"row_heading level0 row9\" > Bachelors</th>\n",
              "                        <td id=\"T_5e8d222a_298d_11ec_ac9e_0242ac1c0002row9_col0\" class=\"data row9 col0\" >0.000073</td>\n",
              "                        <td id=\"T_5e8d222a_298d_11ec_ac9e_0242ac1c0002row9_col1\" class=\"data row9 col1\" >0.048182</td>\n",
              "                        <td id=\"T_5e8d222a_298d_11ec_ac9e_0242ac1c0002row9_col2\" class=\"data row9 col2\" >0.049594</td>\n",
              "                        <td id=\"T_5e8d222a_298d_11ec_ac9e_0242ac1c0002row9_col3\" class=\"data row9 col3\" >0.039762</td>\n",
              "                        <td id=\"T_5e8d222a_298d_11ec_ac9e_0242ac1c0002row9_col4\" class=\"data row9 col4\" >0.017569</td>\n",
              "                        <td id=\"T_5e8d222a_298d_11ec_ac9e_0242ac1c0002row9_col5\" class=\"data row9 col5\" >0.009758</td>\n",
              "            </tr>\n",
              "            <tr>\n",
              "                        <th id=\"T_5e8d222a_298d_11ec_ac9e_0242ac1c0002level0_row10\" class=\"row_heading level0 row10\" > Doctorate</th>\n",
              "                        <td id=\"T_5e8d222a_298d_11ec_ac9e_0242ac1c0002row10_col0\" class=\"data row10 col0\" >0.000000</td>\n",
              "                        <td id=\"T_5e8d222a_298d_11ec_ac9e_0242ac1c0002row10_col1\" class=\"data row10 col1\" >0.000706</td>\n",
              "                        <td id=\"T_5e8d222a_298d_11ec_ac9e_0242ac1c0002row10_col2\" class=\"data row10 col2\" >0.002920</td>\n",
              "                        <td id=\"T_5e8d222a_298d_11ec_ac9e_0242ac1c0002row10_col3\" class=\"data row10 col3\" >0.004064</td>\n",
              "                        <td id=\"T_5e8d222a_298d_11ec_ac9e_0242ac1c0002row10_col4\" class=\"data row10 col4\" >0.002774</td>\n",
              "                        <td id=\"T_5e8d222a_298d_11ec_ac9e_0242ac1c0002row10_col5\" class=\"data row10 col5\" >0.001582</td>\n",
              "            </tr>\n",
              "            <tr>\n",
              "                        <th id=\"T_5e8d222a_298d_11ec_ac9e_0242ac1c0002level0_row11\" class=\"row_heading level0 row11\" > HS-grad</th>\n",
              "                        <td id=\"T_5e8d222a_298d_11ec_ac9e_0242ac1c0002row11_col0\" class=\"data row11 col0\" >0.020636</td>\n",
              "                        <td id=\"T_5e8d222a_298d_11ec_ac9e_0242ac1c0002row11_col1\" class=\"data row11 col1\" >0.078600</td>\n",
              "                        <td id=\"T_5e8d222a_298d_11ec_ac9e_0242ac1c0002row11_col2\" class=\"data row11 col2\" >0.090329</td>\n",
              "                        <td id=\"T_5e8d222a_298d_11ec_ac9e_0242ac1c0002row11_col3\" class=\"data row11 col3\" >0.064292</td>\n",
              "                        <td id=\"T_5e8d222a_298d_11ec_ac9e_0242ac1c0002row11_col4\" class=\"data row11 col4\" >0.045651</td>\n",
              "                        <td id=\"T_5e8d222a_298d_11ec_ac9e_0242ac1c0002row11_col5\" class=\"data row11 col5\" >0.025235</td>\n",
              "            </tr>\n",
              "            <tr>\n",
              "                        <th id=\"T_5e8d222a_298d_11ec_ac9e_0242ac1c0002level0_row12\" class=\"row_heading level0 row12\" > Masters</th>\n",
              "                        <td id=\"T_5e8d222a_298d_11ec_ac9e_0242ac1c0002row12_col0\" class=\"data row12 col0\" >0.000024</td>\n",
              "                        <td id=\"T_5e8d222a_298d_11ec_ac9e_0242ac1c0002row12_col1\" class=\"data row12 col1\" >0.006278</td>\n",
              "                        <td id=\"T_5e8d222a_298d_11ec_ac9e_0242ac1c0002row12_col2\" class=\"data row12 col2\" >0.014844</td>\n",
              "                        <td id=\"T_5e8d222a_298d_11ec_ac9e_0242ac1c0002row12_col3\" class=\"data row12 col3\" >0.019589</td>\n",
              "                        <td id=\"T_5e8d222a_298d_11ec_ac9e_0242ac1c0002row12_col4\" class=\"data row12 col4\" >0.009612</td>\n",
              "                        <td id=\"T_5e8d222a_298d_11ec_ac9e_0242ac1c0002row12_col5\" class=\"data row12 col5\" >0.003942</td>\n",
              "            </tr>\n",
              "            <tr>\n",
              "                        <th id=\"T_5e8d222a_298d_11ec_ac9e_0242ac1c0002level0_row13\" class=\"row_heading level0 row13\" > Preschool</th>\n",
              "                        <td id=\"T_5e8d222a_298d_11ec_ac9e_0242ac1c0002row13_col0\" class=\"data row13 col0\" >0.000073</td>\n",
              "                        <td id=\"T_5e8d222a_298d_11ec_ac9e_0242ac1c0002row13_col1\" class=\"data row13 col1\" >0.000389</td>\n",
              "                        <td id=\"T_5e8d222a_298d_11ec_ac9e_0242ac1c0002row13_col2\" class=\"data row13 col2\" >0.000292</td>\n",
              "                        <td id=\"T_5e8d222a_298d_11ec_ac9e_0242ac1c0002row13_col3\" class=\"data row13 col3\" >0.000243</td>\n",
              "                        <td id=\"T_5e8d222a_298d_11ec_ac9e_0242ac1c0002row13_col4\" class=\"data row13 col4\" >0.000365</td>\n",
              "                        <td id=\"T_5e8d222a_298d_11ec_ac9e_0242ac1c0002row13_col5\" class=\"data row13 col5\" >0.000268</td>\n",
              "            </tr>\n",
              "            <tr>\n",
              "                        <th id=\"T_5e8d222a_298d_11ec_ac9e_0242ac1c0002level0_row14\" class=\"row_heading level0 row14\" > Prof-school</th>\n",
              "                        <td id=\"T_5e8d222a_298d_11ec_ac9e_0242ac1c0002row14_col0\" class=\"data row14 col0\" >0.000000</td>\n",
              "                        <td id=\"T_5e8d222a_298d_11ec_ac9e_0242ac1c0002row14_col1\" class=\"data row14 col1\" >0.001679</td>\n",
              "                        <td id=\"T_5e8d222a_298d_11ec_ac9e_0242ac1c0002row14_col2\" class=\"data row14 col2\" >0.004891</td>\n",
              "                        <td id=\"T_5e8d222a_298d_11ec_ac9e_0242ac1c0002row14_col3\" class=\"data row14 col3\" >0.005548</td>\n",
              "                        <td id=\"T_5e8d222a_298d_11ec_ac9e_0242ac1c0002row14_col4\" class=\"data row14 col4\" >0.002458</td>\n",
              "                        <td id=\"T_5e8d222a_298d_11ec_ac9e_0242ac1c0002row14_col5\" class=\"data row14 col5\" >0.002093</td>\n",
              "            </tr>\n",
              "            <tr>\n",
              "                        <th id=\"T_5e8d222a_298d_11ec_ac9e_0242ac1c0002level0_row15\" class=\"row_heading level0 row15\" > Some-college</th>\n",
              "                        <td id=\"T_5e8d222a_298d_11ec_ac9e_0242ac1c0002row15_col0\" class=\"data row15 col0\" >0.026987</td>\n",
              "                        <td id=\"T_5e8d222a_298d_11ec_ac9e_0242ac1c0002row15_col1\" class=\"data row15 col1\" >0.067844</td>\n",
              "                        <td id=\"T_5e8d222a_298d_11ec_ac9e_0242ac1c0002row15_col2\" class=\"data row15 col2\" >0.051273</td>\n",
              "                        <td id=\"T_5e8d222a_298d_11ec_ac9e_0242ac1c0002row15_col3\" class=\"data row15 col3\" >0.042683</td>\n",
              "                        <td id=\"T_5e8d222a_298d_11ec_ac9e_0242ac1c0002row15_col4\" class=\"data row15 col4\" >0.022242</td>\n",
              "                        <td id=\"T_5e8d222a_298d_11ec_ac9e_0242ac1c0002row15_col5\" class=\"data row15 col5\" >0.011316</td>\n",
              "            </tr>\n",
              "    </tbody></table>"
            ],
            "text/plain": [
              "<pandas.io.formats.style.Styler at 0x7f93194d5690>"
            ]
          },
          "metadata": {},
          "execution_count": 88
        }
      ]
    },
    {
      "cell_type": "markdown",
      "metadata": {
        "id": "9R9HNG9WrFZL"
      },
      "source": [
        "# Pivot Table"
      ]
    },
    {
      "cell_type": "code",
      "metadata": {
        "colab": {
          "base_uri": "https://localhost:8080/",
          "height": 614
        },
        "id": "0dwb0RoMrEM6",
        "outputId": "c9b4c03e-db91-4672-8dd9-b257b5ad3845"
      },
      "source": [
        "pd.pivot_table(data=data, index='education', columns='age_group', values='ID', aggfunc='count', margins=True, margins_name='Total')"
      ],
      "execution_count": 89,
      "outputs": [
        {
          "output_type": "execute_result",
          "data": {
            "text/html": [
              "<div>\n",
              "<style scoped>\n",
              "    .dataframe tbody tr th:only-of-type {\n",
              "        vertical-align: middle;\n",
              "    }\n",
              "\n",
              "    .dataframe tbody tr th {\n",
              "        vertical-align: top;\n",
              "    }\n",
              "\n",
              "    .dataframe thead th {\n",
              "        text-align: right;\n",
              "    }\n",
              "</style>\n",
              "<table border=\"1\" class=\"dataframe\">\n",
              "  <thead>\n",
              "    <tr style=\"text-align: right;\">\n",
              "      <th>age_group</th>\n",
              "      <th>&lt;20</th>\n",
              "      <th>20-30</th>\n",
              "      <th>30-40</th>\n",
              "      <th>40-50</th>\n",
              "      <th>50-60</th>\n",
              "      <th>&gt;60</th>\n",
              "      <th>Total</th>\n",
              "    </tr>\n",
              "    <tr>\n",
              "      <th>education</th>\n",
              "      <th></th>\n",
              "      <th></th>\n",
              "      <th></th>\n",
              "      <th></th>\n",
              "      <th></th>\n",
              "      <th></th>\n",
              "      <th></th>\n",
              "    </tr>\n",
              "  </thead>\n",
              "  <tbody>\n",
              "    <tr>\n",
              "      <th>10th</th>\n",
              "      <td>245.0</td>\n",
              "      <td>229.0</td>\n",
              "      <td>226.0</td>\n",
              "      <td>146.0</td>\n",
              "      <td>194.0</td>\n",
              "      <td>132.0</td>\n",
              "      <td>1172</td>\n",
              "    </tr>\n",
              "    <tr>\n",
              "      <th>11th</th>\n",
              "      <td>521.0</td>\n",
              "      <td>314.0</td>\n",
              "      <td>285.0</td>\n",
              "      <td>192.0</td>\n",
              "      <td>131.0</td>\n",
              "      <td>99.0</td>\n",
              "      <td>1542</td>\n",
              "    </tr>\n",
              "    <tr>\n",
              "      <th>12th</th>\n",
              "      <td>181.0</td>\n",
              "      <td>111.0</td>\n",
              "      <td>110.0</td>\n",
              "      <td>59.0</td>\n",
              "      <td>48.0</td>\n",
              "      <td>33.0</td>\n",
              "      <td>542</td>\n",
              "    </tr>\n",
              "    <tr>\n",
              "      <th>1st-4th</th>\n",
              "      <td>NaN</td>\n",
              "      <td>23.0</td>\n",
              "      <td>41.0</td>\n",
              "      <td>48.0</td>\n",
              "      <td>40.0</td>\n",
              "      <td>44.0</td>\n",
              "      <td>196</td>\n",
              "    </tr>\n",
              "    <tr>\n",
              "      <th>5th-6th</th>\n",
              "      <td>16.0</td>\n",
              "      <td>91.0</td>\n",
              "      <td>72.0</td>\n",
              "      <td>100.0</td>\n",
              "      <td>82.0</td>\n",
              "      <td>59.0</td>\n",
              "      <td>420</td>\n",
              "    </tr>\n",
              "    <tr>\n",
              "      <th>7th-8th</th>\n",
              "      <td>25.0</td>\n",
              "      <td>101.0</td>\n",
              "      <td>128.0</td>\n",
              "      <td>145.0</td>\n",
              "      <td>172.0</td>\n",
              "      <td>226.0</td>\n",
              "      <td>797</td>\n",
              "    </tr>\n",
              "    <tr>\n",
              "      <th>9th</th>\n",
              "      <td>60.0</td>\n",
              "      <td>138.0</td>\n",
              "      <td>136.0</td>\n",
              "      <td>91.0</td>\n",
              "      <td>119.0</td>\n",
              "      <td>84.0</td>\n",
              "      <td>628</td>\n",
              "    </tr>\n",
              "    <tr>\n",
              "      <th>Assoc-acdm</th>\n",
              "      <td>13.0</td>\n",
              "      <td>369.0</td>\n",
              "      <td>447.0</td>\n",
              "      <td>315.0</td>\n",
              "      <td>129.0</td>\n",
              "      <td>52.0</td>\n",
              "      <td>1325</td>\n",
              "    </tr>\n",
              "    <tr>\n",
              "      <th>Assoc-voc</th>\n",
              "      <td>16.0</td>\n",
              "      <td>480.0</td>\n",
              "      <td>574.0</td>\n",
              "      <td>405.0</td>\n",
              "      <td>169.0</td>\n",
              "      <td>90.0</td>\n",
              "      <td>1734</td>\n",
              "    </tr>\n",
              "    <tr>\n",
              "      <th>Bachelors</th>\n",
              "      <td>3.0</td>\n",
              "      <td>1980.0</td>\n",
              "      <td>2038.0</td>\n",
              "      <td>1634.0</td>\n",
              "      <td>722.0</td>\n",
              "      <td>401.0</td>\n",
              "      <td>6778</td>\n",
              "    </tr>\n",
              "    <tr>\n",
              "      <th>Doctorate</th>\n",
              "      <td>NaN</td>\n",
              "      <td>29.0</td>\n",
              "      <td>120.0</td>\n",
              "      <td>167.0</td>\n",
              "      <td>114.0</td>\n",
              "      <td>65.0</td>\n",
              "      <td>495</td>\n",
              "    </tr>\n",
              "    <tr>\n",
              "      <th>HS-grad</th>\n",
              "      <td>848.0</td>\n",
              "      <td>3230.0</td>\n",
              "      <td>3712.0</td>\n",
              "      <td>2642.0</td>\n",
              "      <td>1876.0</td>\n",
              "      <td>1037.0</td>\n",
              "      <td>13345</td>\n",
              "    </tr>\n",
              "    <tr>\n",
              "      <th>Masters</th>\n",
              "      <td>1.0</td>\n",
              "      <td>258.0</td>\n",
              "      <td>610.0</td>\n",
              "      <td>805.0</td>\n",
              "      <td>395.0</td>\n",
              "      <td>162.0</td>\n",
              "      <td>2231</td>\n",
              "    </tr>\n",
              "    <tr>\n",
              "      <th>Preschool</th>\n",
              "      <td>3.0</td>\n",
              "      <td>16.0</td>\n",
              "      <td>12.0</td>\n",
              "      <td>10.0</td>\n",
              "      <td>15.0</td>\n",
              "      <td>11.0</td>\n",
              "      <td>67</td>\n",
              "    </tr>\n",
              "    <tr>\n",
              "      <th>Prof-school</th>\n",
              "      <td>NaN</td>\n",
              "      <td>69.0</td>\n",
              "      <td>201.0</td>\n",
              "      <td>228.0</td>\n",
              "      <td>101.0</td>\n",
              "      <td>86.0</td>\n",
              "      <td>685</td>\n",
              "    </tr>\n",
              "    <tr>\n",
              "      <th>Some-college</th>\n",
              "      <td>1109.0</td>\n",
              "      <td>2788.0</td>\n",
              "      <td>2107.0</td>\n",
              "      <td>1754.0</td>\n",
              "      <td>914.0</td>\n",
              "      <td>465.0</td>\n",
              "      <td>9137</td>\n",
              "    </tr>\n",
              "    <tr>\n",
              "      <th>Total</th>\n",
              "      <td>3041.0</td>\n",
              "      <td>10226.0</td>\n",
              "      <td>10819.0</td>\n",
              "      <td>8741.0</td>\n",
              "      <td>5221.0</td>\n",
              "      <td>3046.0</td>\n",
              "      <td>41094</td>\n",
              "    </tr>\n",
              "  </tbody>\n",
              "</table>\n",
              "</div>"
            ],
            "text/plain": [
              "age_group         <20    20-30    30-40   40-50   50-60     >60  Total\n",
              "education                                                             \n",
              " 10th           245.0    229.0    226.0   146.0   194.0   132.0   1172\n",
              " 11th           521.0    314.0    285.0   192.0   131.0    99.0   1542\n",
              " 12th           181.0    111.0    110.0    59.0    48.0    33.0    542\n",
              " 1st-4th          NaN     23.0     41.0    48.0    40.0    44.0    196\n",
              " 5th-6th         16.0     91.0     72.0   100.0    82.0    59.0    420\n",
              " 7th-8th         25.0    101.0    128.0   145.0   172.0   226.0    797\n",
              " 9th             60.0    138.0    136.0    91.0   119.0    84.0    628\n",
              " Assoc-acdm      13.0    369.0    447.0   315.0   129.0    52.0   1325\n",
              " Assoc-voc       16.0    480.0    574.0   405.0   169.0    90.0   1734\n",
              " Bachelors        3.0   1980.0   2038.0  1634.0   722.0   401.0   6778\n",
              " Doctorate        NaN     29.0    120.0   167.0   114.0    65.0    495\n",
              " HS-grad        848.0   3230.0   3712.0  2642.0  1876.0  1037.0  13345\n",
              " Masters          1.0    258.0    610.0   805.0   395.0   162.0   2231\n",
              " Preschool        3.0     16.0     12.0    10.0    15.0    11.0     67\n",
              " Prof-school      NaN     69.0    201.0   228.0   101.0    86.0    685\n",
              " Some-college  1109.0   2788.0   2107.0  1754.0   914.0   465.0   9137\n",
              "Total          3041.0  10226.0  10819.0  8741.0  5221.0  3046.0  41094"
            ]
          },
          "metadata": {},
          "execution_count": 89
        }
      ]
    },
    {
      "cell_type": "markdown",
      "metadata": {
        "id": "KorpOdsiWkOF"
      },
      "source": [
        "# Combine Values of Categorical Variables (Reduce Number of Categories)"
      ]
    },
    {
      "cell_type": "code",
      "metadata": {
        "colab": {
          "base_uri": "https://localhost:8080/"
        },
        "id": "tvi-0PMGjadb",
        "outputId": "5918f5e4-1fb9-41b9-93ac-ddd5fe2e27b8"
      },
      "source": [
        "data.education.unique()"
      ],
      "execution_count": 90,
      "outputs": [
        {
          "output_type": "execute_result",
          "data": {
            "text/plain": [
              "array([' Bachelors', ' HS-grad', ' 11th', ' Masters', ' 9th',\n",
              "       ' Some-college', ' Assoc-acdm', ' Assoc-voc', ' 7th-8th',\n",
              "       ' Doctorate', ' Prof-school', ' 5th-6th', ' 10th', ' 1st-4th',\n",
              "       ' Preschool', ' 12th'], dtype=object)"
            ]
          },
          "metadata": {},
          "execution_count": 90
        }
      ]
    },
    {
      "cell_type": "code",
      "metadata": {
        "colab": {
          "base_uri": "https://localhost:8080/"
        },
        "id": "LJXgpzKdGpf2",
        "outputId": "5699013c-539d-4fed-bb55-7191939b2fa1"
      },
      "source": [
        "data.education_num.unique()"
      ],
      "execution_count": 91,
      "outputs": [
        {
          "output_type": "execute_result",
          "data": {
            "text/plain": [
              "array([13,  9,  7, 14,  5, 10, 12, 11,  4, 16, 15,  3,  6,  2,  1,  8])"
            ]
          },
          "metadata": {},
          "execution_count": 91
        }
      ]
    },
    {
      "cell_type": "code",
      "metadata": {
        "id": "8B0CpS2mIWD_"
      },
      "source": [
        "data['education_grp'] = data['education'].replace(' Preschool', 'school')"
      ],
      "execution_count": 92,
      "outputs": []
    },
    {
      "cell_type": "code",
      "metadata": {
        "id": "Pm8vhLoxJEnn"
      },
      "source": [
        "data['education_group'] = None\n",
        "data.loc[data['education']==' Preschool', 'education_group'] = 'school'\n",
        "data.loc[data['education']==' 5th-6th', 'education_group'] = 'school'\n",
        "data.loc[data['education']==' 1st-4th', 'education_group'] = 'school'\n",
        "data.loc[data['education']==' 7th-8th', 'education_group'] = 'school'\n",
        "data.loc[data['education']==' 9th', 'education_group'] = 'school'\n",
        "\n",
        "data.loc[data['education']==' Some-college', 'education_group'] = 'h. study'\n",
        "data.loc[data['education']==' Assoc-voc', 'education_group'] = 'h. study'\n",
        "data.loc[data['education']==' Assoc-acdm', 'education_group'] = 'h. study'\n",
        "data.loc[data['education']==' Doctorate', 'education_group'] = 'h. study'\n",
        "data.loc[data['education']==' Prof-school', 'education_group'] = 'h. study'\n",
        "data.loc[data['education']==' Bachelors', 'education_group'] = 'h. study'\n",
        "data.loc[data['education']==' HS-grad', 'education_group'] = 'h. study'\n",
        "data.loc[data['education']==' Masters', 'education_group'] = 'h. study'\n",
        "\n",
        "data.loc[data['education']==' 10th', 'education_group'] = 'h. school'\n",
        "data.loc[data['education']==' 11th', 'education_group'] = 'h. school'\n",
        "data.loc[data['education']==' 12th', 'education_group'] = 'h. school'"
      ],
      "execution_count": 93,
      "outputs": []
    },
    {
      "cell_type": "code",
      "metadata": {
        "colab": {
          "base_uri": "https://localhost:8080/"
        },
        "id": "Xg6Hv6qHJ6JK",
        "outputId": "7f1bae76-b35e-4778-edd9-41a8df598f83"
      },
      "source": [
        "data['education_group'].unique()"
      ],
      "execution_count": 94,
      "outputs": [
        {
          "output_type": "execute_result",
          "data": {
            "text/plain": [
              "array(['h. study', 'h. school', 'school'], dtype=object)"
            ]
          },
          "metadata": {},
          "execution_count": 94
        }
      ]
    },
    {
      "cell_type": "code",
      "metadata": {
        "colab": {
          "base_uri": "https://localhost:8080/",
          "height": 69
        },
        "id": "GKcfr870LRnH",
        "outputId": "6123e81d-0a81-47df-dcba-a41f49fa8ee2"
      },
      "source": [
        "data.loc[data['education_group'].isna()]"
      ],
      "execution_count": 95,
      "outputs": [
        {
          "output_type": "execute_result",
          "data": {
            "text/html": [
              "<div>\n",
              "<style scoped>\n",
              "    .dataframe tbody tr th:only-of-type {\n",
              "        vertical-align: middle;\n",
              "    }\n",
              "\n",
              "    .dataframe tbody tr th {\n",
              "        vertical-align: top;\n",
              "    }\n",
              "\n",
              "    .dataframe thead th {\n",
              "        text-align: right;\n",
              "    }\n",
              "</style>\n",
              "<table border=\"1\" class=\"dataframe\">\n",
              "  <thead>\n",
              "    <tr style=\"text-align: right;\">\n",
              "      <th></th>\n",
              "      <th>ID</th>\n",
              "      <th>age</th>\n",
              "      <th>workclass</th>\n",
              "      <th>education</th>\n",
              "      <th>education_num</th>\n",
              "      <th>marital_status</th>\n",
              "      <th>occupation</th>\n",
              "      <th>relationship</th>\n",
              "      <th>race</th>\n",
              "      <th>sex</th>\n",
              "      <th>capital_gain</th>\n",
              "      <th>capital_loss</th>\n",
              "      <th>hours_per_week</th>\n",
              "      <th>native_country</th>\n",
              "      <th>class</th>\n",
              "      <th>scaled_age</th>\n",
              "      <th>y_act</th>\n",
              "      <th>age_group</th>\n",
              "      <th>education_grp</th>\n",
              "      <th>education_group</th>\n",
              "    </tr>\n",
              "  </thead>\n",
              "  <tbody>\n",
              "  </tbody>\n",
              "</table>\n",
              "</div>"
            ],
            "text/plain": [
              "Empty DataFrame\n",
              "Columns: [ID, age, workclass, education, education_num, marital_status, occupation, relationship, race, sex, capital_gain, capital_loss, hours_per_week, native_country, class, scaled_age, y_act, age_group, education_grp, education_group]\n",
              "Index: []"
            ]
          },
          "metadata": {},
          "execution_count": 95
        }
      ]
    },
    {
      "cell_type": "code",
      "metadata": {
        "colab": {
          "base_uri": "https://localhost:8080/",
          "height": 206
        },
        "id": "IVMc88J6r01C",
        "outputId": "9af7e872-a011-4c27-9706-8c646a1e27af"
      },
      "source": [
        "pd.crosstab(data['education_group'], data['age_group'], margins=True, margins_name='Total')"
      ],
      "execution_count": 96,
      "outputs": [
        {
          "output_type": "execute_result",
          "data": {
            "text/html": [
              "<div>\n",
              "<style scoped>\n",
              "    .dataframe tbody tr th:only-of-type {\n",
              "        vertical-align: middle;\n",
              "    }\n",
              "\n",
              "    .dataframe tbody tr th {\n",
              "        vertical-align: top;\n",
              "    }\n",
              "\n",
              "    .dataframe thead th {\n",
              "        text-align: right;\n",
              "    }\n",
              "</style>\n",
              "<table border=\"1\" class=\"dataframe\">\n",
              "  <thead>\n",
              "    <tr style=\"text-align: right;\">\n",
              "      <th>age_group</th>\n",
              "      <th>&lt;20</th>\n",
              "      <th>20-30</th>\n",
              "      <th>30-40</th>\n",
              "      <th>40-50</th>\n",
              "      <th>50-60</th>\n",
              "      <th>&gt;60</th>\n",
              "      <th>Total</th>\n",
              "    </tr>\n",
              "    <tr>\n",
              "      <th>education_group</th>\n",
              "      <th></th>\n",
              "      <th></th>\n",
              "      <th></th>\n",
              "      <th></th>\n",
              "      <th></th>\n",
              "      <th></th>\n",
              "      <th></th>\n",
              "    </tr>\n",
              "  </thead>\n",
              "  <tbody>\n",
              "    <tr>\n",
              "      <th>h. school</th>\n",
              "      <td>947</td>\n",
              "      <td>654</td>\n",
              "      <td>621</td>\n",
              "      <td>397</td>\n",
              "      <td>373</td>\n",
              "      <td>264</td>\n",
              "      <td>3256</td>\n",
              "    </tr>\n",
              "    <tr>\n",
              "      <th>h. study</th>\n",
              "      <td>1990</td>\n",
              "      <td>9203</td>\n",
              "      <td>9809</td>\n",
              "      <td>7950</td>\n",
              "      <td>4420</td>\n",
              "      <td>2358</td>\n",
              "      <td>35730</td>\n",
              "    </tr>\n",
              "    <tr>\n",
              "      <th>school</th>\n",
              "      <td>104</td>\n",
              "      <td>369</td>\n",
              "      <td>389</td>\n",
              "      <td>394</td>\n",
              "      <td>428</td>\n",
              "      <td>424</td>\n",
              "      <td>2108</td>\n",
              "    </tr>\n",
              "    <tr>\n",
              "      <th>Total</th>\n",
              "      <td>3041</td>\n",
              "      <td>10226</td>\n",
              "      <td>10819</td>\n",
              "      <td>8741</td>\n",
              "      <td>5221</td>\n",
              "      <td>3046</td>\n",
              "      <td>41094</td>\n",
              "    </tr>\n",
              "  </tbody>\n",
              "</table>\n",
              "</div>"
            ],
            "text/plain": [
              "age_group         <20  20-30  30-40  40-50  50-60   >60  Total\n",
              "education_group                                               \n",
              "h. school         947    654    621    397    373   264   3256\n",
              "h. study         1990   9203   9809   7950   4420  2358  35730\n",
              "school            104    369    389    394    428   424   2108\n",
              "Total            3041  10226  10819   8741   5221  3046  41094"
            ]
          },
          "metadata": {},
          "execution_count": 96
        }
      ]
    },
    {
      "cell_type": "markdown",
      "metadata": {
        "id": "lgD68mo9sDPT"
      },
      "source": [
        "# Apply Custom Functions over Data Frames"
      ]
    },
    {
      "cell_type": "code",
      "metadata": {
        "colab": {
          "base_uri": "https://localhost:8080/"
        },
        "id": "T4XvzC50r06v",
        "outputId": "2b63b13f-ffe6-4403-d269-746360b83e67"
      },
      "source": [
        "def merge_education_catergory(education):\n",
        "  if education in (' Preschool', ' 1st-4th', ' 5th-6th', ' 7th-8th', ' 9th'):\n",
        "    return 'school'\n",
        "  elif education in (' 10th', ' 11th', ' 12th', ' HS-grad'):\n",
        "    return 'h. school'\n",
        "  elif education in (' Bachelors', ' Masters', ' Some-college', ' Assoc-acdm', ' Assoc-voc', ' Doctorate', ' Prof-school'):\n",
        "    return 'h. Study'\n",
        "\n",
        "print(f\"merge_education_catergory(' 12th') = '{merge_education_catergory(' 12th')}'\")\n",
        "print(f\"merge_education_catergory(' Masters') = '{merge_education_catergory(' Masters')}'\")"
      ],
      "execution_count": 97,
      "outputs": [
        {
          "output_type": "stream",
          "name": "stdout",
          "text": [
            "merge_education_catergory(' 12th') = 'h. school'\n",
            "merge_education_catergory(' Masters') = 'h. Study'\n"
          ]
        }
      ]
    },
    {
      "cell_type": "code",
      "metadata": {
        "colab": {
          "base_uri": "https://localhost:8080/",
          "height": 206
        },
        "id": "h8Dbuv69tXjP",
        "outputId": "350e609b-bccb-40ab-a15d-91f3e5e7175b"
      },
      "source": [
        "data['education_group2'] = data['education'].apply(merge_education_catergory)\n",
        "pd.crosstab(data['education_group2'], data['age_group'], margins=True, margins_name='Total')"
      ],
      "execution_count": 98,
      "outputs": [
        {
          "output_type": "execute_result",
          "data": {
            "text/html": [
              "<div>\n",
              "<style scoped>\n",
              "    .dataframe tbody tr th:only-of-type {\n",
              "        vertical-align: middle;\n",
              "    }\n",
              "\n",
              "    .dataframe tbody tr th {\n",
              "        vertical-align: top;\n",
              "    }\n",
              "\n",
              "    .dataframe thead th {\n",
              "        text-align: right;\n",
              "    }\n",
              "</style>\n",
              "<table border=\"1\" class=\"dataframe\">\n",
              "  <thead>\n",
              "    <tr style=\"text-align: right;\">\n",
              "      <th>age_group</th>\n",
              "      <th>&lt;20</th>\n",
              "      <th>20-30</th>\n",
              "      <th>30-40</th>\n",
              "      <th>40-50</th>\n",
              "      <th>50-60</th>\n",
              "      <th>&gt;60</th>\n",
              "      <th>Total</th>\n",
              "    </tr>\n",
              "    <tr>\n",
              "      <th>education_group2</th>\n",
              "      <th></th>\n",
              "      <th></th>\n",
              "      <th></th>\n",
              "      <th></th>\n",
              "      <th></th>\n",
              "      <th></th>\n",
              "      <th></th>\n",
              "    </tr>\n",
              "  </thead>\n",
              "  <tbody>\n",
              "    <tr>\n",
              "      <th>h. Study</th>\n",
              "      <td>1142</td>\n",
              "      <td>5973</td>\n",
              "      <td>6097</td>\n",
              "      <td>5308</td>\n",
              "      <td>2544</td>\n",
              "      <td>1321</td>\n",
              "      <td>22385</td>\n",
              "    </tr>\n",
              "    <tr>\n",
              "      <th>h. school</th>\n",
              "      <td>1795</td>\n",
              "      <td>3884</td>\n",
              "      <td>4333</td>\n",
              "      <td>3039</td>\n",
              "      <td>2249</td>\n",
              "      <td>1301</td>\n",
              "      <td>16601</td>\n",
              "    </tr>\n",
              "    <tr>\n",
              "      <th>school</th>\n",
              "      <td>104</td>\n",
              "      <td>369</td>\n",
              "      <td>389</td>\n",
              "      <td>394</td>\n",
              "      <td>428</td>\n",
              "      <td>424</td>\n",
              "      <td>2108</td>\n",
              "    </tr>\n",
              "    <tr>\n",
              "      <th>Total</th>\n",
              "      <td>3041</td>\n",
              "      <td>10226</td>\n",
              "      <td>10819</td>\n",
              "      <td>8741</td>\n",
              "      <td>5221</td>\n",
              "      <td>3046</td>\n",
              "      <td>41094</td>\n",
              "    </tr>\n",
              "  </tbody>\n",
              "</table>\n",
              "</div>"
            ],
            "text/plain": [
              "age_group          <20  20-30  30-40  40-50  50-60   >60  Total\n",
              "education_group2                                               \n",
              "h. Study          1142   5973   6097   5308   2544  1321  22385\n",
              "h. school         1795   3884   4333   3039   2249  1301  16601\n",
              "school             104    369    389    394    428   424   2108\n",
              "Total             3041  10226  10819   8741   5221  3046  41094"
            ]
          },
          "metadata": {},
          "execution_count": 98
        }
      ]
    },
    {
      "cell_type": "markdown",
      "metadata": {
        "id": "uUlgHJHjudGz"
      },
      "source": [
        "# Use String Matching (RegEx)"
      ]
    },
    {
      "cell_type": "code",
      "metadata": {
        "colab": {
          "base_uri": "https://localhost:8080/",
          "height": 206
        },
        "id": "gLEoEDf0t23m",
        "outputId": "e0a7b72a-3172-49c1-e166-5c6daa20468a"
      },
      "source": [
        "data.loc[data['education'].str.match('( Preschool| 1st-4th| 5th-6th| 7th-8th| 9th)'), 'education_group3'] = 'school'\n",
        "data.loc[data['education'].str.match('( 10th| 11th| 12th| HS-grad)'), 'education_group3'] = 'h. school'\n",
        "data.loc[data['education'].str.match('( Bachelors| Masters| Some-college| Assoc-acdm| Assoc-voc| Doctorate| Prof-school)'), 'education_group3'] = 'h. Study'\n",
        "pd.crosstab(data['education_group3'], data['age_group'], margins=True, margins_name='Total')"
      ],
      "execution_count": 99,
      "outputs": [
        {
          "output_type": "execute_result",
          "data": {
            "text/html": [
              "<div>\n",
              "<style scoped>\n",
              "    .dataframe tbody tr th:only-of-type {\n",
              "        vertical-align: middle;\n",
              "    }\n",
              "\n",
              "    .dataframe tbody tr th {\n",
              "        vertical-align: top;\n",
              "    }\n",
              "\n",
              "    .dataframe thead th {\n",
              "        text-align: right;\n",
              "    }\n",
              "</style>\n",
              "<table border=\"1\" class=\"dataframe\">\n",
              "  <thead>\n",
              "    <tr style=\"text-align: right;\">\n",
              "      <th>age_group</th>\n",
              "      <th>&lt;20</th>\n",
              "      <th>20-30</th>\n",
              "      <th>30-40</th>\n",
              "      <th>40-50</th>\n",
              "      <th>50-60</th>\n",
              "      <th>&gt;60</th>\n",
              "      <th>Total</th>\n",
              "    </tr>\n",
              "    <tr>\n",
              "      <th>education_group3</th>\n",
              "      <th></th>\n",
              "      <th></th>\n",
              "      <th></th>\n",
              "      <th></th>\n",
              "      <th></th>\n",
              "      <th></th>\n",
              "      <th></th>\n",
              "    </tr>\n",
              "  </thead>\n",
              "  <tbody>\n",
              "    <tr>\n",
              "      <th>h. Study</th>\n",
              "      <td>1142</td>\n",
              "      <td>5973</td>\n",
              "      <td>6097</td>\n",
              "      <td>5308</td>\n",
              "      <td>2544</td>\n",
              "      <td>1321</td>\n",
              "      <td>22385</td>\n",
              "    </tr>\n",
              "    <tr>\n",
              "      <th>h. school</th>\n",
              "      <td>1795</td>\n",
              "      <td>3884</td>\n",
              "      <td>4333</td>\n",
              "      <td>3039</td>\n",
              "      <td>2249</td>\n",
              "      <td>1301</td>\n",
              "      <td>16601</td>\n",
              "    </tr>\n",
              "    <tr>\n",
              "      <th>school</th>\n",
              "      <td>104</td>\n",
              "      <td>369</td>\n",
              "      <td>389</td>\n",
              "      <td>394</td>\n",
              "      <td>428</td>\n",
              "      <td>424</td>\n",
              "      <td>2108</td>\n",
              "    </tr>\n",
              "    <tr>\n",
              "      <th>Total</th>\n",
              "      <td>3041</td>\n",
              "      <td>10226</td>\n",
              "      <td>10819</td>\n",
              "      <td>8741</td>\n",
              "      <td>5221</td>\n",
              "      <td>3046</td>\n",
              "      <td>41094</td>\n",
              "    </tr>\n",
              "  </tbody>\n",
              "</table>\n",
              "</div>"
            ],
            "text/plain": [
              "age_group          <20  20-30  30-40  40-50  50-60   >60  Total\n",
              "education_group3                                               \n",
              "h. Study          1142   5973   6097   5308   2544  1321  22385\n",
              "h. school         1795   3884   4333   3039   2249  1301  16601\n",
              "school             104    369    389    394    428   424   2108\n",
              "Total             3041  10226  10819   8741   5221  3046  41094"
            ]
          },
          "metadata": {},
          "execution_count": 99
        }
      ]
    },
    {
      "cell_type": "markdown",
      "metadata": {
        "id": "GAs1tmajbX1z"
      },
      "source": [
        "# Correlation"
      ]
    },
    {
      "cell_type": "code",
      "metadata": {
        "colab": {
          "base_uri": "https://localhost:8080/",
          "height": 175
        },
        "id": "qZgzdh7PbXgc",
        "outputId": "99665ebc-ed3a-4234-b982-7a1b0d7775fd"
      },
      "source": [
        "correlation_matrix = data[['age',  'hours_per_week', 'education_num','y_act']].corr()\n",
        "correlation_matrix"
      ],
      "execution_count": 100,
      "outputs": [
        {
          "output_type": "execute_result",
          "data": {
            "text/html": [
              "<div>\n",
              "<style scoped>\n",
              "    .dataframe tbody tr th:only-of-type {\n",
              "        vertical-align: middle;\n",
              "    }\n",
              "\n",
              "    .dataframe tbody tr th {\n",
              "        vertical-align: top;\n",
              "    }\n",
              "\n",
              "    .dataframe thead th {\n",
              "        text-align: right;\n",
              "    }\n",
              "</style>\n",
              "<table border=\"1\" class=\"dataframe\">\n",
              "  <thead>\n",
              "    <tr style=\"text-align: right;\">\n",
              "      <th></th>\n",
              "      <th>age</th>\n",
              "      <th>hours_per_week</th>\n",
              "      <th>education_num</th>\n",
              "      <th>y_act</th>\n",
              "    </tr>\n",
              "  </thead>\n",
              "  <tbody>\n",
              "    <tr>\n",
              "      <th>age</th>\n",
              "      <td>1.000000</td>\n",
              "      <td>0.072075</td>\n",
              "      <td>0.027157</td>\n",
              "      <td>0.227311</td>\n",
              "    </tr>\n",
              "    <tr>\n",
              "      <th>hours_per_week</th>\n",
              "      <td>0.072075</td>\n",
              "      <td>1.000000</td>\n",
              "      <td>0.141754</td>\n",
              "      <td>0.225930</td>\n",
              "    </tr>\n",
              "    <tr>\n",
              "      <th>education_num</th>\n",
              "      <td>0.027157</td>\n",
              "      <td>0.141754</td>\n",
              "      <td>1.000000</td>\n",
              "      <td>0.331170</td>\n",
              "    </tr>\n",
              "    <tr>\n",
              "      <th>y_act</th>\n",
              "      <td>0.227311</td>\n",
              "      <td>0.225930</td>\n",
              "      <td>0.331170</td>\n",
              "      <td>1.000000</td>\n",
              "    </tr>\n",
              "  </tbody>\n",
              "</table>\n",
              "</div>"
            ],
            "text/plain": [
              "                     age  hours_per_week  education_num     y_act\n",
              "age             1.000000        0.072075       0.027157  0.227311\n",
              "hours_per_week  0.072075        1.000000       0.141754  0.225930\n",
              "education_num   0.027157        0.141754       1.000000  0.331170\n",
              "y_act           0.227311        0.225930       0.331170  1.000000"
            ]
          },
          "metadata": {},
          "execution_count": 100
        }
      ]
    },
    {
      "cell_type": "code",
      "metadata": {
        "colab": {
          "base_uri": "https://localhost:8080/",
          "height": 358
        },
        "id": "iZfZ27nmWmtS",
        "outputId": "9edfeabf-0413-4085-f089-eb4aa5c9e226"
      },
      "source": [
        "sns.heatmap(correlation_matrix)"
      ],
      "execution_count": 101,
      "outputs": [
        {
          "output_type": "execute_result",
          "data": {
            "text/plain": [
              "<matplotlib.axes._subplots.AxesSubplot at 0x7f931870e590>"
            ]
          },
          "metadata": {},
          "execution_count": 101
        },
        {
          "output_type": "display_data",
          "data": {
            "image/png": "[encoded data removed]",
            "text/plain": [
              "<Figure size 432x288 with 2 Axes>"
            ]
          },
          "metadata": {
            "needs_background": "light"
          }
        }
      ]
    },
    {
      "cell_type": "markdown",
      "metadata": {
        "id": "2-_SlFx7kWEF"
      },
      "source": [
        "# Model Building Example"
      ]
    },
    {
      "cell_type": "code",
      "metadata": {
        "id": "jh5oi3qqWxJR"
      },
      "source": [
        "from sklearn.linear_model import LogisticRegression\n",
        "from sklearn.model_selection import train_test_split"
      ],
      "execution_count": 102,
      "outputs": []
    },
    {
      "cell_type": "code",
      "metadata": {
        "colab": {
          "base_uri": "https://localhost:8080/"
        },
        "id": "0-6ZPJ0clB3k",
        "outputId": "6e0bccd1-81e8-4248-97e3-5b197c236f08"
      },
      "source": [
        "data.columns"
      ],
      "execution_count": 103,
      "outputs": [
        {
          "output_type": "execute_result",
          "data": {
            "text/plain": [
              "Index(['ID', 'age', 'workclass', 'education', 'education_num',\n",
              "       'marital_status', 'occupation', 'relationship', 'race', 'sex',\n",
              "       'capital_gain', 'capital_loss', 'hours_per_week', 'native_country',\n",
              "       'class', 'scaled_age', 'y_act', 'age_group', 'education_grp',\n",
              "       'education_group', 'education_group2', 'education_group3'],\n",
              "      dtype='object')"
            ]
          },
          "metadata": {},
          "execution_count": 103
        }
      ]
    },
    {
      "cell_type": "markdown",
      "metadata": {
        "id": "q75TQmAJX1TC"
      },
      "source": [
        "## Identify `X` and `y`"
      ]
    },
    {
      "cell_type": "code",
      "metadata": {
        "colab": {
          "base_uri": "https://localhost:8080/",
          "height": 206
        },
        "id": "70yCd_PUWvk9",
        "outputId": "9a9269a7-4142-435a-ed25-0b36e8d7c6cf"
      },
      "source": [
        "X_variables = ['age',  'hours_per_week', 'education_num']\n",
        "data[X_variables].head()"
      ],
      "execution_count": 104,
      "outputs": [
        {
          "output_type": "execute_result",
          "data": {
            "text/html": [
              "<div>\n",
              "<style scoped>\n",
              "    .dataframe tbody tr th:only-of-type {\n",
              "        vertical-align: middle;\n",
              "    }\n",
              "\n",
              "    .dataframe tbody tr th {\n",
              "        vertical-align: top;\n",
              "    }\n",
              "\n",
              "    .dataframe thead th {\n",
              "        text-align: right;\n",
              "    }\n",
              "</style>\n",
              "<table border=\"1\" class=\"dataframe\">\n",
              "  <thead>\n",
              "    <tr style=\"text-align: right;\">\n",
              "      <th></th>\n",
              "      <th>age</th>\n",
              "      <th>hours_per_week</th>\n",
              "      <th>education_num</th>\n",
              "    </tr>\n",
              "  </thead>\n",
              "  <tbody>\n",
              "    <tr>\n",
              "      <th>0</th>\n",
              "      <td>39</td>\n",
              "      <td>40.0</td>\n",
              "      <td>13</td>\n",
              "    </tr>\n",
              "    <tr>\n",
              "      <th>1</th>\n",
              "      <td>50</td>\n",
              "      <td>13.0</td>\n",
              "      <td>13</td>\n",
              "    </tr>\n",
              "    <tr>\n",
              "      <th>2</th>\n",
              "      <td>38</td>\n",
              "      <td>40.0</td>\n",
              "      <td>9</td>\n",
              "    </tr>\n",
              "    <tr>\n",
              "      <th>3</th>\n",
              "      <td>53</td>\n",
              "      <td>40.0</td>\n",
              "      <td>7</td>\n",
              "    </tr>\n",
              "    <tr>\n",
              "      <th>4</th>\n",
              "      <td>28</td>\n",
              "      <td>40.0</td>\n",
              "      <td>13</td>\n",
              "    </tr>\n",
              "  </tbody>\n",
              "</table>\n",
              "</div>"
            ],
            "text/plain": [
              "   age  hours_per_week  education_num\n",
              "0   39            40.0             13\n",
              "1   50            13.0             13\n",
              "2   38            40.0              9\n",
              "3   53            40.0              7\n",
              "4   28            40.0             13"
            ]
          },
          "metadata": {},
          "execution_count": 104
        }
      ]
    },
    {
      "cell_type": "code",
      "metadata": {
        "colab": {
          "base_uri": "https://localhost:8080/"
        },
        "id": "gSNYSJTNkfON",
        "outputId": "4ce2d493-a19e-4f79-e735-b400996e6214"
      },
      "source": [
        "y_varibale = 'y_act'\n",
        "data[y_varibale].head()"
      ],
      "execution_count": 105,
      "outputs": [
        {
          "output_type": "execute_result",
          "data": {
            "text/plain": [
              "0    0\n",
              "1    0\n",
              "2    0\n",
              "3    0\n",
              "4    0\n",
              "Name: y_act, dtype: int64"
            ]
          },
          "metadata": {},
          "execution_count": 105
        }
      ]
    },
    {
      "cell_type": "code",
      "metadata": {
        "colab": {
          "base_uri": "https://localhost:8080/"
        },
        "id": "Z9h2sbqml-QV",
        "outputId": "173d6be3-944c-4a90-cdf6-439eb6b1b088"
      },
      "source": [
        "# Two classes\n",
        "data[y_varibale].unique()"
      ],
      "execution_count": 106,
      "outputs": [
        {
          "output_type": "execute_result",
          "data": {
            "text/plain": [
              "array([0, 1])"
            ]
          },
          "metadata": {},
          "execution_count": 106
        }
      ]
    },
    {
      "cell_type": "code",
      "metadata": {
        "colab": {
          "base_uri": "https://localhost:8080/"
        },
        "id": "09dpjHuVXOoY",
        "outputId": "87afe450-2667-4d59-a0e6-491fa567f12f"
      },
      "source": [
        "X = data[X_variables].values\n",
        "X"
      ],
      "execution_count": 107,
      "outputs": [
        {
          "output_type": "execute_result",
          "data": {
            "text/plain": [
              "array([[39., 40., 13.],\n",
              "       [50., 13., 13.],\n",
              "       [38., 40.,  9.],\n",
              "       ...,\n",
              "       [38., 50., 13.],\n",
              "       [44., 40., 13.],\n",
              "       [35., 60., 13.]])"
            ]
          },
          "metadata": {},
          "execution_count": 107
        }
      ]
    },
    {
      "cell_type": "code",
      "metadata": {
        "colab": {
          "base_uri": "https://localhost:8080/"
        },
        "id": "_7MDrI5CXWCl",
        "outputId": "ddc4cd88-4f1a-4434-ae3a-eb6a1f73246e"
      },
      "source": [
        "y = data[y_varibale].values\n",
        "y"
      ],
      "execution_count": 108,
      "outputs": [
        {
          "output_type": "execute_result",
          "data": {
            "text/plain": [
              "array([0, 0, 0, ..., 0, 0, 1], dtype=int64)"
            ]
          },
          "metadata": {},
          "execution_count": 108
        }
      ]
    },
    {
      "cell_type": "markdown",
      "metadata": {
        "id": "y-71rtaDYEMF"
      },
      "source": [
        "## Train Test Split"
      ]
    },
    {
      "cell_type": "code",
      "metadata": {
        "colab": {
          "base_uri": "https://localhost:8080/"
        },
        "id": "32gLGbh7lWvp",
        "outputId": "3d1529dd-554e-496e-c2b6-6b9446e12fa2"
      },
      "source": [
        "X_train, X_test, y_train, y_test = train_test_split(X, y, test_size=0.3, random_state=42)\n",
        "\n",
        "print(F\"Train sample size = {len(X_train)}\")\n",
        "print(F\"Test sample size  = {len(X_test)}\")"
      ],
      "execution_count": 109,
      "outputs": [
        {
          "output_type": "stream",
          "name": "stdout",
          "text": [
            "Train sample size = 28765\n",
            "Test sample size  = 12329\n"
          ]
        }
      ]
    },
    {
      "cell_type": "markdown",
      "metadata": {
        "id": "ggbm7gyUYOLQ"
      },
      "source": [
        "## Create Logistic Regression Model\n",
        "* https://en.wikipedia.org/wiki/Logistic_regression\n",
        "* https://scikit-learn.org/stable/modules/generated/sklearn.linear_model.LogisticRegression.html"
      ]
    },
    {
      "cell_type": "code",
      "metadata": {
        "id": "0R1tMzJwkiYK"
      },
      "source": [
        "model = LogisticRegression()"
      ],
      "execution_count": 110,
      "outputs": []
    },
    {
      "cell_type": "markdown",
      "metadata": {
        "id": "AcNbl2WWYsOy"
      },
      "source": [
        "## Fit Model"
      ]
    },
    {
      "cell_type": "code",
      "metadata": {
        "colab": {
          "base_uri": "https://localhost:8080/"
        },
        "id": "U4ykpbIOkzxH",
        "outputId": "b668a705-8470-4109-e7c8-5780ca62427a"
      },
      "source": [
        "model.fit(X_train, y_train)"
      ],
      "execution_count": 111,
      "outputs": [
        {
          "output_type": "execute_result",
          "data": {
            "text/plain": [
              "LogisticRegression(C=1.0, class_weight=None, dual=False, fit_intercept=True,\n",
              "                   intercept_scaling=1, l1_ratio=None, max_iter=100,\n",
              "                   multi_class='auto', n_jobs=None, penalty='l2',\n",
              "                   random_state=None, solver='lbfgs', tol=0.0001, verbose=0,\n",
              "                   warm_start=False)"
            ]
          },
          "metadata": {},
          "execution_count": 111
        }
      ]
    },
    {
      "cell_type": "markdown",
      "metadata": {
        "id": "2sTwouDrYuLe"
      },
      "source": [
        "## Predict"
      ]
    },
    {
      "cell_type": "code",
      "metadata": {
        "colab": {
          "base_uri": "https://localhost:8080/"
        },
        "id": "U_tfA19ilryK",
        "outputId": "7159dd37-3b4f-46e7-ad0e-ead2aaf811f9"
      },
      "source": [
        "model.predict_proba(X_test)"
      ],
      "execution_count": 112,
      "outputs": [
        {
          "output_type": "execute_result",
          "data": {
            "text/plain": [
              "array([[0.90013482, 0.09986518],\n",
              "       [0.8582601 , 0.1417399 ],\n",
              "       [0.90162755, 0.09837245],\n",
              "       ...,\n",
              "       [0.8574348 , 0.1425652 ],\n",
              "       [0.71848823, 0.28151177],\n",
              "       [0.62317128, 0.37682872]])"
            ]
          },
          "metadata": {},
          "execution_count": 112
        }
      ]
    },
    {
      "cell_type": "markdown",
      "metadata": {
        "id": "L3aJVVcWvse4"
      },
      "source": [
        "## Predicted Probability for Class 1"
      ]
    },
    {
      "cell_type": "code",
      "metadata": {
        "id": "HPl_QRoVl3Ig",
        "colab": {
          "base_uri": "https://localhost:8080/"
        },
        "outputId": "fae4e276-9ae5-49f1-e31f-757e3c161b25"
      },
      "source": [
        "y_pred_prob = model.predict_proba(X_test)[:, 1]\n",
        "y_pred_prob"
      ],
      "execution_count": 114,
      "outputs": [
        {
          "output_type": "execute_result",
          "data": {
            "text/plain": [
              "array([0.09986518, 0.1417399 , 0.09837245, ..., 0.1425652 , 0.28151177,\n",
              "       0.37682872])"
            ]
          },
          "metadata": {},
          "execution_count": 114
        }
      ]
    },
    {
      "cell_type": "code",
      "metadata": {
        "id": "UBp3rLqamJlN",
        "colab": {
          "base_uri": "https://localhost:8080/"
        },
        "outputId": "6f3d97a3-fe46-49a4-a39c-85957d852e6d"
      },
      "source": [
        "y_pred = model.predict(X_test)\n",
        "y_pred"
      ],
      "execution_count": 115,
      "outputs": [
        {
          "output_type": "execute_result",
          "data": {
            "text/plain": [
              "array([0, 0, 0, ..., 0, 0, 0], dtype=int64)"
            ]
          },
          "metadata": {},
          "execution_count": 115
        }
      ]
    },
    {
      "cell_type": "markdown",
      "metadata": {
        "id": "lS6Vq0WFZK2Y"
      },
      "source": [
        "## Create Results Data Frame for Test Sample"
      ]
    },
    {
      "cell_type": "code",
      "metadata": {
        "colab": {
          "base_uri": "https://localhost:8080/",
          "height": 363
        },
        "id": "UdmpD4yIZDl3",
        "outputId": "7d0ea9e9-9811-4491-fddc-c695b88a7c3e"
      },
      "source": [
        "test_result = pd.DataFrame(data={'y_act':y_test, 'y_pred':y_pred, 'y_pred_prob':y_pred_prob})\n",
        "test_result.sample(10)"
      ],
      "execution_count": 116,
      "outputs": [
        {
          "output_type": "execute_result",
          "data": {
            "text/html": [
              "<div>\n",
              "<style scoped>\n",
              "    .dataframe tbody tr th:only-of-type {\n",
              "        vertical-align: middle;\n",
              "    }\n",
              "\n",
              "    .dataframe tbody tr th {\n",
              "        vertical-align: top;\n",
              "    }\n",
              "\n",
              "    .dataframe thead th {\n",
              "        text-align: right;\n",
              "    }\n",
              "</style>\n",
              "<table border=\"1\" class=\"dataframe\">\n",
              "  <thead>\n",
              "    <tr style=\"text-align: right;\">\n",
              "      <th></th>\n",
              "      <th>y_act</th>\n",
              "      <th>y_pred</th>\n",
              "      <th>y_pred_prob</th>\n",
              "    </tr>\n",
              "  </thead>\n",
              "  <tbody>\n",
              "    <tr>\n",
              "      <th>11657</th>\n",
              "      <td>1</td>\n",
              "      <td>1</td>\n",
              "      <td>0.506390</td>\n",
              "    </tr>\n",
              "    <tr>\n",
              "      <th>9090</th>\n",
              "      <td>0</td>\n",
              "      <td>0</td>\n",
              "      <td>0.154342</td>\n",
              "    </tr>\n",
              "    <tr>\n",
              "      <th>6183</th>\n",
              "      <td>1</td>\n",
              "      <td>0</td>\n",
              "      <td>0.494507</td>\n",
              "    </tr>\n",
              "    <tr>\n",
              "      <th>12092</th>\n",
              "      <td>0</td>\n",
              "      <td>0</td>\n",
              "      <td>0.164220</td>\n",
              "    </tr>\n",
              "    <tr>\n",
              "      <th>2200</th>\n",
              "      <td>1</td>\n",
              "      <td>0</td>\n",
              "      <td>0.106479</td>\n",
              "    </tr>\n",
              "    <tr>\n",
              "      <th>8193</th>\n",
              "      <td>0</td>\n",
              "      <td>0</td>\n",
              "      <td>0.088893</td>\n",
              "    </tr>\n",
              "    <tr>\n",
              "      <th>6546</th>\n",
              "      <td>0</td>\n",
              "      <td>0</td>\n",
              "      <td>0.142895</td>\n",
              "    </tr>\n",
              "    <tr>\n",
              "      <th>3906</th>\n",
              "      <td>1</td>\n",
              "      <td>1</td>\n",
              "      <td>0.601460</td>\n",
              "    </tr>\n",
              "    <tr>\n",
              "      <th>2727</th>\n",
              "      <td>0</td>\n",
              "      <td>0</td>\n",
              "      <td>0.372360</td>\n",
              "    </tr>\n",
              "    <tr>\n",
              "      <th>2610</th>\n",
              "      <td>0</td>\n",
              "      <td>1</td>\n",
              "      <td>0.508204</td>\n",
              "    </tr>\n",
              "  </tbody>\n",
              "</table>\n",
              "</div>"
            ],
            "text/plain": [
              "       y_act  y_pred  y_pred_prob\n",
              "11657      1       1     0.506390\n",
              "9090       0       0     0.154342\n",
              "6183       1       0     0.494507\n",
              "12092      0       0     0.164220\n",
              "2200       1       0     0.106479\n",
              "8193       0       0     0.088893\n",
              "6546       0       0     0.142895\n",
              "3906       1       1     0.601460\n",
              "2727       0       0     0.372360\n",
              "2610       0       1     0.508204"
            ]
          },
          "metadata": {},
          "execution_count": 116
        }
      ]
    },
    {
      "cell_type": "markdown",
      "metadata": {
        "id": "yqpCZuRzaveB"
      },
      "source": [
        "## Confusion Matrix"
      ]
    },
    {
      "cell_type": "code",
      "metadata": {
        "colab": {
          "base_uri": "https://localhost:8080/",
          "height": 175
        },
        "id": "EcV4bHBQZee3",
        "outputId": "12005d22-806f-48aa-cc2e-f51298bce501"
      },
      "source": [
        "cm = pd.crosstab(test_result['y_act'], test_result['y_pred'], margins=True)\n",
        "cm"
      ],
      "execution_count": 117,
      "outputs": [
        {
          "output_type": "execute_result",
          "data": {
            "text/html": [
              "<div>\n",
              "<style scoped>\n",
              "    .dataframe tbody tr th:only-of-type {\n",
              "        vertical-align: middle;\n",
              "    }\n",
              "\n",
              "    .dataframe tbody tr th {\n",
              "        vertical-align: top;\n",
              "    }\n",
              "\n",
              "    .dataframe thead th {\n",
              "        text-align: right;\n",
              "    }\n",
              "</style>\n",
              "<table border=\"1\" class=\"dataframe\">\n",
              "  <thead>\n",
              "    <tr style=\"text-align: right;\">\n",
              "      <th>y_pred</th>\n",
              "      <th>0</th>\n",
              "      <th>1</th>\n",
              "      <th>All</th>\n",
              "    </tr>\n",
              "    <tr>\n",
              "      <th>y_act</th>\n",
              "      <th></th>\n",
              "      <th></th>\n",
              "      <th></th>\n",
              "    </tr>\n",
              "  </thead>\n",
              "  <tbody>\n",
              "    <tr>\n",
              "      <th>0</th>\n",
              "      <td>8832</td>\n",
              "      <td>555</td>\n",
              "      <td>9387</td>\n",
              "    </tr>\n",
              "    <tr>\n",
              "      <th>1</th>\n",
              "      <td>2023</td>\n",
              "      <td>919</td>\n",
              "      <td>2942</td>\n",
              "    </tr>\n",
              "    <tr>\n",
              "      <th>All</th>\n",
              "      <td>10855</td>\n",
              "      <td>1474</td>\n",
              "      <td>12329</td>\n",
              "    </tr>\n",
              "  </tbody>\n",
              "</table>\n",
              "</div>"
            ],
            "text/plain": [
              "y_pred      0     1    All\n",
              "y_act                     \n",
              "0        8832   555   9387\n",
              "1        2023   919   2942\n",
              "All     10855  1474  12329"
            ]
          },
          "metadata": {},
          "execution_count": 117
        }
      ]
    },
    {
      "cell_type": "code",
      "metadata": {
        "colab": {
          "base_uri": "https://localhost:8080/"
        },
        "id": "NMWg3aJ9ZwQo",
        "outputId": "17d0436d-62fb-4ac2-c240-f90d9c14ec13"
      },
      "source": [
        "acuracy = (cm.loc[0,0] + cm.loc[1,1] ) / cm.loc['All','All'] \n",
        "acuracy"
      ],
      "execution_count": 118,
      "outputs": [
        {
          "output_type": "execute_result",
          "data": {
            "text/plain": [
              "0.7908995052315678"
            ]
          },
          "metadata": {},
          "execution_count": 118
        }
      ]
    },
    {
      "cell_type": "code",
      "metadata": {
        "id": "93vfqtPKgChg"
      },
      "source": [
        "from sklearn.ensemble import RandomForestClassifier"
      ],
      "execution_count": 119,
      "outputs": []
    },
    {
      "cell_type": "code",
      "metadata": {
        "id": "D57GUQc0gnyT"
      },
      "source": [
        "model = RandomForestClassifier(n_estimators=1000)"
      ],
      "execution_count": 120,
      "outputs": []
    },
    {
      "cell_type": "code",
      "metadata": {
        "colab": {
          "base_uri": "https://localhost:8080/"
        },
        "id": "MiBKyV-1gyQK",
        "outputId": "b3b9a071-fe5f-4ebc-a230-0a9b79fa28f8"
      },
      "source": [
        "model.fit(X_train, y_train)"
      ],
      "execution_count": 121,
      "outputs": [
        {
          "output_type": "execute_result",
          "data": {
            "text/plain": [
              "RandomForestClassifier(bootstrap=True, ccp_alpha=0.0, class_weight=None,\n",
              "                       criterion='gini', max_depth=None, max_features='auto',\n",
              "                       max_leaf_nodes=None, max_samples=None,\n",
              "                       min_impurity_decrease=0.0, min_impurity_split=None,\n",
              "                       min_samples_leaf=1, min_samples_split=2,\n",
              "                       min_weight_fraction_leaf=0.0, n_estimators=1000,\n",
              "                       n_jobs=None, oob_score=False, random_state=None,\n",
              "                       verbose=0, warm_start=False)"
            ]
          },
          "metadata": {},
          "execution_count": 121
        }
      ]
    },
    {
      "cell_type": "code",
      "metadata": {
        "colab": {
          "base_uri": "https://localhost:8080/"
        },
        "id": "tOpCM7i0g1Yo",
        "outputId": "fa546094-5b2d-4efc-9139-ca2e71e130d1"
      },
      "source": [
        "model.predict_proba(X_test)"
      ],
      "execution_count": 122,
      "outputs": [
        {
          "output_type": "execute_result",
          "data": {
            "text/plain": [
              "array([[0.85243479, 0.14756521],\n",
              "       [0.86290886, 0.13709114],\n",
              "       [0.98559432, 0.01440568],\n",
              "       ...,\n",
              "       [0.9462003 , 0.0537997 ],\n",
              "       [0.45902083, 0.54097917],\n",
              "       [0.3357697 , 0.6642303 ]])"
            ]
          },
          "metadata": {},
          "execution_count": 122
        }
      ]
    },
    {
      "cell_type": "code",
      "metadata": {
        "id": "tmPN7kNBg6-E"
      },
      "source": [
        "y_pred = model.predict(X_test)"
      ],
      "execution_count": 123,
      "outputs": []
    },
    {
      "cell_type": "code",
      "metadata": {
        "colab": {
          "base_uri": "https://localhost:8080/",
          "height": 363
        },
        "id": "zJrBwiLqg_Qb",
        "outputId": "d100ddea-921a-4065-bef4-0d6286608ba8"
      },
      "source": [
        "test_result = pd.DataFrame(data={'y_act':y_test, 'y_pred':y_pred, 'y_pred_prob':y_pred_prob})\n",
        "test_result.sample(10)"
      ],
      "execution_count": 124,
      "outputs": [
        {
          "output_type": "execute_result",
          "data": {
            "text/html": [
              "<div>\n",
              "<style scoped>\n",
              "    .dataframe tbody tr th:only-of-type {\n",
              "        vertical-align: middle;\n",
              "    }\n",
              "\n",
              "    .dataframe tbody tr th {\n",
              "        vertical-align: top;\n",
              "    }\n",
              "\n",
              "    .dataframe thead th {\n",
              "        text-align: right;\n",
              "    }\n",
              "</style>\n",
              "<table border=\"1\" class=\"dataframe\">\n",
              "  <thead>\n",
              "    <tr style=\"text-align: right;\">\n",
              "      <th></th>\n",
              "      <th>y_act</th>\n",
              "      <th>y_pred</th>\n",
              "      <th>y_pred_prob</th>\n",
              "    </tr>\n",
              "  </thead>\n",
              "  <tbody>\n",
              "    <tr>\n",
              "      <th>8268</th>\n",
              "      <td>0</td>\n",
              "      <td>0</td>\n",
              "      <td>0.102943</td>\n",
              "    </tr>\n",
              "    <tr>\n",
              "      <th>10467</th>\n",
              "      <td>0</td>\n",
              "      <td>0</td>\n",
              "      <td>0.111087</td>\n",
              "    </tr>\n",
              "    <tr>\n",
              "      <th>6047</th>\n",
              "      <td>0</td>\n",
              "      <td>0</td>\n",
              "      <td>0.056938</td>\n",
              "    </tr>\n",
              "    <tr>\n",
              "      <th>8272</th>\n",
              "      <td>0</td>\n",
              "      <td>0</td>\n",
              "      <td>0.094620</td>\n",
              "    </tr>\n",
              "    <tr>\n",
              "      <th>1236</th>\n",
              "      <td>0</td>\n",
              "      <td>0</td>\n",
              "      <td>0.358013</td>\n",
              "    </tr>\n",
              "    <tr>\n",
              "      <th>8161</th>\n",
              "      <td>0</td>\n",
              "      <td>0</td>\n",
              "      <td>0.152172</td>\n",
              "    </tr>\n",
              "    <tr>\n",
              "      <th>7406</th>\n",
              "      <td>1</td>\n",
              "      <td>1</td>\n",
              "      <td>0.722950</td>\n",
              "    </tr>\n",
              "    <tr>\n",
              "      <th>6447</th>\n",
              "      <td>0</td>\n",
              "      <td>0</td>\n",
              "      <td>0.058030</td>\n",
              "    </tr>\n",
              "    <tr>\n",
              "      <th>1301</th>\n",
              "      <td>0</td>\n",
              "      <td>1</td>\n",
              "      <td>0.476750</td>\n",
              "    </tr>\n",
              "    <tr>\n",
              "      <th>7470</th>\n",
              "      <td>1</td>\n",
              "      <td>1</td>\n",
              "      <td>0.553818</td>\n",
              "    </tr>\n",
              "  </tbody>\n",
              "</table>\n",
              "</div>"
            ],
            "text/plain": [
              "       y_act  y_pred  y_pred_prob\n",
              "8268       0       0     0.102943\n",
              "10467      0       0     0.111087\n",
              "6047       0       0     0.056938\n",
              "8272       0       0     0.094620\n",
              "1236       0       0     0.358013\n",
              "8161       0       0     0.152172\n",
              "7406       1       1     0.722950\n",
              "6447       0       0     0.058030\n",
              "1301       0       1     0.476750\n",
              "7470       1       1     0.553818"
            ]
          },
          "metadata": {},
          "execution_count": 124
        }
      ]
    },
    {
      "cell_type": "code",
      "metadata": {
        "colab": {
          "base_uri": "https://localhost:8080/",
          "height": 175
        },
        "id": "YJFWS-6BhDBg",
        "outputId": "f7ccc113-f755-4418-a132-4dcbeca7d24d"
      },
      "source": [
        "cm = pd.crosstab(test_result['y_act'], test_result['y_pred'], margins=True)\n",
        "cm"
      ],
      "execution_count": 125,
      "outputs": [
        {
          "output_type": "execute_result",
          "data": {
            "text/html": [
              "<div>\n",
              "<style scoped>\n",
              "    .dataframe tbody tr th:only-of-type {\n",
              "        vertical-align: middle;\n",
              "    }\n",
              "\n",
              "    .dataframe tbody tr th {\n",
              "        vertical-align: top;\n",
              "    }\n",
              "\n",
              "    .dataframe thead th {\n",
              "        text-align: right;\n",
              "    }\n",
              "</style>\n",
              "<table border=\"1\" class=\"dataframe\">\n",
              "  <thead>\n",
              "    <tr style=\"text-align: right;\">\n",
              "      <th>y_pred</th>\n",
              "      <th>0</th>\n",
              "      <th>1</th>\n",
              "      <th>All</th>\n",
              "    </tr>\n",
              "    <tr>\n",
              "      <th>y_act</th>\n",
              "      <th></th>\n",
              "      <th></th>\n",
              "      <th></th>\n",
              "    </tr>\n",
              "  </thead>\n",
              "  <tbody>\n",
              "    <tr>\n",
              "      <th>0</th>\n",
              "      <td>8526</td>\n",
              "      <td>861</td>\n",
              "      <td>9387</td>\n",
              "    </tr>\n",
              "    <tr>\n",
              "      <th>1</th>\n",
              "      <td>1860</td>\n",
              "      <td>1082</td>\n",
              "      <td>2942</td>\n",
              "    </tr>\n",
              "    <tr>\n",
              "      <th>All</th>\n",
              "      <td>10386</td>\n",
              "      <td>1943</td>\n",
              "      <td>12329</td>\n",
              "    </tr>\n",
              "  </tbody>\n",
              "</table>\n",
              "</div>"
            ],
            "text/plain": [
              "y_pred      0     1    All\n",
              "y_act                     \n",
              "0        8526   861   9387\n",
              "1        1860  1082   2942\n",
              "All     10386  1943  12329"
            ]
          },
          "metadata": {},
          "execution_count": 125
        }
      ]
    },
    {
      "cell_type": "code",
      "metadata": {
        "colab": {
          "base_uri": "https://localhost:8080/"
        },
        "id": "wyKCgYs_hGJE",
        "outputId": "ce7a1f12-47c8-438a-9e11-8cf6dc4273da"
      },
      "source": [
        "acuracy = (cm.loc[0,0] + cm.loc[1,1] ) / cm.loc['All','All'] \n",
        "acuracy"
      ],
      "execution_count": 126,
      "outputs": [
        {
          "output_type": "execute_result",
          "data": {
            "text/plain": [
              "0.7793008354286641"
            ]
          },
          "metadata": {},
          "execution_count": 126
        }
      ]
    },
    {
      "cell_type": "markdown",
      "metadata": {
        "id": "P4maK3xLdV8j"
      },
      "source": [
        "<hr>\n",
        "Last update 2021-10-09 by Sumudu Tennakoon"
      ]
    },
    {
      "cell_type": "code",
      "metadata": {
        "id": "HLQQlEfevTkO"
      },
      "source": [
        ""
      ],
      "execution_count": null,
      "outputs": []
    }
  ]
}